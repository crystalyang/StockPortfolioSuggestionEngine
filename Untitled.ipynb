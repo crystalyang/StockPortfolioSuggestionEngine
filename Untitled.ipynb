{
 "cells": [
  {
   "cell_type": "code",
   "execution_count": 1,
   "metadata": {
    "collapsed": true
   },
   "outputs": [],
   "source": [
    "import quandl\n",
    "import time\n",
    "import datetime"
   ]
  },
  {
   "cell_type": "code",
   "execution_count": null,
   "metadata": {
    "collapsed": true
   },
   "outputs": [],
   "source": [
    "#enter stock symbol\n",
    "input='aapl' "
   ]
  },
  {
   "cell_type": "code",
   "execution_count": null,
   "metadata": {
    "collapsed": true
   },
   "outputs": [],
   "source": [
    "quandl.ApiConfig.api_key = 'Vf8rgA91Rw4b2x_Lm3EJ'\n",
    "currentdate = datetime.datetime.now().date()\n",
    "try:\n",
    "    data = quandl.get(\"WIKI/\"+input+\".11\", start_date=\"2016-10-01\", end_date=str(currentdate), collapse=\"none\", transform=\"none\", returns=\"numpy\")\n",
    "    metadata = quandl.Dataset(\"WIKI/\"+input).to_list()\n",
    "    name = metadata[-1].split(',')[0]\n",
    "    print time.ctime()\n",
    "    print name\n",
    "    today = data[-1][-1]\n",
    "    last = data[-2][-1]\n",
    "    print today, today - last, \"{0:.2f}%\".format((today - last) / last * 100)\n",
    "except Exception, e:\n",
    "    print str(e).split(')')[-1]"
   ]
  }
 ],
 "metadata": {
  "kernelspec": {
   "display_name": "Python 2",
   "language": "python",
   "name": "python2"
  },
  "language_info": {
   "codemirror_mode": {
    "name": "ipython",
    "version": 2
   },
   "file_extension": ".py",
   "mimetype": "text/x-python",
   "name": "python",
   "nbconvert_exporter": "python",
   "pygments_lexer": "ipython2",
   "version": "2.7.10"
  }
 },
 "nbformat": 4,
 "nbformat_minor": 1
}
