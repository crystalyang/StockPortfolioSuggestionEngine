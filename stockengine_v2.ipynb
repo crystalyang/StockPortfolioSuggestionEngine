{
 "cells": [
  {
   "cell_type": "code",
   "execution_count": 10,
   "metadata": {
    "collapsed": true
   },
   "outputs": [],
   "source": [
    "import time\n",
    "import datetime\n",
    "import pandas\n",
    "import numpy as np\n",
    "import random\n",
    "# from yahoo_finance import Shareb\n",
    "from pandas.tseries.offsets import BDay"
   ]
  },
  {
   "cell_type": "code",
   "execution_count": 11,
   "metadata": {
    "collapsed": false
   },
   "outputs": [
    {
     "data": {
      "text/html": [
       "\n",
       "    <div class=\"bk-root\">\n",
       "        <a href=\"http://bokeh.pydata.org\" target=\"_blank\" class=\"bk-logo bk-logo-small bk-logo-notebook\"></a>\n",
       "        <span id=\"39658130-13ad-4dfd-8ce7-816afdf7e252\">Loading BokehJS ...</span>\n",
       "    </div>"
      ]
     },
     "metadata": {},
     "output_type": "display_data"
    },
    {
     "data": {
      "application/javascript": [
       "\n",
       "(function(global) {\n",
       "  function now() {\n",
       "    return new Date();\n",
       "  }\n",
       "\n",
       "  var force = \"1\";\n",
       "\n",
       "  if (typeof (window._bokeh_onload_callbacks) === \"undefined\" || force !== \"\") {\n",
       "    window._bokeh_onload_callbacks = [];\n",
       "    window._bokeh_is_loading = undefined;\n",
       "  }\n",
       "\n",
       "\n",
       "  \n",
       "  if (typeof (window._bokeh_timeout) === \"undefined\" || force !== \"\") {\n",
       "    window._bokeh_timeout = Date.now() + 5000;\n",
       "    window._bokeh_failed_load = false;\n",
       "  }\n",
       "\n",
       "  var NB_LOAD_WARNING = {'data': {'text/html':\n",
       "     \"<div style='background-color: #fdd'>\\n\"+\n",
       "     \"<p>\\n\"+\n",
       "     \"BokehJS does not appear to have successfully loaded. If loading BokehJS from CDN, this \\n\"+\n",
       "     \"may be due to a slow or bad network connection. Possible fixes:\\n\"+\n",
       "     \"</p>\\n\"+\n",
       "     \"<ul>\\n\"+\n",
       "     \"<li>re-rerun `output_notebook()` to attempt to load from CDN again, or</li>\\n\"+\n",
       "     \"<li>use INLINE resources instead, as so:</li>\\n\"+\n",
       "     \"</ul>\\n\"+\n",
       "     \"<code>\\n\"+\n",
       "     \"from bokeh.resources import INLINE\\n\"+\n",
       "     \"output_notebook(resources=INLINE)\\n\"+\n",
       "     \"</code>\\n\"+\n",
       "     \"</div>\"}};\n",
       "\n",
       "  function display_loaded() {\n",
       "    if (window.Bokeh !== undefined) {\n",
       "      Bokeh.$(\"#39658130-13ad-4dfd-8ce7-816afdf7e252\").text(\"BokehJS successfully loaded.\");\n",
       "    } else if (Date.now() < window._bokeh_timeout) {\n",
       "      setTimeout(display_loaded, 100)\n",
       "    }\n",
       "  }\n",
       "\n",
       "  function run_callbacks() {\n",
       "    window._bokeh_onload_callbacks.forEach(function(callback) { callback() });\n",
       "    delete window._bokeh_onload_callbacks\n",
       "    console.info(\"Bokeh: all callbacks have finished\");\n",
       "  }\n",
       "\n",
       "  function load_libs(js_urls, callback) {\n",
       "    window._bokeh_onload_callbacks.push(callback);\n",
       "    if (window._bokeh_is_loading > 0) {\n",
       "      console.log(\"Bokeh: BokehJS is being loaded, scheduling callback at\", now());\n",
       "      return null;\n",
       "    }\n",
       "    if (js_urls == null || js_urls.length === 0) {\n",
       "      run_callbacks();\n",
       "      return null;\n",
       "    }\n",
       "    console.log(\"Bokeh: BokehJS not loaded, scheduling load and callback at\", now());\n",
       "    window._bokeh_is_loading = js_urls.length;\n",
       "    for (var i = 0; i < js_urls.length; i++) {\n",
       "      var url = js_urls[i];\n",
       "      var s = document.createElement('script');\n",
       "      s.src = url;\n",
       "      s.async = false;\n",
       "      s.onreadystatechange = s.onload = function() {\n",
       "        window._bokeh_is_loading--;\n",
       "        if (window._bokeh_is_loading === 0) {\n",
       "          console.log(\"Bokeh: all BokehJS libraries loaded\");\n",
       "          run_callbacks()\n",
       "        }\n",
       "      };\n",
       "      s.onerror = function() {\n",
       "        console.warn(\"failed to load library \" + url);\n",
       "      };\n",
       "      console.log(\"Bokeh: injecting script tag for BokehJS library: \", url);\n",
       "      document.getElementsByTagName(\"head\")[0].appendChild(s);\n",
       "    }\n",
       "  };var element = document.getElementById(\"39658130-13ad-4dfd-8ce7-816afdf7e252\");\n",
       "  if (element == null) {\n",
       "    console.log(\"Bokeh: ERROR: autoload.js configured with elementid '39658130-13ad-4dfd-8ce7-816afdf7e252' but no matching script tag was found. \")\n",
       "    return false;\n",
       "  }\n",
       "\n",
       "  var js_urls = ['https://cdn.pydata.org/bokeh/release/bokeh-0.12.3.min.js', 'https://cdn.pydata.org/bokeh/release/bokeh-widgets-0.12.3.min.js'];\n",
       "\n",
       "  var inline_js = [\n",
       "    function(Bokeh) {\n",
       "      Bokeh.set_log_level(\"info\");\n",
       "    },\n",
       "    \n",
       "    function(Bokeh) {\n",
       "      \n",
       "      Bokeh.$(\"#39658130-13ad-4dfd-8ce7-816afdf7e252\").text(\"BokehJS is loading...\");\n",
       "    },\n",
       "    function(Bokeh) {\n",
       "      console.log(\"Bokeh: injecting CSS: https://cdn.pydata.org/bokeh/release/bokeh-0.12.3.min.css\");\n",
       "      Bokeh.embed.inject_css(\"https://cdn.pydata.org/bokeh/release/bokeh-0.12.3.min.css\");\n",
       "      console.log(\"Bokeh: injecting CSS: https://cdn.pydata.org/bokeh/release/bokeh-widgets-0.12.3.min.css\");\n",
       "      Bokeh.embed.inject_css(\"https://cdn.pydata.org/bokeh/release/bokeh-widgets-0.12.3.min.css\");\n",
       "    }\n",
       "  ];\n",
       "\n",
       "  function run_inline_js() {\n",
       "    \n",
       "    if ((window.Bokeh !== undefined) || (force === \"1\")) {\n",
       "      for (var i = 0; i < inline_js.length; i++) {\n",
       "        inline_js[i](window.Bokeh);\n",
       "      }if (force === \"1\") {\n",
       "        display_loaded();\n",
       "      }} else if (Date.now() < window._bokeh_timeout) {\n",
       "      setTimeout(run_inline_js, 100);\n",
       "    } else if (!window._bokeh_failed_load) {\n",
       "      console.log(\"Bokeh: BokehJS failed to load within specified timeout.\");\n",
       "      window._bokeh_failed_load = true;\n",
       "    } else if (!force) {\n",
       "      var cell = $(\"#39658130-13ad-4dfd-8ce7-816afdf7e252\").parents('.cell').data().cell;\n",
       "      cell.output_area.append_execute_result(NB_LOAD_WARNING)\n",
       "    }\n",
       "\n",
       "  }\n",
       "\n",
       "  if (window._bokeh_is_loading === 0) {\n",
       "    console.log(\"Bokeh: BokehJS loaded, going straight to plotting\");\n",
       "    run_inline_js();\n",
       "  } else {\n",
       "    load_libs(js_urls, function() {\n",
       "      console.log(\"Bokeh: BokehJS plotting callback run at\", now());\n",
       "      run_inline_js();\n",
       "    });\n",
       "  }\n",
       "}(this));"
      ]
     },
     "metadata": {},
     "output_type": "display_data"
    }
   ],
   "source": [
    "from bokeh.io import output_notebook, show, output_file,save\n",
    "output_notebook()"
   ]
  },
  {
   "cell_type": "markdown",
   "metadata": {},
   "source": [
    "User will:\n",
    "\n",
    "Input dollar amount to invest in USD (Minimum is $5000 USD)\n",
    "Pick one or two investment strategies:\n",
    "\n",
    "\n",
    "#Ethical Investing\n",
    "TSLA, PBW, SCTY, AAPL\n",
    "#Growth Investing\n",
    "CRM, TWLO, NVDA\n",
    "#Index Investing\n",
    "SPY, VTI, VWO , VBR\n",
    "#Quality Investing\n",
    "FB, XOM, COST, HD\n",
    "#Value Investing\n",
    "AMZN, MSFT, NEFLX, DIS"
   ]
  },
  {
   "cell_type": "code",
   "execution_count": 12,
   "metadata": {
    "collapsed": false
   },
   "outputs": [],
   "source": [
    "#initiate the mapping for different strategies\n",
    "strategies = {'ethical':['TSLA','PBW','SCTY','AAPL'], 'growth':['CRM','TWLO','NVDA'], 'index':['SPY','VTI','VWO','VBR'], 'quality':['FB', 'XOM','COST','HD'],'value':['AMZN','MSFT','NFLX','DIS']}"
   ]
  },
  {
   "cell_type": "code",
   "execution_count": 13,
   "metadata": {
    "collapsed": false
   },
   "outputs": [],
   "source": [
    "choice = random.choice(['ethical','growth','index','quality','value'])"
   ]
  },
  {
   "cell_type": "code",
   "execution_count": 14,
   "metadata": {
    "collapsed": false
   },
   "outputs": [],
   "source": [
    "#total amount to invest\n",
    "total = 6000\n",
    "stockslist = strategies[choice]\n",
    "singlestock = total/len(stockslist)"
   ]
  },
  {
   "cell_type": "code",
   "execution_count": 15,
   "metadata": {
    "collapsed": false
   },
   "outputs": [],
   "source": [
    "enddate = datetime.datetime.now().date()- datetime.timedelta(1)\n",
    "startdate = enddate - BDay(4)"
   ]
  },
  {
   "cell_type": "code",
   "execution_count": 16,
   "metadata": {
    "collapsed": true
   },
   "outputs": [],
   "source": [
    "from pandas_datareader import data, wb\n",
    "import pandas_datareader.data as web"
   ]
  },
  {
   "cell_type": "code",
   "execution_count": 17,
   "metadata": {
    "collapsed": false
   },
   "outputs": [
    {
     "data": {
      "text/plain": [
       "['FB', 'XOM', 'COST', 'HD']"
      ]
     },
     "execution_count": 17,
     "metadata": {},
     "output_type": "execute_result"
    }
   ],
   "source": [
    "stockslist"
   ]
  },
  {
   "cell_type": "code",
   "execution_count": 18,
   "metadata": {
    "collapsed": false
   },
   "outputs": [],
   "source": [
    "#getting historical data\n",
    "df = web.DataReader(stockslist,'yahoo',enddate - BDay(4), enddate)"
   ]
  },
  {
   "cell_type": "code",
   "execution_count": 19,
   "metadata": {
    "collapsed": false
   },
   "outputs": [],
   "source": [
    "#getting today's quote\n",
    "df_today=web.get_quote_yahoo(stockslist)"
   ]
  },
  {
   "cell_type": "code",
   "execution_count": 20,
   "metadata": {
    "collapsed": false
   },
   "outputs": [],
   "source": [
    "df_historical = df.to_frame()"
   ]
  },
  {
   "cell_type": "code",
   "execution_count": 24,
   "metadata": {
    "collapsed": true
   },
   "outputs": [],
   "source": [
    "#getting the name of the sticker\n",
    "def getname(li):\n",
    "    df = []\n",
    "    for i in li:\n",
    "        df.append(web.get_components_yahoo(i))\n",
    "    return pd.concat(df)\n"
   ]
  },
  {
   "cell_type": "code",
   "execution_count": 25,
   "metadata": {
    "collapsed": false
   },
   "outputs": [],
   "source": [
    "df_info = getname(stockslist)"
   ]
  },
  {
   "cell_type": "markdown",
   "metadata": {},
   "source": [
    "#checking dataframes df_info, df_historical, df_today"
   ]
  },
  {
   "cell_type": "code",
   "execution_count": 26,
   "metadata": {
    "collapsed": false
   },
   "outputs": [
    {
     "data": {
      "text/html": [
       "<div style=\"max-height:1000px;max-width:1500px;overflow:auto;\">\n",
       "<table border=\"1\" class=\"dataframe\">\n",
       "  <thead>\n",
       "    <tr style=\"text-align: right;\">\n",
       "      <th></th>\n",
       "      <th>name</th>\n",
       "      <th>exchange</th>\n",
       "    </tr>\n",
       "    <tr>\n",
       "      <th>ticker</th>\n",
       "      <th></th>\n",
       "      <th></th>\n",
       "    </tr>\n",
       "  </thead>\n",
       "  <tbody>\n",
       "    <tr>\n",
       "      <th>FB</th>\n",
       "      <td>                  Facebook, Inc.</td>\n",
       "      <td> NMS</td>\n",
       "    </tr>\n",
       "    <tr>\n",
       "      <th>XOM</th>\n",
       "      <td> Exxon Mobil Corporation Common </td>\n",
       "      <td> NYQ</td>\n",
       "    </tr>\n",
       "    <tr>\n",
       "      <th>COST</th>\n",
       "      <td>    Costco Wholesale Corporation</td>\n",
       "      <td> NMS</td>\n",
       "    </tr>\n",
       "    <tr>\n",
       "      <th>HD</th>\n",
       "      <td> Home Depot, Inc. (The) Common S</td>\n",
       "      <td> NYQ</td>\n",
       "    </tr>\n",
       "  </tbody>\n",
       "</table>\n",
       "</div>"
      ],
      "text/plain": [
       "                                   name exchange\n",
       "ticker                                          \n",
       "FB                       Facebook, Inc.      NMS\n",
       "XOM     Exxon Mobil Corporation Common       NYQ\n",
       "COST       Costco Wholesale Corporation      NMS\n",
       "HD      Home Depot, Inc. (The) Common S      NYQ"
      ]
     },
     "execution_count": 26,
     "metadata": {},
     "output_type": "execute_result"
    }
   ],
   "source": [
    "df_info"
   ]
  },
  {
   "cell_type": "code",
   "execution_count": 27,
   "metadata": {
    "collapsed": false
   },
   "outputs": [
    {
     "data": {
      "text/html": [
       "<div style=\"max-height:1000px;max-width:1500px;overflow:auto;\">\n",
       "<table border=\"1\" class=\"dataframe\">\n",
       "  <thead>\n",
       "    <tr style=\"text-align: right;\">\n",
       "      <th></th>\n",
       "      <th>PE</th>\n",
       "      <th>change_pct</th>\n",
       "      <th>last</th>\n",
       "      <th>short_ratio</th>\n",
       "      <th>time</th>\n",
       "    </tr>\n",
       "  </thead>\n",
       "  <tbody>\n",
       "    <tr>\n",
       "      <th>FB</th>\n",
       "      <td> 55.94</td>\n",
       "      <td> -0.65%</td>\n",
       "      <td> 117.02</td>\n",
       "      <td> 1.38</td>\n",
       "      <td> 4:00pm</td>\n",
       "    </tr>\n",
       "    <tr>\n",
       "      <th>XOM</th>\n",
       "      <td> 39.96</td>\n",
       "      <td> +0.06%</td>\n",
       "      <td>  85.28</td>\n",
       "      <td> 4.25</td>\n",
       "      <td> 4:00pm</td>\n",
       "    </tr>\n",
       "    <tr>\n",
       "      <th>COST</th>\n",
       "      <td> 28.21</td>\n",
       "      <td> -0.56%</td>\n",
       "      <td> 150.36</td>\n",
       "      <td> 3.44</td>\n",
       "      <td> 4:00pm</td>\n",
       "    </tr>\n",
       "    <tr>\n",
       "      <th>HD</th>\n",
       "      <td> 21.72</td>\n",
       "      <td> -0.47%</td>\n",
       "      <td> 128.33</td>\n",
       "      <td> 1.60</td>\n",
       "      <td> 4:01pm</td>\n",
       "    </tr>\n",
       "  </tbody>\n",
       "</table>\n",
       "</div>"
      ],
      "text/plain": [
       "         PE change_pct    last  short_ratio    time\n",
       "FB    55.94     -0.65%  117.02         1.38  4:00pm\n",
       "XOM   39.96     +0.06%   85.28         4.25  4:00pm\n",
       "COST  28.21     -0.56%  150.36         3.44  4:00pm\n",
       "HD    21.72     -0.47%  128.33         1.60  4:01pm"
      ]
     },
     "execution_count": 27,
     "metadata": {},
     "output_type": "execute_result"
    }
   ],
   "source": [
    "df_today"
   ]
  },
  {
   "cell_type": "code",
   "execution_count": 28,
   "metadata": {
    "collapsed": false
   },
   "outputs": [
    {
     "data": {
      "text/html": [
       "<div style=\"max-height:1000px;max-width:1500px;overflow:auto;\">\n",
       "<table border=\"1\" class=\"dataframe\">\n",
       "  <thead>\n",
       "    <tr style=\"text-align: right;\">\n",
       "      <th></th>\n",
       "      <th></th>\n",
       "      <th>Open</th>\n",
       "      <th>High</th>\n",
       "      <th>Low</th>\n",
       "      <th>Close</th>\n",
       "      <th>Volume</th>\n",
       "      <th>Adj Close</th>\n",
       "    </tr>\n",
       "    <tr>\n",
       "      <th>Date</th>\n",
       "      <th>minor</th>\n",
       "      <th></th>\n",
       "      <th></th>\n",
       "      <th></th>\n",
       "      <th></th>\n",
       "      <th></th>\n",
       "      <th></th>\n",
       "    </tr>\n",
       "  </thead>\n",
       "  <tbody>\n",
       "    <tr>\n",
       "      <th rowspan=\"4\" valign=\"top\">2016-11-11</th>\n",
       "      <th>COST</th>\n",
       "      <td> 146.610001</td>\n",
       "      <td> 149.619995</td>\n",
       "      <td> 145.380005</td>\n",
       "      <td> 149.360001</td>\n",
       "      <td>  3218000</td>\n",
       "      <td> 149.360001</td>\n",
       "    </tr>\n",
       "    <tr>\n",
       "      <th>FB</th>\n",
       "      <td> 119.529999</td>\n",
       "      <td> 120.699997</td>\n",
       "      <td> 118.150002</td>\n",
       "      <td> 119.019997</td>\n",
       "      <td> 32804000</td>\n",
       "      <td> 119.019997</td>\n",
       "    </tr>\n",
       "    <tr>\n",
       "      <th>HD</th>\n",
       "      <td> 129.059998</td>\n",
       "      <td> 130.130005</td>\n",
       "      <td> 128.720001</td>\n",
       "      <td> 129.850006</td>\n",
       "      <td>  5490000</td>\n",
       "      <td> 129.850006</td>\n",
       "    </tr>\n",
       "    <tr>\n",
       "      <th>XOM</th>\n",
       "      <td>  86.529999</td>\n",
       "      <td>  86.730003</td>\n",
       "      <td>  84.889999</td>\n",
       "      <td>  85.669998</td>\n",
       "      <td> 13711000</td>\n",
       "      <td>  85.669998</td>\n",
       "    </tr>\n",
       "    <tr>\n",
       "      <th rowspan=\"4\" valign=\"top\">2016-11-14</th>\n",
       "      <th>COST</th>\n",
       "      <td> 150.919998</td>\n",
       "      <td> 152.139999</td>\n",
       "      <td> 149.500000</td>\n",
       "      <td> 152.000000</td>\n",
       "      <td>  3890800</td>\n",
       "      <td> 152.000000</td>\n",
       "    </tr>\n",
       "    <tr>\n",
       "      <th>FB</th>\n",
       "      <td> 119.129997</td>\n",
       "      <td> 119.129997</td>\n",
       "      <td> 113.550003</td>\n",
       "      <td> 115.080002</td>\n",
       "      <td> 51247400</td>\n",
       "      <td> 115.080002</td>\n",
       "    </tr>\n",
       "    <tr>\n",
       "      <th>HD</th>\n",
       "      <td> 130.500000</td>\n",
       "      <td> 130.639999</td>\n",
       "      <td> 126.940002</td>\n",
       "      <td> 127.669998</td>\n",
       "      <td> 11405400</td>\n",
       "      <td> 127.669998</td>\n",
       "    </tr>\n",
       "    <tr>\n",
       "      <th>XOM</th>\n",
       "      <td>  85.300003</td>\n",
       "      <td>  85.650002</td>\n",
       "      <td>  84.330002</td>\n",
       "      <td>  85.279999</td>\n",
       "      <td> 12553200</td>\n",
       "      <td>  85.279999</td>\n",
       "    </tr>\n",
       "    <tr>\n",
       "      <th rowspan=\"4\" valign=\"top\">2016-11-15</th>\n",
       "      <th>COST</th>\n",
       "      <td> 151.979996</td>\n",
       "      <td> 152.000000</td>\n",
       "      <td> 150.289993</td>\n",
       "      <td> 151.149994</td>\n",
       "      <td>  2721800</td>\n",
       "      <td> 151.149994</td>\n",
       "    </tr>\n",
       "    <tr>\n",
       "      <th>FB</th>\n",
       "      <td> 116.730003</td>\n",
       "      <td> 118.489998</td>\n",
       "      <td> 115.830002</td>\n",
       "      <td> 117.199997</td>\n",
       "      <td> 33270700</td>\n",
       "      <td> 117.199997</td>\n",
       "    </tr>\n",
       "    <tr>\n",
       "      <th>HD</th>\n",
       "      <td> 127.070000</td>\n",
       "      <td> 127.669998</td>\n",
       "      <td> 122.919998</td>\n",
       "      <td> 124.400002</td>\n",
       "      <td> 13423400</td>\n",
       "      <td> 124.400002</td>\n",
       "    </tr>\n",
       "    <tr>\n",
       "      <th>XOM</th>\n",
       "      <td>  85.769997</td>\n",
       "      <td>  87.059998</td>\n",
       "      <td>  85.769997</td>\n",
       "      <td>  86.820000</td>\n",
       "      <td> 12806500</td>\n",
       "      <td>  86.820000</td>\n",
       "    </tr>\n",
       "    <tr>\n",
       "      <th rowspan=\"4\" valign=\"top\">2016-11-16</th>\n",
       "      <th>COST</th>\n",
       "      <td> 152.190002</td>\n",
       "      <td> 152.550003</td>\n",
       "      <td> 151.800003</td>\n",
       "      <td> 152.139999</td>\n",
       "      <td>  2151200</td>\n",
       "      <td> 152.139999</td>\n",
       "    </tr>\n",
       "    <tr>\n",
       "      <th>FB</th>\n",
       "      <td> 114.480003</td>\n",
       "      <td> 117.879997</td>\n",
       "      <td> 114.209999</td>\n",
       "      <td> 116.339996</td>\n",
       "      <td> 32345400</td>\n",
       "      <td> 116.339996</td>\n",
       "    </tr>\n",
       "    <tr>\n",
       "      <th>HD</th>\n",
       "      <td> 123.599998</td>\n",
       "      <td> 125.699997</td>\n",
       "      <td> 123.279999</td>\n",
       "      <td> 125.330002</td>\n",
       "      <td>  9767500</td>\n",
       "      <td> 125.330002</td>\n",
       "    </tr>\n",
       "    <tr>\n",
       "      <th>XOM</th>\n",
       "      <td>  86.739998</td>\n",
       "      <td>  86.779999</td>\n",
       "      <td>  85.580002</td>\n",
       "      <td>  85.750000</td>\n",
       "      <td>  8119400</td>\n",
       "      <td>  85.750000</td>\n",
       "    </tr>\n",
       "    <tr>\n",
       "      <th rowspan=\"4\" valign=\"top\">2016-11-17</th>\n",
       "      <th>COST</th>\n",
       "      <td> 151.229996</td>\n",
       "      <td> 151.399994</td>\n",
       "      <td> 149.550003</td>\n",
       "      <td> 151.199997</td>\n",
       "      <td>  2096800</td>\n",
       "      <td> 151.199997</td>\n",
       "    </tr>\n",
       "    <tr>\n",
       "      <th>FB</th>\n",
       "      <td> 116.809998</td>\n",
       "      <td> 117.790001</td>\n",
       "      <td> 116.010002</td>\n",
       "      <td> 117.790001</td>\n",
       "      <td> 18556200</td>\n",
       "      <td> 117.790001</td>\n",
       "    </tr>\n",
       "    <tr>\n",
       "      <th>HD</th>\n",
       "      <td> 125.870003</td>\n",
       "      <td> 129.139999</td>\n",
       "      <td> 125.699997</td>\n",
       "      <td> 128.929993</td>\n",
       "      <td>  6727500</td>\n",
       "      <td> 128.929993</td>\n",
       "    </tr>\n",
       "    <tr>\n",
       "      <th>XOM</th>\n",
       "      <td>  86.440002</td>\n",
       "      <td>  86.879997</td>\n",
       "      <td>  85.019997</td>\n",
       "      <td>  85.230003</td>\n",
       "      <td>  8147600</td>\n",
       "      <td>  85.230003</td>\n",
       "    </tr>\n",
       "  </tbody>\n",
       "</table>\n",
       "</div>"
      ],
      "text/plain": [
       "                        Open        High         Low       Close    Volume  \\\n",
       "Date       minor                                                             \n",
       "2016-11-11 COST   146.610001  149.619995  145.380005  149.360001   3218000   \n",
       "           FB     119.529999  120.699997  118.150002  119.019997  32804000   \n",
       "           HD     129.059998  130.130005  128.720001  129.850006   5490000   \n",
       "           XOM     86.529999   86.730003   84.889999   85.669998  13711000   \n",
       "2016-11-14 COST   150.919998  152.139999  149.500000  152.000000   3890800   \n",
       "           FB     119.129997  119.129997  113.550003  115.080002  51247400   \n",
       "           HD     130.500000  130.639999  126.940002  127.669998  11405400   \n",
       "           XOM     85.300003   85.650002   84.330002   85.279999  12553200   \n",
       "2016-11-15 COST   151.979996  152.000000  150.289993  151.149994   2721800   \n",
       "           FB     116.730003  118.489998  115.830002  117.199997  33270700   \n",
       "           HD     127.070000  127.669998  122.919998  124.400002  13423400   \n",
       "           XOM     85.769997   87.059998   85.769997   86.820000  12806500   \n",
       "2016-11-16 COST   152.190002  152.550003  151.800003  152.139999   2151200   \n",
       "           FB     114.480003  117.879997  114.209999  116.339996  32345400   \n",
       "           HD     123.599998  125.699997  123.279999  125.330002   9767500   \n",
       "           XOM     86.739998   86.779999   85.580002   85.750000   8119400   \n",
       "2016-11-17 COST   151.229996  151.399994  149.550003  151.199997   2096800   \n",
       "           FB     116.809998  117.790001  116.010002  117.790001  18556200   \n",
       "           HD     125.870003  129.139999  125.699997  128.929993   6727500   \n",
       "           XOM     86.440002   86.879997   85.019997   85.230003   8147600   \n",
       "\n",
       "                   Adj Close  \n",
       "Date       minor              \n",
       "2016-11-11 COST   149.360001  \n",
       "           FB     119.019997  \n",
       "           HD     129.850006  \n",
       "           XOM     85.669998  \n",
       "2016-11-14 COST   152.000000  \n",
       "           FB     115.080002  \n",
       "           HD     127.669998  \n",
       "           XOM     85.279999  \n",
       "2016-11-15 COST   151.149994  \n",
       "           FB     117.199997  \n",
       "           HD     124.400002  \n",
       "           XOM     86.820000  \n",
       "2016-11-16 COST   152.139999  \n",
       "           FB     116.339996  \n",
       "           HD     125.330002  \n",
       "           XOM     85.750000  \n",
       "2016-11-17 COST   151.199997  \n",
       "           FB     117.790001  \n",
       "           HD     128.929993  \n",
       "           XOM     85.230003  "
      ]
     },
     "execution_count": 28,
     "metadata": {},
     "output_type": "execute_result"
    }
   ],
   "source": [
    "df_historical"
   ]
  },
  {
   "cell_type": "markdown",
   "metadata": {},
   "source": [
    "Calculating the portfolio values\n"
   ]
  },
  {
   "cell_type": "code",
   "execution_count": 29,
   "metadata": {
    "collapsed": false
   },
   "outputs": [
    {
     "data": {
      "text/plain": [
       "minor\n",
       "COST     149.360001\n",
       "FB       119.019997\n",
       "HD       129.850006\n",
       "XOM       85.669998\n",
       "Name: Close, dtype: float64"
      ]
     },
     "execution_count": 29,
     "metadata": {},
     "output_type": "execute_result"
    }
   ],
   "source": [
    "df_historical.loc[str(startdate)]['Close']"
   ]
  },
  {
   "cell_type": "code",
   "execution_count": 30,
   "metadata": {
    "collapsed": true
   },
   "outputs": [],
   "source": [
    "#calculating shares acquired on Day1\n",
    "def getnumshares(li, date, df_historical, singlestock):\n",
    "    numshares={}\n",
    "    for i in li:\n",
    "        numshares[i] = singlestock/df_historical.loc[date]['Close'][i]\n",
    "    return numshares"
   ]
  },
  {
   "cell_type": "code",
   "execution_count": 31,
   "metadata": {
    "collapsed": false
   },
   "outputs": [],
   "source": [
    "num_shares=getnumshares(stockslist, str(startdate),df_historical, singlestock)"
   ]
  },
  {
   "cell_type": "code",
   "execution_count": 32,
   "metadata": {
    "collapsed": false
   },
   "outputs": [],
   "source": [
    "def getportfolio_value(numshares, stocklist, date, df_historical):\n",
    "    portfolio_value = 0\n",
    "    for i in stocklist:\n",
    "        portfolio_value += numshares[i] * df_historical.loc[date]['Close'][i]\n",
    "    return portfolio_value"
   ]
  },
  {
   "cell_type": "code",
   "execution_count": 33,
   "metadata": {
    "collapsed": false
   },
   "outputs": [
    {
     "data": {
      "text/plain": [
       "6000.0"
      ]
     },
     "execution_count": 33,
     "metadata": {},
     "output_type": "execute_result"
    }
   ],
   "source": [
    "getportfolio_value(num_shares, stockslist, startdate,df_historical)"
   ]
  },
  {
   "cell_type": "code",
   "execution_count": 34,
   "metadata": {
    "collapsed": false
   },
   "outputs": [
    {
     "data": {
      "text/plain": [
       "5952.2174452388745"
      ]
     },
     "execution_count": 34,
     "metadata": {},
     "output_type": "execute_result"
    }
   ],
   "source": [
    "getportfolio_value(num_shares, stockslist, startdate+ BDay(2),df_historical)"
   ]
  },
  {
   "cell_type": "code",
   "execution_count": 35,
   "metadata": {
    "collapsed": false
   },
   "outputs": [],
   "source": [
    "#build a dateframe to track historical portfolio value change\n",
    "def track_portfolio_value(startdate, delta, stocklist, df_historical,numshares):\n",
    "    portfolio_values={}\n",
    "    for i in range(delta):\n",
    "        date = startdate + BDay(i)\n",
    "        portfolio_values[str(date)] = getportfolio_value(numshares, stocklist, date, df_historical)\n",
    "    return portfolio_values"
   ]
  },
  {
   "cell_type": "code",
   "execution_count": 36,
   "metadata": {
    "collapsed": false
   },
   "outputs": [],
   "source": [
    "d = track_portfolio_value(startdate,5,stockslist, df_historical, num_shares)"
   ]
  },
  {
   "cell_type": "code",
   "execution_count": 37,
   "metadata": {
    "collapsed": true
   },
   "outputs": [],
   "source": [
    "df_values = pd.DataFrame(d.items(), columns=['Date','totalvalue'])"
   ]
  },
  {
   "cell_type": "code",
   "execution_count": 57,
   "metadata": {
    "collapsed": false
   },
   "outputs": [],
   "source": [
    "df_values.Date = pd.to_datetime(df_values.Date)"
   ]
  },
  {
   "cell_type": "code",
   "execution_count": 58,
   "metadata": {
    "collapsed": false
   },
   "outputs": [
    {
     "data": {
      "text/html": [
       "<div style=\"max-height:1000px;max-width:1500px;overflow:auto;\">\n",
       "<table border=\"1\" class=\"dataframe\">\n",
       "  <thead>\n",
       "    <tr style=\"text-align: right;\">\n",
       "      <th></th>\n",
       "      <th>Date</th>\n",
       "      <th>totalvalue</th>\n",
       "    </tr>\n",
       "  </thead>\n",
       "  <tbody>\n",
       "    <tr>\n",
       "      <th>0</th>\n",
       "      <td>2016-11-11</td>\n",
       "      <td> 6000.000000</td>\n",
       "    </tr>\n",
       "    <tr>\n",
       "      <th>1</th>\n",
       "      <td>2016-11-14</td>\n",
       "      <td> 5944.846149</td>\n",
       "    </tr>\n",
       "    <tr>\n",
       "      <th>2</th>\n",
       "      <td>2016-11-15</td>\n",
       "      <td> 5952.217445</td>\n",
       "    </tr>\n",
       "    <tr>\n",
       "      <th>3</th>\n",
       "      <td>2016-11-16</td>\n",
       "      <td> 5943.329874</td>\n",
       "    </tr>\n",
       "    <tr>\n",
       "      <th>4</th>\n",
       "      <td>2016-11-17</td>\n",
       "      <td> 5984.645566</td>\n",
       "    </tr>\n",
       "  </tbody>\n",
       "</table>\n",
       "</div>"
      ],
      "text/plain": [
       "        Date   totalvalue\n",
       "0 2016-11-11  6000.000000\n",
       "1 2016-11-14  5944.846149\n",
       "2 2016-11-15  5952.217445\n",
       "3 2016-11-16  5943.329874\n",
       "4 2016-11-17  5984.645566"
      ]
     },
     "execution_count": 58,
     "metadata": {},
     "output_type": "execute_result"
    }
   ],
   "source": [
    "df_values"
   ]
  },
  {
   "cell_type": "markdown",
   "metadata": {
    "collapsed": true
   },
   "source": [
    "#building charts\n"
   ]
  },
  {
   "cell_type": "code",
   "execution_count": 79,
   "metadata": {
    "collapsed": false
   },
   "outputs": [],
   "source": [
    "from bokeh.models import HoverTool\n",
    "from bokeh.models import ColumnDataSource\n",
    "from bokeh.plotting import figure\n",
    "from bokeh.models import DatetimeTickFormatter, NumeralTickFormatter"
   ]
  },
  {
   "cell_type": "code",
   "execution_count": 70,
   "metadata": {
    "collapsed": false
   },
   "outputs": [
    {
     "data": {
      "text/html": [
       "<div style=\"max-height:1000px;max-width:1500px;overflow:auto;\">\n",
       "<table border=\"1\" class=\"dataframe\">\n",
       "  <thead>\n",
       "    <tr style=\"text-align: right;\">\n",
       "      <th></th>\n",
       "      <th>totalvalue</th>\n",
       "    </tr>\n",
       "  </thead>\n",
       "  <tbody>\n",
       "    <tr>\n",
       "      <th>count</th>\n",
       "      <td>    5.000000</td>\n",
       "    </tr>\n",
       "    <tr>\n",
       "      <th>mean</th>\n",
       "      <td> 5965.007807</td>\n",
       "    </tr>\n",
       "    <tr>\n",
       "      <th>std</th>\n",
       "      <td>   25.739628</td>\n",
       "    </tr>\n",
       "    <tr>\n",
       "      <th>min</th>\n",
       "      <td> 5943.329874</td>\n",
       "    </tr>\n",
       "    <tr>\n",
       "      <th>25%</th>\n",
       "      <td> 5944.846149</td>\n",
       "    </tr>\n",
       "    <tr>\n",
       "      <th>50%</th>\n",
       "      <td> 5952.217445</td>\n",
       "    </tr>\n",
       "    <tr>\n",
       "      <th>75%</th>\n",
       "      <td> 5984.645566</td>\n",
       "    </tr>\n",
       "    <tr>\n",
       "      <th>max</th>\n",
       "      <td> 6000.000000</td>\n",
       "    </tr>\n",
       "  </tbody>\n",
       "</table>\n",
       "</div>"
      ],
      "text/plain": [
       "        totalvalue\n",
       "count     5.000000\n",
       "mean   5965.007807\n",
       "std      25.739628\n",
       "min    5943.329874\n",
       "25%    5944.846149\n",
       "50%    5952.217445\n",
       "75%    5984.645566\n",
       "max    6000.000000"
      ]
     },
     "execution_count": 70,
     "metadata": {},
     "output_type": "execute_result"
    }
   ],
   "source": [
    "df_values.describe()"
   ]
  },
  {
   "cell_type": "code",
   "execution_count": 83,
   "metadata": {
    "collapsed": false
   },
   "outputs": [
    {
     "data": {
      "text/html": [
       "\n",
       "\n",
       "    <div class=\"bk-root\">\n",
       "        <div class=\"plotdiv\" id=\"0d9a0f00-6b1a-40de-9396-8c985518c1e2\"></div>\n",
       "    </div>\n",
       "<script type=\"text/javascript\">\n",
       "  \n",
       "  (function(global) {\n",
       "    function now() {\n",
       "      return new Date();\n",
       "    }\n",
       "  \n",
       "    var force = \"\";\n",
       "  \n",
       "    if (typeof (window._bokeh_onload_callbacks) === \"undefined\" || force !== \"\") {\n",
       "      window._bokeh_onload_callbacks = [];\n",
       "      window._bokeh_is_loading = undefined;\n",
       "    }\n",
       "  \n",
       "  \n",
       "    \n",
       "    if (typeof (window._bokeh_timeout) === \"undefined\" || force !== \"\") {\n",
       "      window._bokeh_timeout = Date.now() + 0;\n",
       "      window._bokeh_failed_load = false;\n",
       "    }\n",
       "  \n",
       "    var NB_LOAD_WARNING = {'data': {'text/html':\n",
       "       \"<div style='background-color: #fdd'>\\n\"+\n",
       "       \"<p>\\n\"+\n",
       "       \"BokehJS does not appear to have successfully loaded. If loading BokehJS from CDN, this \\n\"+\n",
       "       \"may be due to a slow or bad network connection. Possible fixes:\\n\"+\n",
       "       \"</p>\\n\"+\n",
       "       \"<ul>\\n\"+\n",
       "       \"<li>re-rerun `output_notebook()` to attempt to load from CDN again, or</li>\\n\"+\n",
       "       \"<li>use INLINE resources instead, as so:</li>\\n\"+\n",
       "       \"</ul>\\n\"+\n",
       "       \"<code>\\n\"+\n",
       "       \"from bokeh.resources import INLINE\\n\"+\n",
       "       \"output_notebook(resources=INLINE)\\n\"+\n",
       "       \"</code>\\n\"+\n",
       "       \"</div>\"}};\n",
       "  \n",
       "    function display_loaded() {\n",
       "      if (window.Bokeh !== undefined) {\n",
       "        Bokeh.$(\"#0d9a0f00-6b1a-40de-9396-8c985518c1e2\").text(\"BokehJS successfully loaded.\");\n",
       "      } else if (Date.now() < window._bokeh_timeout) {\n",
       "        setTimeout(display_loaded, 100)\n",
       "      }\n",
       "    }\n",
       "  \n",
       "    function run_callbacks() {\n",
       "      window._bokeh_onload_callbacks.forEach(function(callback) { callback() });\n",
       "      delete window._bokeh_onload_callbacks\n",
       "      console.info(\"Bokeh: all callbacks have finished\");\n",
       "    }\n",
       "  \n",
       "    function load_libs(js_urls, callback) {\n",
       "      window._bokeh_onload_callbacks.push(callback);\n",
       "      if (window._bokeh_is_loading > 0) {\n",
       "        console.log(\"Bokeh: BokehJS is being loaded, scheduling callback at\", now());\n",
       "        return null;\n",
       "      }\n",
       "      if (js_urls == null || js_urls.length === 0) {\n",
       "        run_callbacks();\n",
       "        return null;\n",
       "      }\n",
       "      console.log(\"Bokeh: BokehJS not loaded, scheduling load and callback at\", now());\n",
       "      window._bokeh_is_loading = js_urls.length;\n",
       "      for (var i = 0; i < js_urls.length; i++) {\n",
       "        var url = js_urls[i];\n",
       "        var s = document.createElement('script');\n",
       "        s.src = url;\n",
       "        s.async = false;\n",
       "        s.onreadystatechange = s.onload = function() {\n",
       "          window._bokeh_is_loading--;\n",
       "          if (window._bokeh_is_loading === 0) {\n",
       "            console.log(\"Bokeh: all BokehJS libraries loaded\");\n",
       "            run_callbacks()\n",
       "          }\n",
       "        };\n",
       "        s.onerror = function() {\n",
       "          console.warn(\"failed to load library \" + url);\n",
       "        };\n",
       "        console.log(\"Bokeh: injecting script tag for BokehJS library: \", url);\n",
       "        document.getElementsByTagName(\"head\")[0].appendChild(s);\n",
       "      }\n",
       "    };var element = document.getElementById(\"0d9a0f00-6b1a-40de-9396-8c985518c1e2\");\n",
       "    if (element == null) {\n",
       "      console.log(\"Bokeh: ERROR: autoload.js configured with elementid '0d9a0f00-6b1a-40de-9396-8c985518c1e2' but no matching script tag was found. \")\n",
       "      return false;\n",
       "    }\n",
       "  \n",
       "    var js_urls = [];\n",
       "  \n",
       "    var inline_js = [\n",
       "      function(Bokeh) {\n",
       "        Bokeh.$(function() {\n",
       "            var docs_json = {\"9f82389c-f6a1-4c83-a39c-c3d22e3751e3\":{\"roots\":{\"references\":[{\"attributes\":{},\"id\":\"e1fcaf91-06b2-4d6e-a386-e078be438660\",\"type\":\"YearsTicker\"},{\"attributes\":{\"data_source\":{\"id\":\"2f7202ca-7983-4264-9223-893f1e0280f7\",\"type\":\"ColumnDataSource\"},\"glyph\":{\"id\":\"c35f9bdc-06b4-4a5a-bc3f-2644e07d45c3\",\"type\":\"Line\"},\"hover_glyph\":null,\"nonselection_glyph\":{\"id\":\"b5444b95-7168-4aba-8ee8-32ea52a0f6ee\",\"type\":\"Line\"},\"selection_glyph\":null},\"id\":\"d6c884ce-355f-4ada-a933-9ca5d445bcd3\",\"type\":\"GlyphRenderer\"},{\"attributes\":{\"active_drag\":\"auto\",\"active_scroll\":\"auto\",\"active_tap\":\"auto\",\"tools\":[{\"id\":\"5072aea7-34a7-4651-9ec7-2af63f4c49e2\",\"type\":\"PanTool\"},{\"id\":\"29779fe3-593c-4248-9a1d-3e592017a933\",\"type\":\"WheelZoomTool\"},{\"id\":\"129ad8d0-f669-4676-bc2f-5dc703ee383c\",\"type\":\"BoxZoomTool\"},{\"id\":\"734f65ac-8788-4ee8-9e82-2ff5e5ceb356\",\"type\":\"SaveTool\"},{\"id\":\"1349ca2f-7c4c-4779-a00b-a9ac0bc16a09\",\"type\":\"ResetTool\"},{\"id\":\"6cb284a1-bfaf-4aab-862c-adfffc295d00\",\"type\":\"HelpTool\"}]},\"id\":\"c0c9e297-5d68-4343-b965-f2d084012312\",\"type\":\"Toolbar\"},{\"attributes\":{\"days\":[1,2,3,4,5,6,7,8,9,10,11,12,13,14,15,16,17,18,19,20,21,22,23,24,25,26,27,28,29,30,31]},\"id\":\"6ce2e8f9-53eb-473c-b55a-19d907a5f084\",\"type\":\"DaysTicker\"},{\"attributes\":{\"plot\":{\"id\":\"9a426bc3-0d89-4fb9-870c-41bf883bba81\",\"subtype\":\"Figure\",\"type\":\"Plot\"}},\"id\":\"734f65ac-8788-4ee8-9e82-2ff5e5ceb356\",\"type\":\"SaveTool\"},{\"attributes\":{\"num_minor_ticks\":5},\"id\":\"f55e2e15-fc03-4acd-89c2-238395a35a24\",\"type\":\"DatetimeTicker\"},{\"attributes\":{\"base\":24,\"mantissas\":[1,2,4,6,8,12],\"max_interval\":43200000.0,\"min_interval\":3600000.0,\"num_minor_ticks\":0},\"id\":\"de3bd961-1323-456f-a089-7c1648d60051\",\"type\":\"AdaptiveTicker\"},{\"attributes\":{\"days\":[1,8,15,22]},\"id\":\"3296137f-41d4-4c2f-9557-40e07a2d438a\",\"type\":\"DaysTicker\"},{\"attributes\":{\"months\":[0,4,8]},\"id\":\"999023a0-5a50-4e3d-80e1-3e8c96b9ceee\",\"type\":\"MonthsTicker\"},{\"attributes\":{\"days\":[1,4,7,10,13,16,19,22,25,28]},\"id\":\"1bdb7c06-855b-4694-ac9a-43c9a8e565e1\",\"type\":\"DaysTicker\"},{\"attributes\":{\"callback\":null,\"end\":6025.739627893512,\"start\":5917.590245750176},\"id\":\"a1038933-819f-4838-8519-ed0f897cca17\",\"type\":\"Range1d\"},{\"attributes\":{\"plot\":{\"id\":\"9a426bc3-0d89-4fb9-870c-41bf883bba81\",\"subtype\":\"Figure\",\"type\":\"Plot\"},\"ticker\":{\"id\":\"f55e2e15-fc03-4acd-89c2-238395a35a24\",\"type\":\"DatetimeTicker\"}},\"id\":\"6be8ba60-0990-4a15-a950-06a5e3543cff\",\"type\":\"Grid\"},{\"attributes\":{\"callback\":null},\"id\":\"5a0f331b-841c-43d1-8fdf-8b2da03c28da\",\"type\":\"DataRange1d\"},{\"attributes\":{\"plot\":{\"id\":\"9a426bc3-0d89-4fb9-870c-41bf883bba81\",\"subtype\":\"Figure\",\"type\":\"Plot\"}},\"id\":\"1349ca2f-7c4c-4779-a00b-a9ac0bc16a09\",\"type\":\"ResetTool\"},{\"attributes\":{},\"id\":\"4026a1ca-63b0-43fe-acce-d3904f0307df\",\"type\":\"BasicTicker\"},{\"attributes\":{\"months\":[0,2,4,6,8,10]},\"id\":\"c86e40d8-7392-425d-9502-cc9492b6a9a3\",\"type\":\"MonthsTicker\"},{\"attributes\":{\"axis_label\":\"Date\",\"formatter\":{\"id\":\"e2840d71-050c-43a4-9f94-cb081c9f6de4\",\"type\":\"DatetimeTickFormatter\"},\"plot\":{\"id\":\"9a426bc3-0d89-4fb9-870c-41bf883bba81\",\"subtype\":\"Figure\",\"type\":\"Plot\"},\"ticker\":{\"id\":\"f55e2e15-fc03-4acd-89c2-238395a35a24\",\"type\":\"DatetimeTicker\"}},\"id\":\"bb4345df-5c6c-4067-a1f9-0f108f5ac72f\",\"type\":\"DatetimeAxis\"},{\"attributes\":{\"plot\":{\"id\":\"9a426bc3-0d89-4fb9-870c-41bf883bba81\",\"subtype\":\"Figure\",\"type\":\"Plot\"}},\"id\":\"6cb284a1-bfaf-4aab-862c-adfffc295d00\",\"type\":\"HelpTool\"},{\"attributes\":{\"max_interval\":500.0,\"num_minor_ticks\":0},\"id\":\"539a6712-c16e-4f26-9ea5-2e8ab9946a01\",\"type\":\"AdaptiveTicker\"},{\"attributes\":{},\"id\":\"cd7f438c-22ba-4a0e-8284-fb04e294291a\",\"type\":\"ToolEvents\"},{\"attributes\":{\"months\":[0,1,2,3,4,5,6,7,8,9,10,11]},\"id\":\"c83846f2-4b94-4cfb-97c1-1bbed766910f\",\"type\":\"MonthsTicker\"},{\"attributes\":{\"months\":[0,6]},\"id\":\"d24a26e8-8767-4778-89a2-63c947d3d7aa\",\"type\":\"MonthsTicker\"},{\"attributes\":{\"below\":[{\"id\":\"bb4345df-5c6c-4067-a1f9-0f108f5ac72f\",\"type\":\"DatetimeAxis\"}],\"left\":[{\"id\":\"943779e0-f31f-4f62-bbf4-7cea1913f80e\",\"type\":\"LinearAxis\"}],\"plot_height\":300,\"plot_width\":500,\"renderers\":[{\"id\":\"bb4345df-5c6c-4067-a1f9-0f108f5ac72f\",\"type\":\"DatetimeAxis\"},{\"id\":\"6be8ba60-0990-4a15-a950-06a5e3543cff\",\"type\":\"Grid\"},{\"id\":\"943779e0-f31f-4f62-bbf4-7cea1913f80e\",\"type\":\"LinearAxis\"},{\"id\":\"66874cef-40a0-4129-9ebe-a42440a31bb0\",\"type\":\"Grid\"},{\"id\":\"06b9f0a1-54ba-42bb-92ab-41cb0b19469a\",\"type\":\"BoxAnnotation\"},{\"id\":\"d6c884ce-355f-4ada-a933-9ca5d445bcd3\",\"type\":\"GlyphRenderer\"}],\"title\":{\"id\":\"89ea16f1-30a8-43d2-bec2-1f4e84cfd35f\",\"type\":\"Title\"},\"tool_events\":{\"id\":\"cd7f438c-22ba-4a0e-8284-fb04e294291a\",\"type\":\"ToolEvents\"},\"toolbar\":{\"id\":\"c0c9e297-5d68-4343-b965-f2d084012312\",\"type\":\"Toolbar\"},\"x_range\":{\"id\":\"5a0f331b-841c-43d1-8fdf-8b2da03c28da\",\"type\":\"DataRange1d\"},\"y_range\":{\"id\":\"a1038933-819f-4838-8519-ed0f897cca17\",\"type\":\"Range1d\"}},\"id\":\"9a426bc3-0d89-4fb9-870c-41bf883bba81\",\"subtype\":\"Figure\",\"type\":\"Plot\"},{\"attributes\":{\"format\":\"$0.00\"},\"id\":\"a6579aae-2329-4342-86d2-d912e0871740\",\"type\":\"NumeralTickFormatter\"},{\"attributes\":{\"dimension\":1,\"plot\":{\"id\":\"9a426bc3-0d89-4fb9-870c-41bf883bba81\",\"subtype\":\"Figure\",\"type\":\"Plot\"},\"ticker\":{\"id\":\"4026a1ca-63b0-43fe-acce-d3904f0307df\",\"type\":\"BasicTicker\"}},\"id\":\"66874cef-40a0-4129-9ebe-a42440a31bb0\",\"type\":\"Grid\"},{\"attributes\":{\"base\":60,\"mantissas\":[1,2,5,10,15,20,30],\"max_interval\":1800000.0,\"min_interval\":1000.0,\"num_minor_ticks\":0},\"id\":\"8ade8cc1-e03c-4ebc-8d66-99c9a4396e9a\",\"type\":\"AdaptiveTicker\"},{\"attributes\":{},\"id\":\"e2840d71-050c-43a4-9f94-cb081c9f6de4\",\"type\":\"DatetimeTickFormatter\"},{\"attributes\":{\"axis_label\":\"Total value\",\"formatter\":{\"id\":\"a6579aae-2329-4342-86d2-d912e0871740\",\"type\":\"NumeralTickFormatter\"},\"plot\":{\"id\":\"9a426bc3-0d89-4fb9-870c-41bf883bba81\",\"subtype\":\"Figure\",\"type\":\"Plot\"},\"ticker\":{\"id\":\"4026a1ca-63b0-43fe-acce-d3904f0307df\",\"type\":\"BasicTicker\"}},\"id\":\"943779e0-f31f-4f62-bbf4-7cea1913f80e\",\"type\":\"LinearAxis\"},{\"attributes\":{\"bottom_units\":\"screen\",\"fill_alpha\":{\"value\":0.5},\"fill_color\":{\"value\":\"lightgrey\"},\"left_units\":\"screen\",\"level\":\"overlay\",\"line_alpha\":{\"value\":1.0},\"line_color\":{\"value\":\"black\"},\"line_dash\":[4,4],\"line_width\":{\"value\":2},\"plot\":null,\"render_mode\":\"css\",\"right_units\":\"screen\",\"top_units\":\"screen\"},\"id\":\"06b9f0a1-54ba-42bb-92ab-41cb0b19469a\",\"type\":\"BoxAnnotation\"},{\"attributes\":{\"plot\":{\"id\":\"9a426bc3-0d89-4fb9-870c-41bf883bba81\",\"subtype\":\"Figure\",\"type\":\"Plot\"}},\"id\":\"29779fe3-593c-4248-9a1d-3e592017a933\",\"type\":\"WheelZoomTool\"},{\"attributes\":{\"plot\":{\"id\":\"9a426bc3-0d89-4fb9-870c-41bf883bba81\",\"subtype\":\"Figure\",\"type\":\"Plot\"}},\"id\":\"5072aea7-34a7-4651-9ec7-2af63f4c49e2\",\"type\":\"PanTool\"},{\"attributes\":{\"line_alpha\":{\"value\":0.1},\"line_color\":{\"value\":\"#1f77b4\"},\"line_width\":{\"value\":3},\"x\":{\"field\":\"x\"},\"y\":{\"field\":\"y\"}},\"id\":\"b5444b95-7168-4aba-8ee8-32ea52a0f6ee\",\"type\":\"Line\"},{\"attributes\":{\"days\":[1,15]},\"id\":\"55f121fe-b792-46aa-ad34-3c66e5d1405b\",\"type\":\"DaysTicker\"},{\"attributes\":{\"callback\":null,\"column_names\":[\"y\",\"x\"],\"data\":{\"x\":[1478822400000.0,1479081600000.0,1479168000000.0,1479254400000.0,1479340800000.0],\"y\":[6000.0,5944.846148794746,5952.2174452388745,5943.329873643688,5984.645566427216]}},\"id\":\"2f7202ca-7983-4264-9223-893f1e0280f7\",\"type\":\"ColumnDataSource\"},{\"attributes\":{\"overlay\":{\"id\":\"06b9f0a1-54ba-42bb-92ab-41cb0b19469a\",\"type\":\"BoxAnnotation\"},\"plot\":{\"id\":\"9a426bc3-0d89-4fb9-870c-41bf883bba81\",\"subtype\":\"Figure\",\"type\":\"Plot\"}},\"id\":\"129ad8d0-f669-4676-bc2f-5dc703ee383c\",\"type\":\"BoxZoomTool\"},{\"attributes\":{\"line_color\":{\"value\":\"#1f77b4\"},\"line_width\":{\"value\":3},\"x\":{\"field\":\"x\"},\"y\":{\"field\":\"y\"}},\"id\":\"c35f9bdc-06b4-4a5a-bc3f-2644e07d45c3\",\"type\":\"Line\"},{\"attributes\":{\"plot\":null,\"text\":\"Portfolio Total Value trend\"},\"id\":\"89ea16f1-30a8-43d2-bec2-1f4e84cfd35f\",\"type\":\"Title\"}],\"root_ids\":[\"9a426bc3-0d89-4fb9-870c-41bf883bba81\"]},\"title\":\"Bokeh Application\",\"version\":\"0.12.3\"}};\n",
       "            var render_items = [{\"docid\":\"9f82389c-f6a1-4c83-a39c-c3d22e3751e3\",\"elementid\":\"0d9a0f00-6b1a-40de-9396-8c985518c1e2\",\"modelid\":\"9a426bc3-0d89-4fb9-870c-41bf883bba81\"}];\n",
       "            \n",
       "            Bokeh.embed.embed_items(docs_json, render_items);\n",
       "        });\n",
       "      },\n",
       "      function(Bokeh) {\n",
       "      }\n",
       "    ];\n",
       "  \n",
       "    function run_inline_js() {\n",
       "      \n",
       "      if ((window.Bokeh !== undefined) || (force === \"1\")) {\n",
       "        for (var i = 0; i < inline_js.length; i++) {\n",
       "          inline_js[i](window.Bokeh);\n",
       "        }if (force === \"1\") {\n",
       "          display_loaded();\n",
       "        }} else if (Date.now() < window._bokeh_timeout) {\n",
       "        setTimeout(run_inline_js, 100);\n",
       "      } else if (!window._bokeh_failed_load) {\n",
       "        console.log(\"Bokeh: BokehJS failed to load within specified timeout.\");\n",
       "        window._bokeh_failed_load = true;\n",
       "      } else if (!force) {\n",
       "        var cell = $(\"#0d9a0f00-6b1a-40de-9396-8c985518c1e2\").parents('.cell').data().cell;\n",
       "        cell.output_area.append_execute_result(NB_LOAD_WARNING)\n",
       "      }\n",
       "  \n",
       "    }\n",
       "  \n",
       "    if (window._bokeh_is_loading === 0) {\n",
       "      console.log(\"Bokeh: BokehJS loaded, going straight to plotting\");\n",
       "      run_inline_js();\n",
       "    } else {\n",
       "      load_libs(js_urls, function() {\n",
       "        console.log(\"Bokeh: BokehJS plotting callback run at\", now());\n",
       "        run_inline_js();\n",
       "      });\n",
       "    }\n",
       "  }(this));\n",
       "</script>"
      ]
     },
     "metadata": {},
     "output_type": "display_data"
    }
   ],
   "source": [
    "max = df_values.totalvalue.max()+ df_values.totalvalue.std()\n",
    "min = df_values.totalvalue.min()-df_values.totalvalue.std()\n",
    "p = figure(plot_width = 500, plot_height = 300,x_axis_type=\"datetime\",y_range=(min,max), title=\"Portfolio Total Value trend\")\n",
    "p.line(df_values['Date'], df_values['totalvalue'], line_width =3)\n",
    "p.yaxis[0].formatter = NumeralTickFormatter(format=\"$0.00\")\n",
    "p.xaxis.axis_label='Date'\n",
    "p.yaxis.axis_label='Total value'\n",
    "show(p)"
   ]
  },
  {
   "cell_type": "code",
   "execution_count": 86,
   "metadata": {
    "collapsed": false
   },
   "outputs": [
    {
     "data": {
      "text/html": [
       "<div style=\"max-height:1000px;max-width:1500px;overflow:auto;\">\n",
       "<table border=\"1\" class=\"dataframe\">\n",
       "  <thead>\n",
       "    <tr style=\"text-align: right;\">\n",
       "      <th></th>\n",
       "      <th>Date</th>\n",
       "      <th>minor</th>\n",
       "      <th>Open</th>\n",
       "      <th>High</th>\n",
       "      <th>Low</th>\n",
       "      <th>Close</th>\n",
       "      <th>Volume</th>\n",
       "      <th>Adj Close</th>\n",
       "    </tr>\n",
       "  </thead>\n",
       "  <tbody>\n",
       "    <tr>\n",
       "      <th>0 </th>\n",
       "      <td>2016-11-11</td>\n",
       "      <td> COST</td>\n",
       "      <td> 146.610001</td>\n",
       "      <td> 149.619995</td>\n",
       "      <td> 145.380005</td>\n",
       "      <td> 149.360001</td>\n",
       "      <td>  3218000</td>\n",
       "      <td> 149.360001</td>\n",
       "    </tr>\n",
       "    <tr>\n",
       "      <th>1 </th>\n",
       "      <td>2016-11-11</td>\n",
       "      <td>   FB</td>\n",
       "      <td> 119.529999</td>\n",
       "      <td> 120.699997</td>\n",
       "      <td> 118.150002</td>\n",
       "      <td> 119.019997</td>\n",
       "      <td> 32804000</td>\n",
       "      <td> 119.019997</td>\n",
       "    </tr>\n",
       "    <tr>\n",
       "      <th>2 </th>\n",
       "      <td>2016-11-11</td>\n",
       "      <td>   HD</td>\n",
       "      <td> 129.059998</td>\n",
       "      <td> 130.130005</td>\n",
       "      <td> 128.720001</td>\n",
       "      <td> 129.850006</td>\n",
       "      <td>  5490000</td>\n",
       "      <td> 129.850006</td>\n",
       "    </tr>\n",
       "    <tr>\n",
       "      <th>3 </th>\n",
       "      <td>2016-11-11</td>\n",
       "      <td>  XOM</td>\n",
       "      <td>  86.529999</td>\n",
       "      <td>  86.730003</td>\n",
       "      <td>  84.889999</td>\n",
       "      <td>  85.669998</td>\n",
       "      <td> 13711000</td>\n",
       "      <td>  85.669998</td>\n",
       "    </tr>\n",
       "    <tr>\n",
       "      <th>4 </th>\n",
       "      <td>2016-11-14</td>\n",
       "      <td> COST</td>\n",
       "      <td> 150.919998</td>\n",
       "      <td> 152.139999</td>\n",
       "      <td> 149.500000</td>\n",
       "      <td> 152.000000</td>\n",
       "      <td>  3890800</td>\n",
       "      <td> 152.000000</td>\n",
       "    </tr>\n",
       "    <tr>\n",
       "      <th>5 </th>\n",
       "      <td>2016-11-14</td>\n",
       "      <td>   FB</td>\n",
       "      <td> 119.129997</td>\n",
       "      <td> 119.129997</td>\n",
       "      <td> 113.550003</td>\n",
       "      <td> 115.080002</td>\n",
       "      <td> 51247400</td>\n",
       "      <td> 115.080002</td>\n",
       "    </tr>\n",
       "    <tr>\n",
       "      <th>6 </th>\n",
       "      <td>2016-11-14</td>\n",
       "      <td>   HD</td>\n",
       "      <td> 130.500000</td>\n",
       "      <td> 130.639999</td>\n",
       "      <td> 126.940002</td>\n",
       "      <td> 127.669998</td>\n",
       "      <td> 11405400</td>\n",
       "      <td> 127.669998</td>\n",
       "    </tr>\n",
       "    <tr>\n",
       "      <th>7 </th>\n",
       "      <td>2016-11-14</td>\n",
       "      <td>  XOM</td>\n",
       "      <td>  85.300003</td>\n",
       "      <td>  85.650002</td>\n",
       "      <td>  84.330002</td>\n",
       "      <td>  85.279999</td>\n",
       "      <td> 12553200</td>\n",
       "      <td>  85.279999</td>\n",
       "    </tr>\n",
       "    <tr>\n",
       "      <th>8 </th>\n",
       "      <td>2016-11-15</td>\n",
       "      <td> COST</td>\n",
       "      <td> 151.979996</td>\n",
       "      <td> 152.000000</td>\n",
       "      <td> 150.289993</td>\n",
       "      <td> 151.149994</td>\n",
       "      <td>  2721800</td>\n",
       "      <td> 151.149994</td>\n",
       "    </tr>\n",
       "    <tr>\n",
       "      <th>9 </th>\n",
       "      <td>2016-11-15</td>\n",
       "      <td>   FB</td>\n",
       "      <td> 116.730003</td>\n",
       "      <td> 118.489998</td>\n",
       "      <td> 115.830002</td>\n",
       "      <td> 117.199997</td>\n",
       "      <td> 33270700</td>\n",
       "      <td> 117.199997</td>\n",
       "    </tr>\n",
       "    <tr>\n",
       "      <th>10</th>\n",
       "      <td>2016-11-15</td>\n",
       "      <td>   HD</td>\n",
       "      <td> 127.070000</td>\n",
       "      <td> 127.669998</td>\n",
       "      <td> 122.919998</td>\n",
       "      <td> 124.400002</td>\n",
       "      <td> 13423400</td>\n",
       "      <td> 124.400002</td>\n",
       "    </tr>\n",
       "    <tr>\n",
       "      <th>11</th>\n",
       "      <td>2016-11-15</td>\n",
       "      <td>  XOM</td>\n",
       "      <td>  85.769997</td>\n",
       "      <td>  87.059998</td>\n",
       "      <td>  85.769997</td>\n",
       "      <td>  86.820000</td>\n",
       "      <td> 12806500</td>\n",
       "      <td>  86.820000</td>\n",
       "    </tr>\n",
       "    <tr>\n",
       "      <th>12</th>\n",
       "      <td>2016-11-16</td>\n",
       "      <td> COST</td>\n",
       "      <td> 152.190002</td>\n",
       "      <td> 152.550003</td>\n",
       "      <td> 151.800003</td>\n",
       "      <td> 152.139999</td>\n",
       "      <td>  2151200</td>\n",
       "      <td> 152.139999</td>\n",
       "    </tr>\n",
       "    <tr>\n",
       "      <th>13</th>\n",
       "      <td>2016-11-16</td>\n",
       "      <td>   FB</td>\n",
       "      <td> 114.480003</td>\n",
       "      <td> 117.879997</td>\n",
       "      <td> 114.209999</td>\n",
       "      <td> 116.339996</td>\n",
       "      <td> 32345400</td>\n",
       "      <td> 116.339996</td>\n",
       "    </tr>\n",
       "    <tr>\n",
       "      <th>14</th>\n",
       "      <td>2016-11-16</td>\n",
       "      <td>   HD</td>\n",
       "      <td> 123.599998</td>\n",
       "      <td> 125.699997</td>\n",
       "      <td> 123.279999</td>\n",
       "      <td> 125.330002</td>\n",
       "      <td>  9767500</td>\n",
       "      <td> 125.330002</td>\n",
       "    </tr>\n",
       "    <tr>\n",
       "      <th>15</th>\n",
       "      <td>2016-11-16</td>\n",
       "      <td>  XOM</td>\n",
       "      <td>  86.739998</td>\n",
       "      <td>  86.779999</td>\n",
       "      <td>  85.580002</td>\n",
       "      <td>  85.750000</td>\n",
       "      <td>  8119400</td>\n",
       "      <td>  85.750000</td>\n",
       "    </tr>\n",
       "    <tr>\n",
       "      <th>16</th>\n",
       "      <td>2016-11-17</td>\n",
       "      <td> COST</td>\n",
       "      <td> 151.229996</td>\n",
       "      <td> 151.399994</td>\n",
       "      <td> 149.550003</td>\n",
       "      <td> 151.199997</td>\n",
       "      <td>  2096800</td>\n",
       "      <td> 151.199997</td>\n",
       "    </tr>\n",
       "    <tr>\n",
       "      <th>17</th>\n",
       "      <td>2016-11-17</td>\n",
       "      <td>   FB</td>\n",
       "      <td> 116.809998</td>\n",
       "      <td> 117.790001</td>\n",
       "      <td> 116.010002</td>\n",
       "      <td> 117.790001</td>\n",
       "      <td> 18556200</td>\n",
       "      <td> 117.790001</td>\n",
       "    </tr>\n",
       "    <tr>\n",
       "      <th>18</th>\n",
       "      <td>2016-11-17</td>\n",
       "      <td>   HD</td>\n",
       "      <td> 125.870003</td>\n",
       "      <td> 129.139999</td>\n",
       "      <td> 125.699997</td>\n",
       "      <td> 128.929993</td>\n",
       "      <td>  6727500</td>\n",
       "      <td> 128.929993</td>\n",
       "    </tr>\n",
       "    <tr>\n",
       "      <th>19</th>\n",
       "      <td>2016-11-17</td>\n",
       "      <td>  XOM</td>\n",
       "      <td>  86.440002</td>\n",
       "      <td>  86.879997</td>\n",
       "      <td>  85.019997</td>\n",
       "      <td>  85.230003</td>\n",
       "      <td>  8147600</td>\n",
       "      <td>  85.230003</td>\n",
       "    </tr>\n",
       "  </tbody>\n",
       "</table>\n",
       "</div>"
      ],
      "text/plain": [
       "         Date minor        Open        High         Low       Close    Volume  \\\n",
       "0  2016-11-11  COST  146.610001  149.619995  145.380005  149.360001   3218000   \n",
       "1  2016-11-11    FB  119.529999  120.699997  118.150002  119.019997  32804000   \n",
       "2  2016-11-11    HD  129.059998  130.130005  128.720001  129.850006   5490000   \n",
       "3  2016-11-11   XOM   86.529999   86.730003   84.889999   85.669998  13711000   \n",
       "4  2016-11-14  COST  150.919998  152.139999  149.500000  152.000000   3890800   \n",
       "5  2016-11-14    FB  119.129997  119.129997  113.550003  115.080002  51247400   \n",
       "6  2016-11-14    HD  130.500000  130.639999  126.940002  127.669998  11405400   \n",
       "7  2016-11-14   XOM   85.300003   85.650002   84.330002   85.279999  12553200   \n",
       "8  2016-11-15  COST  151.979996  152.000000  150.289993  151.149994   2721800   \n",
       "9  2016-11-15    FB  116.730003  118.489998  115.830002  117.199997  33270700   \n",
       "10 2016-11-15    HD  127.070000  127.669998  122.919998  124.400002  13423400   \n",
       "11 2016-11-15   XOM   85.769997   87.059998   85.769997   86.820000  12806500   \n",
       "12 2016-11-16  COST  152.190002  152.550003  151.800003  152.139999   2151200   \n",
       "13 2016-11-16    FB  114.480003  117.879997  114.209999  116.339996  32345400   \n",
       "14 2016-11-16    HD  123.599998  125.699997  123.279999  125.330002   9767500   \n",
       "15 2016-11-16   XOM   86.739998   86.779999   85.580002   85.750000   8119400   \n",
       "16 2016-11-17  COST  151.229996  151.399994  149.550003  151.199997   2096800   \n",
       "17 2016-11-17    FB  116.809998  117.790001  116.010002  117.790001  18556200   \n",
       "18 2016-11-17    HD  125.870003  129.139999  125.699997  128.929993   6727500   \n",
       "19 2016-11-17   XOM   86.440002   86.879997   85.019997   85.230003   8147600   \n",
       "\n",
       "     Adj Close  \n",
       "0   149.360001  \n",
       "1   119.019997  \n",
       "2   129.850006  \n",
       "3    85.669998  \n",
       "4   152.000000  \n",
       "5   115.080002  \n",
       "6   127.669998  \n",
       "7    85.279999  \n",
       "8   151.149994  \n",
       "9   117.199997  \n",
       "10  124.400002  \n",
       "11   86.820000  \n",
       "12  152.139999  \n",
       "13  116.339996  \n",
       "14  125.330002  \n",
       "15   85.750000  \n",
       "16  151.199997  \n",
       "17  117.790001  \n",
       "18  128.929993  \n",
       "19   85.230003  "
      ]
     },
     "execution_count": 86,
     "metadata": {},
     "output_type": "execute_result"
    }
   ],
   "source": [
    "df_historical_chart = df_historical.reset_index()\n",
    "df_historical_chart"
   ]
  },
  {
   "cell_type": "code",
   "execution_count": 94,
   "metadata": {
    "collapsed": false
   },
   "outputs": [
    {
     "data": {
      "text/html": [
       "<div style=\"max-height:1000px;max-width:1500px;overflow:auto;\">\n",
       "<table border=\"1\" class=\"dataframe\">\n",
       "  <thead>\n",
       "    <tr style=\"text-align: right;\">\n",
       "      <th>minor</th>\n",
       "      <th>Date</th>\n",
       "      <th>COST</th>\n",
       "      <th>FB</th>\n",
       "      <th>HD</th>\n",
       "      <th>XOM</th>\n",
       "    </tr>\n",
       "  </thead>\n",
       "  <tbody>\n",
       "    <tr>\n",
       "      <th>0</th>\n",
       "      <td>2016-11-11</td>\n",
       "      <td> 149.360001</td>\n",
       "      <td> 119.019997</td>\n",
       "      <td> 129.850006</td>\n",
       "      <td> 85.669998</td>\n",
       "    </tr>\n",
       "    <tr>\n",
       "      <th>1</th>\n",
       "      <td>2016-11-14</td>\n",
       "      <td> 152.000000</td>\n",
       "      <td> 115.080002</td>\n",
       "      <td> 127.669998</td>\n",
       "      <td> 85.279999</td>\n",
       "    </tr>\n",
       "    <tr>\n",
       "      <th>2</th>\n",
       "      <td>2016-11-15</td>\n",
       "      <td> 151.149994</td>\n",
       "      <td> 117.199997</td>\n",
       "      <td> 124.400002</td>\n",
       "      <td> 86.820000</td>\n",
       "    </tr>\n",
       "    <tr>\n",
       "      <th>3</th>\n",
       "      <td>2016-11-16</td>\n",
       "      <td> 152.139999</td>\n",
       "      <td> 116.339996</td>\n",
       "      <td> 125.330002</td>\n",
       "      <td> 85.750000</td>\n",
       "    </tr>\n",
       "    <tr>\n",
       "      <th>4</th>\n",
       "      <td>2016-11-17</td>\n",
       "      <td> 151.199997</td>\n",
       "      <td> 117.790001</td>\n",
       "      <td> 128.929993</td>\n",
       "      <td> 85.230003</td>\n",
       "    </tr>\n",
       "  </tbody>\n",
       "</table>\n",
       "</div>"
      ],
      "text/plain": [
       "minor       Date        COST          FB          HD        XOM\n",
       "0     2016-11-11  149.360001  119.019997  129.850006  85.669998\n",
       "1     2016-11-14  152.000000  115.080002  127.669998  85.279999\n",
       "2     2016-11-15  151.149994  117.199997  124.400002  86.820000\n",
       "3     2016-11-16  152.139999  116.339996  125.330002  85.750000\n",
       "4     2016-11-17  151.199997  117.790001  128.929993  85.230003"
      ]
     },
     "execution_count": 94,
     "metadata": {},
     "output_type": "execute_result"
    }
   ],
   "source": [
    "df_chart=pd.pivot_table(df_historical_chart, values='Adj Close', columns='minor', index='Date')\n",
    "df_chart.reset_index(inplace=True)\n",
    "df_chart"
   ]
  },
  {
   "cell_type": "code",
   "execution_count": 95,
   "metadata": {
    "collapsed": false
   },
   "outputs": [
    {
     "data": {
      "text/plain": [
       "['FB', 'XOM', 'COST', 'HD']"
      ]
     },
     "execution_count": 95,
     "metadata": {},
     "output_type": "execute_result"
    }
   ],
   "source": [
    "stockslist"
   ]
  },
  {
   "cell_type": "code",
   "execution_count": 100,
   "metadata": {
    "collapsed": false
   },
   "outputs": [
    {
     "data": {
      "text/html": [
       "\n",
       "\n",
       "    <div class=\"bk-root\">\n",
       "        <div class=\"plotdiv\" id=\"2fa6efbd-34ee-4bf5-baa1-01f9cb4560c6\"></div>\n",
       "    </div>\n",
       "<script type=\"text/javascript\">\n",
       "  \n",
       "  (function(global) {\n",
       "    function now() {\n",
       "      return new Date();\n",
       "    }\n",
       "  \n",
       "    var force = \"\";\n",
       "  \n",
       "    if (typeof (window._bokeh_onload_callbacks) === \"undefined\" || force !== \"\") {\n",
       "      window._bokeh_onload_callbacks = [];\n",
       "      window._bokeh_is_loading = undefined;\n",
       "    }\n",
       "  \n",
       "  \n",
       "    \n",
       "    if (typeof (window._bokeh_timeout) === \"undefined\" || force !== \"\") {\n",
       "      window._bokeh_timeout = Date.now() + 0;\n",
       "      window._bokeh_failed_load = false;\n",
       "    }\n",
       "  \n",
       "    var NB_LOAD_WARNING = {'data': {'text/html':\n",
       "       \"<div style='background-color: #fdd'>\\n\"+\n",
       "       \"<p>\\n\"+\n",
       "       \"BokehJS does not appear to have successfully loaded. If loading BokehJS from CDN, this \\n\"+\n",
       "       \"may be due to a slow or bad network connection. Possible fixes:\\n\"+\n",
       "       \"</p>\\n\"+\n",
       "       \"<ul>\\n\"+\n",
       "       \"<li>re-rerun `output_notebook()` to attempt to load from CDN again, or</li>\\n\"+\n",
       "       \"<li>use INLINE resources instead, as so:</li>\\n\"+\n",
       "       \"</ul>\\n\"+\n",
       "       \"<code>\\n\"+\n",
       "       \"from bokeh.resources import INLINE\\n\"+\n",
       "       \"output_notebook(resources=INLINE)\\n\"+\n",
       "       \"</code>\\n\"+\n",
       "       \"</div>\"}};\n",
       "  \n",
       "    function display_loaded() {\n",
       "      if (window.Bokeh !== undefined) {\n",
       "        Bokeh.$(\"#2fa6efbd-34ee-4bf5-baa1-01f9cb4560c6\").text(\"BokehJS successfully loaded.\");\n",
       "      } else if (Date.now() < window._bokeh_timeout) {\n",
       "        setTimeout(display_loaded, 100)\n",
       "      }\n",
       "    }\n",
       "  \n",
       "    function run_callbacks() {\n",
       "      window._bokeh_onload_callbacks.forEach(function(callback) { callback() });\n",
       "      delete window._bokeh_onload_callbacks\n",
       "      console.info(\"Bokeh: all callbacks have finished\");\n",
       "    }\n",
       "  \n",
       "    function load_libs(js_urls, callback) {\n",
       "      window._bokeh_onload_callbacks.push(callback);\n",
       "      if (window._bokeh_is_loading > 0) {\n",
       "        console.log(\"Bokeh: BokehJS is being loaded, scheduling callback at\", now());\n",
       "        return null;\n",
       "      }\n",
       "      if (js_urls == null || js_urls.length === 0) {\n",
       "        run_callbacks();\n",
       "        return null;\n",
       "      }\n",
       "      console.log(\"Bokeh: BokehJS not loaded, scheduling load and callback at\", now());\n",
       "      window._bokeh_is_loading = js_urls.length;\n",
       "      for (var i = 0; i < js_urls.length; i++) {\n",
       "        var url = js_urls[i];\n",
       "        var s = document.createElement('script');\n",
       "        s.src = url;\n",
       "        s.async = false;\n",
       "        s.onreadystatechange = s.onload = function() {\n",
       "          window._bokeh_is_loading--;\n",
       "          if (window._bokeh_is_loading === 0) {\n",
       "            console.log(\"Bokeh: all BokehJS libraries loaded\");\n",
       "            run_callbacks()\n",
       "          }\n",
       "        };\n",
       "        s.onerror = function() {\n",
       "          console.warn(\"failed to load library \" + url);\n",
       "        };\n",
       "        console.log(\"Bokeh: injecting script tag for BokehJS library: \", url);\n",
       "        document.getElementsByTagName(\"head\")[0].appendChild(s);\n",
       "      }\n",
       "    };var element = document.getElementById(\"2fa6efbd-34ee-4bf5-baa1-01f9cb4560c6\");\n",
       "    if (element == null) {\n",
       "      console.log(\"Bokeh: ERROR: autoload.js configured with elementid '2fa6efbd-34ee-4bf5-baa1-01f9cb4560c6' but no matching script tag was found. \")\n",
       "      return false;\n",
       "    }\n",
       "  \n",
       "    var js_urls = [];\n",
       "  \n",
       "    var inline_js = [\n",
       "      function(Bokeh) {\n",
       "        Bokeh.$(function() {\n",
       "            var docs_json = {\"ebe4dd25-18d9-4053-bf42-9cc850d412c7\":{\"roots\":{\"references\":[{\"attributes\":{\"below\":[{\"id\":\"fe47a26b-2d88-435c-8c5d-bc36ad2cf463\",\"type\":\"DatetimeAxis\"}],\"left\":[{\"id\":\"6a731c75-019e-4040-a80c-92750d1c3c2d\",\"type\":\"LinearAxis\"}],\"renderers\":[{\"id\":\"fe47a26b-2d88-435c-8c5d-bc36ad2cf463\",\"type\":\"DatetimeAxis\"},{\"id\":\"4d7524a5-6831-45f1-879a-3249d995abc7\",\"type\":\"Grid\"},{\"id\":\"6a731c75-019e-4040-a80c-92750d1c3c2d\",\"type\":\"LinearAxis\"},{\"id\":\"a7021a18-178a-4787-b8c2-11b889eefa48\",\"type\":\"Grid\"},{\"id\":\"440301e2-65a0-4e54-a71f-8b4b1da92c45\",\"type\":\"BoxAnnotation\"},{\"id\":\"eac77582-4ef6-4933-9df5-8e0b559e748f\",\"type\":\"Legend\"},{\"id\":\"84c25e26-bcb5-4bdf-8ca1-54184bd449b3\",\"type\":\"GlyphRenderer\"},{\"id\":\"a3627a3b-8e2d-4086-afe8-7cc4058e4c8f\",\"type\":\"GlyphRenderer\"},{\"id\":\"a74c255c-29b2-47c8-8e43-9e1c56b66a3f\",\"type\":\"GlyphRenderer\"},{\"id\":\"6e1812e9-c57e-4fa2-9068-9435457958b4\",\"type\":\"GlyphRenderer\"}],\"title\":{\"id\":\"6815d577-e9d7-4706-a5ae-6df908da5e21\",\"type\":\"Title\"},\"tool_events\":{\"id\":\"753a1ecf-37cb-4a0d-b583-7a39f4735754\",\"type\":\"ToolEvents\"},\"toolbar\":{\"id\":\"ca104afc-0b26-4b06-989c-2d3ed29671cc\",\"type\":\"Toolbar\"},\"x_range\":{\"id\":\"0f636eb6-cadc-48ff-8793-3bd8caa3daaf\",\"type\":\"DataRange1d\"},\"y_range\":{\"id\":\"48d72d97-4d01-4c19-a4fe-f620abf97f96\",\"type\":\"DataRange1d\"}},\"id\":\"ee816f85-0e58-48ed-8535-d5613886a61c\",\"subtype\":\"Figure\",\"type\":\"Plot\"},{\"attributes\":{\"callback\":null,\"column_names\":[\"y\",\"x\"],\"data\":{\"x\":[1478822400000.0,1479081600000.0,1479168000000.0,1479254400000.0,1479340800000.0],\"y\":[119.019997,115.08000200000001,117.199997,116.339996,117.790001]}},\"id\":\"714b5ac6-cbe6-42a4-9a08-7ea135f509f8\",\"type\":\"ColumnDataSource\"},{\"attributes\":{\"data_source\":{\"id\":\"714b5ac6-cbe6-42a4-9a08-7ea135f509f8\",\"type\":\"ColumnDataSource\"},\"glyph\":{\"id\":\"a0c97f06-e85f-4d86-954c-279e58809146\",\"type\":\"Line\"},\"hover_glyph\":null,\"nonselection_glyph\":{\"id\":\"3b1b6bb6-f267-421c-9edb-9b189f737a2e\",\"type\":\"Line\"},\"selection_glyph\":null},\"id\":\"84c25e26-bcb5-4bdf-8ca1-54184bd449b3\",\"type\":\"GlyphRenderer\"},{\"attributes\":{},\"id\":\"afdeaf91-f61b-4268-b01e-85db376de590\",\"type\":\"BasicTickFormatter\"},{\"attributes\":{\"line_alpha\":{\"value\":0.1},\"line_color\":{\"value\":\"#1f77b4\"},\"line_width\":{\"value\":5},\"x\":{\"field\":\"x\"},\"y\":{\"field\":\"y\"}},\"id\":\"7c9fa39c-422b-4c53-a64f-7868638fe43b\",\"type\":\"Line\"},{\"attributes\":{\"num_minor_ticks\":5},\"id\":\"3f95c18c-812a-4377-8fab-8b2995215fcb\",\"type\":\"DatetimeTicker\"},{\"attributes\":{\"dimension\":1,\"plot\":{\"id\":\"ee816f85-0e58-48ed-8535-d5613886a61c\",\"subtype\":\"Figure\",\"type\":\"Plot\"},\"ticker\":{\"id\":\"8c973b07-6600-4d81-bb24-9fd8bd86ce89\",\"type\":\"BasicTicker\"}},\"id\":\"a7021a18-178a-4787-b8c2-11b889eefa48\",\"type\":\"Grid\"},{\"attributes\":{\"line_alpha\":{\"value\":0.1},\"line_color\":{\"value\":\"#1f77b4\"},\"line_width\":{\"value\":5},\"x\":{\"field\":\"x\"},\"y\":{\"field\":\"y\"}},\"id\":\"3b1b6bb6-f267-421c-9edb-9b189f737a2e\",\"type\":\"Line\"},{\"attributes\":{\"bottom_units\":\"screen\",\"fill_alpha\":{\"value\":0.5},\"fill_color\":{\"value\":\"lightgrey\"},\"left_units\":\"screen\",\"level\":\"overlay\",\"line_alpha\":{\"value\":1.0},\"line_color\":{\"value\":\"black\"},\"line_dash\":[4,4],\"line_width\":{\"value\":2},\"plot\":null,\"render_mode\":\"css\",\"right_units\":\"screen\",\"top_units\":\"screen\"},\"id\":\"440301e2-65a0-4e54-a71f-8b4b1da92c45\",\"type\":\"BoxAnnotation\"},{\"attributes\":{\"plot\":null,\"text\":\"Stock Closing Prices\"},\"id\":\"6815d577-e9d7-4706-a5ae-6df908da5e21\",\"type\":\"Title\"},{\"attributes\":{\"days\":[1,4,7,10,13,16,19,22,25,28]},\"id\":\"77d8abf9-7dcd-4824-a2e5-5391c776c2df\",\"type\":\"DaysTicker\"},{\"attributes\":{\"plot\":{\"id\":\"ee816f85-0e58-48ed-8535-d5613886a61c\",\"subtype\":\"Figure\",\"type\":\"Plot\"}},\"id\":\"dab07a8e-c623-4319-8128-a4b76b62eb51\",\"type\":\"WheelZoomTool\"},{\"attributes\":{\"plot\":{\"id\":\"ee816f85-0e58-48ed-8535-d5613886a61c\",\"subtype\":\"Figure\",\"type\":\"Plot\"}},\"id\":\"ee855517-161b-49aa-86ad-3759f8ac4166\",\"type\":\"HelpTool\"},{\"attributes\":{\"base\":24,\"mantissas\":[1,2,4,6,8,12],\"max_interval\":43200000.0,\"min_interval\":3600000.0,\"num_minor_ticks\":0},\"id\":\"6d973a03-1172-4234-b6aa-b995b370015c\",\"type\":\"AdaptiveTicker\"},{\"attributes\":{\"plot\":{\"id\":\"ee816f85-0e58-48ed-8535-d5613886a61c\",\"subtype\":\"Figure\",\"type\":\"Plot\"}},\"id\":\"b48e0911-8c7c-413e-896b-c8fa58dac786\",\"type\":\"SaveTool\"},{\"attributes\":{\"line_color\":{\"value\":\"#fee08b\"},\"line_width\":{\"value\":5},\"x\":{\"field\":\"x\"},\"y\":{\"field\":\"y\"}},\"id\":\"63a118e5-d9c6-49d4-a31f-e821f6dc8921\",\"type\":\"Line\"},{\"attributes\":{\"callback\":null,\"column_names\":[\"y\",\"x\"],\"data\":{\"x\":[1478822400000.0,1479081600000.0,1479168000000.0,1479254400000.0,1479340800000.0],\"y\":[149.360001,152.0,151.149994,152.139999,151.199997]}},\"id\":\"081db226-ef39-43f7-95f5-35858043eb5b\",\"type\":\"ColumnDataSource\"},{\"attributes\":{},\"id\":\"8c973b07-6600-4d81-bb24-9fd8bd86ce89\",\"type\":\"BasicTicker\"},{\"attributes\":{\"label\":{\"value\":\"COST\"},\"renderers\":[{\"id\":\"a74c255c-29b2-47c8-8e43-9e1c56b66a3f\",\"type\":\"GlyphRenderer\"}]},\"id\":\"faea5f22-fa7e-411b-8339-73b646c89220\",\"type\":\"LegendItem\"},{\"attributes\":{\"label\":{\"value\":\"XOM\"},\"renderers\":[{\"id\":\"a3627a3b-8e2d-4086-afe8-7cc4058e4c8f\",\"type\":\"GlyphRenderer\"}]},\"id\":\"be0864ba-d34b-40c7-814f-5731250bd01d\",\"type\":\"LegendItem\"},{\"attributes\":{\"line_color\":{\"value\":\"#e6f598\"},\"line_width\":{\"value\":5},\"x\":{\"field\":\"x\"},\"y\":{\"field\":\"y\"}},\"id\":\"f4dd022d-1265-4192-91eb-3c74802fe586\",\"type\":\"Line\"},{\"attributes\":{\"days\":[1,8,15,22]},\"id\":\"3f23c359-e37b-4ff1-b3e0-a4604043315a\",\"type\":\"DaysTicker\"},{\"attributes\":{\"base\":60,\"mantissas\":[1,2,5,10,15,20,30],\"max_interval\":1800000.0,\"min_interval\":1000.0,\"num_minor_ticks\":0},\"id\":\"a8665135-60bb-4a92-97f5-3669492c3c38\",\"type\":\"AdaptiveTicker\"},{\"attributes\":{\"callback\":null},\"id\":\"0f636eb6-cadc-48ff-8793-3bd8caa3daaf\",\"type\":\"DataRange1d\"},{\"attributes\":{},\"id\":\"7ba91e37-591e-4ebe-a959-2d7dbfe8b042\",\"type\":\"DatetimeTickFormatter\"},{\"attributes\":{\"months\":[0,4,8]},\"id\":\"aa020f50-24f4-4852-9d98-14d209001541\",\"type\":\"MonthsTicker\"},{\"attributes\":{\"days\":[1,2,3,4,5,6,7,8,9,10,11,12,13,14,15,16,17,18,19,20,21,22,23,24,25,26,27,28,29,30,31]},\"id\":\"960b53ef-8d1d-420c-9501-bff31a3649fe\",\"type\":\"DaysTicker\"},{\"attributes\":{\"line_alpha\":{\"value\":0.1},\"line_color\":{\"value\":\"#1f77b4\"},\"line_width\":{\"value\":5},\"x\":{\"field\":\"x\"},\"y\":{\"field\":\"y\"}},\"id\":\"02b96ac2-1d55-43ed-96ef-438a19c3f35a\",\"type\":\"Line\"},{\"attributes\":{\"data_source\":{\"id\":\"c0801a14-74fc-4249-8d4c-3fd0f20ebce1\",\"type\":\"ColumnDataSource\"},\"glyph\":{\"id\":\"72da2498-620b-4604-a4eb-7d19cc6ad003\",\"type\":\"Line\"},\"hover_glyph\":null,\"nonselection_glyph\":{\"id\":\"7c9fa39c-422b-4c53-a64f-7868638fe43b\",\"type\":\"Line\"},\"selection_glyph\":null},\"id\":\"a3627a3b-8e2d-4086-afe8-7cc4058e4c8f\",\"type\":\"GlyphRenderer\"},{\"attributes\":{\"months\":[0,2,4,6,8,10]},\"id\":\"b6b6a380-e19b-44c5-92d8-74cdc43b6d35\",\"type\":\"MonthsTicker\"},{\"attributes\":{\"months\":[0,6]},\"id\":\"5396b4ef-9176-48e7-b65c-38dbbef18997\",\"type\":\"MonthsTicker\"},{\"attributes\":{\"data_source\":{\"id\":\"081db226-ef39-43f7-95f5-35858043eb5b\",\"type\":\"ColumnDataSource\"},\"glyph\":{\"id\":\"f4dd022d-1265-4192-91eb-3c74802fe586\",\"type\":\"Line\"},\"hover_glyph\":null,\"nonselection_glyph\":{\"id\":\"02b96ac2-1d55-43ed-96ef-438a19c3f35a\",\"type\":\"Line\"},\"selection_glyph\":null},\"id\":\"a74c255c-29b2-47c8-8e43-9e1c56b66a3f\",\"type\":\"GlyphRenderer\"},{\"attributes\":{\"axis_label\":\"Date\",\"formatter\":{\"id\":\"7ba91e37-591e-4ebe-a959-2d7dbfe8b042\",\"type\":\"DatetimeTickFormatter\"},\"plot\":{\"id\":\"ee816f85-0e58-48ed-8535-d5613886a61c\",\"subtype\":\"Figure\",\"type\":\"Plot\"},\"ticker\":{\"id\":\"3f95c18c-812a-4377-8fab-8b2995215fcb\",\"type\":\"DatetimeTicker\"}},\"id\":\"fe47a26b-2d88-435c-8c5d-bc36ad2cf463\",\"type\":\"DatetimeAxis\"},{\"attributes\":{\"days\":[1,15]},\"id\":\"a1eda541-8268-4e4e-aa51-aef6614538c5\",\"type\":\"DaysTicker\"},{\"attributes\":{\"plot\":{\"id\":\"ee816f85-0e58-48ed-8535-d5613886a61c\",\"subtype\":\"Figure\",\"type\":\"Plot\"},\"ticker\":{\"id\":\"3f95c18c-812a-4377-8fab-8b2995215fcb\",\"type\":\"DatetimeTicker\"}},\"id\":\"4d7524a5-6831-45f1-879a-3249d995abc7\",\"type\":\"Grid\"},{\"attributes\":{\"axis_label\":\"Price\",\"formatter\":{\"id\":\"afdeaf91-f61b-4268-b01e-85db376de590\",\"type\":\"BasicTickFormatter\"},\"plot\":{\"id\":\"ee816f85-0e58-48ed-8535-d5613886a61c\",\"subtype\":\"Figure\",\"type\":\"Plot\"},\"ticker\":{\"id\":\"8c973b07-6600-4d81-bb24-9fd8bd86ce89\",\"type\":\"BasicTicker\"}},\"id\":\"6a731c75-019e-4040-a80c-92750d1c3c2d\",\"type\":\"LinearAxis\"},{\"attributes\":{\"callback\":null},\"id\":\"48d72d97-4d01-4c19-a4fe-f620abf97f96\",\"type\":\"DataRange1d\"},{\"attributes\":{},\"id\":\"753a1ecf-37cb-4a0d-b583-7a39f4735754\",\"type\":\"ToolEvents\"},{\"attributes\":{\"line_color\":{\"value\":\"#99d594\"},\"line_width\":{\"value\":5},\"x\":{\"field\":\"x\"},\"y\":{\"field\":\"y\"}},\"id\":\"72da2498-620b-4604-a4eb-7d19cc6ad003\",\"type\":\"Line\"},{\"attributes\":{\"label\":{\"value\":\"HD\"},\"renderers\":[{\"id\":\"6e1812e9-c57e-4fa2-9068-9435457958b4\",\"type\":\"GlyphRenderer\"}]},\"id\":\"1511e8ff-bf09-4c4e-93eb-3f27b0f3b307\",\"type\":\"LegendItem\"},{\"attributes\":{\"callback\":null,\"column_names\":[\"y\",\"x\"],\"data\":{\"x\":[1478822400000.0,1479081600000.0,1479168000000.0,1479254400000.0,1479340800000.0],\"y\":[85.66999799999999,85.279999,86.82,85.75,85.230003]}},\"id\":\"c0801a14-74fc-4249-8d4c-3fd0f20ebce1\",\"type\":\"ColumnDataSource\"},{\"attributes\":{\"data_source\":{\"id\":\"a01a2559-0016-412d-9b73-a82a0add0955\",\"type\":\"ColumnDataSource\"},\"glyph\":{\"id\":\"63a118e5-d9c6-49d4-a31f-e821f6dc8921\",\"type\":\"Line\"},\"hover_glyph\":null,\"nonselection_glyph\":{\"id\":\"9e315c4c-b155-4301-8a55-026918dd73cc\",\"type\":\"Line\"},\"selection_glyph\":null},\"id\":\"6e1812e9-c57e-4fa2-9068-9435457958b4\",\"type\":\"GlyphRenderer\"},{\"attributes\":{\"label\":{\"value\":\"FB\"},\"renderers\":[{\"id\":\"84c25e26-bcb5-4bdf-8ca1-54184bd449b3\",\"type\":\"GlyphRenderer\"}]},\"id\":\"789ba2cf-0ffd-4ed9-b75e-4cd03b371b71\",\"type\":\"LegendItem\"},{\"attributes\":{\"line_alpha\":{\"value\":0.1},\"line_color\":{\"value\":\"#1f77b4\"},\"line_width\":{\"value\":5},\"x\":{\"field\":\"x\"},\"y\":{\"field\":\"y\"}},\"id\":\"9e315c4c-b155-4301-8a55-026918dd73cc\",\"type\":\"Line\"},{\"attributes\":{\"overlay\":{\"id\":\"440301e2-65a0-4e54-a71f-8b4b1da92c45\",\"type\":\"BoxAnnotation\"},\"plot\":{\"id\":\"ee816f85-0e58-48ed-8535-d5613886a61c\",\"subtype\":\"Figure\",\"type\":\"Plot\"}},\"id\":\"3d4bffbd-d0fb-4089-a03d-efddd727f6aa\",\"type\":\"BoxZoomTool\"},{\"attributes\":{},\"id\":\"db14977e-3ffc-4a42-9f7b-2e9eb3adefd4\",\"type\":\"YearsTicker\"},{\"attributes\":{\"callback\":null,\"column_names\":[\"y\",\"x\"],\"data\":{\"x\":[1478822400000.0,1479081600000.0,1479168000000.0,1479254400000.0,1479340800000.0],\"y\":[129.850006,127.66999799999999,124.400002,125.33000200000001,128.929993]}},\"id\":\"a01a2559-0016-412d-9b73-a82a0add0955\",\"type\":\"ColumnDataSource\"},{\"attributes\":{\"plot\":{\"id\":\"ee816f85-0e58-48ed-8535-d5613886a61c\",\"subtype\":\"Figure\",\"type\":\"Plot\"}},\"id\":\"b163f470-9812-4621-968f-16b0b563145c\",\"type\":\"PanTool\"},{\"attributes\":{\"months\":[0,1,2,3,4,5,6,7,8,9,10,11]},\"id\":\"e0fe111b-b16f-46cf-bf95-8dbde5feaad5\",\"type\":\"MonthsTicker\"},{\"attributes\":{\"active_drag\":\"auto\",\"active_scroll\":\"auto\",\"active_tap\":\"auto\",\"tools\":[{\"id\":\"b163f470-9812-4621-968f-16b0b563145c\",\"type\":\"PanTool\"},{\"id\":\"dab07a8e-c623-4319-8128-a4b76b62eb51\",\"type\":\"WheelZoomTool\"},{\"id\":\"3d4bffbd-d0fb-4089-a03d-efddd727f6aa\",\"type\":\"BoxZoomTool\"},{\"id\":\"b48e0911-8c7c-413e-896b-c8fa58dac786\",\"type\":\"SaveTool\"},{\"id\":\"dcaf22c6-570d-49ad-8377-dfd0c4a21f57\",\"type\":\"ResetTool\"},{\"id\":\"ee855517-161b-49aa-86ad-3759f8ac4166\",\"type\":\"HelpTool\"}]},\"id\":\"ca104afc-0b26-4b06-989c-2d3ed29671cc\",\"type\":\"Toolbar\"},{\"attributes\":{\"plot\":{\"id\":\"ee816f85-0e58-48ed-8535-d5613886a61c\",\"subtype\":\"Figure\",\"type\":\"Plot\"}},\"id\":\"dcaf22c6-570d-49ad-8377-dfd0c4a21f57\",\"type\":\"ResetTool\"},{\"attributes\":{\"items\":[{\"id\":\"789ba2cf-0ffd-4ed9-b75e-4cd03b371b71\",\"type\":\"LegendItem\"},{\"id\":\"be0864ba-d34b-40c7-814f-5731250bd01d\",\"type\":\"LegendItem\"},{\"id\":\"faea5f22-fa7e-411b-8339-73b646c89220\",\"type\":\"LegendItem\"},{\"id\":\"1511e8ff-bf09-4c4e-93eb-3f27b0f3b307\",\"type\":\"LegendItem\"}],\"plot\":{\"id\":\"ee816f85-0e58-48ed-8535-d5613886a61c\",\"subtype\":\"Figure\",\"type\":\"Plot\"}},\"id\":\"eac77582-4ef6-4933-9df5-8e0b559e748f\",\"type\":\"Legend\"},{\"attributes\":{\"line_color\":{\"value\":\"#A6CEE3\"},\"line_width\":{\"value\":5},\"x\":{\"field\":\"x\"},\"y\":{\"field\":\"y\"}},\"id\":\"a0c97f06-e85f-4d86-954c-279e58809146\",\"type\":\"Line\"},{\"attributes\":{\"max_interval\":500.0,\"num_minor_ticks\":0},\"id\":\"61f06021-8e1b-4584-8965-10b3141dd934\",\"type\":\"AdaptiveTicker\"}],\"root_ids\":[\"ee816f85-0e58-48ed-8535-d5613886a61c\"]},\"title\":\"Bokeh Application\",\"version\":\"0.12.3\"}};\n",
       "            var render_items = [{\"docid\":\"ebe4dd25-18d9-4053-bf42-9cc850d412c7\",\"elementid\":\"2fa6efbd-34ee-4bf5-baa1-01f9cb4560c6\",\"modelid\":\"ee816f85-0e58-48ed-8535-d5613886a61c\"}];\n",
       "            \n",
       "            Bokeh.embed.embed_items(docs_json, render_items);\n",
       "        });\n",
       "      },\n",
       "      function(Bokeh) {\n",
       "      }\n",
       "    ];\n",
       "  \n",
       "    function run_inline_js() {\n",
       "      \n",
       "      if ((window.Bokeh !== undefined) || (force === \"1\")) {\n",
       "        for (var i = 0; i < inline_js.length; i++) {\n",
       "          inline_js[i](window.Bokeh);\n",
       "        }if (force === \"1\") {\n",
       "          display_loaded();\n",
       "        }} else if (Date.now() < window._bokeh_timeout) {\n",
       "        setTimeout(run_inline_js, 100);\n",
       "      } else if (!window._bokeh_failed_load) {\n",
       "        console.log(\"Bokeh: BokehJS failed to load within specified timeout.\");\n",
       "        window._bokeh_failed_load = true;\n",
       "      } else if (!force) {\n",
       "        var cell = $(\"#2fa6efbd-34ee-4bf5-baa1-01f9cb4560c6\").parents('.cell').data().cell;\n",
       "        cell.output_area.append_execute_result(NB_LOAD_WARNING)\n",
       "      }\n",
       "  \n",
       "    }\n",
       "  \n",
       "    if (window._bokeh_is_loading === 0) {\n",
       "      console.log(\"Bokeh: BokehJS loaded, going straight to plotting\");\n",
       "      run_inline_js();\n",
       "    } else {\n",
       "      load_libs(js_urls, function() {\n",
       "        console.log(\"Bokeh: BokehJS plotting callback run at\", now());\n",
       "        run_inline_js();\n",
       "      });\n",
       "    }\n",
       "  }(this));\n",
       "</script>"
      ]
     },
     "metadata": {},
     "output_type": "display_data"
    }
   ],
   "source": [
    "from bokeh.charts import Line, show, output_file\n",
    "p2 = figure(x_axis_type='datetime', title='Stock Closing Prices')\n",
    "p2.xaxis.axis_label = 'Date'\n",
    "p2.yaxis.axis_label = 'Price'\n",
    "\n",
    "colors = ['#A6CEE3', '#99d594', '#e6f598', '#fee08b']\n",
    "for i, j in zip(stockslist, colors):\n",
    "    p2.line(df_chart.Date, df_chart[i], legend=i, color=j, line_width=5)\n",
    "\n",
    "show(p2)"
   ]
  },
  {
   "cell_type": "code",
   "execution_count": null,
   "metadata": {
    "collapsed": true
   },
   "outputs": [],
   "source": []
  }
 ],
 "metadata": {
  "kernelspec": {
   "display_name": "Python 2",
   "language": "python",
   "name": "python2"
  },
  "language_info": {
   "codemirror_mode": {
    "name": "ipython",
    "version": 2
   },
   "file_extension": ".py",
   "mimetype": "text/x-python",
   "name": "python",
   "nbconvert_exporter": "python",
   "pygments_lexer": "ipython2",
   "version": "2.7.10"
  }
 },
 "nbformat": 4,
 "nbformat_minor": 1
}
