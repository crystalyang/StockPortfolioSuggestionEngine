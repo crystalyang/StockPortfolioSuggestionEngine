{
 "cells": [
  {
   "cell_type": "code",
   "execution_count": 17,
   "metadata": {
    "collapsed": true
   },
   "outputs": [],
   "source": [
    "import time\n",
    "import datetime\n",
    "import pandas as pd\n",
    "import numpy as np\n",
    "import random\n",
    "# from yahoo_finance import Shareb\n",
    "from pandas.tseries.offsets import BDay"
   ]
  },
  {
   "cell_type": "code",
   "execution_count": 2,
   "metadata": {
    "collapsed": false
   },
   "outputs": [
    {
     "data": {
      "text/html": [
       "\n",
       "    <div class=\"bk-root\">\n",
       "        <a href=\"http://bokeh.pydata.org\" target=\"_blank\" class=\"bk-logo bk-logo-small bk-logo-notebook\"></a>\n",
       "        <span id=\"3d9b8bf0-fc53-4308-bcaa-121c45dba91b\">Loading BokehJS ...</span>\n",
       "    </div>"
      ]
     },
     "metadata": {},
     "output_type": "display_data"
    },
    {
     "data": {
      "application/javascript": [
       "\n",
       "(function(global) {\n",
       "  function now() {\n",
       "    return new Date();\n",
       "  }\n",
       "\n",
       "  var force = \"1\";\n",
       "\n",
       "  if (typeof (window._bokeh_onload_callbacks) === \"undefined\" || force !== \"\") {\n",
       "    window._bokeh_onload_callbacks = [];\n",
       "    window._bokeh_is_loading = undefined;\n",
       "  }\n",
       "\n",
       "\n",
       "  \n",
       "  if (typeof (window._bokeh_timeout) === \"undefined\" || force !== \"\") {\n",
       "    window._bokeh_timeout = Date.now() + 5000;\n",
       "    window._bokeh_failed_load = false;\n",
       "  }\n",
       "\n",
       "  var NB_LOAD_WARNING = {'data': {'text/html':\n",
       "     \"<div style='background-color: #fdd'>\\n\"+\n",
       "     \"<p>\\n\"+\n",
       "     \"BokehJS does not appear to have successfully loaded. If loading BokehJS from CDN, this \\n\"+\n",
       "     \"may be due to a slow or bad network connection. Possible fixes:\\n\"+\n",
       "     \"</p>\\n\"+\n",
       "     \"<ul>\\n\"+\n",
       "     \"<li>re-rerun `output_notebook()` to attempt to load from CDN again, or</li>\\n\"+\n",
       "     \"<li>use INLINE resources instead, as so:</li>\\n\"+\n",
       "     \"</ul>\\n\"+\n",
       "     \"<code>\\n\"+\n",
       "     \"from bokeh.resources import INLINE\\n\"+\n",
       "     \"output_notebook(resources=INLINE)\\n\"+\n",
       "     \"</code>\\n\"+\n",
       "     \"</div>\"}};\n",
       "\n",
       "  function display_loaded() {\n",
       "    if (window.Bokeh !== undefined) {\n",
       "      Bokeh.$(\"#3d9b8bf0-fc53-4308-bcaa-121c45dba91b\").text(\"BokehJS successfully loaded.\");\n",
       "    } else if (Date.now() < window._bokeh_timeout) {\n",
       "      setTimeout(display_loaded, 100)\n",
       "    }\n",
       "  }\n",
       "\n",
       "  function run_callbacks() {\n",
       "    window._bokeh_onload_callbacks.forEach(function(callback) { callback() });\n",
       "    delete window._bokeh_onload_callbacks\n",
       "    console.info(\"Bokeh: all callbacks have finished\");\n",
       "  }\n",
       "\n",
       "  function load_libs(js_urls, callback) {\n",
       "    window._bokeh_onload_callbacks.push(callback);\n",
       "    if (window._bokeh_is_loading > 0) {\n",
       "      console.log(\"Bokeh: BokehJS is being loaded, scheduling callback at\", now());\n",
       "      return null;\n",
       "    }\n",
       "    if (js_urls == null || js_urls.length === 0) {\n",
       "      run_callbacks();\n",
       "      return null;\n",
       "    }\n",
       "    console.log(\"Bokeh: BokehJS not loaded, scheduling load and callback at\", now());\n",
       "    window._bokeh_is_loading = js_urls.length;\n",
       "    for (var i = 0; i < js_urls.length; i++) {\n",
       "      var url = js_urls[i];\n",
       "      var s = document.createElement('script');\n",
       "      s.src = url;\n",
       "      s.async = false;\n",
       "      s.onreadystatechange = s.onload = function() {\n",
       "        window._bokeh_is_loading--;\n",
       "        if (window._bokeh_is_loading === 0) {\n",
       "          console.log(\"Bokeh: all BokehJS libraries loaded\");\n",
       "          run_callbacks()\n",
       "        }\n",
       "      };\n",
       "      s.onerror = function() {\n",
       "        console.warn(\"failed to load library \" + url);\n",
       "      };\n",
       "      console.log(\"Bokeh: injecting script tag for BokehJS library: \", url);\n",
       "      document.getElementsByTagName(\"head\")[0].appendChild(s);\n",
       "    }\n",
       "  };var element = document.getElementById(\"3d9b8bf0-fc53-4308-bcaa-121c45dba91b\");\n",
       "  if (element == null) {\n",
       "    console.log(\"Bokeh: ERROR: autoload.js configured with elementid '3d9b8bf0-fc53-4308-bcaa-121c45dba91b' but no matching script tag was found. \")\n",
       "    return false;\n",
       "  }\n",
       "\n",
       "  var js_urls = ['https://cdn.pydata.org/bokeh/release/bokeh-0.12.3.min.js', 'https://cdn.pydata.org/bokeh/release/bokeh-widgets-0.12.3.min.js'];\n",
       "\n",
       "  var inline_js = [\n",
       "    function(Bokeh) {\n",
       "      Bokeh.set_log_level(\"info\");\n",
       "    },\n",
       "    \n",
       "    function(Bokeh) {\n",
       "      \n",
       "      Bokeh.$(\"#3d9b8bf0-fc53-4308-bcaa-121c45dba91b\").text(\"BokehJS is loading...\");\n",
       "    },\n",
       "    function(Bokeh) {\n",
       "      console.log(\"Bokeh: injecting CSS: https://cdn.pydata.org/bokeh/release/bokeh-0.12.3.min.css\");\n",
       "      Bokeh.embed.inject_css(\"https://cdn.pydata.org/bokeh/release/bokeh-0.12.3.min.css\");\n",
       "      console.log(\"Bokeh: injecting CSS: https://cdn.pydata.org/bokeh/release/bokeh-widgets-0.12.3.min.css\");\n",
       "      Bokeh.embed.inject_css(\"https://cdn.pydata.org/bokeh/release/bokeh-widgets-0.12.3.min.css\");\n",
       "    }\n",
       "  ];\n",
       "\n",
       "  function run_inline_js() {\n",
       "    \n",
       "    if ((window.Bokeh !== undefined) || (force === \"1\")) {\n",
       "      for (var i = 0; i < inline_js.length; i++) {\n",
       "        inline_js[i](window.Bokeh);\n",
       "      }if (force === \"1\") {\n",
       "        display_loaded();\n",
       "      }} else if (Date.now() < window._bokeh_timeout) {\n",
       "      setTimeout(run_inline_js, 100);\n",
       "    } else if (!window._bokeh_failed_load) {\n",
       "      console.log(\"Bokeh: BokehJS failed to load within specified timeout.\");\n",
       "      window._bokeh_failed_load = true;\n",
       "    } else if (!force) {\n",
       "      var cell = $(\"#3d9b8bf0-fc53-4308-bcaa-121c45dba91b\").parents('.cell').data().cell;\n",
       "      cell.output_area.append_execute_result(NB_LOAD_WARNING)\n",
       "    }\n",
       "\n",
       "  }\n",
       "\n",
       "  if (window._bokeh_is_loading === 0) {\n",
       "    console.log(\"Bokeh: BokehJS loaded, going straight to plotting\");\n",
       "    run_inline_js();\n",
       "  } else {\n",
       "    load_libs(js_urls, function() {\n",
       "      console.log(\"Bokeh: BokehJS plotting callback run at\", now());\n",
       "      run_inline_js();\n",
       "    });\n",
       "  }\n",
       "}(this));"
      ]
     },
     "metadata": {},
     "output_type": "display_data"
    }
   ],
   "source": [
    "from bokeh.io import output_notebook, show, output_file,save\n",
    "output_notebook()"
   ]
  },
  {
   "cell_type": "markdown",
   "metadata": {},
   "source": [
    "User will:\n",
    "\n",
    "Input dollar amount to invest in USD (Minimum is $5000 USD)\n",
    "Pick one or two investment strategies:\n",
    "\n",
    "\n",
    "#Ethical Investing\n",
    "TSLA, PBW, SCTY, AAPL\n",
    "#Growth Investing\n",
    "CRM, TWLO, NVDA\n",
    "#Index Investing\n",
    "SPY, VTI, VWO , VBR\n",
    "#Quality Investing\n",
    "FB, XOM, COST, HD\n",
    "#Value Investing\n",
    "AMZN, MSFT, NEFLX, DIS"
   ]
  },
  {
   "cell_type": "code",
   "execution_count": 3,
   "metadata": {
    "collapsed": false
   },
   "outputs": [],
   "source": [
    "#initiate the mapping for different strategies\n",
    "strategies = {'ethical':['TSLA','PBW','SCTY','AAPL'], 'growth':['CRM','TWLO','NVDA'], 'index':['SPY','VTI','VWO','VBR'], 'quality':['FB', 'XOM','COST','HD'],'value':['AMZN','MSFT','NFLX','DIS']}"
   ]
  },
  {
   "cell_type": "code",
   "execution_count": 4,
   "metadata": {
    "collapsed": false
   },
   "outputs": [],
   "source": [
    "choice = random.choice(['ethical','growth','index','quality','value'])"
   ]
  },
  {
   "cell_type": "code",
   "execution_count": 5,
   "metadata": {
    "collapsed": false
   },
   "outputs": [],
   "source": [
    "#total amount to invest\n",
    "total = 6000\n",
    "stockslist = strategies[choice]\n",
    "singlestock = total/len(stockslist)"
   ]
  },
  {
   "cell_type": "code",
   "execution_count": 6,
   "metadata": {
    "collapsed": true
   },
   "outputs": [],
   "source": [
    "#stochastic function to calculate the distribution\n",
    "singlestock = np.mean(np.random.dirichlet(np.ones(len(stockslist)), 10), axis=0)*total\n",
    "#create a dictionary to map stock to their corresponding distribution\n",
    "stockallocation =dict(zip(stockslist, singlestock))"
   ]
  },
  {
   "cell_type": "code",
   "execution_count": 7,
   "metadata": {
    "collapsed": false
   },
   "outputs": [
    {
     "data": {
      "text/plain": [
       "6000.0"
      ]
     },
     "execution_count": 7,
     "metadata": {},
     "output_type": "execute_result"
    }
   ],
   "source": [
    "sum(stockallocation.values())"
   ]
  },
  {
   "cell_type": "code",
   "execution_count": 8,
   "metadata": {
    "collapsed": false
   },
   "outputs": [],
   "source": [
    "enddate = datetime.datetime.now().date()- datetime.timedelta(1)\n",
    "startdate = enddate - BDay(4)"
   ]
  },
  {
   "cell_type": "code",
   "execution_count": 9,
   "metadata": {
    "collapsed": true
   },
   "outputs": [],
   "source": [
    "from pandas_datareader import data, wb\n",
    "import pandas_datareader.data as web"
   ]
  },
  {
   "cell_type": "code",
   "execution_count": 10,
   "metadata": {
    "collapsed": false
   },
   "outputs": [],
   "source": [
    "?web.DataReader()"
   ]
  },
  {
   "cell_type": "code",
   "execution_count": 11,
   "metadata": {
    "collapsed": false
   },
   "outputs": [
    {
     "data": {
      "text/plain": [
       "['SPY', 'VTI', 'VWO', 'VBR']"
      ]
     },
     "execution_count": 11,
     "metadata": {},
     "output_type": "execute_result"
    }
   ],
   "source": [
    "stockslist"
   ]
  },
  {
   "cell_type": "code",
   "execution_count": 12,
   "metadata": {
    "collapsed": false
   },
   "outputs": [],
   "source": [
    "#getting historical data\n",
    "df = web.DataReader(stockslist,'yahoo',enddate - BDay(6), enddate)"
   ]
  },
  {
   "cell_type": "code",
   "execution_count": 13,
   "metadata": {
    "collapsed": false
   },
   "outputs": [],
   "source": [
    "#getting today's quote\n",
    "df_today=web.get_quote_yahoo(stockslist)"
   ]
  },
  {
   "cell_type": "code",
   "execution_count": 14,
   "metadata": {
    "collapsed": false
   },
   "outputs": [],
   "source": [
    "df_historical = df.to_frame()"
   ]
  },
  {
   "cell_type": "code",
   "execution_count": 15,
   "metadata": {
    "collapsed": true
   },
   "outputs": [],
   "source": [
    "#getting the name of the sticker\n",
    "def getname(li):\n",
    "    df = []\n",
    "    for i in li:\n",
    "        df.append(web.get_components_yahoo(i))\n",
    "    return pd.concat(df)\n"
   ]
  },
  {
   "cell_type": "code",
   "execution_count": 18,
   "metadata": {
    "collapsed": false
   },
   "outputs": [],
   "source": [
    "df_info = getname(stockslist)"
   ]
  },
  {
   "cell_type": "markdown",
   "metadata": {},
   "source": [
    "#checking dataframes df_info, df_historical, df_today"
   ]
  },
  {
   "cell_type": "code",
   "execution_count": 19,
   "metadata": {
    "collapsed": false
   },
   "outputs": [
    {
     "data": {
      "text/html": [
       "<div style=\"max-height:1000px;max-width:1500px;overflow:auto;\">\n",
       "<table border=\"1\" class=\"dataframe\">\n",
       "  <thead>\n",
       "    <tr style=\"text-align: right;\">\n",
       "      <th></th>\n",
       "      <th>name</th>\n",
       "      <th>exchange</th>\n",
       "    </tr>\n",
       "    <tr>\n",
       "      <th>ticker</th>\n",
       "      <th></th>\n",
       "      <th></th>\n",
       "    </tr>\n",
       "  </thead>\n",
       "  <tbody>\n",
       "    <tr>\n",
       "      <th>SPY</th>\n",
       "      <td>                    SPDR S&amp;P 500</td>\n",
       "      <td> PCX</td>\n",
       "    </tr>\n",
       "    <tr>\n",
       "      <th>VTI</th>\n",
       "      <td> Vanguard Total Stock Market ETF</td>\n",
       "      <td> PCX</td>\n",
       "    </tr>\n",
       "    <tr>\n",
       "      <th>VWO</th>\n",
       "      <td> Vanguard FTSE Emerging Markets </td>\n",
       "      <td> PCX</td>\n",
       "    </tr>\n",
       "    <tr>\n",
       "      <th>VBR</th>\n",
       "      <td> Vanguard Small-Cap Value ETF - </td>\n",
       "      <td> PCX</td>\n",
       "    </tr>\n",
       "  </tbody>\n",
       "</table>\n",
       "</div>"
      ],
      "text/plain": [
       "                                   name exchange\n",
       "ticker                                          \n",
       "SPY                        SPDR S&P 500      PCX\n",
       "VTI     Vanguard Total Stock Market ETF      PCX\n",
       "VWO     Vanguard FTSE Emerging Markets       PCX\n",
       "VBR     Vanguard Small-Cap Value ETF -       PCX"
      ]
     },
     "execution_count": 19,
     "metadata": {},
     "output_type": "execute_result"
    }
   ],
   "source": [
    "df_info"
   ]
  },
  {
   "cell_type": "code",
   "execution_count": 20,
   "metadata": {
    "collapsed": false
   },
   "outputs": [
    {
     "data": {
      "text/html": [
       "<div style=\"max-height:1000px;max-width:1500px;overflow:auto;\">\n",
       "<table border=\"1\" class=\"dataframe\">\n",
       "  <thead>\n",
       "    <tr style=\"text-align: right;\">\n",
       "      <th></th>\n",
       "      <th>PE</th>\n",
       "      <th>change_pct</th>\n",
       "      <th>last</th>\n",
       "      <th>short_ratio</th>\n",
       "      <th>time</th>\n",
       "    </tr>\n",
       "  </thead>\n",
       "  <tbody>\n",
       "    <tr>\n",
       "      <th>SPY</th>\n",
       "      <td> N/A</td>\n",
       "      <td> -0.37%</td>\n",
       "      <td> 219.57</td>\n",
       "      <td> N/A</td>\n",
       "      <td> 8:00pm</td>\n",
       "    </tr>\n",
       "    <tr>\n",
       "      <th>VTI</th>\n",
       "      <td> N/A</td>\n",
       "      <td> -0.41%</td>\n",
       "      <td> 113.31</td>\n",
       "      <td> N/A</td>\n",
       "      <td> 8:00pm</td>\n",
       "    </tr>\n",
       "    <tr>\n",
       "      <th>VWO</th>\n",
       "      <td> N/A</td>\n",
       "      <td> -1.13%</td>\n",
       "      <td>  35.81</td>\n",
       "      <td> N/A</td>\n",
       "      <td> 8:00pm</td>\n",
       "    </tr>\n",
       "    <tr>\n",
       "      <th>VBR</th>\n",
       "      <td> N/A</td>\n",
       "      <td> -0.10%</td>\n",
       "      <td> 118.28</td>\n",
       "      <td> N/A</td>\n",
       "      <td> 8:00pm</td>\n",
       "    </tr>\n",
       "  </tbody>\n",
       "</table>\n",
       "</div>"
      ],
      "text/plain": [
       "      PE change_pct    last short_ratio    time\n",
       "SPY  N/A     -0.37%  219.57         N/A  8:00pm\n",
       "VTI  N/A     -0.41%  113.31         N/A  8:00pm\n",
       "VWO  N/A     -1.13%   35.81         N/A  8:00pm\n",
       "VBR  N/A     -0.10%  118.28         N/A  8:00pm"
      ]
     },
     "execution_count": 20,
     "metadata": {},
     "output_type": "execute_result"
    }
   ],
   "source": [
    "df_today"
   ]
  },
  {
   "cell_type": "code",
   "execution_count": 21,
   "metadata": {
    "collapsed": true
   },
   "outputs": [
    {
     "data": {
      "text/html": [
       "<div style=\"max-height:1000px;max-width:1500px;overflow:auto;\">\n",
       "<table border=\"1\" class=\"dataframe\">\n",
       "  <thead>\n",
       "    <tr style=\"text-align: right;\">\n",
       "      <th></th>\n",
       "      <th></th>\n",
       "      <th>Open</th>\n",
       "      <th>High</th>\n",
       "      <th>Low</th>\n",
       "      <th>Close</th>\n",
       "      <th>Volume</th>\n",
       "      <th>Adj Close</th>\n",
       "    </tr>\n",
       "    <tr>\n",
       "      <th>Date</th>\n",
       "      <th>minor</th>\n",
       "      <th></th>\n",
       "      <th></th>\n",
       "      <th></th>\n",
       "      <th></th>\n",
       "      <th></th>\n",
       "      <th></th>\n",
       "    </tr>\n",
       "  </thead>\n",
       "  <tbody>\n",
       "    <tr>\n",
       "      <th rowspan=\"4\" valign=\"top\">2016-11-22</th>\n",
       "      <th>SPY</th>\n",
       "      <td> 220.509995</td>\n",
       "      <td> 220.789993</td>\n",
       "      <td> 219.729996</td>\n",
       "      <td> 220.580002</td>\n",
       "      <td> 65338600</td>\n",
       "      <td> 220.580002</td>\n",
       "    </tr>\n",
       "    <tr>\n",
       "      <th>VBR</th>\n",
       "      <td> 117.620003</td>\n",
       "      <td> 118.370003</td>\n",
       "      <td> 117.459999</td>\n",
       "      <td> 118.300003</td>\n",
       "      <td>   515700</td>\n",
       "      <td> 118.300003</td>\n",
       "    </tr>\n",
       "    <tr>\n",
       "      <th>VTI</th>\n",
       "      <td> 113.879997</td>\n",
       "      <td> 114.040001</td>\n",
       "      <td> 113.440002</td>\n",
       "      <td> 113.949997</td>\n",
       "      <td>  2673200</td>\n",
       "      <td> 113.949997</td>\n",
       "    </tr>\n",
       "    <tr>\n",
       "      <th>VWO</th>\n",
       "      <td>  36.189999</td>\n",
       "      <td>  36.220001</td>\n",
       "      <td>  35.939999</td>\n",
       "      <td>  36.119999</td>\n",
       "      <td> 17857000</td>\n",
       "      <td>  36.119999</td>\n",
       "    </tr>\n",
       "    <tr>\n",
       "      <th rowspan=\"4\" valign=\"top\">2016-11-23</th>\n",
       "      <th>SPY</th>\n",
       "      <td> 219.979996</td>\n",
       "      <td> 220.759995</td>\n",
       "      <td> 219.750000</td>\n",
       "      <td> 220.699997</td>\n",
       "      <td> 54690100</td>\n",
       "      <td> 220.699997</td>\n",
       "    </tr>\n",
       "    <tr>\n",
       "      <th>VBR</th>\n",
       "      <td> 118.190002</td>\n",
       "      <td> 118.919998</td>\n",
       "      <td> 117.830002</td>\n",
       "      <td> 118.900002</td>\n",
       "      <td>   399600</td>\n",
       "      <td> 118.900002</td>\n",
       "    </tr>\n",
       "    <tr>\n",
       "      <th>VTI</th>\n",
       "      <td> 113.720001</td>\n",
       "      <td> 114.120003</td>\n",
       "      <td> 113.489998</td>\n",
       "      <td> 114.110001</td>\n",
       "      <td>  1818700</td>\n",
       "      <td> 114.110001</td>\n",
       "    </tr>\n",
       "    <tr>\n",
       "      <th>VWO</th>\n",
       "      <td>  35.650002</td>\n",
       "      <td>  35.820000</td>\n",
       "      <td>  35.590000</td>\n",
       "      <td>  35.770000</td>\n",
       "      <td> 13911000</td>\n",
       "      <td>  35.770000</td>\n",
       "    </tr>\n",
       "    <tr>\n",
       "      <th rowspan=\"4\" valign=\"top\">2016-11-25</th>\n",
       "      <th>SPY</th>\n",
       "      <td> 221.100006</td>\n",
       "      <td> 221.559998</td>\n",
       "      <td> 221.009995</td>\n",
       "      <td> 221.520004</td>\n",
       "      <td> 37861800</td>\n",
       "      <td> 221.520004</td>\n",
       "    </tr>\n",
       "    <tr>\n",
       "      <th>VBR</th>\n",
       "      <td> 119.089996</td>\n",
       "      <td> 119.300003</td>\n",
       "      <td> 118.919998</td>\n",
       "      <td> 119.300003</td>\n",
       "      <td>   256300</td>\n",
       "      <td> 119.300003</td>\n",
       "    </tr>\n",
       "    <tr>\n",
       "      <th>VTI</th>\n",
       "      <td> 114.349998</td>\n",
       "      <td> 114.550003</td>\n",
       "      <td> 114.209999</td>\n",
       "      <td> 114.550003</td>\n",
       "      <td>   889800</td>\n",
       "      <td> 114.550003</td>\n",
       "    </tr>\n",
       "    <tr>\n",
       "      <th>VWO</th>\n",
       "      <td>  35.959999</td>\n",
       "      <td>  36.029999</td>\n",
       "      <td>  35.919998</td>\n",
       "      <td>  35.959999</td>\n",
       "      <td>  3781700</td>\n",
       "      <td>  35.959999</td>\n",
       "    </tr>\n",
       "    <tr>\n",
       "      <th rowspan=\"4\" valign=\"top\">2016-11-28</th>\n",
       "      <th>SPY</th>\n",
       "      <td> 221.160004</td>\n",
       "      <td> 221.479996</td>\n",
       "      <td> 220.360001</td>\n",
       "      <td> 220.479996</td>\n",
       "      <td> 70284100</td>\n",
       "      <td> 220.479996</td>\n",
       "    </tr>\n",
       "    <tr>\n",
       "      <th>VBR</th>\n",
       "      <td> 119.230003</td>\n",
       "      <td> 119.349998</td>\n",
       "      <td> 118.059998</td>\n",
       "      <td> 118.190002</td>\n",
       "      <td>   560700</td>\n",
       "      <td> 118.190002</td>\n",
       "    </tr>\n",
       "    <tr>\n",
       "      <th>VTI</th>\n",
       "      <td> 114.320000</td>\n",
       "      <td> 114.410004</td>\n",
       "      <td> 113.800003</td>\n",
       "      <td> 113.889999</td>\n",
       "      <td>  1849000</td>\n",
       "      <td> 113.889999</td>\n",
       "    </tr>\n",
       "    <tr>\n",
       "      <th>VWO</th>\n",
       "      <td>  36.080002</td>\n",
       "      <td>  36.250000</td>\n",
       "      <td>  36.060001</td>\n",
       "      <td>  36.139999</td>\n",
       "      <td> 12090200</td>\n",
       "      <td>  36.139999</td>\n",
       "    </tr>\n",
       "    <tr>\n",
       "      <th rowspan=\"4\" valign=\"top\">2016-11-29</th>\n",
       "      <th>SPY</th>\n",
       "      <td> 220.520004</td>\n",
       "      <td> 221.440002</td>\n",
       "      <td> 220.169998</td>\n",
       "      <td> 220.910004</td>\n",
       "      <td> 67079400</td>\n",
       "      <td> 220.910004</td>\n",
       "    </tr>\n",
       "    <tr>\n",
       "      <th>VBR</th>\n",
       "      <td> 118.239998</td>\n",
       "      <td> 118.739998</td>\n",
       "      <td> 117.830002</td>\n",
       "      <td> 118.279999</td>\n",
       "      <td>   359800</td>\n",
       "      <td> 118.279999</td>\n",
       "    </tr>\n",
       "    <tr>\n",
       "      <th>VTI</th>\n",
       "      <td> 113.900002</td>\n",
       "      <td> 114.349998</td>\n",
       "      <td> 113.680000</td>\n",
       "      <td> 114.050003</td>\n",
       "      <td>  1544200</td>\n",
       "      <td> 114.050003</td>\n",
       "    </tr>\n",
       "    <tr>\n",
       "      <th>VWO</th>\n",
       "      <td>  36.090000</td>\n",
       "      <td>  36.240002</td>\n",
       "      <td>  35.980000</td>\n",
       "      <td>  36.160000</td>\n",
       "      <td>  8344600</td>\n",
       "      <td>  36.160000</td>\n",
       "    </tr>\n",
       "    <tr>\n",
       "      <th rowspan=\"4\" valign=\"top\">2016-11-30</th>\n",
       "      <th>SPY</th>\n",
       "      <td> 221.630005</td>\n",
       "      <td> 221.820007</td>\n",
       "      <td> 220.309998</td>\n",
       "      <td> 220.380005</td>\n",
       "      <td> 99783700</td>\n",
       "      <td> 220.380005</td>\n",
       "    </tr>\n",
       "    <tr>\n",
       "      <th>VBR</th>\n",
       "      <td> 119.080002</td>\n",
       "      <td> 119.190002</td>\n",
       "      <td> 118.349998</td>\n",
       "      <td> 118.400002</td>\n",
       "      <td>   583900</td>\n",
       "      <td> 118.400002</td>\n",
       "    </tr>\n",
       "    <tr>\n",
       "      <th>VTI</th>\n",
       "      <td> 114.470001</td>\n",
       "      <td> 114.550003</td>\n",
       "      <td> 113.779999</td>\n",
       "      <td> 113.779999</td>\n",
       "      <td>  4406200</td>\n",
       "      <td> 113.779999</td>\n",
       "    </tr>\n",
       "    <tr>\n",
       "      <th>VWO</th>\n",
       "      <td>  36.320000</td>\n",
       "      <td>  36.340000</td>\n",
       "      <td>  36.189999</td>\n",
       "      <td>  36.220001</td>\n",
       "      <td> 22250900</td>\n",
       "      <td>  36.220001</td>\n",
       "    </tr>\n",
       "  </tbody>\n",
       "</table>\n",
       "</div>"
      ],
      "text/plain": [
       "                        Open        High         Low       Close    Volume  \\\n",
       "Date       minor                                                             \n",
       "2016-11-22 SPY    220.509995  220.789993  219.729996  220.580002  65338600   \n",
       "           VBR    117.620003  118.370003  117.459999  118.300003    515700   \n",
       "           VTI    113.879997  114.040001  113.440002  113.949997   2673200   \n",
       "           VWO     36.189999   36.220001   35.939999   36.119999  17857000   \n",
       "2016-11-23 SPY    219.979996  220.759995  219.750000  220.699997  54690100   \n",
       "           VBR    118.190002  118.919998  117.830002  118.900002    399600   \n",
       "           VTI    113.720001  114.120003  113.489998  114.110001   1818700   \n",
       "           VWO     35.650002   35.820000   35.590000   35.770000  13911000   \n",
       "2016-11-25 SPY    221.100006  221.559998  221.009995  221.520004  37861800   \n",
       "           VBR    119.089996  119.300003  118.919998  119.300003    256300   \n",
       "           VTI    114.349998  114.550003  114.209999  114.550003    889800   \n",
       "           VWO     35.959999   36.029999   35.919998   35.959999   3781700   \n",
       "2016-11-28 SPY    221.160004  221.479996  220.360001  220.479996  70284100   \n",
       "           VBR    119.230003  119.349998  118.059998  118.190002    560700   \n",
       "           VTI    114.320000  114.410004  113.800003  113.889999   1849000   \n",
       "           VWO     36.080002   36.250000   36.060001   36.139999  12090200   \n",
       "2016-11-29 SPY    220.520004  221.440002  220.169998  220.910004  67079400   \n",
       "           VBR    118.239998  118.739998  117.830002  118.279999    359800   \n",
       "           VTI    113.900002  114.349998  113.680000  114.050003   1544200   \n",
       "           VWO     36.090000   36.240002   35.980000   36.160000   8344600   \n",
       "2016-11-30 SPY    221.630005  221.820007  220.309998  220.380005  99783700   \n",
       "           VBR    119.080002  119.190002  118.349998  118.400002    583900   \n",
       "           VTI    114.470001  114.550003  113.779999  113.779999   4406200   \n",
       "           VWO     36.320000   36.340000   36.189999   36.220001  22250900   \n",
       "\n",
       "                   Adj Close  \n",
       "Date       minor              \n",
       "2016-11-22 SPY    220.580002  \n",
       "           VBR    118.300003  \n",
       "           VTI    113.949997  \n",
       "           VWO     36.119999  \n",
       "2016-11-23 SPY    220.699997  \n",
       "           VBR    118.900002  \n",
       "           VTI    114.110001  \n",
       "           VWO     35.770000  \n",
       "2016-11-25 SPY    221.520004  \n",
       "           VBR    119.300003  \n",
       "           VTI    114.550003  \n",
       "           VWO     35.959999  \n",
       "2016-11-28 SPY    220.479996  \n",
       "           VBR    118.190002  \n",
       "           VTI    113.889999  \n",
       "           VWO     36.139999  \n",
       "2016-11-29 SPY    220.910004  \n",
       "           VBR    118.279999  \n",
       "           VTI    114.050003  \n",
       "           VWO     36.160000  \n",
       "2016-11-30 SPY    220.380005  \n",
       "           VBR    118.400002  \n",
       "           VTI    113.779999  \n",
       "           VWO     36.220001  "
      ]
     },
     "execution_count": 21,
     "metadata": {},
     "output_type": "execute_result"
    }
   ],
   "source": [
    "df_historical"
   ]
  },
  {
   "cell_type": "code",
   "execution_count": 22,
   "metadata": {
    "collapsed": false
   },
   "outputs": [],
   "source": [
    "last5dayindex =list(df_historical.index.levels[0][-5:])\n",
    "firstdayindex = df_historical.index.levels[0][-5]"
   ]
  },
  {
   "cell_type": "code",
   "execution_count": 34,
   "metadata": {
    "collapsed": true
   },
   "outputs": [
    {
     "data": {
      "text/html": [
       "<div style=\"max-height:1000px;max-width:1500px;overflow:auto;\">\n",
       "<table border=\"1\" class=\"dataframe\">\n",
       "  <thead>\n",
       "    <tr style=\"text-align: right;\">\n",
       "      <th></th>\n",
       "      <th></th>\n",
       "      <th>Open</th>\n",
       "      <th>High</th>\n",
       "      <th>Low</th>\n",
       "      <th>Close</th>\n",
       "      <th>Volume</th>\n",
       "      <th>Adj Close</th>\n",
       "    </tr>\n",
       "    <tr>\n",
       "      <th>Date</th>\n",
       "      <th>minor</th>\n",
       "      <th></th>\n",
       "      <th></th>\n",
       "      <th></th>\n",
       "      <th></th>\n",
       "      <th></th>\n",
       "      <th></th>\n",
       "    </tr>\n",
       "  </thead>\n",
       "  <tbody>\n",
       "    <tr>\n",
       "      <th rowspan=\"4\" valign=\"top\">2016-11-23</th>\n",
       "      <th>COST</th>\n",
       "      <td> 152.750000</td>\n",
       "      <td> 153.339996</td>\n",
       "      <td> 151.179993</td>\n",
       "      <td> 151.600006</td>\n",
       "      <td>  2166900</td>\n",
       "      <td> 151.600006</td>\n",
       "    </tr>\n",
       "    <tr>\n",
       "      <th>FB</th>\n",
       "      <td> 121.230003</td>\n",
       "      <td> 121.309998</td>\n",
       "      <td> 119.940002</td>\n",
       "      <td> 120.839996</td>\n",
       "      <td> 15672100</td>\n",
       "      <td> 120.839996</td>\n",
       "    </tr>\n",
       "    <tr>\n",
       "      <th>HD</th>\n",
       "      <td> 131.360001</td>\n",
       "      <td> 131.990005</td>\n",
       "      <td> 130.860001</td>\n",
       "      <td> 131.210007</td>\n",
       "      <td>  3582700</td>\n",
       "      <td> 130.516997</td>\n",
       "    </tr>\n",
       "    <tr>\n",
       "      <th>XOM</th>\n",
       "      <td>  86.540001</td>\n",
       "      <td>  87.080002</td>\n",
       "      <td>  86.309998</td>\n",
       "      <td>  86.919998</td>\n",
       "      <td>  5996300</td>\n",
       "      <td>  86.919998</td>\n",
       "    </tr>\n",
       "    <tr>\n",
       "      <th rowspan=\"4\" valign=\"top\">2016-11-25</th>\n",
       "      <th>COST</th>\n",
       "      <td> 151.889999</td>\n",
       "      <td> 153.419998</td>\n",
       "      <td> 151.710007</td>\n",
       "      <td> 151.880005</td>\n",
       "      <td>   884700</td>\n",
       "      <td> 151.880005</td>\n",
       "    </tr>\n",
       "    <tr>\n",
       "      <th>FB</th>\n",
       "      <td> 121.010002</td>\n",
       "      <td> 121.139999</td>\n",
       "      <td> 120.070000</td>\n",
       "      <td> 120.379997</td>\n",
       "      <td>  8658600</td>\n",
       "      <td> 120.379997</td>\n",
       "    </tr>\n",
       "    <tr>\n",
       "      <th>HD</th>\n",
       "      <td> 131.860001</td>\n",
       "      <td> 132.139999</td>\n",
       "      <td> 131.070007</td>\n",
       "      <td> 131.570007</td>\n",
       "      <td>  2545800</td>\n",
       "      <td> 130.875096</td>\n",
       "    </tr>\n",
       "    <tr>\n",
       "      <th>XOM</th>\n",
       "      <td>  86.709999</td>\n",
       "      <td>  87.139999</td>\n",
       "      <td>  86.540001</td>\n",
       "      <td>  87.120003</td>\n",
       "      <td>  5042300</td>\n",
       "      <td>  87.120003</td>\n",
       "    </tr>\n",
       "    <tr>\n",
       "      <th rowspan=\"4\" valign=\"top\">2016-11-28</th>\n",
       "      <th>COST</th>\n",
       "      <td> 151.050003</td>\n",
       "      <td> 152.429993</td>\n",
       "      <td> 151.009995</td>\n",
       "      <td> 151.250000</td>\n",
       "      <td>  1731000</td>\n",
       "      <td> 151.250000</td>\n",
       "    </tr>\n",
       "    <tr>\n",
       "      <th>FB</th>\n",
       "      <td> 120.120003</td>\n",
       "      <td> 121.690002</td>\n",
       "      <td> 119.820000</td>\n",
       "      <td> 120.410004</td>\n",
       "      <td> 18101300</td>\n",
       "      <td> 120.410004</td>\n",
       "    </tr>\n",
       "    <tr>\n",
       "      <th>HD</th>\n",
       "      <td> 131.250000</td>\n",
       "      <td> 131.649994</td>\n",
       "      <td> 130.169998</td>\n",
       "      <td> 130.639999</td>\n",
       "      <td>  4859000</td>\n",
       "      <td> 129.950000</td>\n",
       "    </tr>\n",
       "    <tr>\n",
       "      <th>XOM</th>\n",
       "      <td>  86.949997</td>\n",
       "      <td>  87.129997</td>\n",
       "      <td>  86.370003</td>\n",
       "      <td>  86.470001</td>\n",
       "      <td>  7208600</td>\n",
       "      <td>  86.470001</td>\n",
       "    </tr>\n",
       "    <tr>\n",
       "      <th rowspan=\"4\" valign=\"top\">2016-11-29</th>\n",
       "      <th>COST</th>\n",
       "      <td> 151.619995</td>\n",
       "      <td> 152.220001</td>\n",
       "      <td> 151.330002</td>\n",
       "      <td> 151.479996</td>\n",
       "      <td>  1496800</td>\n",
       "      <td> 151.479996</td>\n",
       "    </tr>\n",
       "    <tr>\n",
       "      <th>FB</th>\n",
       "      <td> 120.570000</td>\n",
       "      <td> 122.099998</td>\n",
       "      <td> 120.400002</td>\n",
       "      <td> 120.870003</td>\n",
       "      <td> 18846600</td>\n",
       "      <td> 120.870003</td>\n",
       "    </tr>\n",
       "    <tr>\n",
       "      <th>HD</th>\n",
       "      <td> 130.350006</td>\n",
       "      <td> 130.779999</td>\n",
       "      <td> 129.250000</td>\n",
       "      <td> 129.619995</td>\n",
       "      <td>  4127100</td>\n",
       "      <td> 129.619995</td>\n",
       "    </tr>\n",
       "    <tr>\n",
       "      <th>XOM</th>\n",
       "      <td>  85.419998</td>\n",
       "      <td>  86.080002</td>\n",
       "      <td>  85.080002</td>\n",
       "      <td>  85.900002</td>\n",
       "      <td>  9150300</td>\n",
       "      <td>  85.900002</td>\n",
       "    </tr>\n",
       "    <tr>\n",
       "      <th rowspan=\"4\" valign=\"top\">2016-11-30</th>\n",
       "      <th>COST</th>\n",
       "      <td> 151.130005</td>\n",
       "      <td> 151.539993</td>\n",
       "      <td> 150.070007</td>\n",
       "      <td> 150.110001</td>\n",
       "      <td>  2709800</td>\n",
       "      <td> 150.110001</td>\n",
       "    </tr>\n",
       "    <tr>\n",
       "      <th>FB</th>\n",
       "      <td> 120.320000</td>\n",
       "      <td> 121.790001</td>\n",
       "      <td> 117.949997</td>\n",
       "      <td> 118.419998</td>\n",
       "      <td> 30035600</td>\n",
       "      <td> 118.419998</td>\n",
       "    </tr>\n",
       "    <tr>\n",
       "      <th>HD</th>\n",
       "      <td> 129.339996</td>\n",
       "      <td> 130.320007</td>\n",
       "      <td> 128.809998</td>\n",
       "      <td> 129.399994</td>\n",
       "      <td>  6807700</td>\n",
       "      <td> 129.399994</td>\n",
       "    </tr>\n",
       "    <tr>\n",
       "      <th>XOM</th>\n",
       "      <td>  87.599998</td>\n",
       "      <td>  88.190002</td>\n",
       "      <td>  87.199997</td>\n",
       "      <td>  87.300003</td>\n",
       "      <td> 22371100</td>\n",
       "      <td>  87.300003</td>\n",
       "    </tr>\n",
       "  </tbody>\n",
       "</table>\n",
       "</div>"
      ],
      "text/plain": [
       "                        Open        High         Low       Close    Volume  \\\n",
       "Date       minor                                                             \n",
       "2016-11-23 COST   152.750000  153.339996  151.179993  151.600006   2166900   \n",
       "           FB     121.230003  121.309998  119.940002  120.839996  15672100   \n",
       "           HD     131.360001  131.990005  130.860001  131.210007   3582700   \n",
       "           XOM     86.540001   87.080002   86.309998   86.919998   5996300   \n",
       "2016-11-25 COST   151.889999  153.419998  151.710007  151.880005    884700   \n",
       "           FB     121.010002  121.139999  120.070000  120.379997   8658600   \n",
       "           HD     131.860001  132.139999  131.070007  131.570007   2545800   \n",
       "           XOM     86.709999   87.139999   86.540001   87.120003   5042300   \n",
       "2016-11-28 COST   151.050003  152.429993  151.009995  151.250000   1731000   \n",
       "           FB     120.120003  121.690002  119.820000  120.410004  18101300   \n",
       "           HD     131.250000  131.649994  130.169998  130.639999   4859000   \n",
       "           XOM     86.949997   87.129997   86.370003   86.470001   7208600   \n",
       "2016-11-29 COST   151.619995  152.220001  151.330002  151.479996   1496800   \n",
       "           FB     120.570000  122.099998  120.400002  120.870003  18846600   \n",
       "           HD     130.350006  130.779999  129.250000  129.619995   4127100   \n",
       "           XOM     85.419998   86.080002   85.080002   85.900002   9150300   \n",
       "2016-11-30 COST   151.130005  151.539993  150.070007  150.110001   2709800   \n",
       "           FB     120.320000  121.790001  117.949997  118.419998  30035600   \n",
       "           HD     129.339996  130.320007  128.809998  129.399994   6807700   \n",
       "           XOM     87.599998   88.190002   87.199997   87.300003  22371100   \n",
       "\n",
       "                   Adj Close  \n",
       "Date       minor              \n",
       "2016-11-23 COST   151.600006  \n",
       "           FB     120.839996  \n",
       "           HD     130.516997  \n",
       "           XOM     86.919998  \n",
       "2016-11-25 COST   151.880005  \n",
       "           FB     120.379997  \n",
       "           HD     130.875096  \n",
       "           XOM     87.120003  \n",
       "2016-11-28 COST   151.250000  \n",
       "           FB     120.410004  \n",
       "           HD     129.950000  \n",
       "           XOM     86.470001  \n",
       "2016-11-29 COST   151.479996  \n",
       "           FB     120.870003  \n",
       "           HD     129.619995  \n",
       "           XOM     85.900002  \n",
       "2016-11-30 COST   150.110001  \n",
       "           FB     118.419998  \n",
       "           HD     129.399994  \n",
       "           XOM     87.300003  "
      ]
     },
     "execution_count": 34,
     "metadata": {},
     "output_type": "execute_result"
    }
   ],
   "source": [
    "df_historical.loc[last5dayindex]"
   ]
  },
  {
   "cell_type": "markdown",
   "metadata": {},
   "source": [
    "Calculating the portfolio values\n"
   ]
  },
  {
   "cell_type": "code",
   "execution_count": 42,
   "metadata": {
    "collapsed": false
   },
   "outputs": [
    {
     "data": {
      "text/plain": [
       "minor\n",
       "COST     151.600006\n",
       "FB       120.839996\n",
       "HD       131.210007\n",
       "XOM       86.919998\n",
       "Name: Close, dtype: float64"
      ]
     },
     "execution_count": 42,
     "metadata": {},
     "output_type": "execute_result"
    }
   ],
   "source": [
    "df_historical.loc[firstdayindex]['Close']"
   ]
  },
  {
   "cell_type": "code",
   "execution_count": 23,
   "metadata": {
    "collapsed": true
   },
   "outputs": [],
   "source": [
    "#calculating shares acquired on Day1\n",
    "def getnumshares(li, date, df_historical, singlestock):\n",
    "    numshares={}\n",
    "    for i in li:\n",
    "        numshares[i] = singlestock[i]/df_historical.loc[date]['Close'][i]\n",
    "    return numshares"
   ]
  },
  {
   "cell_type": "code",
   "execution_count": 24,
   "metadata": {
    "collapsed": false
   },
   "outputs": [
    {
     "data": {
      "text/plain": [
       "pandas.core.series.Series"
      ]
     },
     "execution_count": 24,
     "metadata": {},
     "output_type": "execute_result"
    }
   ],
   "source": [
    "type(df_historical.loc[firstdayindex]['Close'])"
   ]
  },
  {
   "cell_type": "code",
   "execution_count": 25,
   "metadata": {
    "collapsed": false
   },
   "outputs": [],
   "source": [
    "num_shares=getnumshares(stockslist, firstdayindex,df_historical, stockallocation)"
   ]
  },
  {
   "cell_type": "code",
   "execution_count": 26,
   "metadata": {
    "collapsed": false,
    "scrolled": true
   },
   "outputs": [
    {
     "data": {
      "text/plain": [
       "{'SPY': 6.7125035623545957,\n",
       " 'VBR': 15.830272606154097,\n",
       " 'VTI': 16.353402215629661,\n",
       " 'VWO': 21.533248426465782}"
      ]
     },
     "execution_count": 26,
     "metadata": {},
     "output_type": "execute_result"
    }
   ],
   "source": [
    "num_shares"
   ]
  },
  {
   "cell_type": "code",
   "execution_count": 27,
   "metadata": {
    "collapsed": false
   },
   "outputs": [],
   "source": [
    "def getportfolio_value(numshares, stocklist, date, df_historical):\n",
    "    portfolio_value = 0\n",
    "    for i in stocklist:\n",
    "        portfolio_value += numshares[i] * df_historical.loc[date]['Close'][i]\n",
    "    return portfolio_value"
   ]
  },
  {
   "cell_type": "code",
   "execution_count": 28,
   "metadata": {
    "collapsed": false
   },
   "outputs": [
    {
     "data": {
      "text/plain": [
       "6000.0"
      ]
     },
     "execution_count": 28,
     "metadata": {},
     "output_type": "execute_result"
    }
   ],
   "source": [
    "getportfolio_value(num_shares, stockslist, firstdayindex,df_historical)"
   ]
  },
  {
   "cell_type": "code",
   "execution_count": 29,
   "metadata": {
    "collapsed": false
   },
   "outputs": [
    {
     "data": {
      "text/plain": [
       "5999.011651689174"
      ]
     },
     "execution_count": 29,
     "metadata": {},
     "output_type": "execute_result"
    }
   ],
   "source": [
    "getportfolio_value(num_shares, stockslist, firstdayindex+ BDay(4),df_historical)"
   ]
  },
  {
   "cell_type": "code",
   "execution_count": 67,
   "metadata": {
    "collapsed": false
   },
   "outputs": [
    {
     "data": {
      "text/plain": [
       "array([ 0.2682401 ,  0.17951806,  0.23668631,  0.31555553])"
      ]
     },
     "execution_count": 67,
     "metadata": {},
     "output_type": "execute_result"
    }
   ],
   "source": [
    "np.mean(np.random.dirichlet(np.ones(4), 10), axis=0)"
   ]
  },
  {
   "cell_type": "code",
   "execution_count": 31,
   "metadata": {
    "collapsed": false
   },
   "outputs": [],
   "source": [
    "#build a dateframe to track historical portfolio value change\n",
    "def track_portfolio_value(datelist, stocklist, df_historical,numshares):\n",
    "    portfolio_values={}\n",
    "    for i in datelist:\n",
    "        portfolio_values[i] = getportfolio_value(numshares, stocklist, i, df_historical)\n",
    "    return portfolio_values"
   ]
  },
  {
   "cell_type": "code",
   "execution_count": 32,
   "metadata": {
    "collapsed": false
   },
   "outputs": [],
   "source": [
    "d = track_portfolio_value(last5dayindex,stockslist, df_historical, num_shares)"
   ]
  },
  {
   "cell_type": "code",
   "execution_count": 33,
   "metadata": {
    "collapsed": false
   },
   "outputs": [
    {
     "data": {
      "text/plain": [
       "[(Timestamp('2016-11-30 00:00:00'), 5994.2302441441934),\n",
       " (Timestamp('2016-11-23 00:00:00'), 6000.0),\n",
       " (Timestamp('2016-11-28 00:00:00'), 5991.6532481437089),\n",
       " (Timestamp('2016-11-29 00:00:00'), 5999.011651689174),\n",
       " (Timestamp('2016-11-25 00:00:00'), 6023.1232501308514)]"
      ]
     },
     "execution_count": 33,
     "metadata": {},
     "output_type": "execute_result"
    }
   ],
   "source": [
    "d.items()"
   ]
  },
  {
   "cell_type": "code",
   "execution_count": 81,
   "metadata": {
    "collapsed": true
   },
   "outputs": [],
   "source": [
    "df_values = pd.DataFrame(d.items(), columns=['Date','totalvalue'])"
   ]
  },
  {
   "cell_type": "code",
   "execution_count": 114,
   "metadata": {
    "collapsed": false
   },
   "outputs": [],
   "source": [
    "?pd.DataFrame()"
   ]
  },
  {
   "cell_type": "code",
   "execution_count": 82,
   "metadata": {
    "collapsed": false
   },
   "outputs": [],
   "source": [
    "df_values.sort('Date', inplace=True)"
   ]
  },
  {
   "cell_type": "code",
   "execution_count": 83,
   "metadata": {
    "collapsed": false
   },
   "outputs": [
    {
     "data": {
      "text/html": [
       "<div style=\"max-height:1000px;max-width:1500px;overflow:auto;\">\n",
       "<table border=\"1\" class=\"dataframe\">\n",
       "  <thead>\n",
       "    <tr style=\"text-align: right;\">\n",
       "      <th></th>\n",
       "      <th>Date</th>\n",
       "      <th>totalvalue</th>\n",
       "    </tr>\n",
       "  </thead>\n",
       "  <tbody>\n",
       "    <tr>\n",
       "      <th>1</th>\n",
       "      <td>2016-11-23</td>\n",
       "      <td> 6000.000000</td>\n",
       "    </tr>\n",
       "    <tr>\n",
       "      <th>4</th>\n",
       "      <td>2016-11-25</td>\n",
       "      <td> 6023.123250</td>\n",
       "    </tr>\n",
       "    <tr>\n",
       "      <th>2</th>\n",
       "      <td>2016-11-28</td>\n",
       "      <td> 5991.653248</td>\n",
       "    </tr>\n",
       "    <tr>\n",
       "      <th>3</th>\n",
       "      <td>2016-11-29</td>\n",
       "      <td> 5999.011652</td>\n",
       "    </tr>\n",
       "    <tr>\n",
       "      <th>0</th>\n",
       "      <td>2016-11-30</td>\n",
       "      <td> 5994.230244</td>\n",
       "    </tr>\n",
       "  </tbody>\n",
       "</table>\n",
       "</div>"
      ],
      "text/plain": [
       "        Date   totalvalue\n",
       "1 2016-11-23  6000.000000\n",
       "4 2016-11-25  6023.123250\n",
       "2 2016-11-28  5991.653248\n",
       "3 2016-11-29  5999.011652\n",
       "0 2016-11-30  5994.230244"
      ]
     },
     "execution_count": 83,
     "metadata": {},
     "output_type": "execute_result"
    }
   ],
   "source": [
    "df_values"
   ]
  },
  {
   "cell_type": "code",
   "execution_count": 76,
   "metadata": {
    "collapsed": false
   },
   "outputs": [],
   "source": [
    "df_values.Date = pd.to_datetime(df_values.Date)"
   ]
  },
  {
   "cell_type": "code",
   "execution_count": 77,
   "metadata": {
    "collapsed": false
   },
   "outputs": [
    {
     "data": {
      "text/html": [
       "<div style=\"max-height:1000px;max-width:1500px;overflow:auto;\">\n",
       "<table border=\"1\" class=\"dataframe\">\n",
       "  <thead>\n",
       "    <tr style=\"text-align: right;\">\n",
       "      <th></th>\n",
       "      <th>Date</th>\n",
       "      <th>totalvalue</th>\n",
       "    </tr>\n",
       "  </thead>\n",
       "  <tbody>\n",
       "    <tr>\n",
       "      <th>1</th>\n",
       "      <td>2016-11-23</td>\n",
       "      <td> 6000.000000</td>\n",
       "    </tr>\n",
       "    <tr>\n",
       "      <th>4</th>\n",
       "      <td>2016-11-25</td>\n",
       "      <td> 6023.123250</td>\n",
       "    </tr>\n",
       "    <tr>\n",
       "      <th>2</th>\n",
       "      <td>2016-11-28</td>\n",
       "      <td> 5991.653248</td>\n",
       "    </tr>\n",
       "    <tr>\n",
       "      <th>3</th>\n",
       "      <td>2016-11-29</td>\n",
       "      <td> 5999.011652</td>\n",
       "    </tr>\n",
       "    <tr>\n",
       "      <th>0</th>\n",
       "      <td>2016-11-30</td>\n",
       "      <td> 5994.230244</td>\n",
       "    </tr>\n",
       "  </tbody>\n",
       "</table>\n",
       "</div>"
      ],
      "text/plain": [
       "        Date   totalvalue\n",
       "1 2016-11-23  6000.000000\n",
       "4 2016-11-25  6023.123250\n",
       "2 2016-11-28  5991.653248\n",
       "3 2016-11-29  5999.011652\n",
       "0 2016-11-30  5994.230244"
      ]
     },
     "execution_count": 77,
     "metadata": {},
     "output_type": "execute_result"
    }
   ],
   "source": [
    "df_values"
   ]
  },
  {
   "cell_type": "markdown",
   "metadata": {
    "collapsed": true
   },
   "source": [
    "#building charts\n"
   ]
  },
  {
   "cell_type": "code",
   "execution_count": 39,
   "metadata": {
    "collapsed": false
   },
   "outputs": [],
   "source": [
    "from bokeh.models import HoverTool\n",
    "from bokeh.models import ColumnDataSource\n",
    "from bokeh.plotting import figure\n",
    "from bokeh.models import DatetimeTickFormatter, NumeralTickFormatter"
   ]
  },
  {
   "cell_type": "code",
   "execution_count": 101,
   "metadata": {
    "collapsed": true
   },
   "outputs": [
    {
     "data": {
      "text/html": [
       "<div style=\"max-height:1000px;max-width:1500px;overflow:auto;\">\n",
       "<table border=\"1\" class=\"dataframe\">\n",
       "  <thead>\n",
       "    <tr style=\"text-align: right;\">\n",
       "      <th></th>\n",
       "      <th>totalvalue</th>\n",
       "    </tr>\n",
       "  </thead>\n",
       "  <tbody>\n",
       "    <tr>\n",
       "      <th>count</th>\n",
       "      <td>    5.000000</td>\n",
       "    </tr>\n",
       "    <tr>\n",
       "      <th>mean</th>\n",
       "      <td> 5976.573809</td>\n",
       "    </tr>\n",
       "    <tr>\n",
       "      <th>std</th>\n",
       "      <td>   28.441566</td>\n",
       "    </tr>\n",
       "    <tr>\n",
       "      <th>min</th>\n",
       "      <td> 5939.832777</td>\n",
       "    </tr>\n",
       "    <tr>\n",
       "      <th>25%</th>\n",
       "      <td> 5958.015690</td>\n",
       "    </tr>\n",
       "    <tr>\n",
       "      <th>50%</th>\n",
       "      <td> 5976.943429</td>\n",
       "    </tr>\n",
       "    <tr>\n",
       "      <th>75%</th>\n",
       "      <td> 6000.000000</td>\n",
       "    </tr>\n",
       "    <tr>\n",
       "      <th>max</th>\n",
       "      <td> 6008.077149</td>\n",
       "    </tr>\n",
       "  </tbody>\n",
       "</table>\n",
       "</div>"
      ],
      "text/plain": [
       "        totalvalue\n",
       "count     5.000000\n",
       "mean   5976.573809\n",
       "std      28.441566\n",
       "min    5939.832777\n",
       "25%    5958.015690\n",
       "50%    5976.943429\n",
       "75%    6000.000000\n",
       "max    6008.077149"
      ]
     },
     "execution_count": 101,
     "metadata": {},
     "output_type": "execute_result"
    }
   ],
   "source": [
    "df_values.describe()"
   ]
  },
  {
   "cell_type": "code",
   "execution_count": 84,
   "metadata": {
    "collapsed": false
   },
   "outputs": [],
   "source": [
    "df_values['DOD Change'] = df_values['totalvalue'].pct_change()"
   ]
  },
  {
   "cell_type": "code",
   "execution_count": 91,
   "metadata": {
    "collapsed": false
   },
   "outputs": [],
   "source": [
    "df_values['value'] = df_values['totalvalue'].map('${:,.2f}'.format)\n",
    "df_values['change'] = df_values['DOD Change'].map('{:.2%}'.format)"
   ]
  },
  {
   "cell_type": "code",
   "execution_count": 92,
   "metadata": {
    "collapsed": false,
    "scrolled": true
   },
   "outputs": [
    {
     "data": {
      "text/html": [
       "<div style=\"max-height:1000px;max-width:1500px;overflow:auto;\">\n",
       "<table border=\"1\" class=\"dataframe\">\n",
       "  <thead>\n",
       "    <tr style=\"text-align: right;\">\n",
       "      <th></th>\n",
       "      <th>Date</th>\n",
       "      <th>totalvalue</th>\n",
       "      <th>DOD Change</th>\n",
       "      <th>value</th>\n",
       "      <th>change</th>\n",
       "    </tr>\n",
       "  </thead>\n",
       "  <tbody>\n",
       "    <tr>\n",
       "      <th>1</th>\n",
       "      <td>2016-11-23</td>\n",
       "      <td> 6000.000000</td>\n",
       "      <td>      NaN</td>\n",
       "      <td> $6,000.00</td>\n",
       "      <td>   nan%</td>\n",
       "    </tr>\n",
       "    <tr>\n",
       "      <th>4</th>\n",
       "      <td>2016-11-25</td>\n",
       "      <td> 6023.123250</td>\n",
       "      <td> 0.003854</td>\n",
       "      <td> $6,023.12</td>\n",
       "      <td>  0.39%</td>\n",
       "    </tr>\n",
       "    <tr>\n",
       "      <th>2</th>\n",
       "      <td>2016-11-28</td>\n",
       "      <td> 5991.653248</td>\n",
       "      <td>-0.005225</td>\n",
       "      <td> $5,991.65</td>\n",
       "      <td> -0.52%</td>\n",
       "    </tr>\n",
       "    <tr>\n",
       "      <th>3</th>\n",
       "      <td>2016-11-29</td>\n",
       "      <td> 5999.011652</td>\n",
       "      <td> 0.001228</td>\n",
       "      <td> $5,999.01</td>\n",
       "      <td>  0.12%</td>\n",
       "    </tr>\n",
       "    <tr>\n",
       "      <th>0</th>\n",
       "      <td>2016-11-30</td>\n",
       "      <td> 5994.230244</td>\n",
       "      <td>-0.000797</td>\n",
       "      <td> $5,994.23</td>\n",
       "      <td> -0.08%</td>\n",
       "    </tr>\n",
       "  </tbody>\n",
       "</table>\n",
       "</div>"
      ],
      "text/plain": [
       "        Date   totalvalue  DOD Change      value  change\n",
       "1 2016-11-23  6000.000000         NaN  $6,000.00    nan%\n",
       "4 2016-11-25  6023.123250    0.003854  $6,023.12   0.39%\n",
       "2 2016-11-28  5991.653248   -0.005225  $5,991.65  -0.52%\n",
       "3 2016-11-29  5999.011652    0.001228  $5,999.01   0.12%\n",
       "0 2016-11-30  5994.230244   -0.000797  $5,994.23  -0.08%"
      ]
     },
     "execution_count": 92,
     "metadata": {},
     "output_type": "execute_result"
    }
   ],
   "source": [
    "df_values"
   ]
  },
  {
   "cell_type": "code",
   "execution_count": 94,
   "metadata": {
    "collapsed": false
   },
   "outputs": [
    {
     "data": {
      "text/plain": [
       "Date          datetime64[ns]\n",
       "totalvalue           float64\n",
       "DOD Change           float64\n",
       "value                 object\n",
       "change                object\n",
       "dtype: object"
      ]
     },
     "execution_count": 94,
     "metadata": {},
     "output_type": "execute_result"
    }
   ],
   "source": [
    "df_values.dtypes"
   ]
  },
  {
   "cell_type": "code",
   "execution_count": 96,
   "metadata": {
    "collapsed": false,
    "scrolled": true
   },
   "outputs": [
    {
     "data": {
      "text/html": [
       "\n",
       "\n",
       "    <div class=\"bk-root\">\n",
       "        <div class=\"plotdiv\" id=\"bc1eab1e-8fa2-47bf-a065-475222bed3e8\"></div>\n",
       "    </div>\n",
       "<script type=\"text/javascript\">\n",
       "  \n",
       "  (function(global) {\n",
       "    function now() {\n",
       "      return new Date();\n",
       "    }\n",
       "  \n",
       "    var force = \"\";\n",
       "  \n",
       "    if (typeof (window._bokeh_onload_callbacks) === \"undefined\" || force !== \"\") {\n",
       "      window._bokeh_onload_callbacks = [];\n",
       "      window._bokeh_is_loading = undefined;\n",
       "    }\n",
       "  \n",
       "  \n",
       "    \n",
       "    if (typeof (window._bokeh_timeout) === \"undefined\" || force !== \"\") {\n",
       "      window._bokeh_timeout = Date.now() + 0;\n",
       "      window._bokeh_failed_load = false;\n",
       "    }\n",
       "  \n",
       "    var NB_LOAD_WARNING = {'data': {'text/html':\n",
       "       \"<div style='background-color: #fdd'>\\n\"+\n",
       "       \"<p>\\n\"+\n",
       "       \"BokehJS does not appear to have successfully loaded. If loading BokehJS from CDN, this \\n\"+\n",
       "       \"may be due to a slow or bad network connection. Possible fixes:\\n\"+\n",
       "       \"</p>\\n\"+\n",
       "       \"<ul>\\n\"+\n",
       "       \"<li>re-rerun `output_notebook()` to attempt to load from CDN again, or</li>\\n\"+\n",
       "       \"<li>use INLINE resources instead, as so:</li>\\n\"+\n",
       "       \"</ul>\\n\"+\n",
       "       \"<code>\\n\"+\n",
       "       \"from bokeh.resources import INLINE\\n\"+\n",
       "       \"output_notebook(resources=INLINE)\\n\"+\n",
       "       \"</code>\\n\"+\n",
       "       \"</div>\"}};\n",
       "  \n",
       "    function display_loaded() {\n",
       "      if (window.Bokeh !== undefined) {\n",
       "        Bokeh.$(\"#bc1eab1e-8fa2-47bf-a065-475222bed3e8\").text(\"BokehJS successfully loaded.\");\n",
       "      } else if (Date.now() < window._bokeh_timeout) {\n",
       "        setTimeout(display_loaded, 100)\n",
       "      }\n",
       "    }\n",
       "  \n",
       "    function run_callbacks() {\n",
       "      window._bokeh_onload_callbacks.forEach(function(callback) { callback() });\n",
       "      delete window._bokeh_onload_callbacks\n",
       "      console.info(\"Bokeh: all callbacks have finished\");\n",
       "    }\n",
       "  \n",
       "    function load_libs(js_urls, callback) {\n",
       "      window._bokeh_onload_callbacks.push(callback);\n",
       "      if (window._bokeh_is_loading > 0) {\n",
       "        console.log(\"Bokeh: BokehJS is being loaded, scheduling callback at\", now());\n",
       "        return null;\n",
       "      }\n",
       "      if (js_urls == null || js_urls.length === 0) {\n",
       "        run_callbacks();\n",
       "        return null;\n",
       "      }\n",
       "      console.log(\"Bokeh: BokehJS not loaded, scheduling load and callback at\", now());\n",
       "      window._bokeh_is_loading = js_urls.length;\n",
       "      for (var i = 0; i < js_urls.length; i++) {\n",
       "        var url = js_urls[i];\n",
       "        var s = document.createElement('script');\n",
       "        s.src = url;\n",
       "        s.async = false;\n",
       "        s.onreadystatechange = s.onload = function() {\n",
       "          window._bokeh_is_loading--;\n",
       "          if (window._bokeh_is_loading === 0) {\n",
       "            console.log(\"Bokeh: all BokehJS libraries loaded\");\n",
       "            run_callbacks()\n",
       "          }\n",
       "        };\n",
       "        s.onerror = function() {\n",
       "          console.warn(\"failed to load library \" + url);\n",
       "        };\n",
       "        console.log(\"Bokeh: injecting script tag for BokehJS library: \", url);\n",
       "        document.getElementsByTagName(\"head\")[0].appendChild(s);\n",
       "      }\n",
       "    };var element = document.getElementById(\"bc1eab1e-8fa2-47bf-a065-475222bed3e8\");\n",
       "    if (element == null) {\n",
       "      console.log(\"Bokeh: ERROR: autoload.js configured with elementid 'bc1eab1e-8fa2-47bf-a065-475222bed3e8' but no matching script tag was found. \")\n",
       "      return false;\n",
       "    }\n",
       "  \n",
       "    var js_urls = [];\n",
       "  \n",
       "    var inline_js = [\n",
       "      function(Bokeh) {\n",
       "        Bokeh.$(function() {\n",
       "            var docs_json = {\"ee852961-1caa-4844-8c03-039e5a03a163\":{\"roots\":{\"references\":[{\"attributes\":{\"days\":[1,2,3,4,5,6,7,8,9,10,11,12,13,14,15,16,17,18,19,20,21,22,23,24,25,26,27,28,29,30,31]},\"id\":\"4fc69ccf-543d-4e88-ba66-7e6606f961f5\",\"type\":\"DaysTicker\"},{\"attributes\":{\"days\":[1,15]},\"id\":\"b63c7bf4-de4e-49e5-8993-c14bf4c1f3c9\",\"type\":\"DaysTicker\"},{\"attributes\":{\"base\":24,\"mantissas\":[1,2,4,6,8,12],\"max_interval\":43200000.0,\"min_interval\":3600000.0,\"num_minor_ticks\":0},\"id\":\"eca0b4cf-f82e-4f40-ab7a-b0fb6c6a8123\",\"type\":\"AdaptiveTicker\"},{\"attributes\":{\"plot\":{\"id\":\"71af6b1d-346f-4f08-9cdb-5533a652df80\",\"subtype\":\"Figure\",\"type\":\"Plot\"}},\"id\":\"5809a2f9-466e-4b17-a5c7-3f0afdf17ddf\",\"type\":\"ResetTool\"},{\"attributes\":{},\"id\":\"91c3d3fc-58e7-4fe2-a59c-bdf84eebe7d7\",\"type\":\"YearsTicker\"},{\"attributes\":{\"format\":\"$0.00\"},\"id\":\"9ce9c645-d8a8-4ac7-96a2-c3d831aedfae\",\"type\":\"NumeralTickFormatter\"},{\"attributes\":{\"months\":[0,1,2,3,4,5,6,7,8,9,10,11]},\"id\":\"5810692a-7945-4ee8-93e3-4153612c8811\",\"type\":\"MonthsTicker\"},{\"attributes\":{\"bottom_units\":\"screen\",\"fill_alpha\":{\"value\":0.5},\"fill_color\":{\"value\":\"lightgrey\"},\"left_units\":\"screen\",\"level\":\"overlay\",\"line_alpha\":{\"value\":1.0},\"line_color\":{\"value\":\"black\"},\"line_dash\":[4,4],\"line_width\":{\"value\":2},\"plot\":null,\"render_mode\":\"css\",\"right_units\":\"screen\",\"top_units\":\"screen\"},\"id\":\"5b9817f8-aeec-473e-93be-714b1dd9214e\",\"type\":\"BoxAnnotation\"},{\"attributes\":{\"below\":[{\"id\":\"3c9e2c0a-e14c-4c30-940e-cf9761b0b7fe\",\"type\":\"DatetimeAxis\"}],\"left\":[{\"id\":\"6200daad-08eb-49d0-9138-22530b85e33e\",\"type\":\"LinearAxis\"}],\"plot_height\":300,\"plot_width\":500,\"renderers\":[{\"id\":\"3c9e2c0a-e14c-4c30-940e-cf9761b0b7fe\",\"type\":\"DatetimeAxis\"},{\"id\":\"3d384bdd-1e20-44cd-8fcf-6c374e4931a6\",\"type\":\"Grid\"},{\"id\":\"6200daad-08eb-49d0-9138-22530b85e33e\",\"type\":\"LinearAxis\"},{\"id\":\"57d1c854-99e9-4068-ae5e-66a854e895e3\",\"type\":\"Grid\"},{\"id\":\"4e7d88bb-cc82-4dcc-87a9-6dd927198bd0\",\"type\":\"BoxAnnotation\"},{\"id\":\"5b9817f8-aeec-473e-93be-714b1dd9214e\",\"type\":\"BoxAnnotation\"},{\"id\":\"f20da7f9-a1df-4dfc-99cf-8cc34a7c4103\",\"type\":\"GlyphRenderer\"},{\"id\":\"46a73766-2b2a-41f3-923f-e67499cbdc59\",\"type\":\"GlyphRenderer\"}],\"title\":{\"id\":\"b065b49b-6961-4958-9572-a84be76c8a27\",\"type\":\"Title\"},\"tool_events\":{\"id\":\"ff1323ca-71cb-46cd-86b8-616d113a216f\",\"type\":\"ToolEvents\"},\"toolbar\":{\"id\":\"881f2f25-06eb-47d7-a6a5-e41b53b08295\",\"type\":\"Toolbar\"},\"x_range\":{\"id\":\"899785da-81ab-4761-96e0-4cfd097f6128\",\"type\":\"DataRange1d\"},\"y_range\":{\"id\":\"2f410a0a-81ee-4b68-a6cb-919d3eb1ede2\",\"type\":\"Range1d\"}},\"id\":\"71af6b1d-346f-4f08-9cdb-5533a652df80\",\"subtype\":\"Figure\",\"type\":\"Plot\"},{\"attributes\":{\"months\":[0,2,4,6,8,10]},\"id\":\"4a6be95c-f5f0-49e3-b6ee-f46c6b46dd8f\",\"type\":\"MonthsTicker\"},{\"attributes\":{\"plot\":null,\"text\":null},\"id\":\"b065b49b-6961-4958-9572-a84be76c8a27\",\"type\":\"Title\"},{\"attributes\":{\"callback\":null,\"overlay\":{\"id\":\"5b9817f8-aeec-473e-93be-714b1dd9214e\",\"type\":\"BoxAnnotation\"},\"plot\":{\"id\":\"71af6b1d-346f-4f08-9cdb-5533a652df80\",\"subtype\":\"Figure\",\"type\":\"Plot\"},\"renderers\":[{\"id\":\"f20da7f9-a1df-4dfc-99cf-8cc34a7c4103\",\"type\":\"GlyphRenderer\"},{\"id\":\"46a73766-2b2a-41f3-923f-e67499cbdc59\",\"type\":\"GlyphRenderer\"}]},\"id\":\"5bc18f14-147c-4ac9-bc6a-916955f37946\",\"type\":\"BoxSelectTool\"},{\"attributes\":{\"line_color\":{\"value\":\"#1f77b4\"},\"line_width\":{\"value\":3},\"x\":{\"field\":\"x\"},\"y\":{\"field\":\"y\"}},\"id\":\"6b4bdb72-d27d-4da0-965b-f263cfab123a\",\"type\":\"Line\"},{\"attributes\":{\"fill_alpha\":{\"value\":0.1},\"fill_color\":{\"value\":\"#1f77b4\"},\"line_alpha\":{\"value\":0.1},\"line_color\":{\"value\":\"#1f77b4\"},\"size\":{\"units\":\"screen\",\"value\":15},\"x\":{\"field\":\"x\"},\"y\":{\"field\":\"y\"}},\"id\":\"bc29c472-dae1-4923-a2d6-045fb09f8539\",\"type\":\"Circle\"},{\"attributes\":{\"active_drag\":\"auto\",\"active_scroll\":\"auto\",\"active_tap\":\"auto\",\"tools\":[{\"id\":\"acdaacfb-66d2-484a-8001-17f1bf72005f\",\"type\":\"HoverTool\"},{\"id\":\"1520f0f4-9144-4095-9de5-01cad396f25a\",\"type\":\"BoxZoomTool\"},{\"id\":\"5bc18f14-147c-4ac9-bc6a-916955f37946\",\"type\":\"BoxSelectTool\"},{\"id\":\"057955d3-41cb-4ab4-90b4-03c32aab9795\",\"type\":\"CrosshairTool\"},{\"id\":\"cfec1578-3d82-420f-89b1-b8db3a956699\",\"type\":\"ResizeTool\"},{\"id\":\"5809a2f9-466e-4b17-a5c7-3f0afdf17ddf\",\"type\":\"ResetTool\"}]},\"id\":\"881f2f25-06eb-47d7-a6a5-e41b53b08295\",\"type\":\"Toolbar\"},{\"attributes\":{\"plot\":{\"id\":\"71af6b1d-346f-4f08-9cdb-5533a652df80\",\"subtype\":\"Figure\",\"type\":\"Plot\"}},\"id\":\"cfec1578-3d82-420f-89b1-b8db3a956699\",\"type\":\"ResizeTool\"},{\"attributes\":{\"callback\":null,\"end\":6035.630857309519,\"start\":5979.145640965041},\"id\":\"2f410a0a-81ee-4b68-a6cb-919d3eb1ede2\",\"type\":\"Range1d\"},{\"attributes\":{\"callback\":null,\"column_names\":[\"y\",\"x\"],\"data\":{\"x\":[1479859200000.0,1480032000000.0,1480291200000.0,1480377600000.0,1480464000000.0],\"y\":[6000.0,6023.123250130851,5991.653248143709,5999.011651689174,5994.230244144193]}},\"id\":\"922f6871-883d-4e33-aae4-a5dc0ae01692\",\"type\":\"ColumnDataSource\"},{\"attributes\":{\"callback\":null,\"plot\":{\"id\":\"71af6b1d-346f-4f08-9cdb-5533a652df80\",\"subtype\":\"Figure\",\"type\":\"Plot\"},\"tooltips\":[[\"Value\",\"@data['value']\"],[\"Change\",\"@change\"]]},\"id\":\"acdaacfb-66d2-484a-8001-17f1bf72005f\",\"type\":\"HoverTool\"},{\"attributes\":{\"data_source\":{\"id\":\"e0690b0f-8d8d-4208-af73-f3c20970ed12\",\"type\":\"ColumnDataSource\"},\"glyph\":{\"id\":\"6b4bdb72-d27d-4da0-965b-f263cfab123a\",\"type\":\"Line\"},\"hover_glyph\":null,\"nonselection_glyph\":{\"id\":\"5880c24b-65dc-4b9b-ad94-f664fe78eb85\",\"type\":\"Line\"},\"selection_glyph\":null},\"id\":\"46a73766-2b2a-41f3-923f-e67499cbdc59\",\"type\":\"GlyphRenderer\"},{\"attributes\":{},\"id\":\"ea5c6f41-2979-4992-840f-eee59f4f1e85\",\"type\":\"BasicTicker\"},{\"attributes\":{\"base\":60,\"mantissas\":[1,2,5,10,15,20,30],\"max_interval\":1800000.0,\"min_interval\":1000.0,\"num_minor_ticks\":0},\"id\":\"7e5c7178-b013-4a48-add4-ef45d807af17\",\"type\":\"AdaptiveTicker\"},{\"attributes\":{\"days\":[1,8,15,22]},\"id\":\"0c227902-d4c7-4634-af22-502ce30d148d\",\"type\":\"DaysTicker\"},{\"attributes\":{\"line_alpha\":{\"value\":0.1},\"line_color\":{\"value\":\"#1f77b4\"},\"line_width\":{\"value\":3},\"x\":{\"field\":\"x\"},\"y\":{\"field\":\"y\"}},\"id\":\"5880c24b-65dc-4b9b-ad94-f664fe78eb85\",\"type\":\"Line\"},{\"attributes\":{\"axis_label\":\"Date\",\"formatter\":{\"id\":\"f60487ed-55ae-47a9-99d9-394d9bec1978\",\"type\":\"DatetimeTickFormatter\"},\"plot\":{\"id\":\"71af6b1d-346f-4f08-9cdb-5533a652df80\",\"subtype\":\"Figure\",\"type\":\"Plot\"},\"ticker\":{\"id\":\"b6c5699d-0616-46f7-94e8-66b7ed2c182e\",\"type\":\"DatetimeTicker\"}},\"id\":\"3c9e2c0a-e14c-4c30-940e-cf9761b0b7fe\",\"type\":\"DatetimeAxis\"},{\"attributes\":{\"dimension\":1,\"plot\":{\"id\":\"71af6b1d-346f-4f08-9cdb-5533a652df80\",\"subtype\":\"Figure\",\"type\":\"Plot\"},\"ticker\":{\"id\":\"ea5c6f41-2979-4992-840f-eee59f4f1e85\",\"type\":\"BasicTicker\"}},\"id\":\"57d1c854-99e9-4068-ae5e-66a854e895e3\",\"type\":\"Grid\"},{\"attributes\":{\"num_minor_ticks\":5},\"id\":\"b6c5699d-0616-46f7-94e8-66b7ed2c182e\",\"type\":\"DatetimeTicker\"},{\"attributes\":{\"callback\":null},\"id\":\"899785da-81ab-4761-96e0-4cfd097f6128\",\"type\":\"DataRange1d\"},{\"attributes\":{\"max_interval\":500.0,\"num_minor_ticks\":0},\"id\":\"7171cf41-cdad-449d-a3a0-3fee45a65a1f\",\"type\":\"AdaptiveTicker\"},{\"attributes\":{\"months\":[0,4,8]},\"id\":\"86812b6b-49aa-4059-8f98-a8b32cb93254\",\"type\":\"MonthsTicker\"},{\"attributes\":{\"fill_color\":{\"value\":\"#1f77b4\"},\"line_color\":{\"value\":\"#1f77b4\"},\"size\":{\"units\":\"screen\",\"value\":15},\"x\":{\"field\":\"x\"},\"y\":{\"field\":\"y\"}},\"id\":\"10f8a49a-7bac-48cf-9bba-ea2c3c8251c0\",\"type\":\"Circle\"},{\"attributes\":{\"months\":[0,6]},\"id\":\"971cde84-13b4-4c01-87a3-f3e3d8461a0f\",\"type\":\"MonthsTicker\"},{\"attributes\":{\"callback\":null,\"column_names\":[\"y\",\"x\"],\"data\":{\"x\":[1479859200000.0,1480032000000.0,1480291200000.0,1480377600000.0,1480464000000.0],\"y\":[6000.0,6023.123250130851,5991.653248143709,5999.011651689174,5994.230244144193]}},\"id\":\"e0690b0f-8d8d-4208-af73-f3c20970ed12\",\"type\":\"ColumnDataSource\"},{\"attributes\":{\"overlay\":{\"id\":\"4e7d88bb-cc82-4dcc-87a9-6dd927198bd0\",\"type\":\"BoxAnnotation\"},\"plot\":{\"id\":\"71af6b1d-346f-4f08-9cdb-5533a652df80\",\"subtype\":\"Figure\",\"type\":\"Plot\"}},\"id\":\"1520f0f4-9144-4095-9de5-01cad396f25a\",\"type\":\"BoxZoomTool\"},{\"attributes\":{\"plot\":{\"id\":\"71af6b1d-346f-4f08-9cdb-5533a652df80\",\"subtype\":\"Figure\",\"type\":\"Plot\"},\"ticker\":{\"id\":\"b6c5699d-0616-46f7-94e8-66b7ed2c182e\",\"type\":\"DatetimeTicker\"}},\"id\":\"3d384bdd-1e20-44cd-8fcf-6c374e4931a6\",\"type\":\"Grid\"},{\"attributes\":{},\"id\":\"f60487ed-55ae-47a9-99d9-394d9bec1978\",\"type\":\"DatetimeTickFormatter\"},{\"attributes\":{\"bottom_units\":\"screen\",\"fill_alpha\":{\"value\":0.5},\"fill_color\":{\"value\":\"lightgrey\"},\"left_units\":\"screen\",\"level\":\"overlay\",\"line_alpha\":{\"value\":1.0},\"line_color\":{\"value\":\"black\"},\"line_dash\":[4,4],\"line_width\":{\"value\":2},\"plot\":null,\"render_mode\":\"css\",\"right_units\":\"screen\",\"top_units\":\"screen\"},\"id\":\"4e7d88bb-cc82-4dcc-87a9-6dd927198bd0\",\"type\":\"BoxAnnotation\"},{\"attributes\":{\"axis_label\":\"Total value\",\"formatter\":{\"id\":\"9ce9c645-d8a8-4ac7-96a2-c3d831aedfae\",\"type\":\"NumeralTickFormatter\"},\"plot\":{\"id\":\"71af6b1d-346f-4f08-9cdb-5533a652df80\",\"subtype\":\"Figure\",\"type\":\"Plot\"},\"ticker\":{\"id\":\"ea5c6f41-2979-4992-840f-eee59f4f1e85\",\"type\":\"BasicTicker\"}},\"id\":\"6200daad-08eb-49d0-9138-22530b85e33e\",\"type\":\"LinearAxis\"},{\"attributes\":{\"days\":[1,4,7,10,13,16,19,22,25,28]},\"id\":\"4263536c-62c4-4fb6-b5aa-88432c057e0d\",\"type\":\"DaysTicker\"},{\"attributes\":{},\"id\":\"ff1323ca-71cb-46cd-86b8-616d113a216f\",\"type\":\"ToolEvents\"},{\"attributes\":{\"data_source\":{\"id\":\"922f6871-883d-4e33-aae4-a5dc0ae01692\",\"type\":\"ColumnDataSource\"},\"glyph\":{\"id\":\"10f8a49a-7bac-48cf-9bba-ea2c3c8251c0\",\"type\":\"Circle\"},\"hover_glyph\":null,\"nonselection_glyph\":{\"id\":\"bc29c472-dae1-4923-a2d6-045fb09f8539\",\"type\":\"Circle\"},\"selection_glyph\":null},\"id\":\"f20da7f9-a1df-4dfc-99cf-8cc34a7c4103\",\"type\":\"GlyphRenderer\"},{\"attributes\":{\"plot\":{\"id\":\"71af6b1d-346f-4f08-9cdb-5533a652df80\",\"subtype\":\"Figure\",\"type\":\"Plot\"}},\"id\":\"057955d3-41cb-4ab4-90b4-03c32aab9795\",\"type\":\"CrosshairTool\"}],\"root_ids\":[\"71af6b1d-346f-4f08-9cdb-5533a652df80\"]},\"title\":\"Bokeh Application\",\"version\":\"0.12.3\"}};\n",
       "            var render_items = [{\"docid\":\"ee852961-1caa-4844-8c03-039e5a03a163\",\"elementid\":\"bc1eab1e-8fa2-47bf-a065-475222bed3e8\",\"modelid\":\"71af6b1d-346f-4f08-9cdb-5533a652df80\"}];\n",
       "            \n",
       "            Bokeh.embed.embed_items(docs_json, render_items);\n",
       "        });\n",
       "      },\n",
       "      function(Bokeh) {\n",
       "      }\n",
       "    ];\n",
       "  \n",
       "    function run_inline_js() {\n",
       "      \n",
       "      if ((window.Bokeh !== undefined) || (force === \"1\")) {\n",
       "        for (var i = 0; i < inline_js.length; i++) {\n",
       "          inline_js[i](window.Bokeh);\n",
       "        }if (force === \"1\") {\n",
       "          display_loaded();\n",
       "        }} else if (Date.now() < window._bokeh_timeout) {\n",
       "        setTimeout(run_inline_js, 100);\n",
       "      } else if (!window._bokeh_failed_load) {\n",
       "        console.log(\"Bokeh: BokehJS failed to load within specified timeout.\");\n",
       "        window._bokeh_failed_load = true;\n",
       "      } else if (!force) {\n",
       "        var cell = $(\"#bc1eab1e-8fa2-47bf-a065-475222bed3e8\").parents('.cell').data().cell;\n",
       "        cell.output_area.append_execute_result(NB_LOAD_WARNING)\n",
       "      }\n",
       "  \n",
       "    }\n",
       "  \n",
       "    if (window._bokeh_is_loading === 0) {\n",
       "      console.log(\"Bokeh: BokehJS loaded, going straight to plotting\");\n",
       "      run_inline_js();\n",
       "    } else {\n",
       "      load_libs(js_urls, function() {\n",
       "        console.log(\"Bokeh: BokehJS plotting callback run at\", now());\n",
       "        run_inline_js();\n",
       "      });\n",
       "    }\n",
       "  }(this));\n",
       "</script>"
      ]
     },
     "metadata": {},
     "output_type": "display_data"
    }
   ],
   "source": [
    "max = df_values.totalvalue.max()+ df_values.totalvalue.std()\n",
    "min = df_values.totalvalue.min()-df_values.totalvalue.std()\n",
    "source = ColumnDataSource(data = df_values)\n",
    "hover = HoverTool(\n",
    "        tooltips=[\n",
    "            (\"Value\", \"@data['value']\"),\n",
    "            (\"Change\", \"@change\"),\n",
    "        ]\n",
    "    )\n",
    "TOOLS = 'box_zoom,box_select,crosshair,resize,reset'\n",
    "p = figure(plot_width = 500, plot_height = 300,x_axis_type=\"datetime\",y_range=(min,max), tools=[hover, TOOLS])\n",
    "p.circle(x = df_values['Date'], y = df_values['totalvalue'], size =15)\n",
    "p.line(x = df_values['Date'], y = df_values['totalvalue'], line_width=3)\n",
    "\n",
    "\n",
    "\n",
    "p.yaxis[0].formatter = NumeralTickFormatter(format=\"$0.00\")\n",
    "p.xaxis.axis_label='Date'\n",
    "p.yaxis.axis_label='Total value'\n",
    "show(p)"
   ]
  },
  {
   "cell_type": "code",
   "execution_count": 49,
   "metadata": {
    "collapsed": true
   },
   "outputs": [],
   "source": [
    "?figure()"
   ]
  },
  {
   "cell_type": "code",
   "execution_count": 125,
   "metadata": {
    "collapsed": false
   },
   "outputs": [
    {
     "data": {
      "text/html": [
       "<div style=\"max-height:1000px;max-width:1500px;overflow:auto;\">\n",
       "<table border=\"1\" class=\"dataframe\">\n",
       "  <thead>\n",
       "    <tr style=\"text-align: right;\">\n",
       "      <th></th>\n",
       "      <th>Date</th>\n",
       "      <th>minor</th>\n",
       "      <th>Open</th>\n",
       "      <th>High</th>\n",
       "      <th>Low</th>\n",
       "      <th>Close</th>\n",
       "      <th>Volume</th>\n",
       "      <th>Adj Close</th>\n",
       "    </tr>\n",
       "  </thead>\n",
       "  <tbody>\n",
       "    <tr>\n",
       "      <th>0 </th>\n",
       "      <td>2016-11-22</td>\n",
       "      <td> COST</td>\n",
       "      <td> 151.929993</td>\n",
       "      <td> 153.050003</td>\n",
       "      <td> 151.210007</td>\n",
       "      <td> 152.669998</td>\n",
       "      <td>  1954200</td>\n",
       "      <td> 152.669998</td>\n",
       "    </tr>\n",
       "    <tr>\n",
       "      <th>1 </th>\n",
       "      <td>2016-11-22</td>\n",
       "      <td>   FB</td>\n",
       "      <td> 122.400002</td>\n",
       "      <td> 122.980003</td>\n",
       "      <td> 120.900002</td>\n",
       "      <td> 121.470001</td>\n",
       "      <td> 26089200</td>\n",
       "      <td> 121.470001</td>\n",
       "    </tr>\n",
       "    <tr>\n",
       "      <th>2 </th>\n",
       "      <td>2016-11-22</td>\n",
       "      <td>   HD</td>\n",
       "      <td> 128.380005</td>\n",
       "      <td> 131.300003</td>\n",
       "      <td> 128.380005</td>\n",
       "      <td> 130.979996</td>\n",
       "      <td>  5535800</td>\n",
       "      <td> 130.288200</td>\n",
       "    </tr>\n",
       "    <tr>\n",
       "      <th>3 </th>\n",
       "      <td>2016-11-22</td>\n",
       "      <td>  XOM</td>\n",
       "      <td>  86.690002</td>\n",
       "      <td>  87.239998</td>\n",
       "      <td>  85.970001</td>\n",
       "      <td>  86.680000</td>\n",
       "      <td>  9275500</td>\n",
       "      <td>  86.680000</td>\n",
       "    </tr>\n",
       "    <tr>\n",
       "      <th>4 </th>\n",
       "      <td>2016-11-23</td>\n",
       "      <td> COST</td>\n",
       "      <td> 152.750000</td>\n",
       "      <td> 153.339996</td>\n",
       "      <td> 151.179993</td>\n",
       "      <td> 151.600006</td>\n",
       "      <td>  2166900</td>\n",
       "      <td> 151.600006</td>\n",
       "    </tr>\n",
       "    <tr>\n",
       "      <th>5 </th>\n",
       "      <td>2016-11-23</td>\n",
       "      <td>   FB</td>\n",
       "      <td> 121.230003</td>\n",
       "      <td> 121.309998</td>\n",
       "      <td> 119.940002</td>\n",
       "      <td> 120.839996</td>\n",
       "      <td> 15672100</td>\n",
       "      <td> 120.839996</td>\n",
       "    </tr>\n",
       "    <tr>\n",
       "      <th>6 </th>\n",
       "      <td>2016-11-23</td>\n",
       "      <td>   HD</td>\n",
       "      <td> 131.360001</td>\n",
       "      <td> 131.990005</td>\n",
       "      <td> 130.860001</td>\n",
       "      <td> 131.210007</td>\n",
       "      <td>  3582700</td>\n",
       "      <td> 130.516997</td>\n",
       "    </tr>\n",
       "    <tr>\n",
       "      <th>7 </th>\n",
       "      <td>2016-11-23</td>\n",
       "      <td>  XOM</td>\n",
       "      <td>  86.540001</td>\n",
       "      <td>  87.080002</td>\n",
       "      <td>  86.309998</td>\n",
       "      <td>  86.919998</td>\n",
       "      <td>  5996300</td>\n",
       "      <td>  86.919998</td>\n",
       "    </tr>\n",
       "    <tr>\n",
       "      <th>8 </th>\n",
       "      <td>2016-11-25</td>\n",
       "      <td> COST</td>\n",
       "      <td> 151.889999</td>\n",
       "      <td> 153.419998</td>\n",
       "      <td> 151.710007</td>\n",
       "      <td> 151.880005</td>\n",
       "      <td>   884700</td>\n",
       "      <td> 151.880005</td>\n",
       "    </tr>\n",
       "    <tr>\n",
       "      <th>9 </th>\n",
       "      <td>2016-11-25</td>\n",
       "      <td>   FB</td>\n",
       "      <td> 121.010002</td>\n",
       "      <td> 121.139999</td>\n",
       "      <td> 120.070000</td>\n",
       "      <td> 120.379997</td>\n",
       "      <td>  8658600</td>\n",
       "      <td> 120.379997</td>\n",
       "    </tr>\n",
       "    <tr>\n",
       "      <th>10</th>\n",
       "      <td>2016-11-25</td>\n",
       "      <td>   HD</td>\n",
       "      <td> 131.860001</td>\n",
       "      <td> 132.139999</td>\n",
       "      <td> 131.070007</td>\n",
       "      <td> 131.570007</td>\n",
       "      <td>  2545800</td>\n",
       "      <td> 130.875096</td>\n",
       "    </tr>\n",
       "    <tr>\n",
       "      <th>11</th>\n",
       "      <td>2016-11-25</td>\n",
       "      <td>  XOM</td>\n",
       "      <td>  86.709999</td>\n",
       "      <td>  87.139999</td>\n",
       "      <td>  86.540001</td>\n",
       "      <td>  87.120003</td>\n",
       "      <td>  5042300</td>\n",
       "      <td>  87.120003</td>\n",
       "    </tr>\n",
       "    <tr>\n",
       "      <th>12</th>\n",
       "      <td>2016-11-28</td>\n",
       "      <td> COST</td>\n",
       "      <td> 151.050003</td>\n",
       "      <td> 152.429993</td>\n",
       "      <td> 151.009995</td>\n",
       "      <td> 151.250000</td>\n",
       "      <td>  1731000</td>\n",
       "      <td> 151.250000</td>\n",
       "    </tr>\n",
       "    <tr>\n",
       "      <th>13</th>\n",
       "      <td>2016-11-28</td>\n",
       "      <td>   FB</td>\n",
       "      <td> 120.120003</td>\n",
       "      <td> 121.690002</td>\n",
       "      <td> 119.820000</td>\n",
       "      <td> 120.410004</td>\n",
       "      <td> 18101300</td>\n",
       "      <td> 120.410004</td>\n",
       "    </tr>\n",
       "    <tr>\n",
       "      <th>14</th>\n",
       "      <td>2016-11-28</td>\n",
       "      <td>   HD</td>\n",
       "      <td> 131.250000</td>\n",
       "      <td> 131.649994</td>\n",
       "      <td> 130.169998</td>\n",
       "      <td> 130.639999</td>\n",
       "      <td>  4859000</td>\n",
       "      <td> 129.950000</td>\n",
       "    </tr>\n",
       "    <tr>\n",
       "      <th>15</th>\n",
       "      <td>2016-11-28</td>\n",
       "      <td>  XOM</td>\n",
       "      <td>  86.949997</td>\n",
       "      <td>  87.129997</td>\n",
       "      <td>  86.370003</td>\n",
       "      <td>  86.470001</td>\n",
       "      <td>  7208600</td>\n",
       "      <td>  86.470001</td>\n",
       "    </tr>\n",
       "    <tr>\n",
       "      <th>16</th>\n",
       "      <td>2016-11-29</td>\n",
       "      <td> COST</td>\n",
       "      <td> 151.619995</td>\n",
       "      <td> 152.220001</td>\n",
       "      <td> 151.330002</td>\n",
       "      <td> 151.479996</td>\n",
       "      <td>  1496800</td>\n",
       "      <td> 151.479996</td>\n",
       "    </tr>\n",
       "    <tr>\n",
       "      <th>17</th>\n",
       "      <td>2016-11-29</td>\n",
       "      <td>   FB</td>\n",
       "      <td> 120.570000</td>\n",
       "      <td> 122.099998</td>\n",
       "      <td> 120.400002</td>\n",
       "      <td> 120.870003</td>\n",
       "      <td> 18846600</td>\n",
       "      <td> 120.870003</td>\n",
       "    </tr>\n",
       "    <tr>\n",
       "      <th>18</th>\n",
       "      <td>2016-11-29</td>\n",
       "      <td>   HD</td>\n",
       "      <td> 130.350006</td>\n",
       "      <td> 130.779999</td>\n",
       "      <td> 129.250000</td>\n",
       "      <td> 129.619995</td>\n",
       "      <td>  4127100</td>\n",
       "      <td> 129.619995</td>\n",
       "    </tr>\n",
       "    <tr>\n",
       "      <th>19</th>\n",
       "      <td>2016-11-29</td>\n",
       "      <td>  XOM</td>\n",
       "      <td>  85.419998</td>\n",
       "      <td>  86.080002</td>\n",
       "      <td>  85.080002</td>\n",
       "      <td>  85.900002</td>\n",
       "      <td>  9150300</td>\n",
       "      <td>  85.900002</td>\n",
       "    </tr>\n",
       "    <tr>\n",
       "      <th>20</th>\n",
       "      <td>2016-11-30</td>\n",
       "      <td> COST</td>\n",
       "      <td> 151.130005</td>\n",
       "      <td> 151.539993</td>\n",
       "      <td> 150.070007</td>\n",
       "      <td> 150.110001</td>\n",
       "      <td>  2709800</td>\n",
       "      <td> 150.110001</td>\n",
       "    </tr>\n",
       "    <tr>\n",
       "      <th>21</th>\n",
       "      <td>2016-11-30</td>\n",
       "      <td>   FB</td>\n",
       "      <td> 120.320000</td>\n",
       "      <td> 121.790001</td>\n",
       "      <td> 117.949997</td>\n",
       "      <td> 118.419998</td>\n",
       "      <td> 30035600</td>\n",
       "      <td> 118.419998</td>\n",
       "    </tr>\n",
       "    <tr>\n",
       "      <th>22</th>\n",
       "      <td>2016-11-30</td>\n",
       "      <td>   HD</td>\n",
       "      <td> 129.339996</td>\n",
       "      <td> 130.320007</td>\n",
       "      <td> 128.809998</td>\n",
       "      <td> 129.399994</td>\n",
       "      <td>  6807700</td>\n",
       "      <td> 129.399994</td>\n",
       "    </tr>\n",
       "    <tr>\n",
       "      <th>23</th>\n",
       "      <td>2016-11-30</td>\n",
       "      <td>  XOM</td>\n",
       "      <td>  87.599998</td>\n",
       "      <td>  88.190002</td>\n",
       "      <td>  87.199997</td>\n",
       "      <td>  87.300003</td>\n",
       "      <td> 22371100</td>\n",
       "      <td>  87.300003</td>\n",
       "    </tr>\n",
       "  </tbody>\n",
       "</table>\n",
       "</div>"
      ],
      "text/plain": [
       "         Date minor        Open        High         Low       Close    Volume  \\\n",
       "0  2016-11-22  COST  151.929993  153.050003  151.210007  152.669998   1954200   \n",
       "1  2016-11-22    FB  122.400002  122.980003  120.900002  121.470001  26089200   \n",
       "2  2016-11-22    HD  128.380005  131.300003  128.380005  130.979996   5535800   \n",
       "3  2016-11-22   XOM   86.690002   87.239998   85.970001   86.680000   9275500   \n",
       "4  2016-11-23  COST  152.750000  153.339996  151.179993  151.600006   2166900   \n",
       "5  2016-11-23    FB  121.230003  121.309998  119.940002  120.839996  15672100   \n",
       "6  2016-11-23    HD  131.360001  131.990005  130.860001  131.210007   3582700   \n",
       "7  2016-11-23   XOM   86.540001   87.080002   86.309998   86.919998   5996300   \n",
       "8  2016-11-25  COST  151.889999  153.419998  151.710007  151.880005    884700   \n",
       "9  2016-11-25    FB  121.010002  121.139999  120.070000  120.379997   8658600   \n",
       "10 2016-11-25    HD  131.860001  132.139999  131.070007  131.570007   2545800   \n",
       "11 2016-11-25   XOM   86.709999   87.139999   86.540001   87.120003   5042300   \n",
       "12 2016-11-28  COST  151.050003  152.429993  151.009995  151.250000   1731000   \n",
       "13 2016-11-28    FB  120.120003  121.690002  119.820000  120.410004  18101300   \n",
       "14 2016-11-28    HD  131.250000  131.649994  130.169998  130.639999   4859000   \n",
       "15 2016-11-28   XOM   86.949997   87.129997   86.370003   86.470001   7208600   \n",
       "16 2016-11-29  COST  151.619995  152.220001  151.330002  151.479996   1496800   \n",
       "17 2016-11-29    FB  120.570000  122.099998  120.400002  120.870003  18846600   \n",
       "18 2016-11-29    HD  130.350006  130.779999  129.250000  129.619995   4127100   \n",
       "19 2016-11-29   XOM   85.419998   86.080002   85.080002   85.900002   9150300   \n",
       "20 2016-11-30  COST  151.130005  151.539993  150.070007  150.110001   2709800   \n",
       "21 2016-11-30    FB  120.320000  121.790001  117.949997  118.419998  30035600   \n",
       "22 2016-11-30    HD  129.339996  130.320007  128.809998  129.399994   6807700   \n",
       "23 2016-11-30   XOM   87.599998   88.190002   87.199997   87.300003  22371100   \n",
       "\n",
       "     Adj Close  \n",
       "0   152.669998  \n",
       "1   121.470001  \n",
       "2   130.288200  \n",
       "3    86.680000  \n",
       "4   151.600006  \n",
       "5   120.839996  \n",
       "6   130.516997  \n",
       "7    86.919998  \n",
       "8   151.880005  \n",
       "9   120.379997  \n",
       "10  130.875096  \n",
       "11   87.120003  \n",
       "12  151.250000  \n",
       "13  120.410004  \n",
       "14  129.950000  \n",
       "15   86.470001  \n",
       "16  151.479996  \n",
       "17  120.870003  \n",
       "18  129.619995  \n",
       "19   85.900002  \n",
       "20  150.110001  \n",
       "21  118.419998  \n",
       "22  129.399994  \n",
       "23   87.300003  "
      ]
     },
     "execution_count": 125,
     "metadata": {},
     "output_type": "execute_result"
    }
   ],
   "source": [
    "df_historical_chart = df_historical.reset_index()\n",
    "df_historical_chart"
   ]
  },
  {
   "cell_type": "code",
   "execution_count": 130,
   "metadata": {
    "collapsed": false
   },
   "outputs": [],
   "source": [
    "df_chart=pd.pivot_table(df_historical_chart, values='Adj Close', columns='minor', index='Date')\n",
    "df_chart.reset_index(inplace=True)\n",
    "df_chart = df_chart.iloc[-5:]"
   ]
  },
  {
   "cell_type": "code",
   "execution_count": 127,
   "metadata": {
    "collapsed": false
   },
   "outputs": [
    {
     "data": {
      "text/plain": [
       "['FB', 'XOM', 'COST', 'HD']"
      ]
     },
     "execution_count": 127,
     "metadata": {},
     "output_type": "execute_result"
    }
   ],
   "source": [
    "stockslist"
   ]
  },
  {
   "cell_type": "code",
   "execution_count": 128,
   "metadata": {
    "collapsed": false
   },
   "outputs": [
    {
     "data": {
      "text/html": [
       "\n",
       "\n",
       "    <div class=\"bk-root\">\n",
       "        <div class=\"plotdiv\" id=\"2229bec4-525e-4a2c-8729-e49fd2014483\"></div>\n",
       "    </div>\n",
       "<script type=\"text/javascript\">\n",
       "  \n",
       "  (function(global) {\n",
       "    function now() {\n",
       "      return new Date();\n",
       "    }\n",
       "  \n",
       "    var force = \"\";\n",
       "  \n",
       "    if (typeof (window._bokeh_onload_callbacks) === \"undefined\" || force !== \"\") {\n",
       "      window._bokeh_onload_callbacks = [];\n",
       "      window._bokeh_is_loading = undefined;\n",
       "    }\n",
       "  \n",
       "  \n",
       "    \n",
       "    if (typeof (window._bokeh_timeout) === \"undefined\" || force !== \"\") {\n",
       "      window._bokeh_timeout = Date.now() + 0;\n",
       "      window._bokeh_failed_load = false;\n",
       "    }\n",
       "  \n",
       "    var NB_LOAD_WARNING = {'data': {'text/html':\n",
       "       \"<div style='background-color: #fdd'>\\n\"+\n",
       "       \"<p>\\n\"+\n",
       "       \"BokehJS does not appear to have successfully loaded. If loading BokehJS from CDN, this \\n\"+\n",
       "       \"may be due to a slow or bad network connection. Possible fixes:\\n\"+\n",
       "       \"</p>\\n\"+\n",
       "       \"<ul>\\n\"+\n",
       "       \"<li>re-rerun `output_notebook()` to attempt to load from CDN again, or</li>\\n\"+\n",
       "       \"<li>use INLINE resources instead, as so:</li>\\n\"+\n",
       "       \"</ul>\\n\"+\n",
       "       \"<code>\\n\"+\n",
       "       \"from bokeh.resources import INLINE\\n\"+\n",
       "       \"output_notebook(resources=INLINE)\\n\"+\n",
       "       \"</code>\\n\"+\n",
       "       \"</div>\"}};\n",
       "  \n",
       "    function display_loaded() {\n",
       "      if (window.Bokeh !== undefined) {\n",
       "        Bokeh.$(\"#2229bec4-525e-4a2c-8729-e49fd2014483\").text(\"BokehJS successfully loaded.\");\n",
       "      } else if (Date.now() < window._bokeh_timeout) {\n",
       "        setTimeout(display_loaded, 100)\n",
       "      }\n",
       "    }\n",
       "  \n",
       "    function run_callbacks() {\n",
       "      window._bokeh_onload_callbacks.forEach(function(callback) { callback() });\n",
       "      delete window._bokeh_onload_callbacks\n",
       "      console.info(\"Bokeh: all callbacks have finished\");\n",
       "    }\n",
       "  \n",
       "    function load_libs(js_urls, callback) {\n",
       "      window._bokeh_onload_callbacks.push(callback);\n",
       "      if (window._bokeh_is_loading > 0) {\n",
       "        console.log(\"Bokeh: BokehJS is being loaded, scheduling callback at\", now());\n",
       "        return null;\n",
       "      }\n",
       "      if (js_urls == null || js_urls.length === 0) {\n",
       "        run_callbacks();\n",
       "        return null;\n",
       "      }\n",
       "      console.log(\"Bokeh: BokehJS not loaded, scheduling load and callback at\", now());\n",
       "      window._bokeh_is_loading = js_urls.length;\n",
       "      for (var i = 0; i < js_urls.length; i++) {\n",
       "        var url = js_urls[i];\n",
       "        var s = document.createElement('script');\n",
       "        s.src = url;\n",
       "        s.async = false;\n",
       "        s.onreadystatechange = s.onload = function() {\n",
       "          window._bokeh_is_loading--;\n",
       "          if (window._bokeh_is_loading === 0) {\n",
       "            console.log(\"Bokeh: all BokehJS libraries loaded\");\n",
       "            run_callbacks()\n",
       "          }\n",
       "        };\n",
       "        s.onerror = function() {\n",
       "          console.warn(\"failed to load library \" + url);\n",
       "        };\n",
       "        console.log(\"Bokeh: injecting script tag for BokehJS library: \", url);\n",
       "        document.getElementsByTagName(\"head\")[0].appendChild(s);\n",
       "      }\n",
       "    };var element = document.getElementById(\"2229bec4-525e-4a2c-8729-e49fd2014483\");\n",
       "    if (element == null) {\n",
       "      console.log(\"Bokeh: ERROR: autoload.js configured with elementid '2229bec4-525e-4a2c-8729-e49fd2014483' but no matching script tag was found. \")\n",
       "      return false;\n",
       "    }\n",
       "  \n",
       "    var js_urls = [];\n",
       "  \n",
       "    var inline_js = [\n",
       "      function(Bokeh) {\n",
       "        Bokeh.$(function() {\n",
       "            var docs_json = {\"f04dab39-b673-41fd-bf9c-717dc5d2369d\":{\"roots\":{\"references\":[{\"attributes\":{\"plot\":{\"id\":\"0ddfdf50-3a48-4628-9554-2ffde76db7be\",\"subtype\":\"Figure\",\"type\":\"Plot\"}},\"id\":\"9bc04500-23fc-4c70-a0db-87f7cfd143e4\",\"type\":\"ResetTool\"},{\"attributes\":{\"line_alpha\":{\"value\":0.1},\"line_color\":{\"value\":\"#1f77b4\"},\"line_width\":{\"value\":5},\"x\":{\"field\":\"x\"},\"y\":{\"field\":\"y\"}},\"id\":\"273c9424-33f2-4b2b-b446-bf1609e43337\",\"type\":\"Line\"},{\"attributes\":{\"num_minor_ticks\":5},\"id\":\"8b3e2ec0-6fc4-4dc5-8cdc-4e683e3cb9b7\",\"type\":\"DatetimeTicker\"},{\"attributes\":{\"overlay\":{\"id\":\"a6d04996-33aa-4512-b772-41987b166798\",\"type\":\"BoxAnnotation\"},\"plot\":{\"id\":\"0ddfdf50-3a48-4628-9554-2ffde76db7be\",\"subtype\":\"Figure\",\"type\":\"Plot\"}},\"id\":\"7f2fd0f3-66ea-4323-9cc2-d1833860f156\",\"type\":\"BoxZoomTool\"},{\"attributes\":{\"plot\":{\"id\":\"0ddfdf50-3a48-4628-9554-2ffde76db7be\",\"subtype\":\"Figure\",\"type\":\"Plot\"}},\"id\":\"df630e3e-627f-4c07-a7e4-6fe0850a809a\",\"type\":\"PanTool\"},{\"attributes\":{\"months\":[0,1,2,3,4,5,6,7,8,9,10,11]},\"id\":\"c46e8593-c958-4274-8d78-6942c1f0278e\",\"type\":\"MonthsTicker\"},{\"attributes\":{\"label\":{\"value\":\"FB\"},\"renderers\":[{\"id\":\"1f2a7119-2118-4dd2-a1b6-6e03a62a1c2c\",\"type\":\"GlyphRenderer\"}]},\"id\":\"8c1231eb-70ed-4c9b-ae53-254823470f27\",\"type\":\"LegendItem\"},{\"attributes\":{},\"id\":\"aa6547aa-ba11-4a20-a1d1-f2f7fc107fc4\",\"type\":\"BasicTicker\"},{\"attributes\":{\"callback\":null,\"column_names\":[\"y\",\"x\"],\"data\":{\"x\":[1479772800000.0,1479859200000.0,1480032000000.0,1480291200000.0,1480377600000.0,1480464000000.0],\"y\":[86.68,86.91999799999999,87.120003,86.470001,85.900002,87.300003]}},\"id\":\"1892bca4-472f-4a32-bcc8-8964e4edf709\",\"type\":\"ColumnDataSource\"},{\"attributes\":{\"plot\":{\"id\":\"0ddfdf50-3a48-4628-9554-2ffde76db7be\",\"subtype\":\"Figure\",\"type\":\"Plot\"}},\"id\":\"e76d1ecf-7d39-417a-ac82-af76bb4754d0\",\"type\":\"HelpTool\"},{\"attributes\":{\"label\":{\"value\":\"HD\"},\"renderers\":[{\"id\":\"62b20f77-bddf-4335-bc55-14c52bf84bcd\",\"type\":\"GlyphRenderer\"}]},\"id\":\"cb3e7898-7716-464c-aafd-5449525ab702\",\"type\":\"LegendItem\"},{\"attributes\":{\"max_interval\":500.0,\"num_minor_ticks\":0},\"id\":\"e6d0ef5a-be2d-47eb-afe7-5f2f61b0e722\",\"type\":\"AdaptiveTicker\"},{\"attributes\":{\"base\":24,\"mantissas\":[1,2,4,6,8,12],\"max_interval\":43200000.0,\"min_interval\":3600000.0,\"num_minor_ticks\":0},\"id\":\"34fc4b5c-ccd0-4c3e-bfeb-464ca70b851d\",\"type\":\"AdaptiveTicker\"},{\"attributes\":{},\"id\":\"1efaf8a6-328d-4466-9b45-637a2ca7b90f\",\"type\":\"ToolEvents\"},{\"attributes\":{\"days\":[1,2,3,4,5,6,7,8,9,10,11,12,13,14,15,16,17,18,19,20,21,22,23,24,25,26,27,28,29,30,31]},\"id\":\"220bdd53-b12b-4884-87d6-a4ccbd4f6398\",\"type\":\"DaysTicker\"},{\"attributes\":{\"days\":[1,15]},\"id\":\"1af049c8-62cc-4298-86c6-53b686bf7f0a\",\"type\":\"DaysTicker\"},{\"attributes\":{\"plot\":{\"id\":\"0ddfdf50-3a48-4628-9554-2ffde76db7be\",\"subtype\":\"Figure\",\"type\":\"Plot\"},\"ticker\":{\"id\":\"8b3e2ec0-6fc4-4dc5-8cdc-4e683e3cb9b7\",\"type\":\"DatetimeTicker\"}},\"id\":\"89227b21-8c47-492a-85e9-6e0113501ca0\",\"type\":\"Grid\"},{\"attributes\":{\"data_source\":{\"id\":\"66211bf3-cc66-47f4-b744-a1b7ca567944\",\"type\":\"ColumnDataSource\"},\"glyph\":{\"id\":\"3fe2b75c-f000-4b74-9427-a0aa2b47e98b\",\"type\":\"Line\"},\"hover_glyph\":null,\"nonselection_glyph\":{\"id\":\"e0ab10bd-bf47-4a96-8594-392f23dde557\",\"type\":\"Line\"},\"selection_glyph\":null},\"id\":\"62b20f77-bddf-4335-bc55-14c52bf84bcd\",\"type\":\"GlyphRenderer\"},{\"attributes\":{\"below\":[{\"id\":\"1f1ede41-ac39-4ca0-9fa3-4698978aea69\",\"type\":\"DatetimeAxis\"}],\"left\":[{\"id\":\"a93ddba7-9487-4a6b-bfed-18f9e7d02b2a\",\"type\":\"LinearAxis\"}],\"renderers\":[{\"id\":\"1f1ede41-ac39-4ca0-9fa3-4698978aea69\",\"type\":\"DatetimeAxis\"},{\"id\":\"89227b21-8c47-492a-85e9-6e0113501ca0\",\"type\":\"Grid\"},{\"id\":\"a93ddba7-9487-4a6b-bfed-18f9e7d02b2a\",\"type\":\"LinearAxis\"},{\"id\":\"4057665f-6f5c-4ea5-89a6-6f6142c2abd4\",\"type\":\"Grid\"},{\"id\":\"a6d04996-33aa-4512-b772-41987b166798\",\"type\":\"BoxAnnotation\"},{\"id\":\"c8cf6e9a-fc5d-42ec-baf3-2e22935698a3\",\"type\":\"Legend\"},{\"id\":\"1f2a7119-2118-4dd2-a1b6-6e03a62a1c2c\",\"type\":\"GlyphRenderer\"},{\"id\":\"06a5a1b9-3836-478e-83a5-ac83b249175e\",\"type\":\"GlyphRenderer\"},{\"id\":\"0c210570-cd69-4406-b635-a973fa86481e\",\"type\":\"GlyphRenderer\"},{\"id\":\"62b20f77-bddf-4335-bc55-14c52bf84bcd\",\"type\":\"GlyphRenderer\"}],\"title\":{\"id\":\"eaeb9368-0afa-4254-ae82-deae93f5eba4\",\"type\":\"Title\"},\"tool_events\":{\"id\":\"1efaf8a6-328d-4466-9b45-637a2ca7b90f\",\"type\":\"ToolEvents\"},\"toolbar\":{\"id\":\"49f30d58-2bfe-477d-ba2a-88c8a0514de0\",\"type\":\"Toolbar\"},\"x_range\":{\"id\":\"44ae8581-0543-4389-9699-11f15e70e8b8\",\"type\":\"DataRange1d\"},\"y_range\":{\"id\":\"10a4b1a8-ebe7-4cb1-9296-6be625c65096\",\"type\":\"DataRange1d\"}},\"id\":\"0ddfdf50-3a48-4628-9554-2ffde76db7be\",\"subtype\":\"Figure\",\"type\":\"Plot\"},{\"attributes\":{},\"id\":\"d4920405-a7f4-451d-9817-fe254f6e1553\",\"type\":\"BasicTickFormatter\"},{\"attributes\":{\"line_alpha\":{\"value\":0.1},\"line_color\":{\"value\":\"#1f77b4\"},\"line_width\":{\"value\":5},\"x\":{\"field\":\"x\"},\"y\":{\"field\":\"y\"}},\"id\":\"e0ab10bd-bf47-4a96-8594-392f23dde557\",\"type\":\"Line\"},{\"attributes\":{},\"id\":\"68df56a0-c43c-4aea-81e1-927336697881\",\"type\":\"DatetimeTickFormatter\"},{\"attributes\":{\"line_color\":{\"value\":\"#A6CEE3\"},\"line_width\":{\"value\":5},\"x\":{\"field\":\"x\"},\"y\":{\"field\":\"y\"}},\"id\":\"7c8f9bcd-8b5a-4fd2-9122-5140f5b50f68\",\"type\":\"Line\"},{\"attributes\":{\"dimension\":1,\"plot\":{\"id\":\"0ddfdf50-3a48-4628-9554-2ffde76db7be\",\"subtype\":\"Figure\",\"type\":\"Plot\"},\"ticker\":{\"id\":\"aa6547aa-ba11-4a20-a1d1-f2f7fc107fc4\",\"type\":\"BasicTicker\"}},\"id\":\"4057665f-6f5c-4ea5-89a6-6f6142c2abd4\",\"type\":\"Grid\"},{\"attributes\":{\"data_source\":{\"id\":\"1892bca4-472f-4a32-bcc8-8964e4edf709\",\"type\":\"ColumnDataSource\"},\"glyph\":{\"id\":\"198eb57d-1c1e-44a2-a5b2-d6069c3b752d\",\"type\":\"Line\"},\"hover_glyph\":null,\"nonselection_glyph\":{\"id\":\"41ec611a-926e-4eb9-8a7b-3b3153b919d8\",\"type\":\"Line\"},\"selection_glyph\":null},\"id\":\"06a5a1b9-3836-478e-83a5-ac83b249175e\",\"type\":\"GlyphRenderer\"},{\"attributes\":{\"callback\":null,\"column_names\":[\"y\",\"x\"],\"data\":{\"x\":[1479772800000.0,1479859200000.0,1480032000000.0,1480291200000.0,1480377600000.0,1480464000000.0],\"y\":[152.669998,151.600006,151.880005,151.25,151.479996,150.110001]}},\"id\":\"2755efcd-d5e2-44da-b1eb-d7984c0127cf\",\"type\":\"ColumnDataSource\"},{\"attributes\":{\"months\":[0,2,4,6,8,10]},\"id\":\"ef1d66ce-6bb3-49e4-a7b2-79a0620b7d46\",\"type\":\"MonthsTicker\"},{\"attributes\":{\"line_alpha\":{\"value\":0.1},\"line_color\":{\"value\":\"#1f77b4\"},\"line_width\":{\"value\":5},\"x\":{\"field\":\"x\"},\"y\":{\"field\":\"y\"}},\"id\":\"41ec611a-926e-4eb9-8a7b-3b3153b919d8\",\"type\":\"Line\"},{\"attributes\":{\"months\":[0,6]},\"id\":\"8e646881-e732-42a2-a3c3-3a6e93763026\",\"type\":\"MonthsTicker\"},{\"attributes\":{\"line_color\":{\"value\":\"#e6f598\"},\"line_width\":{\"value\":5},\"x\":{\"field\":\"x\"},\"y\":{\"field\":\"y\"}},\"id\":\"7e1537b0-1d5c-468f-a532-29fcd9bcd30a\",\"type\":\"Line\"},{\"attributes\":{\"axis_label\":\"Price\",\"formatter\":{\"id\":\"d4920405-a7f4-451d-9817-fe254f6e1553\",\"type\":\"BasicTickFormatter\"},\"plot\":{\"id\":\"0ddfdf50-3a48-4628-9554-2ffde76db7be\",\"subtype\":\"Figure\",\"type\":\"Plot\"},\"ticker\":{\"id\":\"aa6547aa-ba11-4a20-a1d1-f2f7fc107fc4\",\"type\":\"BasicTicker\"}},\"id\":\"a93ddba7-9487-4a6b-bfed-18f9e7d02b2a\",\"type\":\"LinearAxis\"},{\"attributes\":{\"callback\":null,\"column_names\":[\"y\",\"x\"],\"data\":{\"x\":[1479772800000.0,1479859200000.0,1480032000000.0,1480291200000.0,1480377600000.0,1480464000000.0],\"y\":[130.2882,130.516997,130.87509599999998,129.95,129.619995,129.399994]}},\"id\":\"66211bf3-cc66-47f4-b744-a1b7ca567944\",\"type\":\"ColumnDataSource\"},{\"attributes\":{\"line_color\":{\"value\":\"#99d594\"},\"line_width\":{\"value\":5},\"x\":{\"field\":\"x\"},\"y\":{\"field\":\"y\"}},\"id\":\"198eb57d-1c1e-44a2-a5b2-d6069c3b752d\",\"type\":\"Line\"},{\"attributes\":{},\"id\":\"7f7da535-46b6-4a22-9771-d7312e0330cb\",\"type\":\"YearsTicker\"},{\"attributes\":{\"line_alpha\":{\"value\":0.1},\"line_color\":{\"value\":\"#1f77b4\"},\"line_width\":{\"value\":5},\"x\":{\"field\":\"x\"},\"y\":{\"field\":\"y\"}},\"id\":\"e14ae7c5-72cd-476c-b1e8-658694cf2ad6\",\"type\":\"Line\"},{\"attributes\":{\"data_source\":{\"id\":\"2755efcd-d5e2-44da-b1eb-d7984c0127cf\",\"type\":\"ColumnDataSource\"},\"glyph\":{\"id\":\"7e1537b0-1d5c-468f-a532-29fcd9bcd30a\",\"type\":\"Line\"},\"hover_glyph\":null,\"nonselection_glyph\":{\"id\":\"273c9424-33f2-4b2b-b446-bf1609e43337\",\"type\":\"Line\"},\"selection_glyph\":null},\"id\":\"0c210570-cd69-4406-b635-a973fa86481e\",\"type\":\"GlyphRenderer\"},{\"attributes\":{\"days\":[1,8,15,22]},\"id\":\"c8b557cb-21b5-49c1-a56e-f1bf9cc6e602\",\"type\":\"DaysTicker\"},{\"attributes\":{\"days\":[1,4,7,10,13,16,19,22,25,28]},\"id\":\"22c25a6b-d497-4b5f-857a-5eaa60cc89de\",\"type\":\"DaysTicker\"},{\"attributes\":{\"callback\":null},\"id\":\"44ae8581-0543-4389-9699-11f15e70e8b8\",\"type\":\"DataRange1d\"},{\"attributes\":{\"line_color\":{\"value\":\"#fee08b\"},\"line_width\":{\"value\":5},\"x\":{\"field\":\"x\"},\"y\":{\"field\":\"y\"}},\"id\":\"3fe2b75c-f000-4b74-9427-a0aa2b47e98b\",\"type\":\"Line\"},{\"attributes\":{\"items\":[{\"id\":\"8c1231eb-70ed-4c9b-ae53-254823470f27\",\"type\":\"LegendItem\"},{\"id\":\"2de7c10b-51d5-4626-b2d1-f72dee21cd73\",\"type\":\"LegendItem\"},{\"id\":\"ae105aae-44e6-4a9d-a33e-e4b46aeef536\",\"type\":\"LegendItem\"},{\"id\":\"cb3e7898-7716-464c-aafd-5449525ab702\",\"type\":\"LegendItem\"}],\"plot\":{\"id\":\"0ddfdf50-3a48-4628-9554-2ffde76db7be\",\"subtype\":\"Figure\",\"type\":\"Plot\"}},\"id\":\"c8cf6e9a-fc5d-42ec-baf3-2e22935698a3\",\"type\":\"Legend\"},{\"attributes\":{\"label\":{\"value\":\"XOM\"},\"renderers\":[{\"id\":\"06a5a1b9-3836-478e-83a5-ac83b249175e\",\"type\":\"GlyphRenderer\"}]},\"id\":\"2de7c10b-51d5-4626-b2d1-f72dee21cd73\",\"type\":\"LegendItem\"},{\"attributes\":{\"callback\":null,\"column_names\":[\"y\",\"x\"],\"data\":{\"x\":[1479772800000.0,1479859200000.0,1480032000000.0,1480291200000.0,1480377600000.0,1480464000000.0],\"y\":[121.470001,120.839996,120.379997,120.410004,120.870003,118.41999799999999]}},\"id\":\"44fa04b9-e2e6-423a-87df-1a43962b68b7\",\"type\":\"ColumnDataSource\"},{\"attributes\":{\"months\":[0,4,8]},\"id\":\"0cb21cea-878e-448c-99d3-c17c107c4527\",\"type\":\"MonthsTicker\"},{\"attributes\":{\"label\":{\"value\":\"COST\"},\"renderers\":[{\"id\":\"0c210570-cd69-4406-b635-a973fa86481e\",\"type\":\"GlyphRenderer\"}]},\"id\":\"ae105aae-44e6-4a9d-a33e-e4b46aeef536\",\"type\":\"LegendItem\"},{\"attributes\":{\"base\":60,\"mantissas\":[1,2,5,10,15,20,30],\"max_interval\":1800000.0,\"min_interval\":1000.0,\"num_minor_ticks\":0},\"id\":\"81c725eb-0aac-4ad1-9ef6-4f703d41ead1\",\"type\":\"AdaptiveTicker\"},{\"attributes\":{\"plot\":null,\"text\":\"Stock Closing Prices\"},\"id\":\"eaeb9368-0afa-4254-ae82-deae93f5eba4\",\"type\":\"Title\"},{\"attributes\":{\"callback\":null},\"id\":\"10a4b1a8-ebe7-4cb1-9296-6be625c65096\",\"type\":\"DataRange1d\"},{\"attributes\":{\"plot\":{\"id\":\"0ddfdf50-3a48-4628-9554-2ffde76db7be\",\"subtype\":\"Figure\",\"type\":\"Plot\"}},\"id\":\"6e194e2d-1134-44e1-b599-bbf96d4d61f1\",\"type\":\"WheelZoomTool\"},{\"attributes\":{\"axis_label\":\"Date\",\"formatter\":{\"id\":\"68df56a0-c43c-4aea-81e1-927336697881\",\"type\":\"DatetimeTickFormatter\"},\"plot\":{\"id\":\"0ddfdf50-3a48-4628-9554-2ffde76db7be\",\"subtype\":\"Figure\",\"type\":\"Plot\"},\"ticker\":{\"id\":\"8b3e2ec0-6fc4-4dc5-8cdc-4e683e3cb9b7\",\"type\":\"DatetimeTicker\"}},\"id\":\"1f1ede41-ac39-4ca0-9fa3-4698978aea69\",\"type\":\"DatetimeAxis\"},{\"attributes\":{\"bottom_units\":\"screen\",\"fill_alpha\":{\"value\":0.5},\"fill_color\":{\"value\":\"lightgrey\"},\"left_units\":\"screen\",\"level\":\"overlay\",\"line_alpha\":{\"value\":1.0},\"line_color\":{\"value\":\"black\"},\"line_dash\":[4,4],\"line_width\":{\"value\":2},\"plot\":null,\"render_mode\":\"css\",\"right_units\":\"screen\",\"top_units\":\"screen\"},\"id\":\"a6d04996-33aa-4512-b772-41987b166798\",\"type\":\"BoxAnnotation\"},{\"attributes\":{\"active_drag\":\"auto\",\"active_scroll\":\"auto\",\"active_tap\":\"auto\",\"tools\":[{\"id\":\"df630e3e-627f-4c07-a7e4-6fe0850a809a\",\"type\":\"PanTool\"},{\"id\":\"6e194e2d-1134-44e1-b599-bbf96d4d61f1\",\"type\":\"WheelZoomTool\"},{\"id\":\"7f2fd0f3-66ea-4323-9cc2-d1833860f156\",\"type\":\"BoxZoomTool\"},{\"id\":\"261de97f-6bca-4d2a-a78a-46a0e87feaba\",\"type\":\"SaveTool\"},{\"id\":\"9bc04500-23fc-4c70-a0db-87f7cfd143e4\",\"type\":\"ResetTool\"},{\"id\":\"e76d1ecf-7d39-417a-ac82-af76bb4754d0\",\"type\":\"HelpTool\"}]},\"id\":\"49f30d58-2bfe-477d-ba2a-88c8a0514de0\",\"type\":\"Toolbar\"},{\"attributes\":{\"plot\":{\"id\":\"0ddfdf50-3a48-4628-9554-2ffde76db7be\",\"subtype\":\"Figure\",\"type\":\"Plot\"}},\"id\":\"261de97f-6bca-4d2a-a78a-46a0e87feaba\",\"type\":\"SaveTool\"},{\"attributes\":{\"data_source\":{\"id\":\"44fa04b9-e2e6-423a-87df-1a43962b68b7\",\"type\":\"ColumnDataSource\"},\"glyph\":{\"id\":\"7c8f9bcd-8b5a-4fd2-9122-5140f5b50f68\",\"type\":\"Line\"},\"hover_glyph\":null,\"nonselection_glyph\":{\"id\":\"e14ae7c5-72cd-476c-b1e8-658694cf2ad6\",\"type\":\"Line\"},\"selection_glyph\":null},\"id\":\"1f2a7119-2118-4dd2-a1b6-6e03a62a1c2c\",\"type\":\"GlyphRenderer\"}],\"root_ids\":[\"0ddfdf50-3a48-4628-9554-2ffde76db7be\"]},\"title\":\"Bokeh Application\",\"version\":\"0.12.3\"}};\n",
       "            var render_items = [{\"docid\":\"f04dab39-b673-41fd-bf9c-717dc5d2369d\",\"elementid\":\"2229bec4-525e-4a2c-8729-e49fd2014483\",\"modelid\":\"0ddfdf50-3a48-4628-9554-2ffde76db7be\"}];\n",
       "            \n",
       "            Bokeh.embed.embed_items(docs_json, render_items);\n",
       "        });\n",
       "      },\n",
       "      function(Bokeh) {\n",
       "      }\n",
       "    ];\n",
       "  \n",
       "    function run_inline_js() {\n",
       "      \n",
       "      if ((window.Bokeh !== undefined) || (force === \"1\")) {\n",
       "        for (var i = 0; i < inline_js.length; i++) {\n",
       "          inline_js[i](window.Bokeh);\n",
       "        }if (force === \"1\") {\n",
       "          display_loaded();\n",
       "        }} else if (Date.now() < window._bokeh_timeout) {\n",
       "        setTimeout(run_inline_js, 100);\n",
       "      } else if (!window._bokeh_failed_load) {\n",
       "        console.log(\"Bokeh: BokehJS failed to load within specified timeout.\");\n",
       "        window._bokeh_failed_load = true;\n",
       "      } else if (!force) {\n",
       "        var cell = $(\"#2229bec4-525e-4a2c-8729-e49fd2014483\").parents('.cell').data().cell;\n",
       "        cell.output_area.append_execute_result(NB_LOAD_WARNING)\n",
       "      }\n",
       "  \n",
       "    }\n",
       "  \n",
       "    if (window._bokeh_is_loading === 0) {\n",
       "      console.log(\"Bokeh: BokehJS loaded, going straight to plotting\");\n",
       "      run_inline_js();\n",
       "    } else {\n",
       "      load_libs(js_urls, function() {\n",
       "        console.log(\"Bokeh: BokehJS plotting callback run at\", now());\n",
       "        run_inline_js();\n",
       "      });\n",
       "    }\n",
       "  }(this));\n",
       "</script>"
      ]
     },
     "metadata": {},
     "output_type": "display_data"
    }
   ],
   "source": [
    "from bokeh.charts import Line, show, output_file\n",
    "p2 = figure(x_axis_type='datetime', title='Stock Closing Prices')\n",
    "p2.xaxis.axis_label = 'Date'\n",
    "p2.yaxis.axis_label = 'Price'\n",
    "\n",
    "colors = ['#A6CEE3', '#99d594', '#e6f598', '#fee08b']\n",
    "for i, j in zip(stockslist, colors):\n",
    "    p2.line(df_chart.Date, df_chart[i], legend=i, color=j, line_width=5)\n",
    "\n",
    "show(p2)"
   ]
  },
  {
   "cell_type": "code",
   "execution_count": 131,
   "metadata": {
    "collapsed": false,
    "scrolled": true
   },
   "outputs": [
    {
     "data": {
      "text/plain": [
       "{'COST': 1603.8171119634574,\n",
       " 'FB': 977.44971394985703,\n",
       " 'HD': 2189.4783455290085,\n",
       " 'XOM': 1229.2548285576768}"
      ]
     },
     "execution_count": 131,
     "metadata": {},
     "output_type": "execute_result"
    }
   ],
   "source": [
    "stockallocation"
   ]
  },
  {
   "cell_type": "code",
   "execution_count": 156,
   "metadata": {
    "collapsed": false
   },
   "outputs": [],
   "source": [
    "df_allocation = pd.DataFrame(stockallocation.items(), columns=['Stocks','Allocation'],index=stockallocation.keys())"
   ]
  },
  {
   "cell_type": "code",
   "execution_count": 197,
   "metadata": {
    "collapsed": false
   },
   "outputs": [
    {
     "data": {
      "text/html": [
       "<div style=\"max-height:1000px;max-width:1500px;overflow:auto;\">\n",
       "<table border=\"1\" class=\"dataframe\">\n",
       "  <thead>\n",
       "    <tr style=\"text-align: right;\">\n",
       "      <th></th>\n",
       "      <th>Stocks</th>\n",
       "      <th>Allocation</th>\n",
       "    </tr>\n",
       "  </thead>\n",
       "  <tbody>\n",
       "    <tr>\n",
       "      <th>COST</th>\n",
       "      <td> COST</td>\n",
       "      <td> 1603.817112</td>\n",
       "    </tr>\n",
       "    <tr>\n",
       "      <th>FB</th>\n",
       "      <td>   FB</td>\n",
       "      <td>  977.449714</td>\n",
       "    </tr>\n",
       "    <tr>\n",
       "      <th>XOM</th>\n",
       "      <td>  XOM</td>\n",
       "      <td> 1229.254829</td>\n",
       "    </tr>\n",
       "    <tr>\n",
       "      <th>HD</th>\n",
       "      <td>   HD</td>\n",
       "      <td> 2189.478346</td>\n",
       "    </tr>\n",
       "  </tbody>\n",
       "</table>\n",
       "</div>"
      ],
      "text/plain": [
       "     Stocks   Allocation\n",
       "COST   COST  1603.817112\n",
       "FB       FB   977.449714\n",
       "XOM     XOM  1229.254829\n",
       "HD       HD  2189.478346"
      ]
     },
     "execution_count": 197,
     "metadata": {},
     "output_type": "execute_result"
    }
   ],
   "source": [
    "df_allocation"
   ]
  },
  {
   "cell_type": "code",
   "execution_count": 139,
   "metadata": {
    "collapsed": false
   },
   "outputs": [
    {
     "data": {
      "text/html": [
       "<div style=\"max-height:1000px;max-width:1500px;overflow:auto;\">\n",
       "<table border=\"1\" class=\"dataframe\">\n",
       "  <thead>\n",
       "    <tr style=\"text-align: right;\">\n",
       "      <th></th>\n",
       "      <th>PE</th>\n",
       "      <th>change_pct</th>\n",
       "      <th>last</th>\n",
       "      <th>short_ratio</th>\n",
       "      <th>time</th>\n",
       "    </tr>\n",
       "  </thead>\n",
       "  <tbody>\n",
       "    <tr>\n",
       "      <th>FB</th>\n",
       "      <td> 44.37</td>\n",
       "      <td> -2.80%</td>\n",
       "      <td> 115.10</td>\n",
       "      <td> 1.24</td>\n",
       "      <td> 4:00pm</td>\n",
       "    </tr>\n",
       "    <tr>\n",
       "      <th>XOM</th>\n",
       "      <td> 40.84</td>\n",
       "      <td> -0.07%</td>\n",
       "      <td>  87.24</td>\n",
       "      <td> 5.71</td>\n",
       "      <td> 4:00pm</td>\n",
       "    </tr>\n",
       "    <tr>\n",
       "      <th>COST</th>\n",
       "      <td> 28.47</td>\n",
       "      <td> +1.09%</td>\n",
       "      <td> 151.74</td>\n",
       "      <td> 3.65</td>\n",
       "      <td> 4:00pm</td>\n",
       "    </tr>\n",
       "    <tr>\n",
       "      <th>HD</th>\n",
       "      <td> 21.02</td>\n",
       "      <td> +0.05%</td>\n",
       "      <td> 129.47</td>\n",
       "      <td> 1.87</td>\n",
       "      <td> 4:00pm</td>\n",
       "    </tr>\n",
       "  </tbody>\n",
       "</table>\n",
       "</div>"
      ],
      "text/plain": [
       "         PE change_pct    last  short_ratio    time\n",
       "FB    44.37     -2.80%  115.10         1.24  4:00pm\n",
       "XOM   40.84     -0.07%   87.24         5.71  4:00pm\n",
       "COST  28.47     +1.09%  151.74         3.65  4:00pm\n",
       "HD    21.02     +0.05%  129.47         1.87  4:00pm"
      ]
     },
     "execution_count": 139,
     "metadata": {},
     "output_type": "execute_result"
    }
   ],
   "source": [
    "df_today"
   ]
  },
  {
   "cell_type": "code",
   "execution_count": 150,
   "metadata": {
    "collapsed": false
   },
   "outputs": [],
   "source": [
    "df_stocktoday = df_today.join(df_allocation, how='right')"
   ]
  },
  {
   "cell_type": "code",
   "execution_count": 153,
   "metadata": {
    "collapsed": false
   },
   "outputs": [],
   "source": [
    "df_stocktoday['allocation_ratio'] = df_stocktoday.Allocation/df_stocktoday.Allocation.sum()"
   ]
  },
  {
   "cell_type": "code",
   "execution_count": 158,
   "metadata": {
    "collapsed": false
   },
   "outputs": [
    {
     "data": {
      "text/html": [
       "<div style=\"max-height:1000px;max-width:1500px;overflow:auto;\">\n",
       "<table border=\"1\" class=\"dataframe\">\n",
       "  <thead>\n",
       "    <tr style=\"text-align: right;\">\n",
       "      <th></th>\n",
       "      <th>PE</th>\n",
       "      <th>change_pct</th>\n",
       "      <th>last</th>\n",
       "      <th>short_ratio</th>\n",
       "      <th>time</th>\n",
       "      <th>Stock</th>\n",
       "      <th>Allocation</th>\n",
       "      <th>allocation_ratio</th>\n",
       "    </tr>\n",
       "  </thead>\n",
       "  <tbody>\n",
       "    <tr>\n",
       "      <th>COST</th>\n",
       "      <td> 28.47</td>\n",
       "      <td> +1.09%</td>\n",
       "      <td> 151.74</td>\n",
       "      <td> 3.65</td>\n",
       "      <td> 4:00pm</td>\n",
       "      <td> COST</td>\n",
       "      <td> 1603.817112</td>\n",
       "      <td> 0.267303</td>\n",
       "    </tr>\n",
       "    <tr>\n",
       "      <th>FB</th>\n",
       "      <td> 44.37</td>\n",
       "      <td> -2.80%</td>\n",
       "      <td> 115.10</td>\n",
       "      <td> 1.24</td>\n",
       "      <td> 4:00pm</td>\n",
       "      <td>   FB</td>\n",
       "      <td>  977.449714</td>\n",
       "      <td> 0.162908</td>\n",
       "    </tr>\n",
       "    <tr>\n",
       "      <th>XOM</th>\n",
       "      <td> 40.84</td>\n",
       "      <td> -0.07%</td>\n",
       "      <td>  87.24</td>\n",
       "      <td> 5.71</td>\n",
       "      <td> 4:00pm</td>\n",
       "      <td>  XOM</td>\n",
       "      <td> 1229.254829</td>\n",
       "      <td> 0.204876</td>\n",
       "    </tr>\n",
       "    <tr>\n",
       "      <th>HD</th>\n",
       "      <td> 21.02</td>\n",
       "      <td> +0.05%</td>\n",
       "      <td> 129.47</td>\n",
       "      <td> 1.87</td>\n",
       "      <td> 4:00pm</td>\n",
       "      <td>   HD</td>\n",
       "      <td> 2189.478346</td>\n",
       "      <td> 0.364913</td>\n",
       "    </tr>\n",
       "  </tbody>\n",
       "</table>\n",
       "</div>"
      ],
      "text/plain": [
       "         PE change_pct    last  short_ratio    time Stock   Allocation  \\\n",
       "COST  28.47     +1.09%  151.74         3.65  4:00pm  COST  1603.817112   \n",
       "FB    44.37     -2.80%  115.10         1.24  4:00pm    FB   977.449714   \n",
       "XOM   40.84     -0.07%   87.24         5.71  4:00pm   XOM  1229.254829   \n",
       "HD    21.02     +0.05%  129.47         1.87  4:00pm    HD  2189.478346   \n",
       "\n",
       "      allocation_ratio  \n",
       "COST          0.267303  \n",
       "FB            0.162908  \n",
       "XOM           0.204876  \n",
       "HD            0.364913  "
      ]
     },
     "execution_count": 158,
     "metadata": {},
     "output_type": "execute_result"
    }
   ],
   "source": [
    "df_stocktoday"
   ]
  },
  {
   "cell_type": "code",
   "execution_count": 159,
   "metadata": {
    "collapsed": true
   },
   "outputs": [],
   "source": [
    "stockinfo = {'exchange': {u'AAPL': u'NMS',\n",
    "  u'AMZN': u'NMS',\n",
    "  u'COST': u'NMS',\n",
    "  u'CRM': u'NYQ',\n",
    "  u'DIS': u'NYQ',\n",
    "  u'FB': u'NMS',\n",
    "  u'HD': u'NYQ',\n",
    "  u'MSFT': u'NMS',\n",
    "  u'NFLX': u'NMS',\n",
    "  u'NVDA': u'NMS',\n",
    "  u'PBW': u'PCX',\n",
    "  u'SCTY': u'NMS',\n",
    "  u'SPY': u'PCX',\n",
    "  u'TSLA': u'NMS',\n",
    "  u'TWLO': u'NYQ',\n",
    "  u'VBR': u'PCX',\n",
    "  u'VTI': u'PCX',\n",
    "  u'VWO': u'PCX',\n",
    "  u'XOM': u'NYQ'},\n",
    " 'name': {u'AAPL': u'Apple Inc.',\n",
    "  u'AMZN': u'Amazon.com, Inc.',\n",
    "  u'COST': u'Costco Wholesale Corporation',\n",
    "  u'CRM': u'Salesforce.com Inc Common Stock',\n",
    "  u'DIS': u'Walt Disney Company (The) Commo',\n",
    "  u'FB': u'Facebook, Inc.',\n",
    "  u'HD': u'Home Depot, Inc. (The) Common S',\n",
    "  u'MSFT': u'Microsoft Corporation',\n",
    "  u'NFLX': u'Netflix, Inc.',\n",
    "  u'NVDA': u'NVIDIA Corporation',\n",
    "  u'PBW': u'PowerShares WilderHill Clean En',\n",
    "  u'SCTY': u'SolarCity Corporation',\n",
    "  u'SPY': u'SPDR S&P 500',\n",
    "  u'TSLA': u'Tesla Motors, Inc.',\n",
    "  u'TWLO': u'Twilio Inc. Class A Common Stoc',\n",
    "  u'VBR': u'Vanguard Small-Cap Value ETF - ',\n",
    "  u'VTI': u'Vanguard Total Stock Market ETF',\n",
    "  u'VWO': u'Vanguard FTSE Emerging Markets ',\n",
    "  u'XOM': u'Exxon Mobil Corporation Common '}}\n",
    "df_stockinfo = pd.DataFrame(stockinfo)"
   ]
  },
  {
   "cell_type": "code",
   "execution_count": 163,
   "metadata": {
    "collapsed": false
   },
   "outputs": [],
   "source": [
    "df_stocktoday = df_stocktoday.join(df_stockinfo, how ='left')"
   ]
  },
  {
   "cell_type": "code",
   "execution_count": 164,
   "metadata": {
    "collapsed": false,
    "scrolled": true
   },
   "outputs": [
    {
     "data": {
      "text/html": [
       "<div style=\"max-height:1000px;max-width:1500px;overflow:auto;\">\n",
       "<table border=\"1\" class=\"dataframe\">\n",
       "  <thead>\n",
       "    <tr style=\"text-align: right;\">\n",
       "      <th></th>\n",
       "      <th>PE</th>\n",
       "      <th>change_pct</th>\n",
       "      <th>last</th>\n",
       "      <th>short_ratio</th>\n",
       "      <th>time</th>\n",
       "      <th>Stock</th>\n",
       "      <th>Allocation</th>\n",
       "      <th>allocation_ratio</th>\n",
       "      <th>exchange</th>\n",
       "      <th>name</th>\n",
       "    </tr>\n",
       "  </thead>\n",
       "  <tbody>\n",
       "    <tr>\n",
       "      <th>COST</th>\n",
       "      <td> 28.47</td>\n",
       "      <td> +1.09%</td>\n",
       "      <td> 151.74</td>\n",
       "      <td> 3.65</td>\n",
       "      <td> 4:00pm</td>\n",
       "      <td> COST</td>\n",
       "      <td> 1603.817112</td>\n",
       "      <td> 0.267303</td>\n",
       "      <td> NMS</td>\n",
       "      <td>    Costco Wholesale Corporation</td>\n",
       "    </tr>\n",
       "    <tr>\n",
       "      <th>FB</th>\n",
       "      <td> 44.37</td>\n",
       "      <td> -2.80%</td>\n",
       "      <td> 115.10</td>\n",
       "      <td> 1.24</td>\n",
       "      <td> 4:00pm</td>\n",
       "      <td>   FB</td>\n",
       "      <td>  977.449714</td>\n",
       "      <td> 0.162908</td>\n",
       "      <td> NMS</td>\n",
       "      <td>                  Facebook, Inc.</td>\n",
       "    </tr>\n",
       "    <tr>\n",
       "      <th>XOM</th>\n",
       "      <td> 40.84</td>\n",
       "      <td> -0.07%</td>\n",
       "      <td>  87.24</td>\n",
       "      <td> 5.71</td>\n",
       "      <td> 4:00pm</td>\n",
       "      <td>  XOM</td>\n",
       "      <td> 1229.254829</td>\n",
       "      <td> 0.204876</td>\n",
       "      <td> NYQ</td>\n",
       "      <td> Exxon Mobil Corporation Common </td>\n",
       "    </tr>\n",
       "    <tr>\n",
       "      <th>HD</th>\n",
       "      <td> 21.02</td>\n",
       "      <td> +0.05%</td>\n",
       "      <td> 129.47</td>\n",
       "      <td> 1.87</td>\n",
       "      <td> 4:00pm</td>\n",
       "      <td>   HD</td>\n",
       "      <td> 2189.478346</td>\n",
       "      <td> 0.364913</td>\n",
       "      <td> NYQ</td>\n",
       "      <td> Home Depot, Inc. (The) Common S</td>\n",
       "    </tr>\n",
       "  </tbody>\n",
       "</table>\n",
       "</div>"
      ],
      "text/plain": [
       "         PE change_pct    last  short_ratio    time Stock   Allocation  \\\n",
       "COST  28.47     +1.09%  151.74         3.65  4:00pm  COST  1603.817112   \n",
       "FB    44.37     -2.80%  115.10         1.24  4:00pm    FB   977.449714   \n",
       "XOM   40.84     -0.07%   87.24         5.71  4:00pm   XOM  1229.254829   \n",
       "HD    21.02     +0.05%  129.47         1.87  4:00pm    HD  2189.478346   \n",
       "\n",
       "      allocation_ratio exchange                             name  \n",
       "COST          0.267303      NMS     Costco Wholesale Corporation  \n",
       "FB            0.162908      NMS                   Facebook, Inc.  \n",
       "XOM           0.204876      NYQ  Exxon Mobil Corporation Common   \n",
       "HD            0.364913      NYQ  Home Depot, Inc. (The) Common S  "
      ]
     },
     "execution_count": 164,
     "metadata": {},
     "output_type": "execute_result"
    }
   ],
   "source": [
    "df_stocktoday"
   ]
  },
  {
   "cell_type": "code",
   "execution_count": 180,
   "metadata": {
    "collapsed": false
   },
   "outputs": [
    {
     "data": {
      "text/plain": [
       "PE                  float64\n",
       "change_pct           object\n",
       "last                float64\n",
       "short_ratio         float64\n",
       "time                 object\n",
       "Stock                object\n",
       "Allocation          float64\n",
       "allocation_ratio    float64\n",
       "exchange             object\n",
       "name                 object\n",
       "dtype: object"
      ]
     },
     "execution_count": 180,
     "metadata": {},
     "output_type": "execute_result"
    }
   ],
   "source": [
    "df_stocktoday.dtypes"
   ]
  },
  {
   "cell_type": "code",
   "execution_count": 192,
   "metadata": {
    "collapsed": true
   },
   "outputs": [],
   "source": [
    "df_stocktodayhtml = df_stocktoday[['PE', 'last', 'time', 'Allocation', 'allocation_ratio', 'exchange', 'name']]"
   ]
  },
  {
   "cell_type": "code",
   "execution_count": 193,
   "metadata": {
    "collapsed": false
   },
   "outputs": [
    {
     "data": {
      "text/html": [
       "<div style=\"max-height:1000px;max-width:1500px;overflow:auto;\">\n",
       "<table border=\"1\" class=\"dataframe\">\n",
       "  <thead>\n",
       "    <tr style=\"text-align: right;\">\n",
       "      <th></th>\n",
       "      <th>PE</th>\n",
       "      <th>last</th>\n",
       "      <th>time</th>\n",
       "      <th>Allocation</th>\n",
       "      <th>allocation_ratio</th>\n",
       "      <th>exchange</th>\n",
       "      <th>name</th>\n",
       "    </tr>\n",
       "  </thead>\n",
       "  <tbody>\n",
       "    <tr>\n",
       "      <th>COST</th>\n",
       "      <td> 28.47</td>\n",
       "      <td> 151.74</td>\n",
       "      <td> 4:00pm</td>\n",
       "      <td> 1603.817112</td>\n",
       "      <td> 0.267303</td>\n",
       "      <td> NMS</td>\n",
       "      <td>    Costco Wholesale Corporation</td>\n",
       "    </tr>\n",
       "    <tr>\n",
       "      <th>FB</th>\n",
       "      <td> 44.37</td>\n",
       "      <td> 115.10</td>\n",
       "      <td> 4:00pm</td>\n",
       "      <td>  977.449714</td>\n",
       "      <td> 0.162908</td>\n",
       "      <td> NMS</td>\n",
       "      <td>                  Facebook, Inc.</td>\n",
       "    </tr>\n",
       "    <tr>\n",
       "      <th>XOM</th>\n",
       "      <td> 40.84</td>\n",
       "      <td>  87.24</td>\n",
       "      <td> 4:00pm</td>\n",
       "      <td> 1229.254829</td>\n",
       "      <td> 0.204876</td>\n",
       "      <td> NYQ</td>\n",
       "      <td> Exxon Mobil Corporation Common </td>\n",
       "    </tr>\n",
       "    <tr>\n",
       "      <th>HD</th>\n",
       "      <td> 21.02</td>\n",
       "      <td> 129.47</td>\n",
       "      <td> 4:00pm</td>\n",
       "      <td> 2189.478346</td>\n",
       "      <td> 0.364913</td>\n",
       "      <td> NYQ</td>\n",
       "      <td> Home Depot, Inc. (The) Common S</td>\n",
       "    </tr>\n",
       "  </tbody>\n",
       "</table>\n",
       "</div>"
      ],
      "text/plain": [
       "         PE    last    time   Allocation  allocation_ratio exchange  \\\n",
       "COST  28.47  151.74  4:00pm  1603.817112          0.267303      NMS   \n",
       "FB    44.37  115.10  4:00pm   977.449714          0.162908      NMS   \n",
       "XOM   40.84   87.24  4:00pm  1229.254829          0.204876      NYQ   \n",
       "HD    21.02  129.47  4:00pm  2189.478346          0.364913      NYQ   \n",
       "\n",
       "                                 name  \n",
       "COST     Costco Wholesale Corporation  \n",
       "FB                     Facebook, Inc.  \n",
       "XOM   Exxon Mobil Corporation Common   \n",
       "HD    Home Depot, Inc. (The) Common S  "
      ]
     },
     "execution_count": 193,
     "metadata": {},
     "output_type": "execute_result"
    }
   ],
   "source": [
    "df_stocktodayhtml"
   ]
  },
  {
   "cell_type": "code",
   "execution_count": 194,
   "metadata": {
    "collapsed": false
   },
   "outputs": [
    {
     "data": {
      "text/html": [
       "<div style=\"max-height:1000px;max-width:1500px;overflow:auto;\">\n",
       "<table border=\"1\" class=\"dataframe\">\n",
       "  <thead>\n",
       "    <tr style=\"text-align: right;\">\n",
       "      <th></th>\n",
       "      <th>PE</th>\n",
       "      <th>Latest Price</th>\n",
       "      <th>Last Quote Time</th>\n",
       "      <th>Holdings Value</th>\n",
       "      <th>Holdings ratio</th>\n",
       "      <th>Exchange</th>\n",
       "      <th>Company Name</th>\n",
       "    </tr>\n",
       "  </thead>\n",
       "  <tbody>\n",
       "    <tr>\n",
       "      <th>COST</th>\n",
       "      <td> 28.47</td>\n",
       "      <td> 151.74</td>\n",
       "      <td> 4:00pm</td>\n",
       "      <td> 1603.817112</td>\n",
       "      <td> 0.267303</td>\n",
       "      <td> NMS</td>\n",
       "      <td>    Costco Wholesale Corporation</td>\n",
       "    </tr>\n",
       "    <tr>\n",
       "      <th>FB</th>\n",
       "      <td> 44.37</td>\n",
       "      <td> 115.10</td>\n",
       "      <td> 4:00pm</td>\n",
       "      <td>  977.449714</td>\n",
       "      <td> 0.162908</td>\n",
       "      <td> NMS</td>\n",
       "      <td>                  Facebook, Inc.</td>\n",
       "    </tr>\n",
       "    <tr>\n",
       "      <th>XOM</th>\n",
       "      <td> 40.84</td>\n",
       "      <td>  87.24</td>\n",
       "      <td> 4:00pm</td>\n",
       "      <td> 1229.254829</td>\n",
       "      <td> 0.204876</td>\n",
       "      <td> NYQ</td>\n",
       "      <td> Exxon Mobil Corporation Common </td>\n",
       "    </tr>\n",
       "    <tr>\n",
       "      <th>HD</th>\n",
       "      <td> 21.02</td>\n",
       "      <td> 129.47</td>\n",
       "      <td> 4:00pm</td>\n",
       "      <td> 2189.478346</td>\n",
       "      <td> 0.364913</td>\n",
       "      <td> NYQ</td>\n",
       "      <td> Home Depot, Inc. (The) Common S</td>\n",
       "    </tr>\n",
       "  </tbody>\n",
       "</table>\n",
       "</div>"
      ],
      "text/plain": [
       "         PE  Latest Price Last Quote Time  Holdings Value  Holdings ratio  \\\n",
       "COST  28.47        151.74          4:00pm     1603.817112        0.267303   \n",
       "FB    44.37        115.10          4:00pm      977.449714        0.162908   \n",
       "XOM   40.84         87.24          4:00pm     1229.254829        0.204876   \n",
       "HD    21.02        129.47          4:00pm     2189.478346        0.364913   \n",
       "\n",
       "     Exchange                     Company Name  \n",
       "COST      NMS     Costco Wholesale Corporation  \n",
       "FB        NMS                   Facebook, Inc.  \n",
       "XOM       NYQ  Exxon Mobil Corporation Common   \n",
       "HD        NYQ  Home Depot, Inc. (The) Common S  "
      ]
     },
     "execution_count": 194,
     "metadata": {},
     "output_type": "execute_result"
    }
   ],
   "source": [
    "df_stocktodayhtml.columns =['PE', 'Latest Price', 'Last Quote Time', 'Holdings Value', 'Holdings ratio', 'Exchange', 'Company Name']\n",
    "df_stocktodayhtml"
   ]
  },
  {
   "cell_type": "code",
   "execution_count": 195,
   "metadata": {
    "collapsed": false
   },
   "outputs": [
    {
     "data": {
      "text/html": [
       "<table border=\"1\" class=\"dataframe\">\n",
       "  <thead>\n",
       "    <tr style=\"text-align: right;\">\n",
       "      <th></th>\n",
       "      <th>PE</th>\n",
       "      <th>Latest Price</th>\n",
       "      <th>Last Quote Time</th>\n",
       "      <th>Holdings Value</th>\n",
       "      <th>Holdings ratio</th>\n",
       "      <th>Exchange</th>\n",
       "      <th>Company Name</th>\n",
       "    </tr>\n",
       "  </thead>\n",
       "  <tbody>\n",
       "    <tr>\n",
       "      <th>COST</th>\n",
       "      <td> 28.47</td>\n",
       "      <td>$151.74</td>\n",
       "      <td> 4:00pm</td>\n",
       "      <td>$1,603.82</td>\n",
       "      <td>26.73%</td>\n",
       "      <td> NMS</td>\n",
       "      <td>    Costco Wholesale Corporation</td>\n",
       "    </tr>\n",
       "    <tr>\n",
       "      <th>FB</th>\n",
       "      <td> 44.37</td>\n",
       "      <td>$115.10</td>\n",
       "      <td> 4:00pm</td>\n",
       "      <td>  $977.45</td>\n",
       "      <td>16.29%</td>\n",
       "      <td> NMS</td>\n",
       "      <td>                  Facebook, Inc.</td>\n",
       "    </tr>\n",
       "    <tr>\n",
       "      <th>XOM</th>\n",
       "      <td> 40.84</td>\n",
       "      <td> $87.24</td>\n",
       "      <td> 4:00pm</td>\n",
       "      <td>$1,229.25</td>\n",
       "      <td>20.49%</td>\n",
       "      <td> NYQ</td>\n",
       "      <td> Exxon Mobil Corporation Common </td>\n",
       "    </tr>\n",
       "    <tr>\n",
       "      <th>HD</th>\n",
       "      <td> 21.02</td>\n",
       "      <td>$129.47</td>\n",
       "      <td> 4:00pm</td>\n",
       "      <td>$2,189.48</td>\n",
       "      <td>36.49%</td>\n",
       "      <td> NYQ</td>\n",
       "      <td> Home Depot, Inc. (The) Common S</td>\n",
       "    </tr>\n",
       "  </tbody>\n",
       "</table>"
      ],
      "text/plain": [
       "<IPython.core.display.HTML object>"
      ]
     },
     "execution_count": 195,
     "metadata": {},
     "output_type": "execute_result"
    }
   ],
   "source": [
    "from IPython.core.display import HTML\n",
    "HTML(df_stocktodayhtml.to_html(formatters={'Latest Price':'${:,.2f}'.format, 'Holdings Value':'${:,.2f}'.format, 'Holdings ratio':'{:,.2%}'.format}))"
   ]
  },
  {
   "cell_type": "code",
   "execution_count": 198,
   "metadata": {
    "collapsed": false
   },
   "outputs": [
    {
     "data": {
      "text/html": [
       "<div style=\"max-height:1000px;max-width:1500px;overflow:auto;\">\n",
       "<table border=\"1\" class=\"dataframe\">\n",
       "  <thead>\n",
       "    <tr style=\"text-align: right;\">\n",
       "      <th></th>\n",
       "      <th>Stocks</th>\n",
       "      <th>Allocation</th>\n",
       "    </tr>\n",
       "  </thead>\n",
       "  <tbody>\n",
       "    <tr>\n",
       "      <th>COST</th>\n",
       "      <td> COST</td>\n",
       "      <td> 1603.817112</td>\n",
       "    </tr>\n",
       "    <tr>\n",
       "      <th>FB</th>\n",
       "      <td>   FB</td>\n",
       "      <td>  977.449714</td>\n",
       "    </tr>\n",
       "    <tr>\n",
       "      <th>XOM</th>\n",
       "      <td>  XOM</td>\n",
       "      <td> 1229.254829</td>\n",
       "    </tr>\n",
       "    <tr>\n",
       "      <th>HD</th>\n",
       "      <td>   HD</td>\n",
       "      <td> 2189.478346</td>\n",
       "    </tr>\n",
       "  </tbody>\n",
       "</table>\n",
       "</div>"
      ],
      "text/plain": [
       "     Stocks   Allocation\n",
       "COST   COST  1603.817112\n",
       "FB       FB   977.449714\n",
       "XOM     XOM  1229.254829\n",
       "HD       HD  2189.478346"
      ]
     },
     "execution_count": 198,
     "metadata": {},
     "output_type": "execute_result"
    }
   ],
   "source": [
    "df_allocation"
   ]
  },
  {
   "cell_type": "code",
   "execution_count": null,
   "metadata": {
    "collapsed": true
   },
   "outputs": [],
   "source": []
  },
  {
   "cell_type": "code",
   "execution_count": 199,
   "metadata": {
    "collapsed": false
   },
   "outputs": [
    {
     "data": {
      "text/html": [
       "\n",
       "\n",
       "    <div class=\"bk-root\">\n",
       "        <div class=\"plotdiv\" id=\"8ce789c5-44d0-4186-97f9-130f78e62211\"></div>\n",
       "    </div>\n",
       "<script type=\"text/javascript\">\n",
       "  \n",
       "  (function(global) {\n",
       "    function now() {\n",
       "      return new Date();\n",
       "    }\n",
       "  \n",
       "    var force = \"\";\n",
       "  \n",
       "    if (typeof (window._bokeh_onload_callbacks) === \"undefined\" || force !== \"\") {\n",
       "      window._bokeh_onload_callbacks = [];\n",
       "      window._bokeh_is_loading = undefined;\n",
       "    }\n",
       "  \n",
       "  \n",
       "    \n",
       "    if (typeof (window._bokeh_timeout) === \"undefined\" || force !== \"\") {\n",
       "      window._bokeh_timeout = Date.now() + 0;\n",
       "      window._bokeh_failed_load = false;\n",
       "    }\n",
       "  \n",
       "    var NB_LOAD_WARNING = {'data': {'text/html':\n",
       "       \"<div style='background-color: #fdd'>\\n\"+\n",
       "       \"<p>\\n\"+\n",
       "       \"BokehJS does not appear to have successfully loaded. If loading BokehJS from CDN, this \\n\"+\n",
       "       \"may be due to a slow or bad network connection. Possible fixes:\\n\"+\n",
       "       \"</p>\\n\"+\n",
       "       \"<ul>\\n\"+\n",
       "       \"<li>re-rerun `output_notebook()` to attempt to load from CDN again, or</li>\\n\"+\n",
       "       \"<li>use INLINE resources instead, as so:</li>\\n\"+\n",
       "       \"</ul>\\n\"+\n",
       "       \"<code>\\n\"+\n",
       "       \"from bokeh.resources import INLINE\\n\"+\n",
       "       \"output_notebook(resources=INLINE)\\n\"+\n",
       "       \"</code>\\n\"+\n",
       "       \"</div>\"}};\n",
       "  \n",
       "    function display_loaded() {\n",
       "      if (window.Bokeh !== undefined) {\n",
       "        Bokeh.$(\"#8ce789c5-44d0-4186-97f9-130f78e62211\").text(\"BokehJS successfully loaded.\");\n",
       "      } else if (Date.now() < window._bokeh_timeout) {\n",
       "        setTimeout(display_loaded, 100)\n",
       "      }\n",
       "    }\n",
       "  \n",
       "    function run_callbacks() {\n",
       "      window._bokeh_onload_callbacks.forEach(function(callback) { callback() });\n",
       "      delete window._bokeh_onload_callbacks\n",
       "      console.info(\"Bokeh: all callbacks have finished\");\n",
       "    }\n",
       "  \n",
       "    function load_libs(js_urls, callback) {\n",
       "      window._bokeh_onload_callbacks.push(callback);\n",
       "      if (window._bokeh_is_loading > 0) {\n",
       "        console.log(\"Bokeh: BokehJS is being loaded, scheduling callback at\", now());\n",
       "        return null;\n",
       "      }\n",
       "      if (js_urls == null || js_urls.length === 0) {\n",
       "        run_callbacks();\n",
       "        return null;\n",
       "      }\n",
       "      console.log(\"Bokeh: BokehJS not loaded, scheduling load and callback at\", now());\n",
       "      window._bokeh_is_loading = js_urls.length;\n",
       "      for (var i = 0; i < js_urls.length; i++) {\n",
       "        var url = js_urls[i];\n",
       "        var s = document.createElement('script');\n",
       "        s.src = url;\n",
       "        s.async = false;\n",
       "        s.onreadystatechange = s.onload = function() {\n",
       "          window._bokeh_is_loading--;\n",
       "          if (window._bokeh_is_loading === 0) {\n",
       "            console.log(\"Bokeh: all BokehJS libraries loaded\");\n",
       "            run_callbacks()\n",
       "          }\n",
       "        };\n",
       "        s.onerror = function() {\n",
       "          console.warn(\"failed to load library \" + url);\n",
       "        };\n",
       "        console.log(\"Bokeh: injecting script tag for BokehJS library: \", url);\n",
       "        document.getElementsByTagName(\"head\")[0].appendChild(s);\n",
       "      }\n",
       "    };var element = document.getElementById(\"8ce789c5-44d0-4186-97f9-130f78e62211\");\n",
       "    if (element == null) {\n",
       "      console.log(\"Bokeh: ERROR: autoload.js configured with elementid '8ce789c5-44d0-4186-97f9-130f78e62211' but no matching script tag was found. \")\n",
       "      return false;\n",
       "    }\n",
       "  \n",
       "    var js_urls = [];\n",
       "  \n",
       "    var inline_js = [\n",
       "      function(Bokeh) {\n",
       "        Bokeh.$(function() {\n",
       "            var docs_json = {\"dc9e0d5f-32d5-445f-a9bb-7caee9ce7143\":{\"roots\":{\"references\":[{\"attributes\":{\"axis_label\":null,\"formatter\":{\"id\":\"08844c13-55f0-4171-a58e-d6fb4a6745df\",\"type\":\"BasicTickFormatter\"},\"plot\":{\"id\":\"60e47021-c9b6-433a-9e8f-8d9eb951e78a\",\"subtype\":\"Chart\",\"type\":\"Plot\"},\"ticker\":{\"id\":\"d8f2ee56-0ed1-4942-8fed-9b335d1af8ac\",\"type\":\"BasicTicker\"},\"visible\":false},\"id\":\"f424174a-aff8-4912-8da3-741d9eaa2bfb\",\"type\":\"LinearAxis\"},{\"attributes\":{},\"id\":\"4dc2045a-ec4d-4317-8e1a-c2686d5c5c94\",\"type\":\"BasicTickFormatter\"},{\"attributes\":{\"plot\":{\"id\":\"60e47021-c9b6-433a-9e8f-8d9eb951e78a\",\"subtype\":\"Chart\",\"type\":\"Plot\"}},\"id\":\"6d8b4672-db8d-4da6-81af-bbd98ba267cd\",\"type\":\"SaveTool\"},{\"attributes\":{\"angle\":{\"field\":\"text_angle\",\"units\":\"rad\"},\"text_align\":\"center\",\"text_baseline\":\"middle\",\"text_font_size\":{\"value\":\"8pt\"},\"x\":{\"field\":\"x\"},\"y\":{\"field\":\"y\"}},\"id\":\"f8306126-731e-4e6c-96f9-e2c7272462cf\",\"type\":\"Text\"},{\"attributes\":{\"below\":[{\"id\":\"f424174a-aff8-4912-8da3-741d9eaa2bfb\",\"type\":\"LinearAxis\"}],\"left\":[{\"id\":\"21d593ae-b213-4477-aa08-2160bf5a9d26\",\"type\":\"LinearAxis\"}],\"plot_height\":400,\"plot_width\":400,\"renderers\":[{\"id\":\"b0c6cc82-ecec-496f-a77c-7413ac655be3\",\"type\":\"BoxAnnotation\"},{\"id\":\"79e97ea7-ea5c-410a-b5fc-e97d5abf90d1\",\"type\":\"GlyphRenderer\"},{\"id\":\"d734791b-be23-4a03-ae66-fa285476be14\",\"type\":\"GlyphRenderer\"},{\"id\":\"4437bb16-ee12-4fde-9d53-30f95b1e4d67\",\"type\":\"Legend\"},{\"id\":\"f424174a-aff8-4912-8da3-741d9eaa2bfb\",\"type\":\"LinearAxis\"},{\"id\":\"21d593ae-b213-4477-aa08-2160bf5a9d26\",\"type\":\"LinearAxis\"}],\"title\":{\"id\":\"4d9228d5-7667-4bd7-83ec-fa86bdec8e70\",\"type\":\"Title\"},\"tool_events\":{\"id\":\"0cc0958d-d222-4d47-9cd7-e04455e5c233\",\"type\":\"ToolEvents\"},\"toolbar\":{\"id\":\"3c758532-07c9-4674-af33-e6f076f2d744\",\"type\":\"Toolbar\"},\"x_mapper_type\":\"auto\",\"x_range\":{\"id\":\"f0825e8e-c482-4655-badc-44b220165276\",\"type\":\"Range1d\"},\"y_mapper_type\":\"auto\",\"y_range\":{\"id\":\"05eca9f2-ccbb-46eb-ad53-633160d5fd53\",\"type\":\"Range1d\"}},\"id\":\"60e47021-c9b6-433a-9e8f-8d9eb951e78a\",\"subtype\":\"Chart\",\"type\":\"Plot\"},{\"attributes\":{\"callback\":null,\"end\":1.6500000000000001,\"start\":-1.6500000000000001},\"id\":\"f0825e8e-c482-4655-badc-44b220165276\",\"type\":\"Range1d\"},{\"attributes\":{\"callback\":null,\"end\":1.6500000000000001,\"start\":-1.6500000000000001},\"id\":\"05eca9f2-ccbb-46eb-ad53-633160d5fd53\",\"type\":\"Range1d\"},{\"attributes\":{\"active_drag\":\"auto\",\"active_scroll\":\"auto\",\"active_tap\":\"auto\",\"tools\":[{\"id\":\"03009a8f-d514-4965-9804-ea27cc056c4a\",\"type\":\"PanTool\"},{\"id\":\"e3699799-df10-412b-b3e1-57eb83ddf53a\",\"type\":\"WheelZoomTool\"},{\"id\":\"04a83f72-a388-4a80-922c-53a1eec249e6\",\"type\":\"BoxZoomTool\"},{\"id\":\"6d8b4672-db8d-4da6-81af-bbd98ba267cd\",\"type\":\"SaveTool\"},{\"id\":\"70b4e56f-6745-49d6-822d-5b0ac5cb4fc1\",\"type\":\"ResetTool\"},{\"id\":\"f06bb88e-42ef-4d83-aa1e-3b4b99e757da\",\"type\":\"HelpTool\"}]},\"id\":\"3c758532-07c9-4674-af33-e6f076f2d744\",\"type\":\"Toolbar\"},{\"attributes\":{\"data_source\":{\"id\":\"9924c248-7881-4550-84f8-e8a66713030b\",\"type\":\"ColumnDataSource\"},\"glyph\":{\"id\":\"f8306126-731e-4e6c-96f9-e2c7272462cf\",\"type\":\"Text\"},\"hover_glyph\":null,\"nonselection_glyph\":null,\"selection_glyph\":null},\"id\":\"d734791b-be23-4a03-ae66-fa285476be14\",\"type\":\"GlyphRenderer\"},{\"attributes\":{\"axis_label\":null,\"formatter\":{\"id\":\"4dc2045a-ec4d-4317-8e1a-c2686d5c5c94\",\"type\":\"BasicTickFormatter\"},\"plot\":{\"id\":\"60e47021-c9b6-433a-9e8f-8d9eb951e78a\",\"subtype\":\"Chart\",\"type\":\"Plot\"},\"ticker\":{\"id\":\"eea5109e-ac5f-4449-86e1-42ee62d485d7\",\"type\":\"BasicTicker\"},\"visible\":false},\"id\":\"21d593ae-b213-4477-aa08-2160bf5a9d26\",\"type\":\"LinearAxis\"},{\"attributes\":{\"plot\":{\"id\":\"60e47021-c9b6-433a-9e8f-8d9eb951e78a\",\"subtype\":\"Chart\",\"type\":\"Plot\"}},\"id\":\"f06bb88e-42ef-4d83-aa1e-3b4b99e757da\",\"type\":\"HelpTool\"},{\"attributes\":{},\"id\":\"eea5109e-ac5f-4449-86e1-42ee62d485d7\",\"type\":\"BasicTicker\"},{\"attributes\":{\"plot\":null,\"text\":null},\"id\":\"4d9228d5-7667-4bd7-83ec-fa86bdec8e70\",\"type\":\"Title\"},{\"attributes\":{},\"id\":\"d8f2ee56-0ed1-4942-8fed-9b335d1af8ac\",\"type\":\"BasicTicker\"},{\"attributes\":{\"overlay\":{\"id\":\"b0c6cc82-ecec-496f-a77c-7413ac655be3\",\"type\":\"BoxAnnotation\"},\"plot\":{\"id\":\"60e47021-c9b6-433a-9e8f-8d9eb951e78a\",\"subtype\":\"Chart\",\"type\":\"Plot\"}},\"id\":\"04a83f72-a388-4a80-922c-53a1eec249e6\",\"type\":\"BoxZoomTool\"},{\"attributes\":{},\"id\":\"08844c13-55f0-4171-a58e-d6fb4a6745df\",\"type\":\"BasicTickFormatter\"},{\"attributes\":{\"plot\":{\"id\":\"60e47021-c9b6-433a-9e8f-8d9eb951e78a\",\"subtype\":\"Chart\",\"type\":\"Plot\"}},\"id\":\"70b4e56f-6745-49d6-822d-5b0ac5cb4fc1\",\"type\":\"ResetTool\"},{\"attributes\":{\"callback\":null,\"column_names\":[\"y\",\"x\",\"text_angle\",\"text\"],\"data\":{\"text\":[\"COST\",\"FB\",\"HD\",\"XOM\"],\"text_angle\":[0.0,0.0,0.0,0.0],\"x\":[0.7510994949856464,-0.6541300593698821,-0.8546865341188115,0.8999087220949424],\"y\":[0.8375407743103059,0.9152807577070298,-0.731529854753703,-0.6751216867331753]}},\"id\":\"9924c248-7881-4550-84f8-e8a66713030b\",\"type\":\"ColumnDataSource\"},{\"attributes\":{\"plot\":{\"id\":\"60e47021-c9b6-433a-9e8f-8d9eb951e78a\",\"subtype\":\"Chart\",\"type\":\"Plot\"}},\"id\":\"03009a8f-d514-4965-9804-ea27cc056c4a\",\"type\":\"PanTool\"},{\"attributes\":{\"location\":\"top_left\",\"plot\":{\"id\":\"60e47021-c9b6-433a-9e8f-8d9eb951e78a\",\"subtype\":\"Chart\",\"type\":\"Plot\"}},\"id\":\"4437bb16-ee12-4fde-9d53-30f95b1e4d67\",\"type\":\"Legend\"},{\"attributes\":{\"data_source\":{\"id\":\"0455631f-fdac-41d4-ae83-8788af5ddcc9\",\"type\":\"ColumnDataSource\"},\"glyph\":{\"id\":\"7b59d225-44ed-4d59-80a3-aacb84e5a34e\",\"type\":\"AnnularWedge\"},\"hover_glyph\":null,\"nonselection_glyph\":null,\"selection_glyph\":null},\"id\":\"79e97ea7-ea5c-410a-b5fc-e97d5abf90d1\",\"type\":\"GlyphRenderer\"},{\"attributes\":{},\"id\":\"0cc0958d-d222-4d47-9cd7-e04455e5c233\",\"type\":\"ToolEvents\"},{\"attributes\":{\"end_angle\":{\"field\":\"end\",\"units\":\"rad\"},\"fill_alpha\":{\"value\":0.8},\"fill_color\":{\"field\":\"color\"},\"inner_radius\":{\"field\":\"inners\",\"units\":\"data\"},\"line_color\":{\"value\":\"White\"},\"outer_radius\":{\"field\":\"outers\",\"units\":\"data\"},\"start_angle\":{\"field\":\"start\",\"units\":\"rad\"},\"x\":{\"value\":0},\"y\":{\"value\":0}},\"id\":\"7b59d225-44ed-4d59-80a3-aacb84e5a34e\",\"type\":\"AnnularWedge\"},{\"attributes\":{\"callback\":null,\"column_names\":[\"end\",\"inners\",\"level\",\"color\",\"start\",\"values\",\"outers\",\"Stocks\",\"centers\"],\"data\":{\"Stocks\":[\"COST\",\"FB\",\"HD\",\"XOM\"],\"centers\":[1.125,1.125,1.125,1.125],\"color\":[\"#f22c40\",\"#5ab738\",\"#407ee7\",\"#df5320\"],\"end\":[1.6795133522153323,2.7030962990814373,4.995912660917393,6.283185307179586],\"inners\":[0.0,0.0,0.0,0.0],\"level\":[0.0,0.0,0.0,0.0],\"outers\":[1.5,1.5,1.5,1.5],\"start\":[0.0,1.6795133522153323,2.7030962990814373,4.995912660917393],\"values\":[1603.8171119634574,977.449713949857,2189.4783455290085,1229.2548285576768]}},\"id\":\"0455631f-fdac-41d4-ae83-8788af5ddcc9\",\"type\":\"ColumnDataSource\"},{\"attributes\":{\"bottom_units\":\"screen\",\"fill_alpha\":{\"value\":0.5},\"fill_color\":{\"value\":\"lightgrey\"},\"left_units\":\"screen\",\"level\":\"overlay\",\"line_alpha\":{\"value\":1.0},\"line_color\":{\"value\":\"black\"},\"line_dash\":[4,4],\"line_width\":{\"value\":2},\"plot\":null,\"render_mode\":\"css\",\"right_units\":\"screen\",\"top_units\":\"screen\"},\"id\":\"b0c6cc82-ecec-496f-a77c-7413ac655be3\",\"type\":\"BoxAnnotation\"},{\"attributes\":{\"plot\":{\"id\":\"60e47021-c9b6-433a-9e8f-8d9eb951e78a\",\"subtype\":\"Chart\",\"type\":\"Plot\"}},\"id\":\"e3699799-df10-412b-b3e1-57eb83ddf53a\",\"type\":\"WheelZoomTool\"}],\"root_ids\":[\"60e47021-c9b6-433a-9e8f-8d9eb951e78a\"]},\"title\":\"Bokeh Application\",\"version\":\"0.12.3\"}};\n",
       "            var render_items = [{\"docid\":\"dc9e0d5f-32d5-445f-a9bb-7caee9ce7143\",\"elementid\":\"8ce789c5-44d0-4186-97f9-130f78e62211\",\"modelid\":\"60e47021-c9b6-433a-9e8f-8d9eb951e78a\"}];\n",
       "            \n",
       "            Bokeh.embed.embed_items(docs_json, render_items);\n",
       "        });\n",
       "      },\n",
       "      function(Bokeh) {\n",
       "      }\n",
       "    ];\n",
       "  \n",
       "    function run_inline_js() {\n",
       "      \n",
       "      if ((window.Bokeh !== undefined) || (force === \"1\")) {\n",
       "        for (var i = 0; i < inline_js.length; i++) {\n",
       "          inline_js[i](window.Bokeh);\n",
       "        }if (force === \"1\") {\n",
       "          display_loaded();\n",
       "        }} else if (Date.now() < window._bokeh_timeout) {\n",
       "        setTimeout(run_inline_js, 100);\n",
       "      } else if (!window._bokeh_failed_load) {\n",
       "        console.log(\"Bokeh: BokehJS failed to load within specified timeout.\");\n",
       "        window._bokeh_failed_load = true;\n",
       "      } else if (!force) {\n",
       "        var cell = $(\"#8ce789c5-44d0-4186-97f9-130f78e62211\").parents('.cell').data().cell;\n",
       "        cell.output_area.append_execute_result(NB_LOAD_WARNING)\n",
       "      }\n",
       "  \n",
       "    }\n",
       "  \n",
       "    if (window._bokeh_is_loading === 0) {\n",
       "      console.log(\"Bokeh: BokehJS loaded, going straight to plotting\");\n",
       "      run_inline_js();\n",
       "    } else {\n",
       "      load_libs(js_urls, function() {\n",
       "        console.log(\"Bokeh: BokehJS plotting callback run at\", now());\n",
       "        run_inline_js();\n",
       "      });\n",
       "    }\n",
       "  }(this));\n",
       "</script>"
      ]
     },
     "metadata": {},
     "output_type": "display_data"
    }
   ],
   "source": [
    "from bokeh.charts import Donut, show, output_file\n",
    "\n",
    "d = Donut(df_allocation, label=['Stocks'], values='Allocation',\n",
    "          text_font_size='8pt', hover_text='Allocation')\n",
    "\n",
    "show(d)\n"
   ]
  },
  {
   "cell_type": "code",
   "execution_count": null,
   "metadata": {
    "collapsed": true
   },
   "outputs": [],
   "source": [
    "from bokeh.layouts import row\n",
    "from bokeh.plotting import figure\n",
    "\n",
    "# create a new plot\n",
    "s1 = figure(width=250, plot_height=250, title=None)\n",
    "s1.circle(x, y0, size=10, color=\"navy\", alpha=0.5)\n",
    "\n",
    "# create another one\n",
    "s2 = figure(width=250, height=250, title=None)\n",
    "s2.triangle(x, y1, size=10, color=\"firebrick\", alpha=0.5)\n",
    "\n",
    "# create and another\n",
    "s3 = figure(width=250, height=250, title=None)\n",
    "s3.square(x, y2, size=10, color=\"olive\", alpha=0.5)\n",
    "\n",
    "# put the results in a row\n",
    "show(row(s1, s2, s3))\n",
    "\n"
   ]
  }
 ],
 "metadata": {
  "kernelspec": {
   "display_name": "Python 2",
   "language": "python",
   "name": "python2"
  },
  "language_info": {
   "codemirror_mode": {
    "name": "ipython",
    "version": 2
   },
   "file_extension": ".py",
   "mimetype": "text/x-python",
   "name": "python",
   "nbconvert_exporter": "python",
   "pygments_lexer": "ipython2",
   "version": "2.7.12"
  }
 },
 "nbformat": 4,
 "nbformat_minor": 1
}
