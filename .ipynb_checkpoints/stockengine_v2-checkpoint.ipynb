{
 "cells": [
  {
   "cell_type": "code",
   "execution_count": 1,
   "metadata": {
    "collapsed": true
   },
   "outputs": [],
   "source": [
    "import time\n",
    "import datetime\n",
    "import pandas as pd\n",
    "import numpy as np\n",
    "import random\n",
    "# from yahoo_finance import Shareb\n",
    "from pandas.tseries.offsets import BDay"
   ]
  },
  {
   "cell_type": "code",
   "execution_count": 2,
   "metadata": {
    "collapsed": false
   },
   "outputs": [
    {
     "data": {
      "text/html": [
       "\n",
       "    <div class=\"bk-root\">\n",
       "        <a href=\"http://bokeh.pydata.org\" target=\"_blank\" class=\"bk-logo bk-logo-small bk-logo-notebook\"></a>\n",
       "        <span id=\"ce08f8a0-2c79-46c7-92b9-732ce580abf6\">Loading BokehJS ...</span>\n",
       "    </div>"
      ]
     },
     "metadata": {},
     "output_type": "display_data"
    },
    {
     "data": {
      "application/javascript": [
       "\n",
       "(function(global) {\n",
       "  function now() {\n",
       "    return new Date();\n",
       "  }\n",
       "\n",
       "  var force = \"1\";\n",
       "\n",
       "  if (typeof (window._bokeh_onload_callbacks) === \"undefined\" || force !== \"\") {\n",
       "    window._bokeh_onload_callbacks = [];\n",
       "    window._bokeh_is_loading = undefined;\n",
       "  }\n",
       "\n",
       "\n",
       "  \n",
       "  if (typeof (window._bokeh_timeout) === \"undefined\" || force !== \"\") {\n",
       "    window._bokeh_timeout = Date.now() + 5000;\n",
       "    window._bokeh_failed_load = false;\n",
       "  }\n",
       "\n",
       "  var NB_LOAD_WARNING = {'data': {'text/html':\n",
       "     \"<div style='background-color: #fdd'>\\n\"+\n",
       "     \"<p>\\n\"+\n",
       "     \"BokehJS does not appear to have successfully loaded. If loading BokehJS from CDN, this \\n\"+\n",
       "     \"may be due to a slow or bad network connection. Possible fixes:\\n\"+\n",
       "     \"</p>\\n\"+\n",
       "     \"<ul>\\n\"+\n",
       "     \"<li>re-rerun `output_notebook()` to attempt to load from CDN again, or</li>\\n\"+\n",
       "     \"<li>use INLINE resources instead, as so:</li>\\n\"+\n",
       "     \"</ul>\\n\"+\n",
       "     \"<code>\\n\"+\n",
       "     \"from bokeh.resources import INLINE\\n\"+\n",
       "     \"output_notebook(resources=INLINE)\\n\"+\n",
       "     \"</code>\\n\"+\n",
       "     \"</div>\"}};\n",
       "\n",
       "  function display_loaded() {\n",
       "    if (window.Bokeh !== undefined) {\n",
       "      Bokeh.$(\"#ce08f8a0-2c79-46c7-92b9-732ce580abf6\").text(\"BokehJS successfully loaded.\");\n",
       "    } else if (Date.now() < window._bokeh_timeout) {\n",
       "      setTimeout(display_loaded, 100)\n",
       "    }\n",
       "  }\n",
       "\n",
       "  function run_callbacks() {\n",
       "    window._bokeh_onload_callbacks.forEach(function(callback) { callback() });\n",
       "    delete window._bokeh_onload_callbacks\n",
       "    console.info(\"Bokeh: all callbacks have finished\");\n",
       "  }\n",
       "\n",
       "  function load_libs(js_urls, callback) {\n",
       "    window._bokeh_onload_callbacks.push(callback);\n",
       "    if (window._bokeh_is_loading > 0) {\n",
       "      console.log(\"Bokeh: BokehJS is being loaded, scheduling callback at\", now());\n",
       "      return null;\n",
       "    }\n",
       "    if (js_urls == null || js_urls.length === 0) {\n",
       "      run_callbacks();\n",
       "      return null;\n",
       "    }\n",
       "    console.log(\"Bokeh: BokehJS not loaded, scheduling load and callback at\", now());\n",
       "    window._bokeh_is_loading = js_urls.length;\n",
       "    for (var i = 0; i < js_urls.length; i++) {\n",
       "      var url = js_urls[i];\n",
       "      var s = document.createElement('script');\n",
       "      s.src = url;\n",
       "      s.async = false;\n",
       "      s.onreadystatechange = s.onload = function() {\n",
       "        window._bokeh_is_loading--;\n",
       "        if (window._bokeh_is_loading === 0) {\n",
       "          console.log(\"Bokeh: all BokehJS libraries loaded\");\n",
       "          run_callbacks()\n",
       "        }\n",
       "      };\n",
       "      s.onerror = function() {\n",
       "        console.warn(\"failed to load library \" + url);\n",
       "      };\n",
       "      console.log(\"Bokeh: injecting script tag for BokehJS library: \", url);\n",
       "      document.getElementsByTagName(\"head\")[0].appendChild(s);\n",
       "    }\n",
       "  };var element = document.getElementById(\"ce08f8a0-2c79-46c7-92b9-732ce580abf6\");\n",
       "  if (element == null) {\n",
       "    console.log(\"Bokeh: ERROR: autoload.js configured with elementid 'ce08f8a0-2c79-46c7-92b9-732ce580abf6' but no matching script tag was found. \")\n",
       "    return false;\n",
       "  }\n",
       "\n",
       "  var js_urls = ['https://cdn.pydata.org/bokeh/release/bokeh-0.12.3.min.js', 'https://cdn.pydata.org/bokeh/release/bokeh-widgets-0.12.3.min.js'];\n",
       "\n",
       "  var inline_js = [\n",
       "    function(Bokeh) {\n",
       "      Bokeh.set_log_level(\"info\");\n",
       "    },\n",
       "    \n",
       "    function(Bokeh) {\n",
       "      \n",
       "      Bokeh.$(\"#ce08f8a0-2c79-46c7-92b9-732ce580abf6\").text(\"BokehJS is loading...\");\n",
       "    },\n",
       "    function(Bokeh) {\n",
       "      console.log(\"Bokeh: injecting CSS: https://cdn.pydata.org/bokeh/release/bokeh-0.12.3.min.css\");\n",
       "      Bokeh.embed.inject_css(\"https://cdn.pydata.org/bokeh/release/bokeh-0.12.3.min.css\");\n",
       "      console.log(\"Bokeh: injecting CSS: https://cdn.pydata.org/bokeh/release/bokeh-widgets-0.12.3.min.css\");\n",
       "      Bokeh.embed.inject_css(\"https://cdn.pydata.org/bokeh/release/bokeh-widgets-0.12.3.min.css\");\n",
       "    }\n",
       "  ];\n",
       "\n",
       "  function run_inline_js() {\n",
       "    \n",
       "    if ((window.Bokeh !== undefined) || (force === \"1\")) {\n",
       "      for (var i = 0; i < inline_js.length; i++) {\n",
       "        inline_js[i](window.Bokeh);\n",
       "      }if (force === \"1\") {\n",
       "        display_loaded();\n",
       "      }} else if (Date.now() < window._bokeh_timeout) {\n",
       "      setTimeout(run_inline_js, 100);\n",
       "    } else if (!window._bokeh_failed_load) {\n",
       "      console.log(\"Bokeh: BokehJS failed to load within specified timeout.\");\n",
       "      window._bokeh_failed_load = true;\n",
       "    } else if (!force) {\n",
       "      var cell = $(\"#ce08f8a0-2c79-46c7-92b9-732ce580abf6\").parents('.cell').data().cell;\n",
       "      cell.output_area.append_execute_result(NB_LOAD_WARNING)\n",
       "    }\n",
       "\n",
       "  }\n",
       "\n",
       "  if (window._bokeh_is_loading === 0) {\n",
       "    console.log(\"Bokeh: BokehJS loaded, going straight to plotting\");\n",
       "    run_inline_js();\n",
       "  } else {\n",
       "    load_libs(js_urls, function() {\n",
       "      console.log(\"Bokeh: BokehJS plotting callback run at\", now());\n",
       "      run_inline_js();\n",
       "    });\n",
       "  }\n",
       "}(this));"
      ]
     },
     "metadata": {},
     "output_type": "display_data"
    }
   ],
   "source": [
    "from bokeh.io import output_notebook, show, output_file,save\n",
    "output_notebook()"
   ]
  },
  {
   "cell_type": "markdown",
   "metadata": {},
   "source": [
    "User will:\n",
    "\n",
    "Input dollar amount to invest in USD (Minimum is $5000 USD)\n",
    "Pick one or two investment strategies:\n",
    "\n",
    "\n",
    "#Ethical Investing\n",
    "TSLA, PBW, SCTY, AAPL\n",
    "#Growth Investing\n",
    "CRM, TWLO, NVDA\n",
    "#Index Investing\n",
    "SPY, VTI, VWO , VBR\n",
    "#Quality Investing\n",
    "FB, XOM, COST, HD\n",
    "#Value Investing\n",
    "AMZN, MSFT, NEFLX, DIS"
   ]
  },
  {
   "cell_type": "code",
   "execution_count": 3,
   "metadata": {
    "collapsed": false
   },
   "outputs": [],
   "source": [
    "#initiate the mapping for different strategies\n",
    "strategies = {'ethical':['TSLA','PBW','SCTY','AAPL'], 'growth':['CRM','TWLO','NVDA'], 'index':['SPY','VTI','VWO','VBR'], 'quality':['FB', 'XOM','COST','HD'],'value':['AMZN','MSFT','NFLX','DIS']}"
   ]
  },
  {
   "cell_type": "code",
   "execution_count": 4,
   "metadata": {
    "collapsed": false
   },
   "outputs": [],
   "source": [
    "choice = random.choice(['ethical','growth','index','quality','value'])"
   ]
  },
  {
   "cell_type": "code",
   "execution_count": 5,
   "metadata": {
    "collapsed": false
   },
   "outputs": [],
   "source": [
    "#total amount to invest\n",
    "total = 6000\n",
    "stockslist = strategies[choice]\n",
    "singlestock = total/len(stockslist)"
   ]
  },
  {
   "cell_type": "code",
   "execution_count": 6,
   "metadata": {
    "collapsed": true
   },
   "outputs": [],
   "source": [
    "#stochastic function to calculate the distribution\n",
    "singlestock = np.mean(np.random.dirichlet(np.ones(len(stockslist)), 10), axis=0)*total\n",
    "#create a dictionary to map stock to their corresponding distribution\n",
    "stockallocation =dict(zip(stockslist, singlestock))"
   ]
  },
  {
   "cell_type": "code",
   "execution_count": 7,
   "metadata": {
    "collapsed": false
   },
   "outputs": [
    {
     "data": {
      "text/plain": [
       "6000.0"
      ]
     },
     "execution_count": 7,
     "metadata": {},
     "output_type": "execute_result"
    }
   ],
   "source": [
    "sum(stockallocation.values())"
   ]
  },
  {
   "cell_type": "code",
   "execution_count": 8,
   "metadata": {
    "collapsed": false
   },
   "outputs": [],
   "source": [
    "enddate = datetime.datetime.now().date()- datetime.timedelta(1)\n",
    "startdate = enddate - BDay(4)"
   ]
  },
  {
   "cell_type": "code",
   "execution_count": 9,
   "metadata": {
    "collapsed": true
   },
   "outputs": [],
   "source": [
    "from pandas_datareader import data, wb\n",
    "import pandas_datareader.data as web"
   ]
  },
  {
   "cell_type": "code",
   "execution_count": 10,
   "metadata": {
    "collapsed": false
   },
   "outputs": [],
   "source": [
    "?web.DataReader()"
   ]
  },
  {
   "cell_type": "code",
   "execution_count": 11,
   "metadata": {
    "collapsed": false
   },
   "outputs": [
    {
     "data": {
      "text/plain": [
       "['AMZN', 'MSFT', 'NFLX', 'DIS']"
      ]
     },
     "execution_count": 11,
     "metadata": {},
     "output_type": "execute_result"
    }
   ],
   "source": [
    "stockslist"
   ]
  },
  {
   "cell_type": "code",
   "execution_count": 12,
   "metadata": {
    "collapsed": false
   },
   "outputs": [],
   "source": [
    "#getting historical data\n",
    "df = web.DataReader(stockslist,'yahoo',enddate - BDay(6), enddate)"
   ]
  },
  {
   "cell_type": "code",
   "execution_count": 13,
   "metadata": {
    "collapsed": false
   },
   "outputs": [],
   "source": [
    "#getting today's quote\n",
    "df_today=web.get_quote_yahoo(stockslist)"
   ]
  },
  {
   "cell_type": "code",
   "execution_count": 14,
   "metadata": {
    "collapsed": false
   },
   "outputs": [],
   "source": [
    "df_historical = df.to_frame()"
   ]
  },
  {
   "cell_type": "code",
   "execution_count": 15,
   "metadata": {
    "collapsed": true
   },
   "outputs": [],
   "source": [
    "#getting the name of the sticker\n",
    "def getname(li):\n",
    "    df = []\n",
    "    for i in li:\n",
    "        df.append(web.get_components_yahoo(i))\n",
    "    return pd.concat(df)\n"
   ]
  },
  {
   "cell_type": "code",
   "execution_count": 16,
   "metadata": {
    "collapsed": false
   },
   "outputs": [],
   "source": [
    "df_info = getname(stockslist)"
   ]
  },
  {
   "cell_type": "markdown",
   "metadata": {},
   "source": [
    "#checking dataframes df_info, df_historical, df_today"
   ]
  },
  {
   "cell_type": "code",
   "execution_count": 17,
   "metadata": {
    "collapsed": false
   },
   "outputs": [
    {
     "data": {
      "text/html": [
       "<div style=\"max-height:1000px;max-width:1500px;overflow:auto;\">\n",
       "<table border=\"1\" class=\"dataframe\">\n",
       "  <thead>\n",
       "    <tr style=\"text-align: right;\">\n",
       "      <th></th>\n",
       "      <th>name</th>\n",
       "      <th>exchange</th>\n",
       "    </tr>\n",
       "    <tr>\n",
       "      <th>ticker</th>\n",
       "      <th></th>\n",
       "      <th></th>\n",
       "    </tr>\n",
       "  </thead>\n",
       "  <tbody>\n",
       "    <tr>\n",
       "      <th>AMZN</th>\n",
       "      <td>                Amazon.com, Inc.</td>\n",
       "      <td> NMS</td>\n",
       "    </tr>\n",
       "    <tr>\n",
       "      <th>MSFT</th>\n",
       "      <td>           Microsoft Corporation</td>\n",
       "      <td> NMS</td>\n",
       "    </tr>\n",
       "    <tr>\n",
       "      <th>NFLX</th>\n",
       "      <td>                   Netflix, Inc.</td>\n",
       "      <td> NMS</td>\n",
       "    </tr>\n",
       "    <tr>\n",
       "      <th>DIS</th>\n",
       "      <td> Walt Disney Company (The) Commo</td>\n",
       "      <td> NYQ</td>\n",
       "    </tr>\n",
       "  </tbody>\n",
       "</table>\n",
       "</div>"
      ],
      "text/plain": [
       "                                   name exchange\n",
       "ticker                                          \n",
       "AMZN                   Amazon.com, Inc.      NMS\n",
       "MSFT              Microsoft Corporation      NMS\n",
       "NFLX                      Netflix, Inc.      NMS\n",
       "DIS     Walt Disney Company (The) Commo      NYQ"
      ]
     },
     "execution_count": 17,
     "metadata": {},
     "output_type": "execute_result"
    }
   ],
   "source": [
    "df_info"
   ]
  },
  {
   "cell_type": "code",
   "execution_count": 18,
   "metadata": {
    "collapsed": false
   },
   "outputs": [
    {
     "data": {
      "text/html": [
       "<div style=\"max-height:1000px;max-width:1500px;overflow:auto;\">\n",
       "<table border=\"1\" class=\"dataframe\">\n",
       "  <thead>\n",
       "    <tr style=\"text-align: right;\">\n",
       "      <th></th>\n",
       "      <th>PE</th>\n",
       "      <th>change_pct</th>\n",
       "      <th>last</th>\n",
       "      <th>short_ratio</th>\n",
       "      <th>time</th>\n",
       "    </tr>\n",
       "  </thead>\n",
       "  <tbody>\n",
       "    <tr>\n",
       "      <th>AMZN</th>\n",
       "      <td> 169.500</td>\n",
       "      <td>  -0.51%</td>\n",
       "      <td> 739.860</td>\n",
       "      <td> 1.09</td>\n",
       "      <td> 1:27pm</td>\n",
       "    </tr>\n",
       "    <tr>\n",
       "      <th>MSFT</th>\n",
       "      <td>  28.360</td>\n",
       "      <td> +0.025%</td>\n",
       "      <td>  59.215</td>\n",
       "      <td> 1.46</td>\n",
       "      <td> 1:27pm</td>\n",
       "    </tr>\n",
       "    <tr>\n",
       "      <th>NFLX</th>\n",
       "      <td> 321.700</td>\n",
       "      <td>  +1.54%</td>\n",
       "      <td> 119.030</td>\n",
       "      <td> 2.38</td>\n",
       "      <td> 1:27pm</td>\n",
       "    </tr>\n",
       "    <tr>\n",
       "      <th>DIS</th>\n",
       "      <td>  17.188</td>\n",
       "      <td> -0.460%</td>\n",
       "      <td>  98.485</td>\n",
       "      <td> 3.59</td>\n",
       "      <td> 1:27pm</td>\n",
       "    </tr>\n",
       "  </tbody>\n",
       "</table>\n",
       "</div>"
      ],
      "text/plain": [
       "           PE change_pct     last  short_ratio    time\n",
       "AMZN  169.500     -0.51%  739.860         1.09  1:27pm\n",
       "MSFT   28.360    +0.025%   59.215         1.46  1:27pm\n",
       "NFLX  321.700     +1.54%  119.030         2.38  1:27pm\n",
       "DIS    17.188    -0.460%   98.485         3.59  1:27pm"
      ]
     },
     "execution_count": 18,
     "metadata": {},
     "output_type": "execute_result"
    }
   ],
   "source": [
    "df_today"
   ]
  },
  {
   "cell_type": "code",
   "execution_count": 19,
   "metadata": {
    "collapsed": false
   },
   "outputs": [
    {
     "data": {
      "text/html": [
       "<div style=\"max-height:1000px;max-width:1500px;overflow:auto;\">\n",
       "<table border=\"1\" class=\"dataframe\">\n",
       "  <thead>\n",
       "    <tr style=\"text-align: right;\">\n",
       "      <th></th>\n",
       "      <th></th>\n",
       "      <th>Open</th>\n",
       "      <th>High</th>\n",
       "      <th>Low</th>\n",
       "      <th>Close</th>\n",
       "      <th>Volume</th>\n",
       "      <th>Adj Close</th>\n",
       "    </tr>\n",
       "    <tr>\n",
       "      <th>Date</th>\n",
       "      <th>minor</th>\n",
       "      <th></th>\n",
       "      <th></th>\n",
       "      <th></th>\n",
       "      <th></th>\n",
       "      <th></th>\n",
       "      <th></th>\n",
       "    </tr>\n",
       "  </thead>\n",
       "  <tbody>\n",
       "    <tr>\n",
       "      <th rowspan=\"4\" valign=\"top\">2016-11-23</th>\n",
       "      <th>AMZN</th>\n",
       "      <td> 781.729980</td>\n",
       "      <td> 781.750000</td>\n",
       "      <td> 773.119995</td>\n",
       "      <td> 780.119995</td>\n",
       "      <td>  3522500</td>\n",
       "      <td> 780.119995</td>\n",
       "    </tr>\n",
       "    <tr>\n",
       "      <th>DIS</th>\n",
       "      <td>  97.669998</td>\n",
       "      <td>  98.279999</td>\n",
       "      <td>  97.589996</td>\n",
       "      <td>  98.260002</td>\n",
       "      <td>  5897400</td>\n",
       "      <td>  98.260002</td>\n",
       "    </tr>\n",
       "    <tr>\n",
       "      <th>MSFT</th>\n",
       "      <td>  61.009998</td>\n",
       "      <td>  61.099998</td>\n",
       "      <td>  60.250000</td>\n",
       "      <td>  60.400002</td>\n",
       "      <td> 21847200</td>\n",
       "      <td>  60.400002</td>\n",
       "    </tr>\n",
       "    <tr>\n",
       "      <th>NFLX</th>\n",
       "      <td> 117.760002</td>\n",
       "      <td> 118.889999</td>\n",
       "      <td> 117.309998</td>\n",
       "      <td> 117.690002</td>\n",
       "      <td>  4517400</td>\n",
       "      <td> 117.690002</td>\n",
       "    </tr>\n",
       "    <tr>\n",
       "      <th rowspan=\"4\" valign=\"top\">2016-11-25</th>\n",
       "      <th>AMZN</th>\n",
       "      <td> 786.500000</td>\n",
       "      <td> 786.750000</td>\n",
       "      <td> 777.900024</td>\n",
       "      <td> 780.369995</td>\n",
       "      <td>  1832300</td>\n",
       "      <td> 780.369995</td>\n",
       "    </tr>\n",
       "    <tr>\n",
       "      <th>DIS</th>\n",
       "      <td>  98.709999</td>\n",
       "      <td>  99.070000</td>\n",
       "      <td>  98.500000</td>\n",
       "      <td>  98.820000</td>\n",
       "      <td>  4396800</td>\n",
       "      <td>  98.820000</td>\n",
       "    </tr>\n",
       "    <tr>\n",
       "      <th>MSFT</th>\n",
       "      <td>  60.299999</td>\n",
       "      <td>  60.529999</td>\n",
       "      <td>  60.130001</td>\n",
       "      <td>  60.529999</td>\n",
       "      <td>  8370500</td>\n",
       "      <td>  60.529999</td>\n",
       "    </tr>\n",
       "    <tr>\n",
       "      <th>NFLX</th>\n",
       "      <td> 117.639999</td>\n",
       "      <td> 118.389999</td>\n",
       "      <td> 117.180000</td>\n",
       "      <td> 117.410004</td>\n",
       "      <td>  1613400</td>\n",
       "      <td> 117.410004</td>\n",
       "    </tr>\n",
       "    <tr>\n",
       "      <th rowspan=\"4\" valign=\"top\">2016-11-28</th>\n",
       "      <th>AMZN</th>\n",
       "      <td> 776.989990</td>\n",
       "      <td> 777.000000</td>\n",
       "      <td> 764.239990</td>\n",
       "      <td> 766.770020</td>\n",
       "      <td>  4380900</td>\n",
       "      <td> 766.770020</td>\n",
       "    </tr>\n",
       "    <tr>\n",
       "      <th>DIS</th>\n",
       "      <td>  98.519997</td>\n",
       "      <td>  99.199997</td>\n",
       "      <td>  98.320000</td>\n",
       "      <td>  98.970001</td>\n",
       "      <td>  7061600</td>\n",
       "      <td>  98.970001</td>\n",
       "    </tr>\n",
       "    <tr>\n",
       "      <th>MSFT</th>\n",
       "      <td>  60.340000</td>\n",
       "      <td>  61.020000</td>\n",
       "      <td>  60.209999</td>\n",
       "      <td>  60.610001</td>\n",
       "      <td> 20603800</td>\n",
       "      <td>  60.610001</td>\n",
       "    </tr>\n",
       "    <tr>\n",
       "      <th>NFLX</th>\n",
       "      <td> 117.050003</td>\n",
       "      <td> 117.620003</td>\n",
       "      <td> 115.709999</td>\n",
       "      <td> 116.930000</td>\n",
       "      <td>  5266500</td>\n",
       "      <td> 116.930000</td>\n",
       "    </tr>\n",
       "    <tr>\n",
       "      <th rowspan=\"4\" valign=\"top\">2016-11-29</th>\n",
       "      <th>AMZN</th>\n",
       "      <td> 768.000000</td>\n",
       "      <td> 769.890015</td>\n",
       "      <td> 761.320007</td>\n",
       "      <td> 762.520020</td>\n",
       "      <td>  3266500</td>\n",
       "      <td> 762.520020</td>\n",
       "    </tr>\n",
       "    <tr>\n",
       "      <th>DIS</th>\n",
       "      <td>  99.239998</td>\n",
       "      <td>  99.680000</td>\n",
       "      <td>  98.970001</td>\n",
       "      <td>  99.669998</td>\n",
       "      <td>  8374900</td>\n",
       "      <td>  99.669998</td>\n",
       "    </tr>\n",
       "    <tr>\n",
       "      <th>MSFT</th>\n",
       "      <td>  60.650002</td>\n",
       "      <td>  61.410000</td>\n",
       "      <td>  60.520000</td>\n",
       "      <td>  61.090000</td>\n",
       "      <td> 22010800</td>\n",
       "      <td>  61.090000</td>\n",
       "    </tr>\n",
       "    <tr>\n",
       "      <th>NFLX</th>\n",
       "      <td> 117.300003</td>\n",
       "      <td> 119.180000</td>\n",
       "      <td> 117.129997</td>\n",
       "      <td> 117.510002</td>\n",
       "      <td>  7079700</td>\n",
       "      <td> 117.510002</td>\n",
       "    </tr>\n",
       "    <tr>\n",
       "      <th rowspan=\"4\" valign=\"top\">2016-11-30</th>\n",
       "      <th>AMZN</th>\n",
       "      <td> 762.000000</td>\n",
       "      <td> 768.090027</td>\n",
       "      <td> 750.250000</td>\n",
       "      <td> 750.570007</td>\n",
       "      <td>  4580100</td>\n",
       "      <td> 750.570007</td>\n",
       "    </tr>\n",
       "    <tr>\n",
       "      <th>DIS</th>\n",
       "      <td>  99.400002</td>\n",
       "      <td> 100.290001</td>\n",
       "      <td>  99.000000</td>\n",
       "      <td>  99.120003</td>\n",
       "      <td> 11241300</td>\n",
       "      <td>  99.120003</td>\n",
       "    </tr>\n",
       "    <tr>\n",
       "      <th>MSFT</th>\n",
       "      <td>  60.860001</td>\n",
       "      <td>  61.180000</td>\n",
       "      <td>  60.220001</td>\n",
       "      <td>  60.259998</td>\n",
       "      <td> 33783900</td>\n",
       "      <td>  60.259998</td>\n",
       "    </tr>\n",
       "    <tr>\n",
       "      <th>NFLX</th>\n",
       "      <td> 119.000000</td>\n",
       "      <td> 120.370003</td>\n",
       "      <td> 116.389999</td>\n",
       "      <td> 117.000000</td>\n",
       "      <td>  7669400</td>\n",
       "      <td> 117.000000</td>\n",
       "    </tr>\n",
       "    <tr>\n",
       "      <th rowspan=\"4\" valign=\"top\">2016-12-01</th>\n",
       "      <th>AMZN</th>\n",
       "      <td> 752.409973</td>\n",
       "      <td> 753.369995</td>\n",
       "      <td> 738.030029</td>\n",
       "      <td> 743.650024</td>\n",
       "      <td>  4626500</td>\n",
       "      <td> 743.650024</td>\n",
       "    </tr>\n",
       "    <tr>\n",
       "      <th>DIS</th>\n",
       "      <td>  99.129997</td>\n",
       "      <td>  99.750000</td>\n",
       "      <td>  98.620003</td>\n",
       "      <td>  98.940002</td>\n",
       "      <td>  9954200</td>\n",
       "      <td>  98.940002</td>\n",
       "    </tr>\n",
       "    <tr>\n",
       "      <th>MSFT</th>\n",
       "      <td>  60.110001</td>\n",
       "      <td>  60.150002</td>\n",
       "      <td>  58.939999</td>\n",
       "      <td>  59.200001</td>\n",
       "      <td> 33917000</td>\n",
       "      <td>  59.200001</td>\n",
       "    </tr>\n",
       "    <tr>\n",
       "      <th>NFLX</th>\n",
       "      <td> 117.519997</td>\n",
       "      <td> 118.680000</td>\n",
       "      <td> 113.949997</td>\n",
       "      <td> 117.220001</td>\n",
       "      <td>  8630600</td>\n",
       "      <td> 117.220001</td>\n",
       "    </tr>\n",
       "  </tbody>\n",
       "</table>\n",
       "</div>"
      ],
      "text/plain": [
       "                        Open        High         Low       Close    Volume  \\\n",
       "Date       minor                                                             \n",
       "2016-11-23 AMZN   781.729980  781.750000  773.119995  780.119995   3522500   \n",
       "           DIS     97.669998   98.279999   97.589996   98.260002   5897400   \n",
       "           MSFT    61.009998   61.099998   60.250000   60.400002  21847200   \n",
       "           NFLX   117.760002  118.889999  117.309998  117.690002   4517400   \n",
       "2016-11-25 AMZN   786.500000  786.750000  777.900024  780.369995   1832300   \n",
       "           DIS     98.709999   99.070000   98.500000   98.820000   4396800   \n",
       "           MSFT    60.299999   60.529999   60.130001   60.529999   8370500   \n",
       "           NFLX   117.639999  118.389999  117.180000  117.410004   1613400   \n",
       "2016-11-28 AMZN   776.989990  777.000000  764.239990  766.770020   4380900   \n",
       "           DIS     98.519997   99.199997   98.320000   98.970001   7061600   \n",
       "           MSFT    60.340000   61.020000   60.209999   60.610001  20603800   \n",
       "           NFLX   117.050003  117.620003  115.709999  116.930000   5266500   \n",
       "2016-11-29 AMZN   768.000000  769.890015  761.320007  762.520020   3266500   \n",
       "           DIS     99.239998   99.680000   98.970001   99.669998   8374900   \n",
       "           MSFT    60.650002   61.410000   60.520000   61.090000  22010800   \n",
       "           NFLX   117.300003  119.180000  117.129997  117.510002   7079700   \n",
       "2016-11-30 AMZN   762.000000  768.090027  750.250000  750.570007   4580100   \n",
       "           DIS     99.400002  100.290001   99.000000   99.120003  11241300   \n",
       "           MSFT    60.860001   61.180000   60.220001   60.259998  33783900   \n",
       "           NFLX   119.000000  120.370003  116.389999  117.000000   7669400   \n",
       "2016-12-01 AMZN   752.409973  753.369995  738.030029  743.650024   4626500   \n",
       "           DIS     99.129997   99.750000   98.620003   98.940002   9954200   \n",
       "           MSFT    60.110001   60.150002   58.939999   59.200001  33917000   \n",
       "           NFLX   117.519997  118.680000  113.949997  117.220001   8630600   \n",
       "\n",
       "                   Adj Close  \n",
       "Date       minor              \n",
       "2016-11-23 AMZN   780.119995  \n",
       "           DIS     98.260002  \n",
       "           MSFT    60.400002  \n",
       "           NFLX   117.690002  \n",
       "2016-11-25 AMZN   780.369995  \n",
       "           DIS     98.820000  \n",
       "           MSFT    60.529999  \n",
       "           NFLX   117.410004  \n",
       "2016-11-28 AMZN   766.770020  \n",
       "           DIS     98.970001  \n",
       "           MSFT    60.610001  \n",
       "           NFLX   116.930000  \n",
       "2016-11-29 AMZN   762.520020  \n",
       "           DIS     99.669998  \n",
       "           MSFT    61.090000  \n",
       "           NFLX   117.510002  \n",
       "2016-11-30 AMZN   750.570007  \n",
       "           DIS     99.120003  \n",
       "           MSFT    60.259998  \n",
       "           NFLX   117.000000  \n",
       "2016-12-01 AMZN   743.650024  \n",
       "           DIS     98.940002  \n",
       "           MSFT    59.200001  \n",
       "           NFLX   117.220001  "
      ]
     },
     "execution_count": 19,
     "metadata": {},
     "output_type": "execute_result"
    }
   ],
   "source": [
    "df_historical"
   ]
  },
  {
   "cell_type": "code",
   "execution_count": 20,
   "metadata": {
    "collapsed": false
   },
   "outputs": [],
   "source": [
    "last5dayindex =list(df_historical.index.levels[0][-5:])\n",
    "firstdayindex = df_historical.index.levels[0][-5]"
   ]
  },
  {
   "cell_type": "code",
   "execution_count": 21,
   "metadata": {
    "collapsed": false
   },
   "outputs": [
    {
     "data": {
      "text/html": [
       "<div style=\"max-height:1000px;max-width:1500px;overflow:auto;\">\n",
       "<table border=\"1\" class=\"dataframe\">\n",
       "  <thead>\n",
       "    <tr style=\"text-align: right;\">\n",
       "      <th></th>\n",
       "      <th></th>\n",
       "      <th>Open</th>\n",
       "      <th>High</th>\n",
       "      <th>Low</th>\n",
       "      <th>Close</th>\n",
       "      <th>Volume</th>\n",
       "      <th>Adj Close</th>\n",
       "    </tr>\n",
       "    <tr>\n",
       "      <th>Date</th>\n",
       "      <th>minor</th>\n",
       "      <th></th>\n",
       "      <th></th>\n",
       "      <th></th>\n",
       "      <th></th>\n",
       "      <th></th>\n",
       "      <th></th>\n",
       "    </tr>\n",
       "  </thead>\n",
       "  <tbody>\n",
       "    <tr>\n",
       "      <th rowspan=\"4\" valign=\"top\">2016-11-25</th>\n",
       "      <th>AMZN</th>\n",
       "      <td> 786.500000</td>\n",
       "      <td> 786.750000</td>\n",
       "      <td> 777.900024</td>\n",
       "      <td> 780.369995</td>\n",
       "      <td>  1832300</td>\n",
       "      <td> 780.369995</td>\n",
       "    </tr>\n",
       "    <tr>\n",
       "      <th>DIS</th>\n",
       "      <td>  98.709999</td>\n",
       "      <td>  99.070000</td>\n",
       "      <td>  98.500000</td>\n",
       "      <td>  98.820000</td>\n",
       "      <td>  4396800</td>\n",
       "      <td>  98.820000</td>\n",
       "    </tr>\n",
       "    <tr>\n",
       "      <th>MSFT</th>\n",
       "      <td>  60.299999</td>\n",
       "      <td>  60.529999</td>\n",
       "      <td>  60.130001</td>\n",
       "      <td>  60.529999</td>\n",
       "      <td>  8370500</td>\n",
       "      <td>  60.529999</td>\n",
       "    </tr>\n",
       "    <tr>\n",
       "      <th>NFLX</th>\n",
       "      <td> 117.639999</td>\n",
       "      <td> 118.389999</td>\n",
       "      <td> 117.180000</td>\n",
       "      <td> 117.410004</td>\n",
       "      <td>  1613400</td>\n",
       "      <td> 117.410004</td>\n",
       "    </tr>\n",
       "    <tr>\n",
       "      <th rowspan=\"4\" valign=\"top\">2016-11-28</th>\n",
       "      <th>AMZN</th>\n",
       "      <td> 776.989990</td>\n",
       "      <td> 777.000000</td>\n",
       "      <td> 764.239990</td>\n",
       "      <td> 766.770020</td>\n",
       "      <td>  4380900</td>\n",
       "      <td> 766.770020</td>\n",
       "    </tr>\n",
       "    <tr>\n",
       "      <th>DIS</th>\n",
       "      <td>  98.519997</td>\n",
       "      <td>  99.199997</td>\n",
       "      <td>  98.320000</td>\n",
       "      <td>  98.970001</td>\n",
       "      <td>  7061600</td>\n",
       "      <td>  98.970001</td>\n",
       "    </tr>\n",
       "    <tr>\n",
       "      <th>MSFT</th>\n",
       "      <td>  60.340000</td>\n",
       "      <td>  61.020000</td>\n",
       "      <td>  60.209999</td>\n",
       "      <td>  60.610001</td>\n",
       "      <td> 20603800</td>\n",
       "      <td>  60.610001</td>\n",
       "    </tr>\n",
       "    <tr>\n",
       "      <th>NFLX</th>\n",
       "      <td> 117.050003</td>\n",
       "      <td> 117.620003</td>\n",
       "      <td> 115.709999</td>\n",
       "      <td> 116.930000</td>\n",
       "      <td>  5266500</td>\n",
       "      <td> 116.930000</td>\n",
       "    </tr>\n",
       "    <tr>\n",
       "      <th rowspan=\"4\" valign=\"top\">2016-11-29</th>\n",
       "      <th>AMZN</th>\n",
       "      <td> 768.000000</td>\n",
       "      <td> 769.890015</td>\n",
       "      <td> 761.320007</td>\n",
       "      <td> 762.520020</td>\n",
       "      <td>  3266500</td>\n",
       "      <td> 762.520020</td>\n",
       "    </tr>\n",
       "    <tr>\n",
       "      <th>DIS</th>\n",
       "      <td>  99.239998</td>\n",
       "      <td>  99.680000</td>\n",
       "      <td>  98.970001</td>\n",
       "      <td>  99.669998</td>\n",
       "      <td>  8374900</td>\n",
       "      <td>  99.669998</td>\n",
       "    </tr>\n",
       "    <tr>\n",
       "      <th>MSFT</th>\n",
       "      <td>  60.650002</td>\n",
       "      <td>  61.410000</td>\n",
       "      <td>  60.520000</td>\n",
       "      <td>  61.090000</td>\n",
       "      <td> 22010800</td>\n",
       "      <td>  61.090000</td>\n",
       "    </tr>\n",
       "    <tr>\n",
       "      <th>NFLX</th>\n",
       "      <td> 117.300003</td>\n",
       "      <td> 119.180000</td>\n",
       "      <td> 117.129997</td>\n",
       "      <td> 117.510002</td>\n",
       "      <td>  7079700</td>\n",
       "      <td> 117.510002</td>\n",
       "    </tr>\n",
       "    <tr>\n",
       "      <th rowspan=\"4\" valign=\"top\">2016-11-30</th>\n",
       "      <th>AMZN</th>\n",
       "      <td> 762.000000</td>\n",
       "      <td> 768.090027</td>\n",
       "      <td> 750.250000</td>\n",
       "      <td> 750.570007</td>\n",
       "      <td>  4580100</td>\n",
       "      <td> 750.570007</td>\n",
       "    </tr>\n",
       "    <tr>\n",
       "      <th>DIS</th>\n",
       "      <td>  99.400002</td>\n",
       "      <td> 100.290001</td>\n",
       "      <td>  99.000000</td>\n",
       "      <td>  99.120003</td>\n",
       "      <td> 11241300</td>\n",
       "      <td>  99.120003</td>\n",
       "    </tr>\n",
       "    <tr>\n",
       "      <th>MSFT</th>\n",
       "      <td>  60.860001</td>\n",
       "      <td>  61.180000</td>\n",
       "      <td>  60.220001</td>\n",
       "      <td>  60.259998</td>\n",
       "      <td> 33783900</td>\n",
       "      <td>  60.259998</td>\n",
       "    </tr>\n",
       "    <tr>\n",
       "      <th>NFLX</th>\n",
       "      <td> 119.000000</td>\n",
       "      <td> 120.370003</td>\n",
       "      <td> 116.389999</td>\n",
       "      <td> 117.000000</td>\n",
       "      <td>  7669400</td>\n",
       "      <td> 117.000000</td>\n",
       "    </tr>\n",
       "    <tr>\n",
       "      <th rowspan=\"4\" valign=\"top\">2016-12-01</th>\n",
       "      <th>AMZN</th>\n",
       "      <td> 752.409973</td>\n",
       "      <td> 753.369995</td>\n",
       "      <td> 738.030029</td>\n",
       "      <td> 743.650024</td>\n",
       "      <td>  4626500</td>\n",
       "      <td> 743.650024</td>\n",
       "    </tr>\n",
       "    <tr>\n",
       "      <th>DIS</th>\n",
       "      <td>  99.129997</td>\n",
       "      <td>  99.750000</td>\n",
       "      <td>  98.620003</td>\n",
       "      <td>  98.940002</td>\n",
       "      <td>  9954200</td>\n",
       "      <td>  98.940002</td>\n",
       "    </tr>\n",
       "    <tr>\n",
       "      <th>MSFT</th>\n",
       "      <td>  60.110001</td>\n",
       "      <td>  60.150002</td>\n",
       "      <td>  58.939999</td>\n",
       "      <td>  59.200001</td>\n",
       "      <td> 33917000</td>\n",
       "      <td>  59.200001</td>\n",
       "    </tr>\n",
       "    <tr>\n",
       "      <th>NFLX</th>\n",
       "      <td> 117.519997</td>\n",
       "      <td> 118.680000</td>\n",
       "      <td> 113.949997</td>\n",
       "      <td> 117.220001</td>\n",
       "      <td>  8630600</td>\n",
       "      <td> 117.220001</td>\n",
       "    </tr>\n",
       "  </tbody>\n",
       "</table>\n",
       "</div>"
      ],
      "text/plain": [
       "                        Open        High         Low       Close    Volume  \\\n",
       "Date       minor                                                             \n",
       "2016-11-25 AMZN   786.500000  786.750000  777.900024  780.369995   1832300   \n",
       "           DIS     98.709999   99.070000   98.500000   98.820000   4396800   \n",
       "           MSFT    60.299999   60.529999   60.130001   60.529999   8370500   \n",
       "           NFLX   117.639999  118.389999  117.180000  117.410004   1613400   \n",
       "2016-11-28 AMZN   776.989990  777.000000  764.239990  766.770020   4380900   \n",
       "           DIS     98.519997   99.199997   98.320000   98.970001   7061600   \n",
       "           MSFT    60.340000   61.020000   60.209999   60.610001  20603800   \n",
       "           NFLX   117.050003  117.620003  115.709999  116.930000   5266500   \n",
       "2016-11-29 AMZN   768.000000  769.890015  761.320007  762.520020   3266500   \n",
       "           DIS     99.239998   99.680000   98.970001   99.669998   8374900   \n",
       "           MSFT    60.650002   61.410000   60.520000   61.090000  22010800   \n",
       "           NFLX   117.300003  119.180000  117.129997  117.510002   7079700   \n",
       "2016-11-30 AMZN   762.000000  768.090027  750.250000  750.570007   4580100   \n",
       "           DIS     99.400002  100.290001   99.000000   99.120003  11241300   \n",
       "           MSFT    60.860001   61.180000   60.220001   60.259998  33783900   \n",
       "           NFLX   119.000000  120.370003  116.389999  117.000000   7669400   \n",
       "2016-12-01 AMZN   752.409973  753.369995  738.030029  743.650024   4626500   \n",
       "           DIS     99.129997   99.750000   98.620003   98.940002   9954200   \n",
       "           MSFT    60.110001   60.150002   58.939999   59.200001  33917000   \n",
       "           NFLX   117.519997  118.680000  113.949997  117.220001   8630600   \n",
       "\n",
       "                   Adj Close  \n",
       "Date       minor              \n",
       "2016-11-25 AMZN   780.369995  \n",
       "           DIS     98.820000  \n",
       "           MSFT    60.529999  \n",
       "           NFLX   117.410004  \n",
       "2016-11-28 AMZN   766.770020  \n",
       "           DIS     98.970001  \n",
       "           MSFT    60.610001  \n",
       "           NFLX   116.930000  \n",
       "2016-11-29 AMZN   762.520020  \n",
       "           DIS     99.669998  \n",
       "           MSFT    61.090000  \n",
       "           NFLX   117.510002  \n",
       "2016-11-30 AMZN   750.570007  \n",
       "           DIS     99.120003  \n",
       "           MSFT    60.259998  \n",
       "           NFLX   117.000000  \n",
       "2016-12-01 AMZN   743.650024  \n",
       "           DIS     98.940002  \n",
       "           MSFT    59.200001  \n",
       "           NFLX   117.220001  "
      ]
     },
     "execution_count": 21,
     "metadata": {},
     "output_type": "execute_result"
    }
   ],
   "source": [
    "df_historical.loc[last5dayindex]"
   ]
  },
  {
   "cell_type": "markdown",
   "metadata": {},
   "source": [
    "Calculating the portfolio values\n"
   ]
  },
  {
   "cell_type": "code",
   "execution_count": 22,
   "metadata": {
    "collapsed": false
   },
   "outputs": [
    {
     "data": {
      "text/plain": [
       "minor\n",
       "AMZN     780.369995\n",
       "DIS       98.820000\n",
       "MSFT      60.529999\n",
       "NFLX     117.410004\n",
       "Name: Close, dtype: float64"
      ]
     },
     "execution_count": 22,
     "metadata": {},
     "output_type": "execute_result"
    }
   ],
   "source": [
    "df_historical.loc[firstdayindex]['Close']"
   ]
  },
  {
   "cell_type": "code",
   "execution_count": 23,
   "metadata": {
    "collapsed": true
   },
   "outputs": [],
   "source": [
    "#calculating shares acquired on Day1\n",
    "def getnumshares(li, date, df_historical, singlestock):\n",
    "    numshares={}\n",
    "    for i in li:\n",
    "        numshares[i] = singlestock[i]/df_historical.loc[date]['Close'][i]\n",
    "    return numshares"
   ]
  },
  {
   "cell_type": "code",
   "execution_count": 24,
   "metadata": {
    "collapsed": false
   },
   "outputs": [
    {
     "data": {
      "text/plain": [
       "pandas.core.series.Series"
      ]
     },
     "execution_count": 24,
     "metadata": {},
     "output_type": "execute_result"
    }
   ],
   "source": [
    "type(df_historical.loc[firstdayindex]['Close'])"
   ]
  },
  {
   "cell_type": "code",
   "execution_count": 25,
   "metadata": {
    "collapsed": false
   },
   "outputs": [],
   "source": [
    "num_shares=getnumshares(stockslist, firstdayindex,df_historical, stockallocation)"
   ]
  },
  {
   "cell_type": "code",
   "execution_count": 26,
   "metadata": {
    "collapsed": false,
    "scrolled": true
   },
   "outputs": [
    {
     "data": {
      "text/plain": [
       "{'AMZN': 1.3694580997201984,\n",
       " 'DIS': 20.556736800091496,\n",
       " 'MSFT': 26.949263547801806,\n",
       " 'NFLX': 10.805385573314675}"
      ]
     },
     "execution_count": 26,
     "metadata": {},
     "output_type": "execute_result"
    }
   ],
   "source": [
    "num_shares"
   ]
  },
  {
   "cell_type": "code",
   "execution_count": 27,
   "metadata": {
    "collapsed": false
   },
   "outputs": [],
   "source": [
    "def getportfolio_value(numshares, stocklist, date, df_historical):\n",
    "    portfolio_value = 0\n",
    "    for i in stocklist:\n",
    "        portfolio_value += numshares[i] * df_historical.loc[date]['Close'][i]\n",
    "    return portfolio_value"
   ]
  },
  {
   "cell_type": "code",
   "execution_count": 28,
   "metadata": {
    "collapsed": false
   },
   "outputs": [
    {
     "data": {
      "text/plain": [
       "6000.0"
      ]
     },
     "execution_count": 28,
     "metadata": {},
     "output_type": "execute_result"
    }
   ],
   "source": [
    "getportfolio_value(num_shares, stockslist, firstdayindex,df_historical)"
   ]
  },
  {
   "cell_type": "code",
   "execution_count": 29,
   "metadata": {
    "collapsed": false
   },
   "outputs": [
    {
     "data": {
      "text/plain": [
       "5914.2848655269081"
      ]
     },
     "execution_count": 29,
     "metadata": {},
     "output_type": "execute_result"
    }
   ],
   "source": [
    "getportfolio_value(num_shares, stockslist, firstdayindex+ BDay(4),df_historical)"
   ]
  },
  {
   "cell_type": "code",
   "execution_count": 30,
   "metadata": {
    "collapsed": false
   },
   "outputs": [
    {
     "data": {
      "text/plain": [
       "array([ 0.17352444,  0.27367444,  0.30843209,  0.24436903])"
      ]
     },
     "execution_count": 30,
     "metadata": {},
     "output_type": "execute_result"
    }
   ],
   "source": [
    "np.mean(np.random.dirichlet(np.ones(4), 10), axis=0)"
   ]
  },
  {
   "cell_type": "code",
   "execution_count": 31,
   "metadata": {
    "collapsed": false
   },
   "outputs": [],
   "source": [
    "#build a dateframe to track historical portfolio value change\n",
    "def track_portfolio_value(datelist, stocklist, df_historical,numshares):\n",
    "    portfolio_values={}\n",
    "    for i in datelist:\n",
    "        portfolio_values[i] = getportfolio_value(numshares, stocklist, i, df_historical)\n",
    "    return portfolio_values"
   ]
  },
  {
   "cell_type": "code",
   "execution_count": 32,
   "metadata": {
    "collapsed": false
   },
   "outputs": [],
   "source": [
    "d = track_portfolio_value(last5dayindex,stockslist, df_historical, num_shares)"
   ]
  },
  {
   "cell_type": "code",
   "execution_count": 33,
   "metadata": {
    "collapsed": false
   },
   "outputs": [
    {
     "data": {
      "text/plain": [
       "[(Timestamp('2016-11-30 00:00:00'), 5953.650668358302),\n",
       " (Timestamp('2016-11-28 00:00:00'), 5981.4283018426268),\n",
       " (Timestamp('2016-11-29 00:00:00'), 6009.2005238056445),\n",
       " (Timestamp('2016-12-01 00:00:00'), 5914.2848655269081),\n",
       " (Timestamp('2016-11-25 00:00:00'), 6000.0)]"
      ]
     },
     "execution_count": 33,
     "metadata": {},
     "output_type": "execute_result"
    }
   ],
   "source": [
    "d.items()"
   ]
  },
  {
   "cell_type": "code",
   "execution_count": 34,
   "metadata": {
    "collapsed": true
   },
   "outputs": [],
   "source": [
    "df_values = pd.DataFrame(d.items(), columns=['Date','totalvalue'])"
   ]
  },
  {
   "cell_type": "code",
   "execution_count": 35,
   "metadata": {
    "collapsed": false
   },
   "outputs": [],
   "source": [
    "?pd.DataFrame()"
   ]
  },
  {
   "cell_type": "code",
   "execution_count": 36,
   "metadata": {
    "collapsed": false
   },
   "outputs": [],
   "source": [
    "df_values.sort('Date', inplace=True)"
   ]
  },
  {
   "cell_type": "code",
   "execution_count": 37,
   "metadata": {
    "collapsed": false
   },
   "outputs": [
    {
     "data": {
      "text/html": [
       "<div style=\"max-height:1000px;max-width:1500px;overflow:auto;\">\n",
       "<table border=\"1\" class=\"dataframe\">\n",
       "  <thead>\n",
       "    <tr style=\"text-align: right;\">\n",
       "      <th></th>\n",
       "      <th>Date</th>\n",
       "      <th>totalvalue</th>\n",
       "    </tr>\n",
       "  </thead>\n",
       "  <tbody>\n",
       "    <tr>\n",
       "      <th>4</th>\n",
       "      <td>2016-11-25</td>\n",
       "      <td> 6000.000000</td>\n",
       "    </tr>\n",
       "    <tr>\n",
       "      <th>1</th>\n",
       "      <td>2016-11-28</td>\n",
       "      <td> 5981.428302</td>\n",
       "    </tr>\n",
       "    <tr>\n",
       "      <th>2</th>\n",
       "      <td>2016-11-29</td>\n",
       "      <td> 6009.200524</td>\n",
       "    </tr>\n",
       "    <tr>\n",
       "      <th>0</th>\n",
       "      <td>2016-11-30</td>\n",
       "      <td> 5953.650668</td>\n",
       "    </tr>\n",
       "    <tr>\n",
       "      <th>3</th>\n",
       "      <td>2016-12-01</td>\n",
       "      <td> 5914.284866</td>\n",
       "    </tr>\n",
       "  </tbody>\n",
       "</table>\n",
       "</div>"
      ],
      "text/plain": [
       "        Date   totalvalue\n",
       "4 2016-11-25  6000.000000\n",
       "1 2016-11-28  5981.428302\n",
       "2 2016-11-29  6009.200524\n",
       "0 2016-11-30  5953.650668\n",
       "3 2016-12-01  5914.284866"
      ]
     },
     "execution_count": 37,
     "metadata": {},
     "output_type": "execute_result"
    }
   ],
   "source": [
    "df_values"
   ]
  },
  {
   "cell_type": "code",
   "execution_count": 38,
   "metadata": {
    "collapsed": false
   },
   "outputs": [],
   "source": [
    "df_values.Date = pd.to_datetime(df_values.Date)"
   ]
  },
  {
   "cell_type": "code",
   "execution_count": 39,
   "metadata": {
    "collapsed": false
   },
   "outputs": [
    {
     "data": {
      "text/html": [
       "<div style=\"max-height:1000px;max-width:1500px;overflow:auto;\">\n",
       "<table border=\"1\" class=\"dataframe\">\n",
       "  <thead>\n",
       "    <tr style=\"text-align: right;\">\n",
       "      <th></th>\n",
       "      <th>Date</th>\n",
       "      <th>totalvalue</th>\n",
       "    </tr>\n",
       "  </thead>\n",
       "  <tbody>\n",
       "    <tr>\n",
       "      <th>4</th>\n",
       "      <td>2016-11-25</td>\n",
       "      <td> 6000.000000</td>\n",
       "    </tr>\n",
       "    <tr>\n",
       "      <th>1</th>\n",
       "      <td>2016-11-28</td>\n",
       "      <td> 5981.428302</td>\n",
       "    </tr>\n",
       "    <tr>\n",
       "      <th>2</th>\n",
       "      <td>2016-11-29</td>\n",
       "      <td> 6009.200524</td>\n",
       "    </tr>\n",
       "    <tr>\n",
       "      <th>0</th>\n",
       "      <td>2016-11-30</td>\n",
       "      <td> 5953.650668</td>\n",
       "    </tr>\n",
       "    <tr>\n",
       "      <th>3</th>\n",
       "      <td>2016-12-01</td>\n",
       "      <td> 5914.284866</td>\n",
       "    </tr>\n",
       "  </tbody>\n",
       "</table>\n",
       "</div>"
      ],
      "text/plain": [
       "        Date   totalvalue\n",
       "4 2016-11-25  6000.000000\n",
       "1 2016-11-28  5981.428302\n",
       "2 2016-11-29  6009.200524\n",
       "0 2016-11-30  5953.650668\n",
       "3 2016-12-01  5914.284866"
      ]
     },
     "execution_count": 39,
     "metadata": {},
     "output_type": "execute_result"
    }
   ],
   "source": [
    "df_values"
   ]
  },
  {
   "cell_type": "markdown",
   "metadata": {
    "collapsed": true
   },
   "source": [
    "#building charts\n"
   ]
  },
  {
   "cell_type": "code",
   "execution_count": 40,
   "metadata": {
    "collapsed": false
   },
   "outputs": [],
   "source": [
    "from bokeh.models import HoverTool\n",
    "from bokeh.models import ColumnDataSource\n",
    "from bokeh.plotting import figure\n",
    "from bokeh.models import DatetimeTickFormatter, NumeralTickFormatter"
   ]
  },
  {
   "cell_type": "code",
   "execution_count": 41,
   "metadata": {
    "collapsed": false
   },
   "outputs": [
    {
     "data": {
      "text/html": [
       "<div style=\"max-height:1000px;max-width:1500px;overflow:auto;\">\n",
       "<table border=\"1\" class=\"dataframe\">\n",
       "  <thead>\n",
       "    <tr style=\"text-align: right;\">\n",
       "      <th></th>\n",
       "      <th>totalvalue</th>\n",
       "    </tr>\n",
       "  </thead>\n",
       "  <tbody>\n",
       "    <tr>\n",
       "      <th>count</th>\n",
       "      <td>    5.000000</td>\n",
       "    </tr>\n",
       "    <tr>\n",
       "      <th>mean</th>\n",
       "      <td> 5971.712872</td>\n",
       "    </tr>\n",
       "    <tr>\n",
       "      <th>std</th>\n",
       "      <td>   38.484069</td>\n",
       "    </tr>\n",
       "    <tr>\n",
       "      <th>min</th>\n",
       "      <td> 5914.284866</td>\n",
       "    </tr>\n",
       "    <tr>\n",
       "      <th>25%</th>\n",
       "      <td> 5953.650668</td>\n",
       "    </tr>\n",
       "    <tr>\n",
       "      <th>50%</th>\n",
       "      <td> 5981.428302</td>\n",
       "    </tr>\n",
       "    <tr>\n",
       "      <th>75%</th>\n",
       "      <td> 6000.000000</td>\n",
       "    </tr>\n",
       "    <tr>\n",
       "      <th>max</th>\n",
       "      <td> 6009.200524</td>\n",
       "    </tr>\n",
       "  </tbody>\n",
       "</table>\n",
       "</div>"
      ],
      "text/plain": [
       "        totalvalue\n",
       "count     5.000000\n",
       "mean   5971.712872\n",
       "std      38.484069\n",
       "min    5914.284866\n",
       "25%    5953.650668\n",
       "50%    5981.428302\n",
       "75%    6000.000000\n",
       "max    6009.200524"
      ]
     },
     "execution_count": 41,
     "metadata": {},
     "output_type": "execute_result"
    }
   ],
   "source": [
    "df_values.describe()"
   ]
  },
  {
   "cell_type": "code",
   "execution_count": 42,
   "metadata": {
    "collapsed": false
   },
   "outputs": [],
   "source": [
    "df_values['DOD Change'] = df_values['totalvalue'].pct_change()"
   ]
  },
  {
   "cell_type": "code",
   "execution_count": 43,
   "metadata": {
    "collapsed": false
   },
   "outputs": [],
   "source": [
    "df_values['value'] = df_values['totalvalue'].map('${:,.2f}'.format)\n",
    "df_values['change'] = df_values['DOD Change'].map('{:.2%}'.format)"
   ]
  },
  {
   "cell_type": "code",
   "execution_count": 44,
   "metadata": {
    "collapsed": false,
    "scrolled": true
   },
   "outputs": [
    {
     "data": {
      "text/html": [
       "<div style=\"max-height:1000px;max-width:1500px;overflow:auto;\">\n",
       "<table border=\"1\" class=\"dataframe\">\n",
       "  <thead>\n",
       "    <tr style=\"text-align: right;\">\n",
       "      <th></th>\n",
       "      <th>Date</th>\n",
       "      <th>totalvalue</th>\n",
       "      <th>DOD Change</th>\n",
       "      <th>value</th>\n",
       "      <th>change</th>\n",
       "    </tr>\n",
       "  </thead>\n",
       "  <tbody>\n",
       "    <tr>\n",
       "      <th>4</th>\n",
       "      <td>2016-11-25</td>\n",
       "      <td> 6000.000000</td>\n",
       "      <td>      NaN</td>\n",
       "      <td> $6,000.00</td>\n",
       "      <td>   nan%</td>\n",
       "    </tr>\n",
       "    <tr>\n",
       "      <th>1</th>\n",
       "      <td>2016-11-28</td>\n",
       "      <td> 5981.428302</td>\n",
       "      <td>-0.003095</td>\n",
       "      <td> $5,981.43</td>\n",
       "      <td> -0.31%</td>\n",
       "    </tr>\n",
       "    <tr>\n",
       "      <th>2</th>\n",
       "      <td>2016-11-29</td>\n",
       "      <td> 6009.200524</td>\n",
       "      <td> 0.004643</td>\n",
       "      <td> $6,009.20</td>\n",
       "      <td>  0.46%</td>\n",
       "    </tr>\n",
       "    <tr>\n",
       "      <th>0</th>\n",
       "      <td>2016-11-30</td>\n",
       "      <td> 5953.650668</td>\n",
       "      <td>-0.009244</td>\n",
       "      <td> $5,953.65</td>\n",
       "      <td> -0.92%</td>\n",
       "    </tr>\n",
       "    <tr>\n",
       "      <th>3</th>\n",
       "      <td>2016-12-01</td>\n",
       "      <td> 5914.284866</td>\n",
       "      <td>-0.006612</td>\n",
       "      <td> $5,914.28</td>\n",
       "      <td> -0.66%</td>\n",
       "    </tr>\n",
       "  </tbody>\n",
       "</table>\n",
       "</div>"
      ],
      "text/plain": [
       "        Date   totalvalue  DOD Change      value  change\n",
       "4 2016-11-25  6000.000000         NaN  $6,000.00    nan%\n",
       "1 2016-11-28  5981.428302   -0.003095  $5,981.43  -0.31%\n",
       "2 2016-11-29  6009.200524    0.004643  $6,009.20   0.46%\n",
       "0 2016-11-30  5953.650668   -0.009244  $5,953.65  -0.92%\n",
       "3 2016-12-01  5914.284866   -0.006612  $5,914.28  -0.66%"
      ]
     },
     "execution_count": 44,
     "metadata": {},
     "output_type": "execute_result"
    }
   ],
   "source": [
    "df_values"
   ]
  },
  {
   "cell_type": "code",
   "execution_count": 68,
   "metadata": {
    "collapsed": false
   },
   "outputs": [
    {
     "data": {
      "text/plain": [
       "['$6,000.00', '$5,981.43', '$6,009.20', '$5,953.65', '$5,914.28']"
      ]
     },
     "execution_count": 68,
     "metadata": {},
     "output_type": "execute_result"
    }
   ],
   "source": [
    "list(df_values.value)"
   ]
  },
  {
   "cell_type": "code",
   "execution_count": 82,
   "metadata": {
    "collapsed": false,
    "scrolled": true
   },
   "outputs": [
    {
     "data": {
      "text/html": [
       "\n",
       "\n",
       "    <div class=\"bk-root\">\n",
       "        <div class=\"plotdiv\" id=\"8c5bfc6a-33da-45e5-846d-4fffeb8f8dd8\"></div>\n",
       "    </div>\n",
       "<script type=\"text/javascript\">\n",
       "  \n",
       "  (function(global) {\n",
       "    function now() {\n",
       "      return new Date();\n",
       "    }\n",
       "  \n",
       "    var force = \"\";\n",
       "  \n",
       "    if (typeof (window._bokeh_onload_callbacks) === \"undefined\" || force !== \"\") {\n",
       "      window._bokeh_onload_callbacks = [];\n",
       "      window._bokeh_is_loading = undefined;\n",
       "    }\n",
       "  \n",
       "  \n",
       "    \n",
       "    if (typeof (window._bokeh_timeout) === \"undefined\" || force !== \"\") {\n",
       "      window._bokeh_timeout = Date.now() + 0;\n",
       "      window._bokeh_failed_load = false;\n",
       "    }\n",
       "  \n",
       "    var NB_LOAD_WARNING = {'data': {'text/html':\n",
       "       \"<div style='background-color: #fdd'>\\n\"+\n",
       "       \"<p>\\n\"+\n",
       "       \"BokehJS does not appear to have successfully loaded. If loading BokehJS from CDN, this \\n\"+\n",
       "       \"may be due to a slow or bad network connection. Possible fixes:\\n\"+\n",
       "       \"</p>\\n\"+\n",
       "       \"<ul>\\n\"+\n",
       "       \"<li>re-rerun `output_notebook()` to attempt to load from CDN again, or</li>\\n\"+\n",
       "       \"<li>use INLINE resources instead, as so:</li>\\n\"+\n",
       "       \"</ul>\\n\"+\n",
       "       \"<code>\\n\"+\n",
       "       \"from bokeh.resources import INLINE\\n\"+\n",
       "       \"output_notebook(resources=INLINE)\\n\"+\n",
       "       \"</code>\\n\"+\n",
       "       \"</div>\"}};\n",
       "  \n",
       "    function display_loaded() {\n",
       "      if (window.Bokeh !== undefined) {\n",
       "        Bokeh.$(\"#8c5bfc6a-33da-45e5-846d-4fffeb8f8dd8\").text(\"BokehJS successfully loaded.\");\n",
       "      } else if (Date.now() < window._bokeh_timeout) {\n",
       "        setTimeout(display_loaded, 100)\n",
       "      }\n",
       "    }\n",
       "  \n",
       "    function run_callbacks() {\n",
       "      window._bokeh_onload_callbacks.forEach(function(callback) { callback() });\n",
       "      delete window._bokeh_onload_callbacks\n",
       "      console.info(\"Bokeh: all callbacks have finished\");\n",
       "    }\n",
       "  \n",
       "    function load_libs(js_urls, callback) {\n",
       "      window._bokeh_onload_callbacks.push(callback);\n",
       "      if (window._bokeh_is_loading > 0) {\n",
       "        console.log(\"Bokeh: BokehJS is being loaded, scheduling callback at\", now());\n",
       "        return null;\n",
       "      }\n",
       "      if (js_urls == null || js_urls.length === 0) {\n",
       "        run_callbacks();\n",
       "        return null;\n",
       "      }\n",
       "      console.log(\"Bokeh: BokehJS not loaded, scheduling load and callback at\", now());\n",
       "      window._bokeh_is_loading = js_urls.length;\n",
       "      for (var i = 0; i < js_urls.length; i++) {\n",
       "        var url = js_urls[i];\n",
       "        var s = document.createElement('script');\n",
       "        s.src = url;\n",
       "        s.async = false;\n",
       "        s.onreadystatechange = s.onload = function() {\n",
       "          window._bokeh_is_loading--;\n",
       "          if (window._bokeh_is_loading === 0) {\n",
       "            console.log(\"Bokeh: all BokehJS libraries loaded\");\n",
       "            run_callbacks()\n",
       "          }\n",
       "        };\n",
       "        s.onerror = function() {\n",
       "          console.warn(\"failed to load library \" + url);\n",
       "        };\n",
       "        console.log(\"Bokeh: injecting script tag for BokehJS library: \", url);\n",
       "        document.getElementsByTagName(\"head\")[0].appendChild(s);\n",
       "      }\n",
       "    };var element = document.getElementById(\"8c5bfc6a-33da-45e5-846d-4fffeb8f8dd8\");\n",
       "    if (element == null) {\n",
       "      console.log(\"Bokeh: ERROR: autoload.js configured with elementid '8c5bfc6a-33da-45e5-846d-4fffeb8f8dd8' but no matching script tag was found. \")\n",
       "      return false;\n",
       "    }\n",
       "  \n",
       "    var js_urls = [];\n",
       "  \n",
       "    var inline_js = [\n",
       "      function(Bokeh) {\n",
       "        Bokeh.$(function() {\n",
       "            var docs_json = {\"87bf4ec7-5aa0-48fe-896c-4ac08899b950\":{\"roots\":{\"references\":[{\"attributes\":{\"bottom_units\":\"screen\",\"fill_alpha\":{\"value\":0.5},\"fill_color\":{\"value\":\"lightgrey\"},\"left_units\":\"screen\",\"level\":\"overlay\",\"line_alpha\":{\"value\":1.0},\"line_color\":{\"value\":\"black\"},\"line_dash\":[4,4],\"line_width\":{\"value\":2},\"plot\":null,\"render_mode\":\"css\",\"right_units\":\"screen\",\"top_units\":\"screen\"},\"id\":\"56876477-f017-47ed-a96a-f4a68f01c2af\",\"type\":\"BoxAnnotation\"},{\"attributes\":{\"callback\":null,\"end\":6047.684593085117,\"start\":5875.800796247436},\"id\":\"0ef72bc7-a09a-4797-9b61-3e771a82abc1\",\"type\":\"Range1d\"},{\"attributes\":{\"axis_label\":\"Date\",\"formatter\":{\"id\":\"b80ef92e-decc-419f-be49-215a97da502b\",\"type\":\"DatetimeTickFormatter\"},\"plot\":{\"id\":\"8b51326a-77bc-4d4c-80d2-def894c8662d\",\"subtype\":\"Figure\",\"type\":\"Plot\"},\"ticker\":{\"id\":\"a39f991e-7400-4398-a1bc-0493e0934331\",\"type\":\"DatetimeTicker\"}},\"id\":\"c38270c3-6b92-494a-ab72-f01b072f3d75\",\"type\":\"DatetimeAxis\"},{\"attributes\":{\"data_source\":{\"id\":\"6ac8cf3a-e3f6-4db7-8ef5-ad0f1a9c16e4\",\"type\":\"ColumnDataSource\"},\"glyph\":{\"id\":\"2d88ab29-789a-419d-bab5-b8279a49dbe8\",\"type\":\"Line\"},\"hover_glyph\":null,\"nonselection_glyph\":{\"id\":\"f555688d-504e-455a-bab7-cedf6c06c2cf\",\"type\":\"Line\"},\"selection_glyph\":null},\"id\":\"47ec5e2a-9a05-4f97-9eb6-18e127347811\",\"type\":\"GlyphRenderer\"},{\"attributes\":{\"below\":[{\"id\":\"c38270c3-6b92-494a-ab72-f01b072f3d75\",\"type\":\"DatetimeAxis\"}],\"left\":[{\"id\":\"98bf66ea-8070-4eca-ab14-901516d3c2ed\",\"type\":\"LinearAxis\"}],\"plot_height\":300,\"plot_width\":500,\"renderers\":[{\"id\":\"c38270c3-6b92-494a-ab72-f01b072f3d75\",\"type\":\"DatetimeAxis\"},{\"id\":\"b0cd6d48-972b-4733-9d16-f77bb2125765\",\"type\":\"Grid\"},{\"id\":\"98bf66ea-8070-4eca-ab14-901516d3c2ed\",\"type\":\"LinearAxis\"},{\"id\":\"69cba6d1-7a06-44f1-991b-31abf375831d\",\"type\":\"Grid\"},{\"id\":\"663a86d2-f95c-44fd-abba-c3a5c4604c49\",\"type\":\"BoxAnnotation\"},{\"id\":\"56876477-f017-47ed-a96a-f4a68f01c2af\",\"type\":\"BoxAnnotation\"},{\"id\":\"649d6c76-3dcf-4279-a753-d9126af11dc6\",\"type\":\"GlyphRenderer\"},{\"id\":\"47ec5e2a-9a05-4f97-9eb6-18e127347811\",\"type\":\"GlyphRenderer\"}],\"title\":{\"id\":\"d55254d9-e34c-4632-9464-9951d5014a21\",\"type\":\"Title\"},\"tool_events\":{\"id\":\"18fc13e6-d8a6-4287-b63b-b8702214e9ae\",\"type\":\"ToolEvents\"},\"toolbar\":{\"id\":\"2bd56f6e-230a-411b-869a-3e5ed0e4ca77\",\"type\":\"Toolbar\"},\"x_range\":{\"id\":\"fef905c8-bae1-433a-8529-fc9e863fdb05\",\"type\":\"DataRange1d\"},\"y_range\":{\"id\":\"0ef72bc7-a09a-4797-9b61-3e771a82abc1\",\"type\":\"Range1d\"}},\"id\":\"8b51326a-77bc-4d4c-80d2-def894c8662d\",\"subtype\":\"Figure\",\"type\":\"Plot\"},{\"attributes\":{\"callback\":null},\"id\":\"fef905c8-bae1-433a-8529-fc9e863fdb05\",\"type\":\"DataRange1d\"},{\"attributes\":{\"months\":[0,2,4,6,8,10]},\"id\":\"044657f4-a872-4a59-a556-925d08ba6c3b\",\"type\":\"MonthsTicker\"},{\"attributes\":{\"format\":\"$0.00\"},\"id\":\"3c6cbfa6-b625-4bb3-996d-c4ae737646ed\",\"type\":\"NumeralTickFormatter\"},{\"attributes\":{},\"id\":\"893a6b35-9c59-4ac0-89c4-a058f28b8759\",\"type\":\"YearsTicker\"},{\"attributes\":{\"line_color\":{\"value\":\"#1f77b4\"},\"line_width\":{\"value\":3},\"x\":{\"field\":\"x\"},\"y\":{\"field\":\"y\"}},\"id\":\"2d88ab29-789a-419d-bab5-b8279a49dbe8\",\"type\":\"Line\"},{\"attributes\":{\"days\":[1,4,7,10,13,16,19,22,25,28]},\"id\":\"ae6be7d1-64ce-4b4e-81ed-8aa0d13940bd\",\"type\":\"DaysTicker\"},{\"attributes\":{\"axis_label\":\"Total value\",\"formatter\":{\"id\":\"3c6cbfa6-b625-4bb3-996d-c4ae737646ed\",\"type\":\"NumeralTickFormatter\"},\"plot\":{\"id\":\"8b51326a-77bc-4d4c-80d2-def894c8662d\",\"subtype\":\"Figure\",\"type\":\"Plot\"},\"ticker\":{\"id\":\"ec4380e9-dd2e-4be3-ad20-e2b07a8f171d\",\"type\":\"BasicTicker\"}},\"id\":\"98bf66ea-8070-4eca-ab14-901516d3c2ed\",\"type\":\"LinearAxis\"},{\"attributes\":{\"callback\":null,\"column_names\":[\"y\",\"x\",\"change\"],\"data\":{\"change\":[\"nan%\",\"-0.31%\",\"0.46%\",\"-0.92%\",\"-0.66%\"],\"x\":[1480032000000.0,1480291200000.0,1480377600000.0,1480464000000.0,1480550400000.0],\"y\":[6000.0,5981.428301842627,6009.2005238056445,5953.650668358302,5914.284865526908]}},\"id\":\"6ac8cf3a-e3f6-4db7-8ef5-ad0f1a9c16e4\",\"type\":\"ColumnDataSource\"},{\"attributes\":{\"max_interval\":500.0,\"num_minor_ticks\":0},\"id\":\"850bb2e0-e514-48bd-bfcf-a23f16310352\",\"type\":\"AdaptiveTicker\"},{\"attributes\":{},\"id\":\"b80ef92e-decc-419f-be49-215a97da502b\",\"type\":\"DatetimeTickFormatter\"},{\"attributes\":{\"days\":[1,15]},\"id\":\"53e9fb0d-8667-4e8e-98fe-052f92fcb68f\",\"type\":\"DaysTicker\"},{\"attributes\":{\"plot\":{\"id\":\"8b51326a-77bc-4d4c-80d2-def894c8662d\",\"subtype\":\"Figure\",\"type\":\"Plot\"}},\"id\":\"21152b77-7aee-4e57-9f27-78ae1b5f11f8\",\"type\":\"ResetTool\"},{\"attributes\":{\"months\":[0,4,8]},\"id\":\"0cc04636-2833-4051-a88d-8d9a88af7bbc\",\"type\":\"MonthsTicker\"},{\"attributes\":{\"days\":[1,8,15,22]},\"id\":\"049e6f5d-0731-4802-a377-ff3e4bba17cc\",\"type\":\"DaysTicker\"},{\"attributes\":{\"overlay\":{\"id\":\"663a86d2-f95c-44fd-abba-c3a5c4604c49\",\"type\":\"BoxAnnotation\"},\"plot\":{\"id\":\"8b51326a-77bc-4d4c-80d2-def894c8662d\",\"subtype\":\"Figure\",\"type\":\"Plot\"}},\"id\":\"002aed55-4a5d-457e-a9fc-497591e01f1c\",\"type\":\"BoxZoomTool\"},{\"attributes\":{\"dimension\":1,\"plot\":{\"id\":\"8b51326a-77bc-4d4c-80d2-def894c8662d\",\"subtype\":\"Figure\",\"type\":\"Plot\"},\"ticker\":{\"id\":\"ec4380e9-dd2e-4be3-ad20-e2b07a8f171d\",\"type\":\"BasicTicker\"}},\"id\":\"69cba6d1-7a06-44f1-991b-31abf375831d\",\"type\":\"Grid\"},{\"attributes\":{\"months\":[0,6]},\"id\":\"f79cf01b-c2f5-42cc-9c1a-0225fa15fbc7\",\"type\":\"MonthsTicker\"},{\"attributes\":{\"fill_color\":{\"value\":\"#1f77b4\"},\"line_color\":{\"value\":\"#1f77b4\"},\"size\":{\"units\":\"screen\",\"value\":15},\"x\":{\"field\":\"x\"},\"y\":{\"field\":\"y\"}},\"id\":\"ea37f396-1cb8-401e-b210-cd46ccd18f56\",\"type\":\"Circle\"},{\"attributes\":{\"data_source\":{\"id\":\"6ac8cf3a-e3f6-4db7-8ef5-ad0f1a9c16e4\",\"type\":\"ColumnDataSource\"},\"glyph\":{\"id\":\"ea37f396-1cb8-401e-b210-cd46ccd18f56\",\"type\":\"Circle\"},\"hover_glyph\":null,\"nonselection_glyph\":{\"id\":\"6340ef22-3c74-4b44-b396-b87e7f012f88\",\"type\":\"Circle\"},\"selection_glyph\":null},\"id\":\"649d6c76-3dcf-4279-a753-d9126af11dc6\",\"type\":\"GlyphRenderer\"},{\"attributes\":{\"plot\":{\"id\":\"8b51326a-77bc-4d4c-80d2-def894c8662d\",\"subtype\":\"Figure\",\"type\":\"Plot\"},\"ticker\":{\"id\":\"a39f991e-7400-4398-a1bc-0493e0934331\",\"type\":\"DatetimeTicker\"}},\"id\":\"b0cd6d48-972b-4733-9d16-f77bb2125765\",\"type\":\"Grid\"},{\"attributes\":{},\"id\":\"ec4380e9-dd2e-4be3-ad20-e2b07a8f171d\",\"type\":\"BasicTicker\"},{\"attributes\":{\"callback\":null,\"overlay\":{\"id\":\"56876477-f017-47ed-a96a-f4a68f01c2af\",\"type\":\"BoxAnnotation\"},\"plot\":{\"id\":\"8b51326a-77bc-4d4c-80d2-def894c8662d\",\"subtype\":\"Figure\",\"type\":\"Plot\"},\"renderers\":[{\"id\":\"649d6c76-3dcf-4279-a753-d9126af11dc6\",\"type\":\"GlyphRenderer\"},{\"id\":\"47ec5e2a-9a05-4f97-9eb6-18e127347811\",\"type\":\"GlyphRenderer\"}]},\"id\":\"e5b829a2-e945-4c72-9a61-65c312fb3831\",\"type\":\"BoxSelectTool\"},{\"attributes\":{\"line_alpha\":{\"value\":0.1},\"line_color\":{\"value\":\"#1f77b4\"},\"line_width\":{\"value\":3},\"x\":{\"field\":\"x\"},\"y\":{\"field\":\"y\"}},\"id\":\"f555688d-504e-455a-bab7-cedf6c06c2cf\",\"type\":\"Line\"},{\"attributes\":{\"base\":24,\"mantissas\":[1,2,4,6,8,12],\"max_interval\":43200000.0,\"min_interval\":3600000.0,\"num_minor_ticks\":0},\"id\":\"6099d81e-6642-4068-a172-b1aeaa3e766d\",\"type\":\"AdaptiveTicker\"},{\"attributes\":{\"active_drag\":\"auto\",\"active_scroll\":\"auto\",\"active_tap\":\"auto\",\"tools\":[{\"id\":\"674ac405-12e2-4257-b7f0-f177ae774bf9\",\"type\":\"HoverTool\"},{\"id\":\"002aed55-4a5d-457e-a9fc-497591e01f1c\",\"type\":\"BoxZoomTool\"},{\"id\":\"e5b829a2-e945-4c72-9a61-65c312fb3831\",\"type\":\"BoxSelectTool\"},{\"id\":\"f0728812-5394-4ce5-9627-7045f41846af\",\"type\":\"ResizeTool\"},{\"id\":\"21152b77-7aee-4e57-9f27-78ae1b5f11f8\",\"type\":\"ResetTool\"}]},\"id\":\"2bd56f6e-230a-411b-869a-3e5ed0e4ca77\",\"type\":\"Toolbar\"},{\"attributes\":{\"days\":[1,2,3,4,5,6,7,8,9,10,11,12,13,14,15,16,17,18,19,20,21,22,23,24,25,26,27,28,29,30,31]},\"id\":\"4f23f169-75e9-4c89-be11-5680051f7d6a\",\"type\":\"DaysTicker\"},{\"attributes\":{\"months\":[0,1,2,3,4,5,6,7,8,9,10,11]},\"id\":\"e2bc026d-5d47-4a1e-b5c2-ce92ff7bd923\",\"type\":\"MonthsTicker\"},{\"attributes\":{\"plot\":{\"id\":\"8b51326a-77bc-4d4c-80d2-def894c8662d\",\"subtype\":\"Figure\",\"type\":\"Plot\"}},\"id\":\"f0728812-5394-4ce5-9627-7045f41846af\",\"type\":\"ResizeTool\"},{\"attributes\":{\"callback\":null,\"plot\":{\"id\":\"8b51326a-77bc-4d4c-80d2-def894c8662d\",\"subtype\":\"Figure\",\"type\":\"Plot\"},\"tooltips\":[[\"Value\",\"@y{$1.11}\"],[\"Change vs previous day\",\"@change\"]]},\"id\":\"674ac405-12e2-4257-b7f0-f177ae774bf9\",\"type\":\"HoverTool\"},{\"attributes\":{\"base\":60,\"mantissas\":[1,2,5,10,15,20,30],\"max_interval\":1800000.0,\"min_interval\":1000.0,\"num_minor_ticks\":0},\"id\":\"79d07c0d-6d54-4936-a0fd-23f7b82253cf\",\"type\":\"AdaptiveTicker\"},{\"attributes\":{\"plot\":null,\"text\":null},\"id\":\"d55254d9-e34c-4632-9464-9951d5014a21\",\"type\":\"Title\"},{\"attributes\":{\"num_minor_ticks\":5},\"id\":\"a39f991e-7400-4398-a1bc-0493e0934331\",\"type\":\"DatetimeTicker\"},{\"attributes\":{},\"id\":\"18fc13e6-d8a6-4287-b63b-b8702214e9ae\",\"type\":\"ToolEvents\"},{\"attributes\":{\"bottom_units\":\"screen\",\"fill_alpha\":{\"value\":0.5},\"fill_color\":{\"value\":\"lightgrey\"},\"left_units\":\"screen\",\"level\":\"overlay\",\"line_alpha\":{\"value\":1.0},\"line_color\":{\"value\":\"black\"},\"line_dash\":[4,4],\"line_width\":{\"value\":2},\"plot\":null,\"render_mode\":\"css\",\"right_units\":\"screen\",\"top_units\":\"screen\"},\"id\":\"663a86d2-f95c-44fd-abba-c3a5c4604c49\",\"type\":\"BoxAnnotation\"},{\"attributes\":{\"fill_alpha\":{\"value\":0.1},\"fill_color\":{\"value\":\"#1f77b4\"},\"line_alpha\":{\"value\":0.1},\"line_color\":{\"value\":\"#1f77b4\"},\"size\":{\"units\":\"screen\",\"value\":15},\"x\":{\"field\":\"x\"},\"y\":{\"field\":\"y\"}},\"id\":\"6340ef22-3c74-4b44-b396-b87e7f012f88\",\"type\":\"Circle\"}],\"root_ids\":[\"8b51326a-77bc-4d4c-80d2-def894c8662d\"]},\"title\":\"Bokeh Application\",\"version\":\"0.12.3\"}};\n",
       "            var render_items = [{\"docid\":\"87bf4ec7-5aa0-48fe-896c-4ac08899b950\",\"elementid\":\"8c5bfc6a-33da-45e5-846d-4fffeb8f8dd8\",\"modelid\":\"8b51326a-77bc-4d4c-80d2-def894c8662d\"}];\n",
       "            \n",
       "            Bokeh.embed.embed_items(docs_json, render_items);\n",
       "        });\n",
       "      },\n",
       "      function(Bokeh) {\n",
       "      }\n",
       "    ];\n",
       "  \n",
       "    function run_inline_js() {\n",
       "      \n",
       "      if ((window.Bokeh !== undefined) || (force === \"1\")) {\n",
       "        for (var i = 0; i < inline_js.length; i++) {\n",
       "          inline_js[i](window.Bokeh);\n",
       "        }if (force === \"1\") {\n",
       "          display_loaded();\n",
       "        }} else if (Date.now() < window._bokeh_timeout) {\n",
       "        setTimeout(run_inline_js, 100);\n",
       "      } else if (!window._bokeh_failed_load) {\n",
       "        console.log(\"Bokeh: BokehJS failed to load within specified timeout.\");\n",
       "        window._bokeh_failed_load = true;\n",
       "      } else if (!force) {\n",
       "        var cell = $(\"#8c5bfc6a-33da-45e5-846d-4fffeb8f8dd8\").parents('.cell').data().cell;\n",
       "        cell.output_area.append_execute_result(NB_LOAD_WARNING)\n",
       "      }\n",
       "  \n",
       "    }\n",
       "  \n",
       "    if (window._bokeh_is_loading === 0) {\n",
       "      console.log(\"Bokeh: BokehJS loaded, going straight to plotting\");\n",
       "      run_inline_js();\n",
       "    } else {\n",
       "      load_libs(js_urls, function() {\n",
       "        console.log(\"Bokeh: BokehJS plotting callback run at\", now());\n",
       "        run_inline_js();\n",
       "      });\n",
       "    }\n",
       "  }(this));\n",
       "</script>"
      ]
     },
     "metadata": {},
     "output_type": "display_data"
    }
   ],
   "source": [
    "max = df_values.totalvalue.max()+ df_values.totalvalue.std()\n",
    "min = df_values.totalvalue.min()-df_values.totalvalue.std()\n",
    "value = list(df_values.totalvalue)\n",
    "change = list(df_values.change)\n",
    "date = list(df_values.Date)\n",
    "source = ColumnDataSource(data = dict(\n",
    "        x = date,\n",
    "        y = value,\n",
    "        change = change,    \n",
    "    ))\n",
    "hover = HoverTool(\n",
    "        tooltips=[\n",
    "            (\"Value\", \"@y{$1.11}\"),\n",
    "            (\"Change vs Previous day\", \"@change\"),\n",
    "        ]\n",
    "    )\n",
    "TOOLS = 'box_zoom,box_select,resize,reset'\n",
    "p = figure(plot_width = 500, plot_height = 300,x_axis_type=\"datetime\",y_range=(min,max), tools=[hover, TOOLS])\n",
    "# p.circle(x = df_values['Date'], y = df_values['totalvalue'], size =15, source=source)\n",
    "# p.line(x = df_values['Date'], y = df_values['totalvalue'], line_width=3, source=source)\n",
    "p.circle('x', 'y', size =15, source=source)\n",
    "p.line('x', 'y', line_width=3, source=source)\n",
    "\n",
    "p.yaxis[0].formatter = NumeralTickFormatter(format=\"$0.00\")\n",
    "p.xaxis.axis_label='Date'\n",
    "p.yaxis.axis_label='Total value'\n",
    "show(p)"
   ]
  },
  {
   "cell_type": "code",
   "execution_count": 77,
   "metadata": {
    "collapsed": false
   },
   "outputs": [
    {
     "data": {
      "text/plain": [
       "['$6,000.00', '$5,981.43', '$6,009.20', '$5,953.65', '$5,914.28']"
      ]
     },
     "execution_count": 77,
     "metadata": {},
     "output_type": "execute_result"
    }
   ],
   "source": [
    "value"
   ]
  },
  {
   "cell_type": "code",
   "execution_count": 48,
   "metadata": {
    "collapsed": false
   },
   "outputs": [
    {
     "data": {
      "text/html": [
       "<div style=\"max-height:1000px;max-width:1500px;overflow:auto;\">\n",
       "<table border=\"1\" class=\"dataframe\">\n",
       "  <thead>\n",
       "    <tr style=\"text-align: right;\">\n",
       "      <th></th>\n",
       "      <th>Date</th>\n",
       "      <th>minor</th>\n",
       "      <th>Open</th>\n",
       "      <th>High</th>\n",
       "      <th>Low</th>\n",
       "      <th>Close</th>\n",
       "      <th>Volume</th>\n",
       "      <th>Adj Close</th>\n",
       "    </tr>\n",
       "  </thead>\n",
       "  <tbody>\n",
       "    <tr>\n",
       "      <th>0 </th>\n",
       "      <td>2016-11-23</td>\n",
       "      <td> AMZN</td>\n",
       "      <td> 781.729980</td>\n",
       "      <td> 781.750000</td>\n",
       "      <td> 773.119995</td>\n",
       "      <td> 780.119995</td>\n",
       "      <td>  3522500</td>\n",
       "      <td> 780.119995</td>\n",
       "    </tr>\n",
       "    <tr>\n",
       "      <th>1 </th>\n",
       "      <td>2016-11-23</td>\n",
       "      <td>  DIS</td>\n",
       "      <td>  97.669998</td>\n",
       "      <td>  98.279999</td>\n",
       "      <td>  97.589996</td>\n",
       "      <td>  98.260002</td>\n",
       "      <td>  5897400</td>\n",
       "      <td>  98.260002</td>\n",
       "    </tr>\n",
       "    <tr>\n",
       "      <th>2 </th>\n",
       "      <td>2016-11-23</td>\n",
       "      <td> MSFT</td>\n",
       "      <td>  61.009998</td>\n",
       "      <td>  61.099998</td>\n",
       "      <td>  60.250000</td>\n",
       "      <td>  60.400002</td>\n",
       "      <td> 21847200</td>\n",
       "      <td>  60.400002</td>\n",
       "    </tr>\n",
       "    <tr>\n",
       "      <th>3 </th>\n",
       "      <td>2016-11-23</td>\n",
       "      <td> NFLX</td>\n",
       "      <td> 117.760002</td>\n",
       "      <td> 118.889999</td>\n",
       "      <td> 117.309998</td>\n",
       "      <td> 117.690002</td>\n",
       "      <td>  4517400</td>\n",
       "      <td> 117.690002</td>\n",
       "    </tr>\n",
       "    <tr>\n",
       "      <th>4 </th>\n",
       "      <td>2016-11-25</td>\n",
       "      <td> AMZN</td>\n",
       "      <td> 786.500000</td>\n",
       "      <td> 786.750000</td>\n",
       "      <td> 777.900024</td>\n",
       "      <td> 780.369995</td>\n",
       "      <td>  1832300</td>\n",
       "      <td> 780.369995</td>\n",
       "    </tr>\n",
       "    <tr>\n",
       "      <th>5 </th>\n",
       "      <td>2016-11-25</td>\n",
       "      <td>  DIS</td>\n",
       "      <td>  98.709999</td>\n",
       "      <td>  99.070000</td>\n",
       "      <td>  98.500000</td>\n",
       "      <td>  98.820000</td>\n",
       "      <td>  4396800</td>\n",
       "      <td>  98.820000</td>\n",
       "    </tr>\n",
       "    <tr>\n",
       "      <th>6 </th>\n",
       "      <td>2016-11-25</td>\n",
       "      <td> MSFT</td>\n",
       "      <td>  60.299999</td>\n",
       "      <td>  60.529999</td>\n",
       "      <td>  60.130001</td>\n",
       "      <td>  60.529999</td>\n",
       "      <td>  8370500</td>\n",
       "      <td>  60.529999</td>\n",
       "    </tr>\n",
       "    <tr>\n",
       "      <th>7 </th>\n",
       "      <td>2016-11-25</td>\n",
       "      <td> NFLX</td>\n",
       "      <td> 117.639999</td>\n",
       "      <td> 118.389999</td>\n",
       "      <td> 117.180000</td>\n",
       "      <td> 117.410004</td>\n",
       "      <td>  1613400</td>\n",
       "      <td> 117.410004</td>\n",
       "    </tr>\n",
       "    <tr>\n",
       "      <th>8 </th>\n",
       "      <td>2016-11-28</td>\n",
       "      <td> AMZN</td>\n",
       "      <td> 776.989990</td>\n",
       "      <td> 777.000000</td>\n",
       "      <td> 764.239990</td>\n",
       "      <td> 766.770020</td>\n",
       "      <td>  4380900</td>\n",
       "      <td> 766.770020</td>\n",
       "    </tr>\n",
       "    <tr>\n",
       "      <th>9 </th>\n",
       "      <td>2016-11-28</td>\n",
       "      <td>  DIS</td>\n",
       "      <td>  98.519997</td>\n",
       "      <td>  99.199997</td>\n",
       "      <td>  98.320000</td>\n",
       "      <td>  98.970001</td>\n",
       "      <td>  7061600</td>\n",
       "      <td>  98.970001</td>\n",
       "    </tr>\n",
       "    <tr>\n",
       "      <th>10</th>\n",
       "      <td>2016-11-28</td>\n",
       "      <td> MSFT</td>\n",
       "      <td>  60.340000</td>\n",
       "      <td>  61.020000</td>\n",
       "      <td>  60.209999</td>\n",
       "      <td>  60.610001</td>\n",
       "      <td> 20603800</td>\n",
       "      <td>  60.610001</td>\n",
       "    </tr>\n",
       "    <tr>\n",
       "      <th>11</th>\n",
       "      <td>2016-11-28</td>\n",
       "      <td> NFLX</td>\n",
       "      <td> 117.050003</td>\n",
       "      <td> 117.620003</td>\n",
       "      <td> 115.709999</td>\n",
       "      <td> 116.930000</td>\n",
       "      <td>  5266500</td>\n",
       "      <td> 116.930000</td>\n",
       "    </tr>\n",
       "    <tr>\n",
       "      <th>12</th>\n",
       "      <td>2016-11-29</td>\n",
       "      <td> AMZN</td>\n",
       "      <td> 768.000000</td>\n",
       "      <td> 769.890015</td>\n",
       "      <td> 761.320007</td>\n",
       "      <td> 762.520020</td>\n",
       "      <td>  3266500</td>\n",
       "      <td> 762.520020</td>\n",
       "    </tr>\n",
       "    <tr>\n",
       "      <th>13</th>\n",
       "      <td>2016-11-29</td>\n",
       "      <td>  DIS</td>\n",
       "      <td>  99.239998</td>\n",
       "      <td>  99.680000</td>\n",
       "      <td>  98.970001</td>\n",
       "      <td>  99.669998</td>\n",
       "      <td>  8374900</td>\n",
       "      <td>  99.669998</td>\n",
       "    </tr>\n",
       "    <tr>\n",
       "      <th>14</th>\n",
       "      <td>2016-11-29</td>\n",
       "      <td> MSFT</td>\n",
       "      <td>  60.650002</td>\n",
       "      <td>  61.410000</td>\n",
       "      <td>  60.520000</td>\n",
       "      <td>  61.090000</td>\n",
       "      <td> 22010800</td>\n",
       "      <td>  61.090000</td>\n",
       "    </tr>\n",
       "    <tr>\n",
       "      <th>15</th>\n",
       "      <td>2016-11-29</td>\n",
       "      <td> NFLX</td>\n",
       "      <td> 117.300003</td>\n",
       "      <td> 119.180000</td>\n",
       "      <td> 117.129997</td>\n",
       "      <td> 117.510002</td>\n",
       "      <td>  7079700</td>\n",
       "      <td> 117.510002</td>\n",
       "    </tr>\n",
       "    <tr>\n",
       "      <th>16</th>\n",
       "      <td>2016-11-30</td>\n",
       "      <td> AMZN</td>\n",
       "      <td> 762.000000</td>\n",
       "      <td> 768.090027</td>\n",
       "      <td> 750.250000</td>\n",
       "      <td> 750.570007</td>\n",
       "      <td>  4580100</td>\n",
       "      <td> 750.570007</td>\n",
       "    </tr>\n",
       "    <tr>\n",
       "      <th>17</th>\n",
       "      <td>2016-11-30</td>\n",
       "      <td>  DIS</td>\n",
       "      <td>  99.400002</td>\n",
       "      <td> 100.290001</td>\n",
       "      <td>  99.000000</td>\n",
       "      <td>  99.120003</td>\n",
       "      <td> 11241300</td>\n",
       "      <td>  99.120003</td>\n",
       "    </tr>\n",
       "    <tr>\n",
       "      <th>18</th>\n",
       "      <td>2016-11-30</td>\n",
       "      <td> MSFT</td>\n",
       "      <td>  60.860001</td>\n",
       "      <td>  61.180000</td>\n",
       "      <td>  60.220001</td>\n",
       "      <td>  60.259998</td>\n",
       "      <td> 33783900</td>\n",
       "      <td>  60.259998</td>\n",
       "    </tr>\n",
       "    <tr>\n",
       "      <th>19</th>\n",
       "      <td>2016-11-30</td>\n",
       "      <td> NFLX</td>\n",
       "      <td> 119.000000</td>\n",
       "      <td> 120.370003</td>\n",
       "      <td> 116.389999</td>\n",
       "      <td> 117.000000</td>\n",
       "      <td>  7669400</td>\n",
       "      <td> 117.000000</td>\n",
       "    </tr>\n",
       "    <tr>\n",
       "      <th>20</th>\n",
       "      <td>2016-12-01</td>\n",
       "      <td> AMZN</td>\n",
       "      <td> 752.409973</td>\n",
       "      <td> 753.369995</td>\n",
       "      <td> 738.030029</td>\n",
       "      <td> 743.650024</td>\n",
       "      <td>  4626500</td>\n",
       "      <td> 743.650024</td>\n",
       "    </tr>\n",
       "    <tr>\n",
       "      <th>21</th>\n",
       "      <td>2016-12-01</td>\n",
       "      <td>  DIS</td>\n",
       "      <td>  99.129997</td>\n",
       "      <td>  99.750000</td>\n",
       "      <td>  98.620003</td>\n",
       "      <td>  98.940002</td>\n",
       "      <td>  9954200</td>\n",
       "      <td>  98.940002</td>\n",
       "    </tr>\n",
       "    <tr>\n",
       "      <th>22</th>\n",
       "      <td>2016-12-01</td>\n",
       "      <td> MSFT</td>\n",
       "      <td>  60.110001</td>\n",
       "      <td>  60.150002</td>\n",
       "      <td>  58.939999</td>\n",
       "      <td>  59.200001</td>\n",
       "      <td> 33917000</td>\n",
       "      <td>  59.200001</td>\n",
       "    </tr>\n",
       "    <tr>\n",
       "      <th>23</th>\n",
       "      <td>2016-12-01</td>\n",
       "      <td> NFLX</td>\n",
       "      <td> 117.519997</td>\n",
       "      <td> 118.680000</td>\n",
       "      <td> 113.949997</td>\n",
       "      <td> 117.220001</td>\n",
       "      <td>  8630600</td>\n",
       "      <td> 117.220001</td>\n",
       "    </tr>\n",
       "  </tbody>\n",
       "</table>\n",
       "</div>"
      ],
      "text/plain": [
       "         Date minor        Open        High         Low       Close    Volume  \\\n",
       "0  2016-11-23  AMZN  781.729980  781.750000  773.119995  780.119995   3522500   \n",
       "1  2016-11-23   DIS   97.669998   98.279999   97.589996   98.260002   5897400   \n",
       "2  2016-11-23  MSFT   61.009998   61.099998   60.250000   60.400002  21847200   \n",
       "3  2016-11-23  NFLX  117.760002  118.889999  117.309998  117.690002   4517400   \n",
       "4  2016-11-25  AMZN  786.500000  786.750000  777.900024  780.369995   1832300   \n",
       "5  2016-11-25   DIS   98.709999   99.070000   98.500000   98.820000   4396800   \n",
       "6  2016-11-25  MSFT   60.299999   60.529999   60.130001   60.529999   8370500   \n",
       "7  2016-11-25  NFLX  117.639999  118.389999  117.180000  117.410004   1613400   \n",
       "8  2016-11-28  AMZN  776.989990  777.000000  764.239990  766.770020   4380900   \n",
       "9  2016-11-28   DIS   98.519997   99.199997   98.320000   98.970001   7061600   \n",
       "10 2016-11-28  MSFT   60.340000   61.020000   60.209999   60.610001  20603800   \n",
       "11 2016-11-28  NFLX  117.050003  117.620003  115.709999  116.930000   5266500   \n",
       "12 2016-11-29  AMZN  768.000000  769.890015  761.320007  762.520020   3266500   \n",
       "13 2016-11-29   DIS   99.239998   99.680000   98.970001   99.669998   8374900   \n",
       "14 2016-11-29  MSFT   60.650002   61.410000   60.520000   61.090000  22010800   \n",
       "15 2016-11-29  NFLX  117.300003  119.180000  117.129997  117.510002   7079700   \n",
       "16 2016-11-30  AMZN  762.000000  768.090027  750.250000  750.570007   4580100   \n",
       "17 2016-11-30   DIS   99.400002  100.290001   99.000000   99.120003  11241300   \n",
       "18 2016-11-30  MSFT   60.860001   61.180000   60.220001   60.259998  33783900   \n",
       "19 2016-11-30  NFLX  119.000000  120.370003  116.389999  117.000000   7669400   \n",
       "20 2016-12-01  AMZN  752.409973  753.369995  738.030029  743.650024   4626500   \n",
       "21 2016-12-01   DIS   99.129997   99.750000   98.620003   98.940002   9954200   \n",
       "22 2016-12-01  MSFT   60.110001   60.150002   58.939999   59.200001  33917000   \n",
       "23 2016-12-01  NFLX  117.519997  118.680000  113.949997  117.220001   8630600   \n",
       "\n",
       "     Adj Close  \n",
       "0   780.119995  \n",
       "1    98.260002  \n",
       "2    60.400002  \n",
       "3   117.690002  \n",
       "4   780.369995  \n",
       "5    98.820000  \n",
       "6    60.529999  \n",
       "7   117.410004  \n",
       "8   766.770020  \n",
       "9    98.970001  \n",
       "10   60.610001  \n",
       "11  116.930000  \n",
       "12  762.520020  \n",
       "13   99.669998  \n",
       "14   61.090000  \n",
       "15  117.510002  \n",
       "16  750.570007  \n",
       "17   99.120003  \n",
       "18   60.259998  \n",
       "19  117.000000  \n",
       "20  743.650024  \n",
       "21   98.940002  \n",
       "22   59.200001  \n",
       "23  117.220001  "
      ]
     },
     "execution_count": 48,
     "metadata": {},
     "output_type": "execute_result"
    }
   ],
   "source": [
    "df_historical_chart = df_historical.reset_index()\n",
    "df_historical_chart"
   ]
  },
  {
   "cell_type": "code",
   "execution_count": 49,
   "metadata": {
    "collapsed": false
   },
   "outputs": [],
   "source": [
    "df_chart=pd.pivot_table(df_historical_chart, values='Adj Close', columns='minor', index='Date')\n",
    "df_chart.reset_index(inplace=True)\n",
    "df_chart = df_chart.iloc[-5:]"
   ]
  },
  {
   "cell_type": "code",
   "execution_count": 50,
   "metadata": {
    "collapsed": false
   },
   "outputs": [
    {
     "data": {
      "text/plain": [
       "['AMZN', 'MSFT', 'NFLX', 'DIS']"
      ]
     },
     "execution_count": 50,
     "metadata": {},
     "output_type": "execute_result"
    }
   ],
   "source": [
    "stockslist"
   ]
  },
  {
   "cell_type": "code",
   "execution_count": 51,
   "metadata": {
    "collapsed": false
   },
   "outputs": [
    {
     "data": {
      "text/html": [
       "\n",
       "\n",
       "    <div class=\"bk-root\">\n",
       "        <div class=\"plotdiv\" id=\"17a3bfda-de59-47ef-9754-af06f5345069\"></div>\n",
       "    </div>\n",
       "<script type=\"text/javascript\">\n",
       "  \n",
       "  (function(global) {\n",
       "    function now() {\n",
       "      return new Date();\n",
       "    }\n",
       "  \n",
       "    var force = \"\";\n",
       "  \n",
       "    if (typeof (window._bokeh_onload_callbacks) === \"undefined\" || force !== \"\") {\n",
       "      window._bokeh_onload_callbacks = [];\n",
       "      window._bokeh_is_loading = undefined;\n",
       "    }\n",
       "  \n",
       "  \n",
       "    \n",
       "    if (typeof (window._bokeh_timeout) === \"undefined\" || force !== \"\") {\n",
       "      window._bokeh_timeout = Date.now() + 0;\n",
       "      window._bokeh_failed_load = false;\n",
       "    }\n",
       "  \n",
       "    var NB_LOAD_WARNING = {'data': {'text/html':\n",
       "       \"<div style='background-color: #fdd'>\\n\"+\n",
       "       \"<p>\\n\"+\n",
       "       \"BokehJS does not appear to have successfully loaded. If loading BokehJS from CDN, this \\n\"+\n",
       "       \"may be due to a slow or bad network connection. Possible fixes:\\n\"+\n",
       "       \"</p>\\n\"+\n",
       "       \"<ul>\\n\"+\n",
       "       \"<li>re-rerun `output_notebook()` to attempt to load from CDN again, or</li>\\n\"+\n",
       "       \"<li>use INLINE resources instead, as so:</li>\\n\"+\n",
       "       \"</ul>\\n\"+\n",
       "       \"<code>\\n\"+\n",
       "       \"from bokeh.resources import INLINE\\n\"+\n",
       "       \"output_notebook(resources=INLINE)\\n\"+\n",
       "       \"</code>\\n\"+\n",
       "       \"</div>\"}};\n",
       "  \n",
       "    function display_loaded() {\n",
       "      if (window.Bokeh !== undefined) {\n",
       "        Bokeh.$(\"#17a3bfda-de59-47ef-9754-af06f5345069\").text(\"BokehJS successfully loaded.\");\n",
       "      } else if (Date.now() < window._bokeh_timeout) {\n",
       "        setTimeout(display_loaded, 100)\n",
       "      }\n",
       "    }\n",
       "  \n",
       "    function run_callbacks() {\n",
       "      window._bokeh_onload_callbacks.forEach(function(callback) { callback() });\n",
       "      delete window._bokeh_onload_callbacks\n",
       "      console.info(\"Bokeh: all callbacks have finished\");\n",
       "    }\n",
       "  \n",
       "    function load_libs(js_urls, callback) {\n",
       "      window._bokeh_onload_callbacks.push(callback);\n",
       "      if (window._bokeh_is_loading > 0) {\n",
       "        console.log(\"Bokeh: BokehJS is being loaded, scheduling callback at\", now());\n",
       "        return null;\n",
       "      }\n",
       "      if (js_urls == null || js_urls.length === 0) {\n",
       "        run_callbacks();\n",
       "        return null;\n",
       "      }\n",
       "      console.log(\"Bokeh: BokehJS not loaded, scheduling load and callback at\", now());\n",
       "      window._bokeh_is_loading = js_urls.length;\n",
       "      for (var i = 0; i < js_urls.length; i++) {\n",
       "        var url = js_urls[i];\n",
       "        var s = document.createElement('script');\n",
       "        s.src = url;\n",
       "        s.async = false;\n",
       "        s.onreadystatechange = s.onload = function() {\n",
       "          window._bokeh_is_loading--;\n",
       "          if (window._bokeh_is_loading === 0) {\n",
       "            console.log(\"Bokeh: all BokehJS libraries loaded\");\n",
       "            run_callbacks()\n",
       "          }\n",
       "        };\n",
       "        s.onerror = function() {\n",
       "          console.warn(\"failed to load library \" + url);\n",
       "        };\n",
       "        console.log(\"Bokeh: injecting script tag for BokehJS library: \", url);\n",
       "        document.getElementsByTagName(\"head\")[0].appendChild(s);\n",
       "      }\n",
       "    };var element = document.getElementById(\"17a3bfda-de59-47ef-9754-af06f5345069\");\n",
       "    if (element == null) {\n",
       "      console.log(\"Bokeh: ERROR: autoload.js configured with elementid '17a3bfda-de59-47ef-9754-af06f5345069' but no matching script tag was found. \")\n",
       "      return false;\n",
       "    }\n",
       "  \n",
       "    var js_urls = [];\n",
       "  \n",
       "    var inline_js = [\n",
       "      function(Bokeh) {\n",
       "        Bokeh.$(function() {\n",
       "            var docs_json = {\"3e252a6d-5acc-4507-b3be-08c893399830\":{\"roots\":{\"references\":[{\"attributes\":{\"callback\":null,\"column_names\":[\"y\",\"x\"],\"data\":{\"x\":[1480032000000.0,1480291200000.0,1480377600000.0,1480464000000.0,1480550400000.0],\"y\":[98.82,98.970001,99.66999799999999,99.120003,98.940002]}},\"id\":\"be2fdb03-6b1e-4a51-9f63-23e3ce7a04b1\",\"type\":\"ColumnDataSource\"},{\"attributes\":{\"plot\":{\"id\":\"ca8108d6-87be-44d1-8c4a-447235b6b6ca\",\"subtype\":\"Figure\",\"type\":\"Plot\"}},\"id\":\"7a9ea786-ab90-4f4a-b87f-bd266afc1e73\",\"type\":\"WheelZoomTool\"},{\"attributes\":{\"line_color\":{\"value\":\"#99d594\"},\"line_width\":{\"value\":5},\"x\":{\"field\":\"x\"},\"y\":{\"field\":\"y\"}},\"id\":\"07c825b5-a101-424b-9556-e45ca0adab59\",\"type\":\"Line\"},{\"attributes\":{\"label\":{\"value\":\"MSFT\"},\"renderers\":[{\"id\":\"c8deb82f-728f-410d-8f51-b11118e15586\",\"type\":\"GlyphRenderer\"}]},\"id\":\"ca317923-465d-4bf2-87c0-e058132ceb62\",\"type\":\"LegendItem\"},{\"attributes\":{\"data_source\":{\"id\":\"be2fdb03-6b1e-4a51-9f63-23e3ce7a04b1\",\"type\":\"ColumnDataSource\"},\"glyph\":{\"id\":\"a487dc11-6f2f-4c5a-a699-286e8d7745f7\",\"type\":\"Line\"},\"hover_glyph\":null,\"nonselection_glyph\":{\"id\":\"e8af2453-4bd2-400c-a85c-bdf817710f0e\",\"type\":\"Line\"},\"selection_glyph\":null},\"id\":\"c038f9b4-3ebe-46ee-8e8b-213f0ba5a1b6\",\"type\":\"GlyphRenderer\"},{\"attributes\":{\"line_alpha\":{\"value\":0.1},\"line_color\":{\"value\":\"#1f77b4\"},\"line_width\":{\"value\":5},\"x\":{\"field\":\"x\"},\"y\":{\"field\":\"y\"}},\"id\":\"bafeb20b-cf9a-4de8-a510-6860fc25b296\",\"type\":\"Line\"},{\"attributes\":{\"data_source\":{\"id\":\"40cbd549-7bd1-4845-a248-dd5f379c7952\",\"type\":\"ColumnDataSource\"},\"glyph\":{\"id\":\"3985593b-cbc1-4ac1-83a9-6dfeb3522cb4\",\"type\":\"Line\"},\"hover_glyph\":null,\"nonselection_glyph\":{\"id\":\"3e40a2d5-a3a7-4587-8765-c53f360e2902\",\"type\":\"Line\"},\"selection_glyph\":null},\"id\":\"2ce45419-2969-4222-acca-f761a4d4ec18\",\"type\":\"GlyphRenderer\"},{\"attributes\":{\"plot\":null,\"text\":\"Stock Closing Prices\"},\"id\":\"5084eca9-b727-443f-84c5-74057ca68867\",\"type\":\"Title\"},{\"attributes\":{\"axis_label\":\"Price\",\"formatter\":{\"id\":\"e2d5428f-6e1a-4b95-ad34-8225a7fb24e4\",\"type\":\"BasicTickFormatter\"},\"plot\":{\"id\":\"ca8108d6-87be-44d1-8c4a-447235b6b6ca\",\"subtype\":\"Figure\",\"type\":\"Plot\"},\"ticker\":{\"id\":\"b54e2862-e033-4c7b-8c3b-28ff2c26cfd0\",\"type\":\"BasicTicker\"}},\"id\":\"3d8f44c8-c001-41e1-9e70-39c65e99ffbc\",\"type\":\"LinearAxis\"},{\"attributes\":{\"plot\":{\"id\":\"ca8108d6-87be-44d1-8c4a-447235b6b6ca\",\"subtype\":\"Figure\",\"type\":\"Plot\"}},\"id\":\"c70ebd16-a14a-44a6-a59e-904453c4fad7\",\"type\":\"HelpTool\"},{\"attributes\":{\"base\":24,\"mantissas\":[1,2,4,6,8,12],\"max_interval\":43200000.0,\"min_interval\":3600000.0,\"num_minor_ticks\":0},\"id\":\"6ea0c4e2-b550-4e8f-9678-f36a2c53e5dc\",\"type\":\"AdaptiveTicker\"},{\"attributes\":{\"callback\":null},\"id\":\"9d9d956d-229a-4ac8-987a-68bcb02da0e6\",\"type\":\"DataRange1d\"},{\"attributes\":{\"line_alpha\":{\"value\":0.1},\"line_color\":{\"value\":\"#1f77b4\"},\"line_width\":{\"value\":5},\"x\":{\"field\":\"x\"},\"y\":{\"field\":\"y\"}},\"id\":\"e8af2453-4bd2-400c-a85c-bdf817710f0e\",\"type\":\"Line\"},{\"attributes\":{\"axis_label\":\"Date\",\"formatter\":{\"id\":\"1d36e844-7099-49db-879c-868d427404c5\",\"type\":\"DatetimeTickFormatter\"},\"plot\":{\"id\":\"ca8108d6-87be-44d1-8c4a-447235b6b6ca\",\"subtype\":\"Figure\",\"type\":\"Plot\"},\"ticker\":{\"id\":\"49028e3b-b6ac-4cac-b2a4-6dca444a5a88\",\"type\":\"DatetimeTicker\"}},\"id\":\"f7b2d451-e5f4-4364-81ef-158f32b4009b\",\"type\":\"DatetimeAxis\"},{\"attributes\":{},\"id\":\"21f8b83d-badd-414d-a812-9f7f777d4386\",\"type\":\"ToolEvents\"},{\"attributes\":{\"base\":60,\"mantissas\":[1,2,5,10,15,20,30],\"max_interval\":1800000.0,\"min_interval\":1000.0,\"num_minor_ticks\":0},\"id\":\"22caf833-89ef-4d77-ab22-19bb568be50c\",\"type\":\"AdaptiveTicker\"},{\"attributes\":{\"days\":[1,2,3,4,5,6,7,8,9,10,11,12,13,14,15,16,17,18,19,20,21,22,23,24,25,26,27,28,29,30,31]},\"id\":\"499baced-7c98-419a-9a35-63ab282933e5\",\"type\":\"DaysTicker\"},{\"attributes\":{\"bottom_units\":\"screen\",\"fill_alpha\":{\"value\":0.5},\"fill_color\":{\"value\":\"lightgrey\"},\"left_units\":\"screen\",\"level\":\"overlay\",\"line_alpha\":{\"value\":1.0},\"line_color\":{\"value\":\"black\"},\"line_dash\":[4,4],\"line_width\":{\"value\":2},\"plot\":null,\"render_mode\":\"css\",\"right_units\":\"screen\",\"top_units\":\"screen\"},\"id\":\"5188cc0c-2300-42b6-a78e-4e6f9160f384\",\"type\":\"BoxAnnotation\"},{\"attributes\":{\"line_alpha\":{\"value\":0.1},\"line_color\":{\"value\":\"#1f77b4\"},\"line_width\":{\"value\":5},\"x\":{\"field\":\"x\"},\"y\":{\"field\":\"y\"}},\"id\":\"d7480153-4920-4131-8114-d1bd5d38d7a7\",\"type\":\"Line\"},{\"attributes\":{\"months\":[0,4,8]},\"id\":\"80913d5a-3b1d-4729-8d25-57199ab9e2db\",\"type\":\"MonthsTicker\"},{\"attributes\":{\"label\":{\"value\":\"AMZN\"},\"renderers\":[{\"id\":\"2ce45419-2969-4222-acca-f761a4d4ec18\",\"type\":\"GlyphRenderer\"}]},\"id\":\"235969d7-1ed7-4632-b2ea-7f30a122b39f\",\"type\":\"LegendItem\"},{\"attributes\":{\"items\":[{\"id\":\"235969d7-1ed7-4632-b2ea-7f30a122b39f\",\"type\":\"LegendItem\"},{\"id\":\"ca317923-465d-4bf2-87c0-e058132ceb62\",\"type\":\"LegendItem\"},{\"id\":\"3b16d274-3dba-4212-9637-fb9c7c95ab0d\",\"type\":\"LegendItem\"},{\"id\":\"1ed938dd-971a-43ef-aab5-b2a09e29ff45\",\"type\":\"LegendItem\"}],\"plot\":{\"id\":\"ca8108d6-87be-44d1-8c4a-447235b6b6ca\",\"subtype\":\"Figure\",\"type\":\"Plot\"}},\"id\":\"0388d923-f31d-4880-a8b8-e9474765c17f\",\"type\":\"Legend\"},{\"attributes\":{\"line_color\":{\"value\":\"#fee08b\"},\"line_width\":{\"value\":5},\"x\":{\"field\":\"x\"},\"y\":{\"field\":\"y\"}},\"id\":\"a487dc11-6f2f-4c5a-a699-286e8d7745f7\",\"type\":\"Line\"},{\"attributes\":{\"plot\":{\"id\":\"ca8108d6-87be-44d1-8c4a-447235b6b6ca\",\"subtype\":\"Figure\",\"type\":\"Plot\"}},\"id\":\"80d5d928-e58d-43b6-8539-65b9376f6c3e\",\"type\":\"ResetTool\"},{\"attributes\":{\"callback\":null},\"id\":\"12cb41c9-72f8-4595-a9ec-3a5ac23391ff\",\"type\":\"DataRange1d\"},{\"attributes\":{\"max_interval\":500.0,\"num_minor_ticks\":0},\"id\":\"8f13a9e5-e2fd-411f-94d7-ff0c5770fecf\",\"type\":\"AdaptiveTicker\"},{\"attributes\":{\"label\":{\"value\":\"DIS\"},\"renderers\":[{\"id\":\"c038f9b4-3ebe-46ee-8e8b-213f0ba5a1b6\",\"type\":\"GlyphRenderer\"}]},\"id\":\"1ed938dd-971a-43ef-aab5-b2a09e29ff45\",\"type\":\"LegendItem\"},{\"attributes\":{\"callback\":null,\"column_names\":[\"y\",\"x\"],\"data\":{\"x\":[1480032000000.0,1480291200000.0,1480377600000.0,1480464000000.0,1480550400000.0],\"y\":[780.369995,766.77002,762.52002,750.570007,743.650024]}},\"id\":\"40cbd549-7bd1-4845-a248-dd5f379c7952\",\"type\":\"ColumnDataSource\"},{\"attributes\":{\"data_source\":{\"id\":\"6793a6bd-88a8-418f-b435-42ca513f19c8\",\"type\":\"ColumnDataSource\"},\"glyph\":{\"id\":\"aa3d7105-978e-43fd-8444-0b9f469a9e3c\",\"type\":\"Line\"},\"hover_glyph\":null,\"nonselection_glyph\":{\"id\":\"d7480153-4920-4131-8114-d1bd5d38d7a7\",\"type\":\"Line\"},\"selection_glyph\":null},\"id\":\"8c1ae92b-1ec4-49e2-95ac-b9b489b3a8e7\",\"type\":\"GlyphRenderer\"},{\"attributes\":{\"line_color\":{\"value\":\"#A6CEE3\"},\"line_width\":{\"value\":5},\"x\":{\"field\":\"x\"},\"y\":{\"field\":\"y\"}},\"id\":\"3985593b-cbc1-4ac1-83a9-6dfeb3522cb4\",\"type\":\"Line\"},{\"attributes\":{\"days\":[1,4,7,10,13,16,19,22,25,28]},\"id\":\"8b47ebcb-8423-4963-82ce-e729c1838b7c\",\"type\":\"DaysTicker\"},{\"attributes\":{\"data_source\":{\"id\":\"18451dfb-5577-4ddd-948f-9d1cd251b10b\",\"type\":\"ColumnDataSource\"},\"glyph\":{\"id\":\"07c825b5-a101-424b-9556-e45ca0adab59\",\"type\":\"Line\"},\"hover_glyph\":null,\"nonselection_glyph\":{\"id\":\"bafeb20b-cf9a-4de8-a510-6860fc25b296\",\"type\":\"Line\"},\"selection_glyph\":null},\"id\":\"c8deb82f-728f-410d-8f51-b11118e15586\",\"type\":\"GlyphRenderer\"},{\"attributes\":{\"num_minor_ticks\":5},\"id\":\"49028e3b-b6ac-4cac-b2a4-6dca444a5a88\",\"type\":\"DatetimeTicker\"},{\"attributes\":{},\"id\":\"e2d5428f-6e1a-4b95-ad34-8225a7fb24e4\",\"type\":\"BasicTickFormatter\"},{\"attributes\":{\"days\":[1,15]},\"id\":\"26556396-7445-45c1-b791-79a88bff79e2\",\"type\":\"DaysTicker\"},{\"attributes\":{\"dimension\":1,\"plot\":{\"id\":\"ca8108d6-87be-44d1-8c4a-447235b6b6ca\",\"subtype\":\"Figure\",\"type\":\"Plot\"},\"ticker\":{\"id\":\"b54e2862-e033-4c7b-8c3b-28ff2c26cfd0\",\"type\":\"BasicTicker\"}},\"id\":\"c725a21d-3806-4eaa-9163-25af89342c3c\",\"type\":\"Grid\"},{\"attributes\":{\"callback\":null,\"column_names\":[\"y\",\"x\"],\"data\":{\"x\":[1480032000000.0,1480291200000.0,1480377600000.0,1480464000000.0,1480550400000.0],\"y\":[117.410004,116.93,117.510002,117.0,117.220001]}},\"id\":\"6793a6bd-88a8-418f-b435-42ca513f19c8\",\"type\":\"ColumnDataSource\"},{\"attributes\":{\"months\":[0,2,4,6,8,10]},\"id\":\"640348e7-1ae9-42f1-a42e-ff5d982c6578\",\"type\":\"MonthsTicker\"},{\"attributes\":{\"below\":[{\"id\":\"f7b2d451-e5f4-4364-81ef-158f32b4009b\",\"type\":\"DatetimeAxis\"}],\"left\":[{\"id\":\"3d8f44c8-c001-41e1-9e70-39c65e99ffbc\",\"type\":\"LinearAxis\"}],\"renderers\":[{\"id\":\"f7b2d451-e5f4-4364-81ef-158f32b4009b\",\"type\":\"DatetimeAxis\"},{\"id\":\"88a7fdfa-c6b1-472a-85fa-da6f1c5380bd\",\"type\":\"Grid\"},{\"id\":\"3d8f44c8-c001-41e1-9e70-39c65e99ffbc\",\"type\":\"LinearAxis\"},{\"id\":\"c725a21d-3806-4eaa-9163-25af89342c3c\",\"type\":\"Grid\"},{\"id\":\"5188cc0c-2300-42b6-a78e-4e6f9160f384\",\"type\":\"BoxAnnotation\"},{\"id\":\"0388d923-f31d-4880-a8b8-e9474765c17f\",\"type\":\"Legend\"},{\"id\":\"2ce45419-2969-4222-acca-f761a4d4ec18\",\"type\":\"GlyphRenderer\"},{\"id\":\"c8deb82f-728f-410d-8f51-b11118e15586\",\"type\":\"GlyphRenderer\"},{\"id\":\"8c1ae92b-1ec4-49e2-95ac-b9b489b3a8e7\",\"type\":\"GlyphRenderer\"},{\"id\":\"c038f9b4-3ebe-46ee-8e8b-213f0ba5a1b6\",\"type\":\"GlyphRenderer\"}],\"title\":{\"id\":\"5084eca9-b727-443f-84c5-74057ca68867\",\"type\":\"Title\"},\"tool_events\":{\"id\":\"21f8b83d-badd-414d-a812-9f7f777d4386\",\"type\":\"ToolEvents\"},\"toolbar\":{\"id\":\"846fbf2f-84b9-43dd-a0b8-ec1fbe3c6728\",\"type\":\"Toolbar\"},\"x_range\":{\"id\":\"9d9d956d-229a-4ac8-987a-68bcb02da0e6\",\"type\":\"DataRange1d\"},\"y_range\":{\"id\":\"12cb41c9-72f8-4595-a9ec-3a5ac23391ff\",\"type\":\"DataRange1d\"}},\"id\":\"ca8108d6-87be-44d1-8c4a-447235b6b6ca\",\"subtype\":\"Figure\",\"type\":\"Plot\"},{\"attributes\":{\"line_color\":{\"value\":\"#e6f598\"},\"line_width\":{\"value\":5},\"x\":{\"field\":\"x\"},\"y\":{\"field\":\"y\"}},\"id\":\"aa3d7105-978e-43fd-8444-0b9f469a9e3c\",\"type\":\"Line\"},{\"attributes\":{\"days\":[1,8,15,22]},\"id\":\"5eca850e-475d-45f7-be64-7ca3f1093b35\",\"type\":\"DaysTicker\"},{\"attributes\":{\"overlay\":{\"id\":\"5188cc0c-2300-42b6-a78e-4e6f9160f384\",\"type\":\"BoxAnnotation\"},\"plot\":{\"id\":\"ca8108d6-87be-44d1-8c4a-447235b6b6ca\",\"subtype\":\"Figure\",\"type\":\"Plot\"}},\"id\":\"3645fcab-7c61-4a0f-9206-a8ffe4cadf0e\",\"type\":\"BoxZoomTool\"},{\"attributes\":{\"months\":[0,6]},\"id\":\"ffcf4fb6-a115-406d-8c1c-5cc2a796fc0a\",\"type\":\"MonthsTicker\"},{\"attributes\":{},\"id\":\"b54e2862-e033-4c7b-8c3b-28ff2c26cfd0\",\"type\":\"BasicTicker\"},{\"attributes\":{\"label\":{\"value\":\"NFLX\"},\"renderers\":[{\"id\":\"8c1ae92b-1ec4-49e2-95ac-b9b489b3a8e7\",\"type\":\"GlyphRenderer\"}]},\"id\":\"3b16d274-3dba-4212-9637-fb9c7c95ab0d\",\"type\":\"LegendItem\"},{\"attributes\":{\"plot\":{\"id\":\"ca8108d6-87be-44d1-8c4a-447235b6b6ca\",\"subtype\":\"Figure\",\"type\":\"Plot\"},\"ticker\":{\"id\":\"49028e3b-b6ac-4cac-b2a4-6dca444a5a88\",\"type\":\"DatetimeTicker\"}},\"id\":\"88a7fdfa-c6b1-472a-85fa-da6f1c5380bd\",\"type\":\"Grid\"},{\"attributes\":{},\"id\":\"1d36e844-7099-49db-879c-868d427404c5\",\"type\":\"DatetimeTickFormatter\"},{\"attributes\":{\"line_alpha\":{\"value\":0.1},\"line_color\":{\"value\":\"#1f77b4\"},\"line_width\":{\"value\":5},\"x\":{\"field\":\"x\"},\"y\":{\"field\":\"y\"}},\"id\":\"3e40a2d5-a3a7-4587-8765-c53f360e2902\",\"type\":\"Line\"},{\"attributes\":{\"plot\":{\"id\":\"ca8108d6-87be-44d1-8c4a-447235b6b6ca\",\"subtype\":\"Figure\",\"type\":\"Plot\"}},\"id\":\"3e0ba1e8-e126-4981-a540-0169c9294fbf\",\"type\":\"PanTool\"},{\"attributes\":{\"callback\":null,\"column_names\":[\"y\",\"x\"],\"data\":{\"x\":[1480032000000.0,1480291200000.0,1480377600000.0,1480464000000.0,1480550400000.0],\"y\":[60.529999,60.610001000000004,61.09,60.259997999999996,59.200001]}},\"id\":\"18451dfb-5577-4ddd-948f-9d1cd251b10b\",\"type\":\"ColumnDataSource\"},{\"attributes\":{\"plot\":{\"id\":\"ca8108d6-87be-44d1-8c4a-447235b6b6ca\",\"subtype\":\"Figure\",\"type\":\"Plot\"}},\"id\":\"e2baa121-7d6e-4c94-83f9-3e7723e3f6bb\",\"type\":\"SaveTool\"},{\"attributes\":{\"active_drag\":\"auto\",\"active_scroll\":\"auto\",\"active_tap\":\"auto\",\"tools\":[{\"id\":\"3e0ba1e8-e126-4981-a540-0169c9294fbf\",\"type\":\"PanTool\"},{\"id\":\"7a9ea786-ab90-4f4a-b87f-bd266afc1e73\",\"type\":\"WheelZoomTool\"},{\"id\":\"3645fcab-7c61-4a0f-9206-a8ffe4cadf0e\",\"type\":\"BoxZoomTool\"},{\"id\":\"e2baa121-7d6e-4c94-83f9-3e7723e3f6bb\",\"type\":\"SaveTool\"},{\"id\":\"80d5d928-e58d-43b6-8539-65b9376f6c3e\",\"type\":\"ResetTool\"},{\"id\":\"c70ebd16-a14a-44a6-a59e-904453c4fad7\",\"type\":\"HelpTool\"}]},\"id\":\"846fbf2f-84b9-43dd-a0b8-ec1fbe3c6728\",\"type\":\"Toolbar\"},{\"attributes\":{\"months\":[0,1,2,3,4,5,6,7,8,9,10,11]},\"id\":\"6a7c12ab-991a-4cdd-98b6-7c6f926f4651\",\"type\":\"MonthsTicker\"},{\"attributes\":{},\"id\":\"86b339b8-2b11-4615-bdb7-62e17bed633e\",\"type\":\"YearsTicker\"}],\"root_ids\":[\"ca8108d6-87be-44d1-8c4a-447235b6b6ca\"]},\"title\":\"Bokeh Application\",\"version\":\"0.12.3\"}};\n",
       "            var render_items = [{\"docid\":\"3e252a6d-5acc-4507-b3be-08c893399830\",\"elementid\":\"17a3bfda-de59-47ef-9754-af06f5345069\",\"modelid\":\"ca8108d6-87be-44d1-8c4a-447235b6b6ca\"}];\n",
       "            \n",
       "            Bokeh.embed.embed_items(docs_json, render_items);\n",
       "        });\n",
       "      },\n",
       "      function(Bokeh) {\n",
       "      }\n",
       "    ];\n",
       "  \n",
       "    function run_inline_js() {\n",
       "      \n",
       "      if ((window.Bokeh !== undefined) || (force === \"1\")) {\n",
       "        for (var i = 0; i < inline_js.length; i++) {\n",
       "          inline_js[i](window.Bokeh);\n",
       "        }if (force === \"1\") {\n",
       "          display_loaded();\n",
       "        }} else if (Date.now() < window._bokeh_timeout) {\n",
       "        setTimeout(run_inline_js, 100);\n",
       "      } else if (!window._bokeh_failed_load) {\n",
       "        console.log(\"Bokeh: BokehJS failed to load within specified timeout.\");\n",
       "        window._bokeh_failed_load = true;\n",
       "      } else if (!force) {\n",
       "        var cell = $(\"#17a3bfda-de59-47ef-9754-af06f5345069\").parents('.cell').data().cell;\n",
       "        cell.output_area.append_execute_result(NB_LOAD_WARNING)\n",
       "      }\n",
       "  \n",
       "    }\n",
       "  \n",
       "    if (window._bokeh_is_loading === 0) {\n",
       "      console.log(\"Bokeh: BokehJS loaded, going straight to plotting\");\n",
       "      run_inline_js();\n",
       "    } else {\n",
       "      load_libs(js_urls, function() {\n",
       "        console.log(\"Bokeh: BokehJS plotting callback run at\", now());\n",
       "        run_inline_js();\n",
       "      });\n",
       "    }\n",
       "  }(this));\n",
       "</script>"
      ]
     },
     "metadata": {},
     "output_type": "display_data"
    }
   ],
   "source": [
    "from bokeh.charts import Line, show, output_file\n",
    "p2 = figure(x_axis_type='datetime', title='Stock Closing Prices')\n",
    "p2.xaxis.axis_label = 'Date'\n",
    "p2.yaxis.axis_label = 'Price'\n",
    "\n",
    "colors = ['#A6CEE3', '#99d594', '#e6f598', '#fee08b']\n",
    "for i, j in zip(stockslist, colors):\n",
    "    p2.line(df_chart.Date, df_chart[i], legend=i, color=j, line_width=5)\n",
    "\n",
    "show(p2)"
   ]
  },
  {
   "cell_type": "code",
   "execution_count": 52,
   "metadata": {
    "collapsed": false,
    "scrolled": true
   },
   "outputs": [
    {
     "data": {
      "text/plain": [
       "{'AMZN': 1068.6840104313608,\n",
       " 'DIS': 2031.4167305850415,\n",
       " 'MSFT': 1631.2388955991796,\n",
       " 'NFLX': 1268.6603633844184}"
      ]
     },
     "execution_count": 52,
     "metadata": {},
     "output_type": "execute_result"
    }
   ],
   "source": [
    "stockallocation"
   ]
  },
  {
   "cell_type": "code",
   "execution_count": 53,
   "metadata": {
    "collapsed": false
   },
   "outputs": [],
   "source": [
    "df_allocation = pd.DataFrame(stockallocation.items(), columns=['Stocks','Allocation'],index=stockallocation.keys())"
   ]
  },
  {
   "cell_type": "code",
   "execution_count": 54,
   "metadata": {
    "collapsed": false
   },
   "outputs": [
    {
     "data": {
      "text/html": [
       "<div style=\"max-height:1000px;max-width:1500px;overflow:auto;\">\n",
       "<table border=\"1\" class=\"dataframe\">\n",
       "  <thead>\n",
       "    <tr style=\"text-align: right;\">\n",
       "      <th></th>\n",
       "      <th>Stocks</th>\n",
       "      <th>Allocation</th>\n",
       "    </tr>\n",
       "  </thead>\n",
       "  <tbody>\n",
       "    <tr>\n",
       "      <th>AMZN</th>\n",
       "      <td> AMZN</td>\n",
       "      <td> 1068.684010</td>\n",
       "    </tr>\n",
       "    <tr>\n",
       "      <th>NFLX</th>\n",
       "      <td> NFLX</td>\n",
       "      <td> 1268.660363</td>\n",
       "    </tr>\n",
       "    <tr>\n",
       "      <th>MSFT</th>\n",
       "      <td> MSFT</td>\n",
       "      <td> 1631.238896</td>\n",
       "    </tr>\n",
       "    <tr>\n",
       "      <th>DIS</th>\n",
       "      <td>  DIS</td>\n",
       "      <td> 2031.416731</td>\n",
       "    </tr>\n",
       "  </tbody>\n",
       "</table>\n",
       "</div>"
      ],
      "text/plain": [
       "     Stocks   Allocation\n",
       "AMZN   AMZN  1068.684010\n",
       "NFLX   NFLX  1268.660363\n",
       "MSFT   MSFT  1631.238896\n",
       "DIS     DIS  2031.416731"
      ]
     },
     "execution_count": 54,
     "metadata": {},
     "output_type": "execute_result"
    }
   ],
   "source": [
    "df_allocation"
   ]
  },
  {
   "cell_type": "code",
   "execution_count": 55,
   "metadata": {
    "collapsed": false
   },
   "outputs": [
    {
     "data": {
      "text/html": [
       "<div style=\"max-height:1000px;max-width:1500px;overflow:auto;\">\n",
       "<table border=\"1\" class=\"dataframe\">\n",
       "  <thead>\n",
       "    <tr style=\"text-align: right;\">\n",
       "      <th></th>\n",
       "      <th>PE</th>\n",
       "      <th>change_pct</th>\n",
       "      <th>last</th>\n",
       "      <th>short_ratio</th>\n",
       "      <th>time</th>\n",
       "    </tr>\n",
       "  </thead>\n",
       "  <tbody>\n",
       "    <tr>\n",
       "      <th>AMZN</th>\n",
       "      <td> 169.500</td>\n",
       "      <td>  -0.51%</td>\n",
       "      <td> 739.860</td>\n",
       "      <td> 1.09</td>\n",
       "      <td> 1:27pm</td>\n",
       "    </tr>\n",
       "    <tr>\n",
       "      <th>MSFT</th>\n",
       "      <td>  28.360</td>\n",
       "      <td> +0.025%</td>\n",
       "      <td>  59.215</td>\n",
       "      <td> 1.46</td>\n",
       "      <td> 1:27pm</td>\n",
       "    </tr>\n",
       "    <tr>\n",
       "      <th>NFLX</th>\n",
       "      <td> 321.700</td>\n",
       "      <td>  +1.54%</td>\n",
       "      <td> 119.030</td>\n",
       "      <td> 2.38</td>\n",
       "      <td> 1:27pm</td>\n",
       "    </tr>\n",
       "    <tr>\n",
       "      <th>DIS</th>\n",
       "      <td>  17.188</td>\n",
       "      <td> -0.460%</td>\n",
       "      <td>  98.485</td>\n",
       "      <td> 3.59</td>\n",
       "      <td> 1:27pm</td>\n",
       "    </tr>\n",
       "  </tbody>\n",
       "</table>\n",
       "</div>"
      ],
      "text/plain": [
       "           PE change_pct     last  short_ratio    time\n",
       "AMZN  169.500     -0.51%  739.860         1.09  1:27pm\n",
       "MSFT   28.360    +0.025%   59.215         1.46  1:27pm\n",
       "NFLX  321.700     +1.54%  119.030         2.38  1:27pm\n",
       "DIS    17.188    -0.460%   98.485         3.59  1:27pm"
      ]
     },
     "execution_count": 55,
     "metadata": {},
     "output_type": "execute_result"
    }
   ],
   "source": [
    "df_today"
   ]
  },
  {
   "cell_type": "code",
   "execution_count": 56,
   "metadata": {
    "collapsed": false
   },
   "outputs": [],
   "source": [
    "df_stocktoday = df_today.join(df_allocation, how='right')"
   ]
  },
  {
   "cell_type": "code",
   "execution_count": 57,
   "metadata": {
    "collapsed": false
   },
   "outputs": [],
   "source": [
    "df_stocktoday['allocation_ratio'] = df_stocktoday.Allocation/df_stocktoday.Allocation.sum()"
   ]
  },
  {
   "cell_type": "code",
   "execution_count": 58,
   "metadata": {
    "collapsed": false
   },
   "outputs": [
    {
     "data": {
      "text/html": [
       "<div style=\"max-height:1000px;max-width:1500px;overflow:auto;\">\n",
       "<table border=\"1\" class=\"dataframe\">\n",
       "  <thead>\n",
       "    <tr style=\"text-align: right;\">\n",
       "      <th></th>\n",
       "      <th>PE</th>\n",
       "      <th>change_pct</th>\n",
       "      <th>last</th>\n",
       "      <th>short_ratio</th>\n",
       "      <th>time</th>\n",
       "      <th>Stocks</th>\n",
       "      <th>Allocation</th>\n",
       "      <th>allocation_ratio</th>\n",
       "    </tr>\n",
       "  </thead>\n",
       "  <tbody>\n",
       "    <tr>\n",
       "      <th>AMZN</th>\n",
       "      <td> 169.500</td>\n",
       "      <td>  -0.51%</td>\n",
       "      <td> 739.860</td>\n",
       "      <td> 1.09</td>\n",
       "      <td> 1:27pm</td>\n",
       "      <td> AMZN</td>\n",
       "      <td> 1068.684010</td>\n",
       "      <td> 0.178114</td>\n",
       "    </tr>\n",
       "    <tr>\n",
       "      <th>NFLX</th>\n",
       "      <td> 321.700</td>\n",
       "      <td>  +1.54%</td>\n",
       "      <td> 119.030</td>\n",
       "      <td> 2.38</td>\n",
       "      <td> 1:27pm</td>\n",
       "      <td> NFLX</td>\n",
       "      <td> 1268.660363</td>\n",
       "      <td> 0.211443</td>\n",
       "    </tr>\n",
       "    <tr>\n",
       "      <th>MSFT</th>\n",
       "      <td>  28.360</td>\n",
       "      <td> +0.025%</td>\n",
       "      <td>  59.215</td>\n",
       "      <td> 1.46</td>\n",
       "      <td> 1:27pm</td>\n",
       "      <td> MSFT</td>\n",
       "      <td> 1631.238896</td>\n",
       "      <td> 0.271873</td>\n",
       "    </tr>\n",
       "    <tr>\n",
       "      <th>DIS</th>\n",
       "      <td>  17.188</td>\n",
       "      <td> -0.460%</td>\n",
       "      <td>  98.485</td>\n",
       "      <td> 3.59</td>\n",
       "      <td> 1:27pm</td>\n",
       "      <td>  DIS</td>\n",
       "      <td> 2031.416731</td>\n",
       "      <td> 0.338569</td>\n",
       "    </tr>\n",
       "  </tbody>\n",
       "</table>\n",
       "</div>"
      ],
      "text/plain": [
       "           PE change_pct     last  short_ratio    time Stocks   Allocation  \\\n",
       "AMZN  169.500     -0.51%  739.860         1.09  1:27pm   AMZN  1068.684010   \n",
       "NFLX  321.700     +1.54%  119.030         2.38  1:27pm   NFLX  1268.660363   \n",
       "MSFT   28.360    +0.025%   59.215         1.46  1:27pm   MSFT  1631.238896   \n",
       "DIS    17.188    -0.460%   98.485         3.59  1:27pm    DIS  2031.416731   \n",
       "\n",
       "      allocation_ratio  \n",
       "AMZN          0.178114  \n",
       "NFLX          0.211443  \n",
       "MSFT          0.271873  \n",
       "DIS           0.338569  "
      ]
     },
     "execution_count": 58,
     "metadata": {},
     "output_type": "execute_result"
    }
   ],
   "source": [
    "df_stocktoday"
   ]
  },
  {
   "cell_type": "code",
   "execution_count": 59,
   "metadata": {
    "collapsed": true
   },
   "outputs": [],
   "source": [
    "stockinfo = {'exchange': {u'AAPL': u'NMS',\n",
    "  u'AMZN': u'NMS',\n",
    "  u'COST': u'NMS',\n",
    "  u'CRM': u'NYQ',\n",
    "  u'DIS': u'NYQ',\n",
    "  u'FB': u'NMS',\n",
    "  u'HD': u'NYQ',\n",
    "  u'MSFT': u'NMS',\n",
    "  u'NFLX': u'NMS',\n",
    "  u'NVDA': u'NMS',\n",
    "  u'PBW': u'PCX',\n",
    "  u'SCTY': u'NMS',\n",
    "  u'SPY': u'PCX',\n",
    "  u'TSLA': u'NMS',\n",
    "  u'TWLO': u'NYQ',\n",
    "  u'VBR': u'PCX',\n",
    "  u'VTI': u'PCX',\n",
    "  u'VWO': u'PCX',\n",
    "  u'XOM': u'NYQ'},\n",
    " 'name': {u'AAPL': u'Apple Inc.',\n",
    "  u'AMZN': u'Amazon.com, Inc.',\n",
    "  u'COST': u'Costco Wholesale Corporation',\n",
    "  u'CRM': u'Salesforce.com Inc Common Stock',\n",
    "  u'DIS': u'Walt Disney Company (The) Commo',\n",
    "  u'FB': u'Facebook, Inc.',\n",
    "  u'HD': u'Home Depot, Inc. (The) Common S',\n",
    "  u'MSFT': u'Microsoft Corporation',\n",
    "  u'NFLX': u'Netflix, Inc.',\n",
    "  u'NVDA': u'NVIDIA Corporation',\n",
    "  u'PBW': u'PowerShares WilderHill Clean En',\n",
    "  u'SCTY': u'SolarCity Corporation',\n",
    "  u'SPY': u'SPDR S&P 500',\n",
    "  u'TSLA': u'Tesla Motors, Inc.',\n",
    "  u'TWLO': u'Twilio Inc. Class A Common Stoc',\n",
    "  u'VBR': u'Vanguard Small-Cap Value ETF - ',\n",
    "  u'VTI': u'Vanguard Total Stock Market ETF',\n",
    "  u'VWO': u'Vanguard FTSE Emerging Markets ',\n",
    "  u'XOM': u'Exxon Mobil Corporation Common '}}\n",
    "df_stockinfo = pd.DataFrame(stockinfo)"
   ]
  },
  {
   "cell_type": "code",
   "execution_count": 60,
   "metadata": {
    "collapsed": false
   },
   "outputs": [],
   "source": [
    "df_stocktoday = df_stocktoday.join(df_stockinfo, how ='left')"
   ]
  },
  {
   "cell_type": "code",
   "execution_count": 61,
   "metadata": {
    "collapsed": false,
    "scrolled": true
   },
   "outputs": [
    {
     "data": {
      "text/html": [
       "<div style=\"max-height:1000px;max-width:1500px;overflow:auto;\">\n",
       "<table border=\"1\" class=\"dataframe\">\n",
       "  <thead>\n",
       "    <tr style=\"text-align: right;\">\n",
       "      <th></th>\n",
       "      <th>PE</th>\n",
       "      <th>change_pct</th>\n",
       "      <th>last</th>\n",
       "      <th>short_ratio</th>\n",
       "      <th>time</th>\n",
       "      <th>Stocks</th>\n",
       "      <th>Allocation</th>\n",
       "      <th>allocation_ratio</th>\n",
       "      <th>exchange</th>\n",
       "      <th>name</th>\n",
       "    </tr>\n",
       "  </thead>\n",
       "  <tbody>\n",
       "    <tr>\n",
       "      <th>AMZN</th>\n",
       "      <td> 169.500</td>\n",
       "      <td>  -0.51%</td>\n",
       "      <td> 739.860</td>\n",
       "      <td> 1.09</td>\n",
       "      <td> 1:27pm</td>\n",
       "      <td> AMZN</td>\n",
       "      <td> 1068.684010</td>\n",
       "      <td> 0.178114</td>\n",
       "      <td> NMS</td>\n",
       "      <td>                Amazon.com, Inc.</td>\n",
       "    </tr>\n",
       "    <tr>\n",
       "      <th>NFLX</th>\n",
       "      <td> 321.700</td>\n",
       "      <td>  +1.54%</td>\n",
       "      <td> 119.030</td>\n",
       "      <td> 2.38</td>\n",
       "      <td> 1:27pm</td>\n",
       "      <td> NFLX</td>\n",
       "      <td> 1268.660363</td>\n",
       "      <td> 0.211443</td>\n",
       "      <td> NMS</td>\n",
       "      <td>                   Netflix, Inc.</td>\n",
       "    </tr>\n",
       "    <tr>\n",
       "      <th>MSFT</th>\n",
       "      <td>  28.360</td>\n",
       "      <td> +0.025%</td>\n",
       "      <td>  59.215</td>\n",
       "      <td> 1.46</td>\n",
       "      <td> 1:27pm</td>\n",
       "      <td> MSFT</td>\n",
       "      <td> 1631.238896</td>\n",
       "      <td> 0.271873</td>\n",
       "      <td> NMS</td>\n",
       "      <td>           Microsoft Corporation</td>\n",
       "    </tr>\n",
       "    <tr>\n",
       "      <th>DIS</th>\n",
       "      <td>  17.188</td>\n",
       "      <td> -0.460%</td>\n",
       "      <td>  98.485</td>\n",
       "      <td> 3.59</td>\n",
       "      <td> 1:27pm</td>\n",
       "      <td>  DIS</td>\n",
       "      <td> 2031.416731</td>\n",
       "      <td> 0.338569</td>\n",
       "      <td> NYQ</td>\n",
       "      <td> Walt Disney Company (The) Commo</td>\n",
       "    </tr>\n",
       "  </tbody>\n",
       "</table>\n",
       "</div>"
      ],
      "text/plain": [
       "           PE change_pct     last  short_ratio    time Stocks   Allocation  \\\n",
       "AMZN  169.500     -0.51%  739.860         1.09  1:27pm   AMZN  1068.684010   \n",
       "NFLX  321.700     +1.54%  119.030         2.38  1:27pm   NFLX  1268.660363   \n",
       "MSFT   28.360    +0.025%   59.215         1.46  1:27pm   MSFT  1631.238896   \n",
       "DIS    17.188    -0.460%   98.485         3.59  1:27pm    DIS  2031.416731   \n",
       "\n",
       "      allocation_ratio exchange                             name  \n",
       "AMZN          0.178114      NMS                 Amazon.com, Inc.  \n",
       "NFLX          0.211443      NMS                    Netflix, Inc.  \n",
       "MSFT          0.271873      NMS            Microsoft Corporation  \n",
       "DIS           0.338569      NYQ  Walt Disney Company (The) Commo  "
      ]
     },
     "execution_count": 61,
     "metadata": {},
     "output_type": "execute_result"
    }
   ],
   "source": [
    "df_stocktoday"
   ]
  },
  {
   "cell_type": "code",
   "execution_count": 62,
   "metadata": {
    "collapsed": false
   },
   "outputs": [
    {
     "data": {
      "text/plain": [
       "PE                  float64\n",
       "change_pct           object\n",
       "last                float64\n",
       "short_ratio         float64\n",
       "time                 object\n",
       "Stocks               object\n",
       "Allocation          float64\n",
       "allocation_ratio    float64\n",
       "exchange             object\n",
       "name                 object\n",
       "dtype: object"
      ]
     },
     "execution_count": 62,
     "metadata": {},
     "output_type": "execute_result"
    }
   ],
   "source": [
    "df_stocktoday.dtypes"
   ]
  },
  {
   "cell_type": "code",
   "execution_count": 63,
   "metadata": {
    "collapsed": true
   },
   "outputs": [],
   "source": [
    "df_stocktodayhtml = df_stocktoday[['PE', 'last', 'time', 'Allocation', 'allocation_ratio', 'exchange', 'name']]"
   ]
  },
  {
   "cell_type": "code",
   "execution_count": 64,
   "metadata": {
    "collapsed": false
   },
   "outputs": [
    {
     "data": {
      "text/html": [
       "<div style=\"max-height:1000px;max-width:1500px;overflow:auto;\">\n",
       "<table border=\"1\" class=\"dataframe\">\n",
       "  <thead>\n",
       "    <tr style=\"text-align: right;\">\n",
       "      <th></th>\n",
       "      <th>PE</th>\n",
       "      <th>last</th>\n",
       "      <th>time</th>\n",
       "      <th>Allocation</th>\n",
       "      <th>allocation_ratio</th>\n",
       "      <th>exchange</th>\n",
       "      <th>name</th>\n",
       "    </tr>\n",
       "  </thead>\n",
       "  <tbody>\n",
       "    <tr>\n",
       "      <th>AMZN</th>\n",
       "      <td> 169.500</td>\n",
       "      <td> 739.860</td>\n",
       "      <td> 1:27pm</td>\n",
       "      <td> 1068.684010</td>\n",
       "      <td> 0.178114</td>\n",
       "      <td> NMS</td>\n",
       "      <td>                Amazon.com, Inc.</td>\n",
       "    </tr>\n",
       "    <tr>\n",
       "      <th>NFLX</th>\n",
       "      <td> 321.700</td>\n",
       "      <td> 119.030</td>\n",
       "      <td> 1:27pm</td>\n",
       "      <td> 1268.660363</td>\n",
       "      <td> 0.211443</td>\n",
       "      <td> NMS</td>\n",
       "      <td>                   Netflix, Inc.</td>\n",
       "    </tr>\n",
       "    <tr>\n",
       "      <th>MSFT</th>\n",
       "      <td>  28.360</td>\n",
       "      <td>  59.215</td>\n",
       "      <td> 1:27pm</td>\n",
       "      <td> 1631.238896</td>\n",
       "      <td> 0.271873</td>\n",
       "      <td> NMS</td>\n",
       "      <td>           Microsoft Corporation</td>\n",
       "    </tr>\n",
       "    <tr>\n",
       "      <th>DIS</th>\n",
       "      <td>  17.188</td>\n",
       "      <td>  98.485</td>\n",
       "      <td> 1:27pm</td>\n",
       "      <td> 2031.416731</td>\n",
       "      <td> 0.338569</td>\n",
       "      <td> NYQ</td>\n",
       "      <td> Walt Disney Company (The) Commo</td>\n",
       "    </tr>\n",
       "  </tbody>\n",
       "</table>\n",
       "</div>"
      ],
      "text/plain": [
       "           PE     last    time   Allocation  allocation_ratio exchange  \\\n",
       "AMZN  169.500  739.860  1:27pm  1068.684010          0.178114      NMS   \n",
       "NFLX  321.700  119.030  1:27pm  1268.660363          0.211443      NMS   \n",
       "MSFT   28.360   59.215  1:27pm  1631.238896          0.271873      NMS   \n",
       "DIS    17.188   98.485  1:27pm  2031.416731          0.338569      NYQ   \n",
       "\n",
       "                                 name  \n",
       "AMZN                 Amazon.com, Inc.  \n",
       "NFLX                    Netflix, Inc.  \n",
       "MSFT            Microsoft Corporation  \n",
       "DIS   Walt Disney Company (The) Commo  "
      ]
     },
     "execution_count": 64,
     "metadata": {},
     "output_type": "execute_result"
    }
   ],
   "source": [
    "df_stocktodayhtml"
   ]
  },
  {
   "cell_type": "code",
   "execution_count": 65,
   "metadata": {
    "collapsed": false
   },
   "outputs": [
    {
     "data": {
      "text/html": [
       "<div style=\"max-height:1000px;max-width:1500px;overflow:auto;\">\n",
       "<table border=\"1\" class=\"dataframe\">\n",
       "  <thead>\n",
       "    <tr style=\"text-align: right;\">\n",
       "      <th></th>\n",
       "      <th>PE</th>\n",
       "      <th>Latest Price</th>\n",
       "      <th>Last Quote Time</th>\n",
       "      <th>Holdings Value</th>\n",
       "      <th>Holdings ratio</th>\n",
       "      <th>Exchange</th>\n",
       "      <th>Company Name</th>\n",
       "    </tr>\n",
       "  </thead>\n",
       "  <tbody>\n",
       "    <tr>\n",
       "      <th>AMZN</th>\n",
       "      <td> 169.500</td>\n",
       "      <td> 739.860</td>\n",
       "      <td> 1:27pm</td>\n",
       "      <td> 1068.684010</td>\n",
       "      <td> 0.178114</td>\n",
       "      <td> NMS</td>\n",
       "      <td>                Amazon.com, Inc.</td>\n",
       "    </tr>\n",
       "    <tr>\n",
       "      <th>NFLX</th>\n",
       "      <td> 321.700</td>\n",
       "      <td> 119.030</td>\n",
       "      <td> 1:27pm</td>\n",
       "      <td> 1268.660363</td>\n",
       "      <td> 0.211443</td>\n",
       "      <td> NMS</td>\n",
       "      <td>                   Netflix, Inc.</td>\n",
       "    </tr>\n",
       "    <tr>\n",
       "      <th>MSFT</th>\n",
       "      <td>  28.360</td>\n",
       "      <td>  59.215</td>\n",
       "      <td> 1:27pm</td>\n",
       "      <td> 1631.238896</td>\n",
       "      <td> 0.271873</td>\n",
       "      <td> NMS</td>\n",
       "      <td>           Microsoft Corporation</td>\n",
       "    </tr>\n",
       "    <tr>\n",
       "      <th>DIS</th>\n",
       "      <td>  17.188</td>\n",
       "      <td>  98.485</td>\n",
       "      <td> 1:27pm</td>\n",
       "      <td> 2031.416731</td>\n",
       "      <td> 0.338569</td>\n",
       "      <td> NYQ</td>\n",
       "      <td> Walt Disney Company (The) Commo</td>\n",
       "    </tr>\n",
       "  </tbody>\n",
       "</table>\n",
       "</div>"
      ],
      "text/plain": [
       "           PE  Latest Price Last Quote Time  Holdings Value  Holdings ratio  \\\n",
       "AMZN  169.500       739.860          1:27pm     1068.684010        0.178114   \n",
       "NFLX  321.700       119.030          1:27pm     1268.660363        0.211443   \n",
       "MSFT   28.360        59.215          1:27pm     1631.238896        0.271873   \n",
       "DIS    17.188        98.485          1:27pm     2031.416731        0.338569   \n",
       "\n",
       "     Exchange                     Company Name  \n",
       "AMZN      NMS                 Amazon.com, Inc.  \n",
       "NFLX      NMS                    Netflix, Inc.  \n",
       "MSFT      NMS            Microsoft Corporation  \n",
       "DIS       NYQ  Walt Disney Company (The) Commo  "
      ]
     },
     "execution_count": 65,
     "metadata": {},
     "output_type": "execute_result"
    }
   ],
   "source": [
    "df_stocktodayhtml.columns =['PE', 'Latest Price', 'Last Quote Time', 'Holdings Value', 'Holdings ratio', 'Exchange', 'Company Name']\n",
    "df_stocktodayhtml"
   ]
  },
  {
   "cell_type": "code",
   "execution_count": 66,
   "metadata": {
    "collapsed": false
   },
   "outputs": [
    {
     "data": {
      "text/html": [
       "<table border=\"1\" class=\"dataframe\">\n",
       "  <thead>\n",
       "    <tr style=\"text-align: right;\">\n",
       "      <th></th>\n",
       "      <th>PE</th>\n",
       "      <th>Latest Price</th>\n",
       "      <th>Last Quote Time</th>\n",
       "      <th>Holdings Value</th>\n",
       "      <th>Holdings ratio</th>\n",
       "      <th>Exchange</th>\n",
       "      <th>Company Name</th>\n",
       "    </tr>\n",
       "  </thead>\n",
       "  <tbody>\n",
       "    <tr>\n",
       "      <th>AMZN</th>\n",
       "      <td> 169.500</td>\n",
       "      <td>$739.86</td>\n",
       "      <td> 1:27pm</td>\n",
       "      <td>$1,068.68</td>\n",
       "      <td>17.81%</td>\n",
       "      <td> NMS</td>\n",
       "      <td>                Amazon.com, Inc.</td>\n",
       "    </tr>\n",
       "    <tr>\n",
       "      <th>NFLX</th>\n",
       "      <td> 321.700</td>\n",
       "      <td>$119.03</td>\n",
       "      <td> 1:27pm</td>\n",
       "      <td>$1,268.66</td>\n",
       "      <td>21.14%</td>\n",
       "      <td> NMS</td>\n",
       "      <td>                   Netflix, Inc.</td>\n",
       "    </tr>\n",
       "    <tr>\n",
       "      <th>MSFT</th>\n",
       "      <td>  28.360</td>\n",
       "      <td> $59.22</td>\n",
       "      <td> 1:27pm</td>\n",
       "      <td>$1,631.24</td>\n",
       "      <td>27.19%</td>\n",
       "      <td> NMS</td>\n",
       "      <td>           Microsoft Corporation</td>\n",
       "    </tr>\n",
       "    <tr>\n",
       "      <th>DIS</th>\n",
       "      <td>  17.188</td>\n",
       "      <td> $98.48</td>\n",
       "      <td> 1:27pm</td>\n",
       "      <td>$2,031.42</td>\n",
       "      <td>33.86%</td>\n",
       "      <td> NYQ</td>\n",
       "      <td> Walt Disney Company (The) Commo</td>\n",
       "    </tr>\n",
       "  </tbody>\n",
       "</table>"
      ],
      "text/plain": [
       "<IPython.core.display.HTML object>"
      ]
     },
     "execution_count": 66,
     "metadata": {},
     "output_type": "execute_result"
    }
   ],
   "source": [
    "from IPython.core.display import HTML\n",
    "HTML(df_stocktodayhtml.to_html(formatters={'Latest Price':'${:,.2f}'.format, 'Holdings Value':'${:,.2f}'.format, 'Holdings ratio':'{:,.2%}'.format}))"
   ]
  },
  {
   "cell_type": "code",
   "execution_count": 67,
   "metadata": {
    "collapsed": false
   },
   "outputs": [
    {
     "data": {
      "text/html": [
       "<div style=\"max-height:1000px;max-width:1500px;overflow:auto;\">\n",
       "<table border=\"1\" class=\"dataframe\">\n",
       "  <thead>\n",
       "    <tr style=\"text-align: right;\">\n",
       "      <th></th>\n",
       "      <th>Stocks</th>\n",
       "      <th>Allocation</th>\n",
       "    </tr>\n",
       "  </thead>\n",
       "  <tbody>\n",
       "    <tr>\n",
       "      <th>AMZN</th>\n",
       "      <td> AMZN</td>\n",
       "      <td> 1068.684010</td>\n",
       "    </tr>\n",
       "    <tr>\n",
       "      <th>NFLX</th>\n",
       "      <td> NFLX</td>\n",
       "      <td> 1268.660363</td>\n",
       "    </tr>\n",
       "    <tr>\n",
       "      <th>MSFT</th>\n",
       "      <td> MSFT</td>\n",
       "      <td> 1631.238896</td>\n",
       "    </tr>\n",
       "    <tr>\n",
       "      <th>DIS</th>\n",
       "      <td>  DIS</td>\n",
       "      <td> 2031.416731</td>\n",
       "    </tr>\n",
       "  </tbody>\n",
       "</table>\n",
       "</div>"
      ],
      "text/plain": [
       "     Stocks   Allocation\n",
       "AMZN   AMZN  1068.684010\n",
       "NFLX   NFLX  1268.660363\n",
       "MSFT   MSFT  1631.238896\n",
       "DIS     DIS  2031.416731"
      ]
     },
     "execution_count": 67,
     "metadata": {},
     "output_type": "execute_result"
    }
   ],
   "source": [
    "df_allocation"
   ]
  },
  {
   "cell_type": "code",
   "execution_count": 90,
   "metadata": {
    "collapsed": false
   },
   "outputs": [
    {
     "data": {
      "text/html": [
       "\n",
       "\n",
       "    <div class=\"bk-root\">\n",
       "        <div class=\"plotdiv\" id=\"551996eb-da19-40a4-bf3f-1c040963e314\"></div>\n",
       "    </div>\n",
       "<script type=\"text/javascript\">\n",
       "  \n",
       "  (function(global) {\n",
       "    function now() {\n",
       "      return new Date();\n",
       "    }\n",
       "  \n",
       "    var force = \"\";\n",
       "  \n",
       "    if (typeof (window._bokeh_onload_callbacks) === \"undefined\" || force !== \"\") {\n",
       "      window._bokeh_onload_callbacks = [];\n",
       "      window._bokeh_is_loading = undefined;\n",
       "    }\n",
       "  \n",
       "  \n",
       "    \n",
       "    if (typeof (window._bokeh_timeout) === \"undefined\" || force !== \"\") {\n",
       "      window._bokeh_timeout = Date.now() + 0;\n",
       "      window._bokeh_failed_load = false;\n",
       "    }\n",
       "  \n",
       "    var NB_LOAD_WARNING = {'data': {'text/html':\n",
       "       \"<div style='background-color: #fdd'>\\n\"+\n",
       "       \"<p>\\n\"+\n",
       "       \"BokehJS does not appear to have successfully loaded. If loading BokehJS from CDN, this \\n\"+\n",
       "       \"may be due to a slow or bad network connection. Possible fixes:\\n\"+\n",
       "       \"</p>\\n\"+\n",
       "       \"<ul>\\n\"+\n",
       "       \"<li>re-rerun `output_notebook()` to attempt to load from CDN again, or</li>\\n\"+\n",
       "       \"<li>use INLINE resources instead, as so:</li>\\n\"+\n",
       "       \"</ul>\\n\"+\n",
       "       \"<code>\\n\"+\n",
       "       \"from bokeh.resources import INLINE\\n\"+\n",
       "       \"output_notebook(resources=INLINE)\\n\"+\n",
       "       \"</code>\\n\"+\n",
       "       \"</div>\"}};\n",
       "  \n",
       "    function display_loaded() {\n",
       "      if (window.Bokeh !== undefined) {\n",
       "        Bokeh.$(\"#551996eb-da19-40a4-bf3f-1c040963e314\").text(\"BokehJS successfully loaded.\");\n",
       "      } else if (Date.now() < window._bokeh_timeout) {\n",
       "        setTimeout(display_loaded, 100)\n",
       "      }\n",
       "    }\n",
       "  \n",
       "    function run_callbacks() {\n",
       "      window._bokeh_onload_callbacks.forEach(function(callback) { callback() });\n",
       "      delete window._bokeh_onload_callbacks\n",
       "      console.info(\"Bokeh: all callbacks have finished\");\n",
       "    }\n",
       "  \n",
       "    function load_libs(js_urls, callback) {\n",
       "      window._bokeh_onload_callbacks.push(callback);\n",
       "      if (window._bokeh_is_loading > 0) {\n",
       "        console.log(\"Bokeh: BokehJS is being loaded, scheduling callback at\", now());\n",
       "        return null;\n",
       "      }\n",
       "      if (js_urls == null || js_urls.length === 0) {\n",
       "        run_callbacks();\n",
       "        return null;\n",
       "      }\n",
       "      console.log(\"Bokeh: BokehJS not loaded, scheduling load and callback at\", now());\n",
       "      window._bokeh_is_loading = js_urls.length;\n",
       "      for (var i = 0; i < js_urls.length; i++) {\n",
       "        var url = js_urls[i];\n",
       "        var s = document.createElement('script');\n",
       "        s.src = url;\n",
       "        s.async = false;\n",
       "        s.onreadystatechange = s.onload = function() {\n",
       "          window._bokeh_is_loading--;\n",
       "          if (window._bokeh_is_loading === 0) {\n",
       "            console.log(\"Bokeh: all BokehJS libraries loaded\");\n",
       "            run_callbacks()\n",
       "          }\n",
       "        };\n",
       "        s.onerror = function() {\n",
       "          console.warn(\"failed to load library \" + url);\n",
       "        };\n",
       "        console.log(\"Bokeh: injecting script tag for BokehJS library: \", url);\n",
       "        document.getElementsByTagName(\"head\")[0].appendChild(s);\n",
       "      }\n",
       "    };var element = document.getElementById(\"551996eb-da19-40a4-bf3f-1c040963e314\");\n",
       "    if (element == null) {\n",
       "      console.log(\"Bokeh: ERROR: autoload.js configured with elementid '551996eb-da19-40a4-bf3f-1c040963e314' but no matching script tag was found. \")\n",
       "      return false;\n",
       "    }\n",
       "  \n",
       "    var js_urls = [];\n",
       "  \n",
       "    var inline_js = [\n",
       "      function(Bokeh) {\n",
       "        Bokeh.$(function() {\n",
       "            var docs_json = {\"c093c8f9-fbfa-4c4a-b7cd-fc0aca65ec24\":{\"roots\":{\"references\":[{\"attributes\":{\"active_drag\":\"auto\",\"active_scroll\":\"auto\",\"active_tap\":\"auto\",\"tools\":[{\"id\":\"c8cc5afd-a80f-47c0-b039-55c71d542ff8\",\"type\":\"BoxZoomTool\"},{\"id\":\"11df5bbe-cbd8-4870-84d4-2719d3d3a3b8\",\"type\":\"BoxSelectTool\"},{\"id\":\"2b79e434-8381-4f6e-84a4-82b307b8dce9\",\"type\":\"ResizeTool\"},{\"id\":\"9b922788-61d0-4863-b78e-d002c74e8c98\",\"type\":\"ResetTool\"}]},\"id\":\"73f7e2e3-7fd8-4541-849f-f3592f321990\",\"type\":\"Toolbar\"},{\"attributes\":{\"callback\":null,\"overlay\":{\"id\":\"5f8a777a-5312-4421-8e2f-63c394041814\",\"type\":\"BoxAnnotation\"},\"plot\":{\"id\":\"5c29cf59-0e2c-4a59-9b98-3f2194d870d6\",\"subtype\":\"Chart\",\"type\":\"Plot\"}},\"id\":\"11df5bbe-cbd8-4870-84d4-2719d3d3a3b8\",\"type\":\"BoxSelectTool\"},{\"attributes\":{\"callback\":null,\"end\":3.1500000000000004,\"start\":-3.1500000000000004},\"id\":\"ebe94087-0fb3-4eb4-999d-2e0dcecdbdbb\",\"type\":\"Range1d\"},{\"attributes\":{\"angle\":{\"field\":\"text_angle\",\"units\":\"rad\"},\"text_align\":\"center\",\"text_baseline\":\"middle\",\"text_font_size\":{\"value\":\"8pt\"},\"x\":{\"field\":\"x\"},\"y\":{\"field\":\"y\"}},\"id\":\"5219582f-5028-4fbe-b2ac-6b411aa418ee\",\"type\":\"Text\"},{\"attributes\":{},\"id\":\"fbc3fe40-9eae-4e6b-8fdc-a5295a8ae78e\",\"type\":\"ToolEvents\"},{\"attributes\":{\"plot\":{\"id\":\"5c29cf59-0e2c-4a59-9b98-3f2194d870d6\",\"subtype\":\"Chart\",\"type\":\"Plot\"}},\"id\":\"9b922788-61d0-4863-b78e-d002c74e8c98\",\"type\":\"ResetTool\"},{\"attributes\":{\"bottom_units\":\"screen\",\"fill_alpha\":{\"value\":0.5},\"fill_color\":{\"value\":\"lightgrey\"},\"left_units\":\"screen\",\"level\":\"overlay\",\"line_alpha\":{\"value\":1.0},\"line_color\":{\"value\":\"black\"},\"line_dash\":[4,4],\"line_width\":{\"value\":2},\"plot\":null,\"render_mode\":\"css\",\"right_units\":\"screen\",\"top_units\":\"screen\"},\"id\":\"51d9da13-381f-4137-8d85-24bd590397f8\",\"type\":\"BoxAnnotation\"},{\"attributes\":{\"axis_label\":null,\"formatter\":{\"id\":\"b73965f0-7d8c-4081-b92c-df21804c6715\",\"type\":\"BasicTickFormatter\"},\"plot\":{\"id\":\"5c29cf59-0e2c-4a59-9b98-3f2194d870d6\",\"subtype\":\"Chart\",\"type\":\"Plot\"},\"ticker\":{\"id\":\"4ee7b0d3-8b8e-4e7d-8cc0-f06e6483dd4c\",\"type\":\"BasicTicker\"},\"visible\":false},\"id\":\"bd6c2daa-6cfd-4b0a-b301-742654963c63\",\"type\":\"LinearAxis\"},{\"attributes\":{},\"id\":\"35c9f95a-75d0-4ad8-a902-6fe7fb0e437e\",\"type\":\"BasicTicker\"},{\"attributes\":{\"overlay\":{\"id\":\"51d9da13-381f-4137-8d85-24bd590397f8\",\"type\":\"BoxAnnotation\"},\"plot\":{\"id\":\"5c29cf59-0e2c-4a59-9b98-3f2194d870d6\",\"subtype\":\"Chart\",\"type\":\"Plot\"}},\"id\":\"c8cc5afd-a80f-47c0-b039-55c71d542ff8\",\"type\":\"BoxZoomTool\"},{\"attributes\":{\"below\":[{\"id\":\"649557a5-1a33-44c0-8a66-b86ee394019e\",\"type\":\"LinearAxis\"}],\"left\":[{\"id\":\"bd6c2daa-6cfd-4b0a-b301-742654963c63\",\"type\":\"LinearAxis\"}],\"plot_height\":400,\"plot_width\":400,\"renderers\":[{\"id\":\"51d9da13-381f-4137-8d85-24bd590397f8\",\"type\":\"BoxAnnotation\"},{\"id\":\"5f8a777a-5312-4421-8e2f-63c394041814\",\"type\":\"BoxAnnotation\"},{\"id\":\"98bc8287-a56e-49a8-bb98-df08b09aa585\",\"type\":\"GlyphRenderer\"},{\"id\":\"7850f109-7f8c-4d42-94df-a87a530514d0\",\"type\":\"GlyphRenderer\"},{\"id\":\"a25d412a-2b85-496c-86e4-a77c11418ab8\",\"type\":\"Legend\"},{\"id\":\"649557a5-1a33-44c0-8a66-b86ee394019e\",\"type\":\"LinearAxis\"},{\"id\":\"bd6c2daa-6cfd-4b0a-b301-742654963c63\",\"type\":\"LinearAxis\"}],\"title\":{\"id\":\"f9d71b76-9ae2-4208-ba0d-09445b1b0d08\",\"type\":\"Title\"},\"tool_events\":{\"id\":\"fbc3fe40-9eae-4e6b-8fdc-a5295a8ae78e\",\"type\":\"ToolEvents\"},\"toolbar\":{\"id\":\"73f7e2e3-7fd8-4541-849f-f3592f321990\",\"type\":\"Toolbar\"},\"x_mapper_type\":\"auto\",\"x_range\":{\"id\":\"ebe94087-0fb3-4eb4-999d-2e0dcecdbdbb\",\"type\":\"Range1d\"},\"y_mapper_type\":\"auto\",\"y_range\":{\"id\":\"569477b4-fbeb-4caa-acc5-7f6189acf32c\",\"type\":\"Range1d\"}},\"id\":\"5c29cf59-0e2c-4a59-9b98-3f2194d870d6\",\"subtype\":\"Chart\",\"type\":\"Plot\"},{\"attributes\":{\"bottom_units\":\"screen\",\"fill_alpha\":{\"value\":0.5},\"fill_color\":{\"value\":\"lightgrey\"},\"left_units\":\"screen\",\"level\":\"overlay\",\"line_alpha\":{\"value\":1.0},\"line_color\":{\"value\":\"black\"},\"line_dash\":[4,4],\"line_width\":{\"value\":2},\"plot\":null,\"render_mode\":\"css\",\"right_units\":\"screen\",\"top_units\":\"screen\"},\"id\":\"5f8a777a-5312-4421-8e2f-63c394041814\",\"type\":\"BoxAnnotation\"},{\"attributes\":{\"callback\":null,\"column_names\":[\"y\",\"x\",\"text_angle\",\"text\"],\"data\":{\"text\":[\"AMZN\",\"17.81%\",\"DIS\",\"33.86%\",\"MSFT\",\"27.19%\",\"NFLX\",\"21.14%\"],\"text_angle\":[0.0,0.5595616393633401,0.0,5.324363245180701,0.0,7.242125246488978,0.0,5.618916294261412],\"x\":[0.953423865811771,1.906847731623542,-0.64629511294216,-1.29259022588432,-0.6461865635051878,-1.2923731270103755,0.8857885917393286,1.7715771834786571],\"y\":[0.5971665865573341,1.1943331731146682,0.9208298577843144,1.8416597155686287,-0.9209060349163513,-1.8418120698327025,-0.6935442096539031,-1.3870884193078061]}},\"id\":\"e8fd8363-1c10-45d3-8edf-9a5d62c559cd\",\"type\":\"ColumnDataSource\"},{\"attributes\":{\"location\":\"top_left\",\"plot\":{\"id\":\"5c29cf59-0e2c-4a59-9b98-3f2194d870d6\",\"subtype\":\"Chart\",\"type\":\"Plot\"}},\"id\":\"a25d412a-2b85-496c-86e4-a77c11418ab8\",\"type\":\"Legend\"},{\"attributes\":{\"plot\":{\"id\":\"5c29cf59-0e2c-4a59-9b98-3f2194d870d6\",\"subtype\":\"Chart\",\"type\":\"Plot\"}},\"id\":\"2b79e434-8381-4f6e-84a4-82b307b8dce9\",\"type\":\"ResizeTool\"},{\"attributes\":{\"data_source\":{\"id\":\"e8fd8363-1c10-45d3-8edf-9a5d62c559cd\",\"type\":\"ColumnDataSource\"},\"glyph\":{\"id\":\"5219582f-5028-4fbe-b2ac-6b411aa418ee\",\"type\":\"Text\"},\"hover_glyph\":null,\"nonselection_glyph\":null,\"selection_glyph\":null},\"id\":\"7850f109-7f8c-4d42-94df-a87a530514d0\",\"type\":\"GlyphRenderer\"},{\"attributes\":{},\"id\":\"415eb553-ff05-4fe6-8e73-a12aeab82a0d\",\"type\":\"BasicTickFormatter\"},{\"attributes\":{},\"id\":\"b73965f0-7d8c-4081-b92c-df21804c6715\",\"type\":\"BasicTickFormatter\"},{\"attributes\":{},\"id\":\"4ee7b0d3-8b8e-4e7d-8cc0-f06e6483dd4c\",\"type\":\"BasicTicker\"},{\"attributes\":{\"end_angle\":{\"field\":\"end\",\"units\":\"rad\"},\"fill_alpha\":{\"value\":0.8},\"fill_color\":{\"field\":\"color\"},\"inner_radius\":{\"field\":\"inners\",\"units\":\"data\"},\"line_color\":{\"value\":\"White\"},\"outer_radius\":{\"field\":\"outers\",\"units\":\"data\"},\"start_angle\":{\"field\":\"start\",\"units\":\"rad\"},\"x\":{\"value\":0},\"y\":{\"value\":0}},\"id\":\"a64373ed-861b-4dd4-9c9e-63c34c0ec190\",\"type\":\"AnnularWedge\"},{\"attributes\":{\"callback\":null,\"end\":3.1500000000000004,\"start\":-3.1500000000000004},\"id\":\"569477b4-fbeb-4caa-acc5-7f6189acf32c\",\"type\":\"Range1d\"},{\"attributes\":{\"axis_label\":null,\"formatter\":{\"id\":\"415eb553-ff05-4fe6-8e73-a12aeab82a0d\",\"type\":\"BasicTickFormatter\"},\"plot\":{\"id\":\"5c29cf59-0e2c-4a59-9b98-3f2194d870d6\",\"subtype\":\"Chart\",\"type\":\"Plot\"},\"ticker\":{\"id\":\"35c9f95a-75d0-4ad8-a902-6fe7fb0e437e\",\"type\":\"BasicTicker\"},\"visible\":false},\"id\":\"649557a5-1a33-44c0-8a66-b86ee394019e\",\"type\":\"LinearAxis\"},{\"attributes\":{\"plot\":null,\"text\":null},\"id\":\"f9d71b76-9ae2-4208-ba0d-09445b1b0d08\",\"type\":\"Title\"},{\"attributes\":{\"data_source\":{\"id\":\"f20e4ba8-3e37-4b40-9bf3-8623ebb2ce3a\",\"type\":\"ColumnDataSource\"},\"glyph\":{\"id\":\"a64373ed-861b-4dd4-9c9e-63c34c0ec190\",\"type\":\"AnnularWedge\"},\"hover_glyph\":null,\"nonselection_glyph\":null,\"selection_glyph\":null},\"id\":\"98bc8287-a56e-49a8-bb98-df08b09aa585\",\"type\":\"GlyphRenderer\"},{\"attributes\":{\"callback\":null,\"column_names\":[\"end\",\"inners\",\"level\",\"color\",\"Stocks_percent\",\"start\",\"values\",\"outers\",\"centers\"],\"data\":{\"Stocks_percent\":[[\"AMZN\",\"\"],[\"AMZN\",\"17.81%\"],[\"DIS\",\"\"],[\"DIS\",\"33.86%\"],[\"MSFT\",\"\"],[\"MSFT\",\"27.19%\"],[\"NFLX\",\"\"],[\"NFLX\",\"21.14%\"]],\"centers\":[1.125,2.25,1.125,2.25,1.125,2.25,1.125,2.25],\"color\":[\"#f22c40\",\"#f22c40\",\"#5ab738\",\"#5ab738\",\"#407ee7\",\"#407ee7\",\"#df5320\",\"#df5320\"],\"end\":[1.1191232787266803,1.1191232787266803,3.246417904455134,3.246417904455134,4.954647281343237,4.954647281343237,6.283185307179586,6.283185307179586],\"inners\":[0.0,1.5,0.0,1.5,0.0,1.5,0.0,1.5],\"level\":[0.0,1.0,0.0,1.0,0.0,1.0,0.0,1.0],\"outers\":[1.5,3.0,1.5,3.0,1.5,3.0,1.5,3.0],\"start\":[0.0,0.0,1.1191232787266803,1.1191232787266803,3.246417904455134,3.246417904455134,4.954647281343237,4.954647281343237],\"values\":[1068.6840104313608,1068.6840104313608,2031.4167305850415,2031.4167305850415,1631.2388955991796,1631.2388955991796,1268.6603633844184,1268.6603633844184]}},\"id\":\"f20e4ba8-3e37-4b40-9bf3-8623ebb2ce3a\",\"type\":\"ColumnDataSource\"}],\"root_ids\":[\"5c29cf59-0e2c-4a59-9b98-3f2194d870d6\"]},\"title\":\"Bokeh Application\",\"version\":\"0.12.3\"}};\n",
       "            var render_items = [{\"docid\":\"c093c8f9-fbfa-4c4a-b7cd-fc0aca65ec24\",\"elementid\":\"551996eb-da19-40a4-bf3f-1c040963e314\",\"modelid\":\"5c29cf59-0e2c-4a59-9b98-3f2194d870d6\"}];\n",
       "            \n",
       "            Bokeh.embed.embed_items(docs_json, render_items);\n",
       "        });\n",
       "      },\n",
       "      function(Bokeh) {\n",
       "      }\n",
       "    ];\n",
       "  \n",
       "    function run_inline_js() {\n",
       "      \n",
       "      if ((window.Bokeh !== undefined) || (force === \"1\")) {\n",
       "        for (var i = 0; i < inline_js.length; i++) {\n",
       "          inline_js[i](window.Bokeh);\n",
       "        }if (force === \"1\") {\n",
       "          display_loaded();\n",
       "        }} else if (Date.now() < window._bokeh_timeout) {\n",
       "        setTimeout(run_inline_js, 100);\n",
       "      } else if (!window._bokeh_failed_load) {\n",
       "        console.log(\"Bokeh: BokehJS failed to load within specified timeout.\");\n",
       "        window._bokeh_failed_load = true;\n",
       "      } else if (!force) {\n",
       "        var cell = $(\"#551996eb-da19-40a4-bf3f-1c040963e314\").parents('.cell').data().cell;\n",
       "        cell.output_area.append_execute_result(NB_LOAD_WARNING)\n",
       "      }\n",
       "  \n",
       "    }\n",
       "  \n",
       "    if (window._bokeh_is_loading === 0) {\n",
       "      console.log(\"Bokeh: BokehJS loaded, going straight to plotting\");\n",
       "      run_inline_js();\n",
       "    } else {\n",
       "      load_libs(js_urls, function() {\n",
       "        console.log(\"Bokeh: BokehJS plotting callback run at\", now());\n",
       "        run_inline_js();\n",
       "      });\n",
       "    }\n",
       "  }(this));\n",
       "</script>"
      ]
     },
     "metadata": {},
     "output_type": "display_data"
    }
   ],
   "source": [
    "from bokeh.charts import Donut, show, output_file\n",
    "TOOLS = 'box_zoom,box_select,resize,reset'\n",
    "df_allocation['percent'] = ['{:0.2%}'.format(a/sum(df_allocation['Allocation'])) for a in df_allocation['Allocation']]\n",
    "d = Donut(df_allocation, label=['Stocks','percent'], values='Allocation',\n",
    "          text_font_size='8pt', hover_text='Allocation', tools = TOOLS)\n",
    "\n",
    "show(d)\n"
   ]
  },
  {
   "cell_type": "code",
   "execution_count": null,
   "metadata": {
    "collapsed": true
   },
   "outputs": [],
   "source": [
    "from bokeh.layouts import row\n",
    "from bokeh.plotting import figure\n",
    "\n",
    "# create a new plot\n",
    "s1 = figure(width=250, plot_height=250, title=None)\n",
    "s1.circle(x, y0, size=10, color=\"navy\", alpha=0.5)\n",
    "\n",
    "# create another one\n",
    "s2 = figure(width=250, height=250, title=None)\n",
    "s2.triangle(x, y1, size=10, color=\"firebrick\", alpha=0.5)\n",
    "\n",
    "# create and another\n",
    "s3 = figure(width=250, height=250, title=None)\n",
    "s3.square(x, y2, size=10, color=\"olive\", alpha=0.5)\n",
    "\n",
    "# put the results in a row\n",
    "show(row(s1, s2, s3))\n",
    "\n"
   ]
  }
 ],
 "metadata": {
  "kernelspec": {
   "display_name": "Python 2",
   "language": "python",
   "name": "python2"
  },
  "language_info": {
   "codemirror_mode": {
    "name": "ipython",
    "version": 2
   },
   "file_extension": ".py",
   "mimetype": "text/x-python",
   "name": "python",
   "nbconvert_exporter": "python",
   "pygments_lexer": "ipython2",
   "version": "2.7.10"
  }
 },
 "nbformat": 4,
 "nbformat_minor": 1
}
